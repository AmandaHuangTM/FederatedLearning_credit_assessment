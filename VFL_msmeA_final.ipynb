{
 "cells": [
  {
   "cell_type": "code",
   "execution_count": 4,
   "metadata": {
    "id": "AdwX-EwhAsnV"
   },
   "outputs": [],
   "source": [
    "import tensorflow as tf\n",
    "import sys\n",
    "\n",
    "# import the module from google drive\n",
    "sys.path.insert(0,'/content/drive/My Drive/Colab Notebooks')\n",
    "import src\n",
    "\n",
    "\n",
    "import torch\n",
    "from torchvision import datasets, transforms\n",
    "from torch import nn, optim\n",
    "from torch.utils.data import TensorDataset\n",
    "from torchvision.transforms import ToTensor\n",
    "\n",
    "import syft as sy\n",
    "\n",
    "hook = sy.TorchHook(torch)"
   ]
  },
  {
   "cell_type": "code",
   "execution_count": 5,
   "metadata": {
    "id": "iSaq0p3lA39M"
   },
   "outputs": [],
   "source": [
    "from src.dataloader import VerticalDataLoader\n",
    "from src.psi.util import Client, Server\n",
    "from src.utils.split_data import add_ids"
   ]
  },
  {
   "cell_type": "code",
   "execution_count": 6,
   "metadata": {
    "id": "WKhWTt30A943"
   },
   "outputs": [],
   "source": [
    "from imutils import paths\n",
    "from sklearn.model_selection import train_test_split\n",
    "from sklearn.preprocessing import LabelBinarizer\n",
    "from sklearn.utils import shuffle\n",
    "from sklearn.metrics import accuracy_score\n",
    "from sklearn.metrics import confusion_matrix, classification_report"
   ]
  },
  {
   "cell_type": "code",
   "execution_count": 7,
   "metadata": {
    "id": "zN3muSmI9jVD"
   },
   "outputs": [],
   "source": [
    "from uuid import uuid4\n",
    "\n",
    "import numpy as np\n",
    "import pandas as pd\n",
    "\n",
    "import time\n",
    "import matplotlib.pyplot as plt"
   ]
  },
  {
   "cell_type": "code",
   "execution_count": 8,
   "metadata": {
    "id": "DUM3Pj7Gl8cA"
   },
   "outputs": [],
   "source": [
    "# load the data\n",
    "df = pd.read_csv(\"drive/MyDrive/Colab Notebooks/data/dataset_a_msme.csv\")"
   ]
  },
  {
   "cell_type": "code",
   "execution_count": 9,
   "metadata": {
    "colab": {
     "base_uri": "https://localhost:8080/",
     "height": 275
    },
    "id": "02t3E6pInc2u",
    "outputId": "b00cb106-4e1e-4ab0-fe54-09119cca31f6"
   },
   "outputs": [
    {
     "data": {
      "text/html": [
       "<div>\n",
       "<style scoped>\n",
       "    .dataframe tbody tr th:only-of-type {\n",
       "        vertical-align: middle;\n",
       "    }\n",
       "\n",
       "    .dataframe tbody tr th {\n",
       "        vertical-align: top;\n",
       "    }\n",
       "\n",
       "    .dataframe thead th {\n",
       "        text-align: right;\n",
       "    }\n",
       "</style>\n",
       "<table border=\"1\" class=\"dataframe\">\n",
       "  <thead>\n",
       "    <tr style=\"text-align: right;\">\n",
       "      <th></th>\n",
       "      <th>Applied Loan Amount</th>\n",
       "      <th>Applied Loan Tenor</th>\n",
       "      <th>Age</th>\n",
       "      <th>Monthly Housing/Rental</th>\n",
       "      <th>Monthly Income</th>\n",
       "      <th>Loan Purpose_Business</th>\n",
       "      <th>Loan Purpose_Car Purchase</th>\n",
       "      <th>Loan Purpose_Decoration</th>\n",
       "      <th>Loan Purpose_Education</th>\n",
       "      <th>Loan Purpose_Investment</th>\n",
       "      <th>Loan Purpose_Personal use</th>\n",
       "      <th>Loan Purpose_Settle Loan / Credit Card O/S</th>\n",
       "      <th>Loan Purpose_Stand by</th>\n",
       "      <th>Loan Purpose_Tax Payment</th>\n",
       "      <th>Gender_F</th>\n",
       "      <th>Gender_M</th>\n",
       "      <th>Education Level_Form 3 or below</th>\n",
       "      <th>Education Level_No Response</th>\n",
       "      <th>Education Level_Post Graduate</th>\n",
       "      <th>Education Level_Post Secondary</th>\n",
       "      <th>Education Level_Primary</th>\n",
       "      <th>Education Level_Secondary</th>\n",
       "      <th>Education Level_University</th>\n",
       "      <th>Indicators</th>\n",
       "    </tr>\n",
       "  </thead>\n",
       "  <tbody>\n",
       "    <tr>\n",
       "      <th>0</th>\n",
       "      <td>200000</td>\n",
       "      <td>60</td>\n",
       "      <td>59.482</td>\n",
       "      <td>15182.0</td>\n",
       "      <td>30000.0</td>\n",
       "      <td>0</td>\n",
       "      <td>0</td>\n",
       "      <td>0</td>\n",
       "      <td>0</td>\n",
       "      <td>0</td>\n",
       "      <td>1</td>\n",
       "      <td>0</td>\n",
       "      <td>0</td>\n",
       "      <td>0</td>\n",
       "      <td>0</td>\n",
       "      <td>1</td>\n",
       "      <td>0</td>\n",
       "      <td>0</td>\n",
       "      <td>0</td>\n",
       "      <td>0</td>\n",
       "      <td>0</td>\n",
       "      <td>0</td>\n",
       "      <td>1</td>\n",
       "      <td>0</td>\n",
       "    </tr>\n",
       "    <tr>\n",
       "      <th>1</th>\n",
       "      <td>100000</td>\n",
       "      <td>24</td>\n",
       "      <td>49.745</td>\n",
       "      <td>0.0</td>\n",
       "      <td>50000.0</td>\n",
       "      <td>0</td>\n",
       "      <td>0</td>\n",
       "      <td>0</td>\n",
       "      <td>0</td>\n",
       "      <td>0</td>\n",
       "      <td>1</td>\n",
       "      <td>0</td>\n",
       "      <td>0</td>\n",
       "      <td>0</td>\n",
       "      <td>0</td>\n",
       "      <td>1</td>\n",
       "      <td>0</td>\n",
       "      <td>0</td>\n",
       "      <td>0</td>\n",
       "      <td>0</td>\n",
       "      <td>0</td>\n",
       "      <td>1</td>\n",
       "      <td>0</td>\n",
       "      <td>0</td>\n",
       "    </tr>\n",
       "    <tr>\n",
       "      <th>2</th>\n",
       "      <td>286000</td>\n",
       "      <td>60</td>\n",
       "      <td>55.584</td>\n",
       "      <td>0.0</td>\n",
       "      <td>28600.0</td>\n",
       "      <td>0</td>\n",
       "      <td>0</td>\n",
       "      <td>0</td>\n",
       "      <td>0</td>\n",
       "      <td>0</td>\n",
       "      <td>1</td>\n",
       "      <td>0</td>\n",
       "      <td>0</td>\n",
       "      <td>0</td>\n",
       "      <td>1</td>\n",
       "      <td>0</td>\n",
       "      <td>0</td>\n",
       "      <td>0</td>\n",
       "      <td>0</td>\n",
       "      <td>0</td>\n",
       "      <td>0</td>\n",
       "      <td>1</td>\n",
       "      <td>0</td>\n",
       "      <td>0</td>\n",
       "    </tr>\n",
       "    <tr>\n",
       "      <th>3</th>\n",
       "      <td>190000</td>\n",
       "      <td>36</td>\n",
       "      <td>56.677</td>\n",
       "      <td>10000.0</td>\n",
       "      <td>19800.0</td>\n",
       "      <td>0</td>\n",
       "      <td>0</td>\n",
       "      <td>0</td>\n",
       "      <td>0</td>\n",
       "      <td>0</td>\n",
       "      <td>1</td>\n",
       "      <td>0</td>\n",
       "      <td>0</td>\n",
       "      <td>0</td>\n",
       "      <td>1</td>\n",
       "      <td>0</td>\n",
       "      <td>0</td>\n",
       "      <td>0</td>\n",
       "      <td>0</td>\n",
       "      <td>1</td>\n",
       "      <td>0</td>\n",
       "      <td>0</td>\n",
       "      <td>0</td>\n",
       "      <td>0</td>\n",
       "    </tr>\n",
       "    <tr>\n",
       "      <th>4</th>\n",
       "      <td>50000</td>\n",
       "      <td>48</td>\n",
       "      <td>39.699</td>\n",
       "      <td>0.0</td>\n",
       "      <td>13000.0</td>\n",
       "      <td>0</td>\n",
       "      <td>0</td>\n",
       "      <td>0</td>\n",
       "      <td>0</td>\n",
       "      <td>0</td>\n",
       "      <td>0</td>\n",
       "      <td>1</td>\n",
       "      <td>0</td>\n",
       "      <td>0</td>\n",
       "      <td>1</td>\n",
       "      <td>0</td>\n",
       "      <td>0</td>\n",
       "      <td>0</td>\n",
       "      <td>0</td>\n",
       "      <td>0</td>\n",
       "      <td>0</td>\n",
       "      <td>1</td>\n",
       "      <td>0</td>\n",
       "      <td>0</td>\n",
       "    </tr>\n",
       "  </tbody>\n",
       "</table>\n",
       "</div>"
      ],
      "text/plain": [
       "   Applied Loan Amount  ...  Indicators\n",
       "0               200000  ...           0\n",
       "1               100000  ...           0\n",
       "2               286000  ...           0\n",
       "3               190000  ...           0\n",
       "4                50000  ...           0\n",
       "\n",
       "[5 rows x 24 columns]"
      ]
     },
     "execution_count": 9,
     "metadata": {
      "tags": []
     },
     "output_type": "execute_result"
    }
   ],
   "source": [
    "# clean the data\n",
    "# transform into binary columns\n",
    "\n",
    "df = df.dropna()\n",
    "df = pd.get_dummies(df)\n",
    "cols = df.columns.tolist()\n",
    "cols.remove('Indicators')\n",
    "cols.append('Indicators')\n",
    "df = df[cols]\n",
    "df.head()"
   ]
  },
  {
   "cell_type": "code",
   "execution_count": 10,
   "metadata": {
    "id": "Y1ur1ac0l-DW"
   },
   "outputs": [],
   "source": [
    "# split it into training and testing dataset\n",
    "train, test = train_test_split( df , test_size=0.3, random_state=42)"
   ]
  },
  {
   "cell_type": "code",
   "execution_count": 11,
   "metadata": {
    "id": "9K90vEH3ke-n"
   },
   "outputs": [],
   "source": [
    "# transform into tensor data\n",
    "train_features = torch.as_tensor(train.drop(\"Indicators\", axis=1).to_numpy()) # can only from numpy to tensor\n",
    "train_target = torch.as_tensor(train[\"Indicators\"].to_numpy())"
   ]
  },
  {
   "cell_type": "code",
   "execution_count": 12,
   "metadata": {
    "id": "9vnsToiike-o"
   },
   "outputs": [],
   "source": [
    "# transform into tensor data\n",
    "test_features = torch.as_tensor(train.drop(\"Indicators\", axis=1).to_numpy()) # can only from numpy to tensor\n",
    "test_target = torch.as_tensor(train[\"Indicators\"].to_numpy())"
   ]
  },
  {
   "cell_type": "code",
   "execution_count": 13,
   "metadata": {
    "colab": {
     "base_uri": "https://localhost:8080/"
    },
    "id": "OdGthx0cTCwj",
    "outputId": "98d815d0-472a-4913-b86d-f20b4d306435"
   },
   "outputs": [
    {
     "name": "stdout",
     "output_type": "stream",
     "text": [
      "cuda\n"
     ]
    }
   ],
   "source": [
    "# Implements a vertical dataset with TensorDataset\n",
    "import torch\n",
    "from torch.utils.data import Dataset\n",
    "device = 'cuda' if torch.cuda.is_available() else 'cpu'\n",
    "print(device)"
   ]
  },
  {
   "cell_type": "code",
   "execution_count": 14,
   "metadata": {
    "id": "jqLePC47S1nm"
   },
   "outputs": [],
   "source": [
    "# self-designed VerticalTensorDataset\n",
    "# to add id, set features and target\n",
    "\n",
    "class VerticalTensorDataset(Dataset):\n",
    "    def __init__(self, features, targets):\n",
    "        super().__init__()\n",
    "\n",
    "        self.data = features\n",
    "        self.targets = targets\n",
    "        self.size = features.shape[0]\n",
    "\n",
    "        self.ids = np.array([uuid4() for _ in range(len(self))])\n",
    "\n",
    "    def __len__(self):\n",
    "        return self.size\n",
    "\n",
    "    def __getitem__(self, index):\n",
    "        if self.data is None:\n",
    "          data = None\n",
    "        else:\n",
    "          data = self.data[index]\n",
    "        if self.targets is None:\n",
    "          target = None\n",
    "        else:\n",
    "          target = self.targets[index]\n",
    "\n",
    "        id = self.ids[index]\n",
    "\n",
    "        return (*filter(lambda x: x is not None, (data, target, id)),)\n",
    "\n",
    "    def get_ids(self):\n",
    "        return [str(id) for id in self.ids]\n",
    "    \n"
   ]
  },
  {
   "cell_type": "code",
   "execution_count": 15,
   "metadata": {
    "colab": {
     "base_uri": "https://localhost:8080/"
    },
    "id": "lwSBeXxznItN",
    "outputId": "4c1a247a-9530-4681-da53-414f1bf0eb7d"
   },
   "outputs": [
    {
     "name": "stdout",
     "output_type": "stream",
     "text": [
      "(tensor([2.0000e+05, 2.4000e+01, 4.6077e+01, 0.0000e+00, 4.9000e+04, 0.0000e+00,\n",
      "        1.0000e+00, 0.0000e+00, 0.0000e+00, 0.0000e+00, 0.0000e+00, 0.0000e+00,\n",
      "        0.0000e+00, 0.0000e+00, 0.0000e+00, 1.0000e+00, 0.0000e+00, 0.0000e+00,\n",
      "        0.0000e+00, 0.0000e+00, 0.0000e+00, 1.0000e+00, 0.0000e+00],\n",
      "       dtype=torch.float64), tensor(0), UUID('e32ff43e-51cb-434a-8ee0-75b0f3f38b20'))\n"
     ]
    }
   ],
   "source": [
    "# put training data into VerticalTensorDataset \n",
    "# to add ids and identify features and target column\n",
    "train_dataset = VerticalTensorDataset(train_features, train_target)\n",
    "\n",
    "print(train_dataset[0])\n",
    "# VerticalDataLoader is from PyVertical package\n",
    "# it vetically patitions the data\n",
    "train_dataloader = VerticalDataLoader(train_dataset, batch_size = 64) "
   ]
  },
  {
   "cell_type": "code",
   "execution_count": 16,
   "metadata": {
    "colab": {
     "base_uri": "https://localhost:8080/"
    },
    "id": "G-tskG6VnrYb",
    "outputId": "38cfacef-7b0a-41a5-c98a-487366c7ba54"
   },
   "outputs": [
    {
     "name": "stdout",
     "output_type": "stream",
     "text": [
      "(tensor([2.0000e+05, 2.4000e+01, 4.6077e+01, 0.0000e+00, 4.9000e+04, 0.0000e+00,\n",
      "        1.0000e+00, 0.0000e+00, 0.0000e+00, 0.0000e+00, 0.0000e+00, 0.0000e+00,\n",
      "        0.0000e+00, 0.0000e+00, 0.0000e+00, 1.0000e+00, 0.0000e+00, 0.0000e+00,\n",
      "        0.0000e+00, 0.0000e+00, 0.0000e+00, 1.0000e+00, 0.0000e+00],\n",
      "       dtype=torch.float64), tensor(0), UUID('1f3975ca-b0e5-4803-a06e-5c3d90908227'))\n"
     ]
    }
   ],
   "source": [
    "# apply on testing data\n",
    "test_dataset = VerticalTensorDataset(test_features, test_target)\n",
    "\n",
    "print(test_dataset[0])\n",
    "\n",
    "test_dataloader = VerticalDataLoader(test_dataset, batch_size = 1)"
   ]
  },
  {
   "cell_type": "code",
   "execution_count": 17,
   "metadata": {
    "id": "fG8zrBSABSg6"
   },
   "outputs": [],
   "source": [
    "# SplitNN\n",
    "# assign model segments to each local nodes\n",
    "# define how gradient is sent\n",
    "class SplitNN:\n",
    "    def __init__(self, models, optimizers):\n",
    "        self.models = models\n",
    "        self.optimizers = optimizers\n",
    "\n",
    "        self.data = []\n",
    "        self.remote_tensors = []\n",
    "\n",
    "    def forward(self, x):\n",
    "        data = []\n",
    "        remote_tensors = []\n",
    "\n",
    "        data.append(self.models[0](x))\n",
    "\n",
    "        if data[-1].location == self.models[1].location:\n",
    "            remote_tensors.append(data[-1].detach().requires_grad_())\n",
    "        else:\n",
    "            remote_tensors.append(\n",
    "                data[-1].detach().move(self.models[1].location).requires_grad_()\n",
    "            )\n",
    "\n",
    "        i = 1\n",
    "        while i < (len(models) - 1):\n",
    "            data.append(self.models[i](remote_tensors[-1]))\n",
    "\n",
    "            if data[-1].location == self.models[i + 1].location:\n",
    "                remote_tensors.append(data[-1].detach().requires_grad_())\n",
    "            else:\n",
    "                remote_tensors.append(\n",
    "                    data[-1].detach().move(self.models[i + 1].location).requires_grad_()\n",
    "                )\n",
    "\n",
    "            i += 1\n",
    "\n",
    "        data.append(self.models[i](remote_tensors[-1]))\n",
    "\n",
    "        self.data = data\n",
    "        self.remote_tensors = remote_tensors\n",
    "\n",
    "        return data[-1]\n",
    "        \n",
    "    def backward(self):\n",
    "        for i in range(len(models) - 2, -1, -1):\n",
    "            if self.remote_tensors[i].location == self.data[i].location:\n",
    "                grads = self.remote_tensors[i].grad.copy()\n",
    "            else:\n",
    "                grads = self.remote_tensors[i].grad.copy().move(self.data[i].location)\n",
    "    \n",
    "            self.data[i].backward(grads)\n",
    "\n",
    "    def zero_grads(self):\n",
    "        for opt in self.optimizers:\n",
    "            opt.zero_grad()\n",
    "\n",
    "    def step(self):\n",
    "        for opt in self.optimizers:\n",
    "            opt.step()"
   ]
  },
  {
   "cell_type": "code",
   "execution_count": 24,
   "metadata": {
    "id": "qFjH0o5zDL2L"
   },
   "outputs": [],
   "source": [
    "torch.manual_seed(3)\n",
    "\n",
    "# Define our model segments\n",
    "\n",
    "input_size = 23\n",
    "hidden_sizes = [32, 64]\n",
    "output_size = 1\n",
    "\n",
    "\n",
    "# Deep Learning model\n",
    "# to apply it in SplitNN framework, it is divided into 2 parts\n",
    "models = [\n",
    "    nn.Sequential(\n",
    "        nn.Linear(input_size, hidden_sizes[0]),\n",
    "        nn.ReLU(),\n",
    "        nn.BatchNorm1d(hidden_sizes[0]),\n",
    "        nn.Linear(hidden_sizes[0], hidden_sizes[1]),\n",
    "        nn.ReLU(),\n",
    "        nn.BatchNorm1d(hidden_sizes[1]),\n",
    "        nn.Dropout(p=0.1)\n",
    "    ),\n",
    "    nn.Sequential(nn.Linear(hidden_sizes[1], output_size))\n",
    "\n",
    "]\n",
    "\n",
    "# create optimisers for each segment and link to them\n",
    "optimizers = [\n",
    "    optim.SGD(model.parameters(), lr=0.001)\n",
    "    for model in models\n",
    "]\n"
   ]
  },
  {
   "cell_type": "code",
   "execution_count": 25,
   "metadata": {
    "id": "7PRJATcrEUo7"
   },
   "outputs": [],
   "source": [
    "# create virtual workers as local node simulation\n",
    "alice = sy.VirtualWorker(hook, id=\"alice\")\n",
    "bob = sy.VirtualWorker(hook, id=\"bob\")\n",
    "\n",
    "# send Model Segments to model locations\n",
    "model_locations = [alice, bob]\n",
    "for model, location in zip(models, model_locations):\n",
    "    model.send(location)\n",
    "\n",
    "# instantiate a SpliNN class with our distributed segments and their respective optimizers\n",
    "splitNN = SplitNN(models, optimizers)"
   ]
  },
  {
   "cell_type": "code",
   "execution_count": 26,
   "metadata": {
    "id": "PJPQZv5rEXYK"
   },
   "outputs": [],
   "source": [
    "def train(x, target, splitNN):\n",
    "    \n",
    "    #1) Zero our grads\n",
    "    splitNN.zero_grads()\n",
    "    \n",
    "    #2) Make a prediction\n",
    "    pred = splitNN.forward(x)\n",
    "    \n",
    "    #3) Figure out how much we missed by\n",
    "    criterion = nn.BCEWithLogitsLoss()\n",
    "    loss = criterion(pred.reshape(-1), target.to(torch.float))\n",
    "    \n",
    "    #4) Backprop the loss on the end layer\n",
    "    loss.backward()\n",
    "    \n",
    "    #5) Feed Gradients backward through the nework\n",
    "    splitNN.backward()\n",
    "    \n",
    "    #6) Change the weights\n",
    "    splitNN.step()\n",
    "    \n",
    "    return loss, pred"
   ]
  },
  {
   "cell_type": "code",
   "execution_count": 27,
   "metadata": {
    "id": "e9cJZpVYEogF"
   },
   "outputs": [],
   "source": [
    "epochs = 100"
   ]
  },
  {
   "cell_type": "code",
   "execution_count": 28,
   "metadata": {
    "id": "Dl2jo8TxlTuz"
   },
   "outputs": [],
   "source": [
    "e_loss = []\n",
    "e_acc = []\n",
    "timelist = []"
   ]
  },
  {
   "cell_type": "code",
   "execution_count": 29,
   "metadata": {
    "colab": {
     "base_uri": "https://localhost:8080/"
    },
    "id": "IVXaLEmiEfdP",
    "outputId": "86fe8df2-b401-46af-c2e3-2c2bf9ca35ec"
   },
   "outputs": [
    {
     "name": "stdout",
     "output_type": "stream",
     "text": [
      "Epoch 0 - Training loss: 0.734 - Accuracy: 43.883\n",
      "Epoch 1 - Training loss: 0.730 - Accuracy: 43.495\n",
      "Epoch 2 - Training loss: 0.728 - Accuracy: 43.495\n",
      "Epoch 3 - Training loss: 0.718 - Accuracy: 42.913\n",
      "Epoch 4 - Training loss: 0.721 - Accuracy: 43.107\n",
      "Epoch 5 - Training loss: 0.736 - Accuracy: 42.330\n",
      "Epoch 6 - Training loss: 0.717 - Accuracy: 46.990\n",
      "Epoch 7 - Training loss: 0.717 - Accuracy: 45.631\n",
      "Epoch 8 - Training loss: 0.721 - Accuracy: 42.330\n",
      "Epoch 9 - Training loss: 0.712 - Accuracy: 44.272\n",
      "Epoch 10 - Training loss: 0.721 - Accuracy: 43.883\n",
      "Epoch 11 - Training loss: 0.717 - Accuracy: 44.660\n",
      "Epoch 12 - Training loss: 0.709 - Accuracy: 46.214\n",
      "Epoch 13 - Training loss: 0.720 - Accuracy: 43.107\n",
      "Epoch 14 - Training loss: 0.701 - Accuracy: 46.019\n",
      "Epoch 15 - Training loss: 0.702 - Accuracy: 46.990\n",
      "Epoch 16 - Training loss: 0.709 - Accuracy: 47.379\n",
      "Epoch 17 - Training loss: 0.714 - Accuracy: 46.602\n",
      "Epoch 18 - Training loss: 0.701 - Accuracy: 44.660\n",
      "Epoch 19 - Training loss: 0.714 - Accuracy: 47.184\n",
      "Epoch 20 - Training loss: 0.710 - Accuracy: 47.379\n",
      "Epoch 21 - Training loss: 0.711 - Accuracy: 44.466\n",
      "Epoch 22 - Training loss: 0.702 - Accuracy: 45.437\n",
      "Epoch 23 - Training loss: 0.700 - Accuracy: 49.320\n",
      "Epoch 24 - Training loss: 0.698 - Accuracy: 49.320\n",
      "Epoch 25 - Training loss: 0.694 - Accuracy: 46.990\n",
      "Epoch 26 - Training loss: 0.700 - Accuracy: 48.738\n",
      "Epoch 27 - Training loss: 0.708 - Accuracy: 47.767\n",
      "Epoch 28 - Training loss: 0.716 - Accuracy: 46.990\n",
      "Epoch 29 - Training loss: 0.690 - Accuracy: 48.738\n",
      "Epoch 30 - Training loss: 0.696 - Accuracy: 48.738\n",
      "Epoch 31 - Training loss: 0.698 - Accuracy: 46.796\n",
      "Epoch 32 - Training loss: 0.699 - Accuracy: 46.602\n",
      "Epoch 33 - Training loss: 0.695 - Accuracy: 49.903\n",
      "Epoch 34 - Training loss: 0.704 - Accuracy: 47.767\n",
      "Epoch 35 - Training loss: 0.686 - Accuracy: 48.544\n",
      "Epoch 36 - Training loss: 0.689 - Accuracy: 49.709\n",
      "Epoch 37 - Training loss: 0.689 - Accuracy: 49.515\n",
      "Epoch 38 - Training loss: 0.693 - Accuracy: 49.709\n",
      "Epoch 39 - Training loss: 0.695 - Accuracy: 49.320\n",
      "Epoch 40 - Training loss: 0.690 - Accuracy: 51.456\n",
      "Epoch 41 - Training loss: 0.695 - Accuracy: 50.291\n",
      "Epoch 42 - Training loss: 0.691 - Accuracy: 50.485\n",
      "Epoch 43 - Training loss: 0.687 - Accuracy: 50.680\n",
      "Epoch 44 - Training loss: 0.680 - Accuracy: 50.874\n",
      "Epoch 45 - Training loss: 0.688 - Accuracy: 48.544\n",
      "Epoch 46 - Training loss: 0.694 - Accuracy: 50.874\n",
      "Epoch 47 - Training loss: 0.694 - Accuracy: 49.903\n",
      "Epoch 48 - Training loss: 0.686 - Accuracy: 51.845\n",
      "Epoch 49 - Training loss: 0.691 - Accuracy: 52.621\n",
      "Epoch 50 - Training loss: 0.674 - Accuracy: 52.039\n",
      "Epoch 51 - Training loss: 0.680 - Accuracy: 53.204\n",
      "Epoch 52 - Training loss: 0.681 - Accuracy: 54.563\n",
      "Epoch 53 - Training loss: 0.683 - Accuracy: 54.175\n",
      "Epoch 54 - Training loss: 0.669 - Accuracy: 55.146\n",
      "Epoch 55 - Training loss: 0.682 - Accuracy: 51.650\n",
      "Epoch 56 - Training loss: 0.678 - Accuracy: 52.233\n",
      "Epoch 57 - Training loss: 0.686 - Accuracy: 55.340\n",
      "Epoch 58 - Training loss: 0.688 - Accuracy: 51.650\n",
      "Epoch 59 - Training loss: 0.684 - Accuracy: 54.175\n",
      "Epoch 60 - Training loss: 0.678 - Accuracy: 54.369\n",
      "Epoch 61 - Training loss: 0.680 - Accuracy: 52.816\n",
      "Epoch 62 - Training loss: 0.677 - Accuracy: 54.175\n",
      "Epoch 63 - Training loss: 0.677 - Accuracy: 56.117\n",
      "Epoch 64 - Training loss: 0.681 - Accuracy: 57.670\n",
      "Epoch 65 - Training loss: 0.680 - Accuracy: 53.786\n",
      "Epoch 66 - Training loss: 0.671 - Accuracy: 57.282\n",
      "Epoch 67 - Training loss: 0.678 - Accuracy: 57.282\n",
      "Epoch 68 - Training loss: 0.672 - Accuracy: 57.670\n",
      "Epoch 69 - Training loss: 0.679 - Accuracy: 54.951\n",
      "Epoch 70 - Training loss: 0.672 - Accuracy: 54.951\n",
      "Epoch 71 - Training loss: 0.674 - Accuracy: 57.282\n",
      "Epoch 72 - Training loss: 0.661 - Accuracy: 57.670\n",
      "Epoch 73 - Training loss: 0.670 - Accuracy: 57.670\n",
      "Epoch 74 - Training loss: 0.678 - Accuracy: 55.146\n",
      "Epoch 75 - Training loss: 0.675 - Accuracy: 56.893\n",
      "Epoch 76 - Training loss: 0.678 - Accuracy: 55.922\n",
      "Epoch 77 - Training loss: 0.668 - Accuracy: 57.476\n",
      "Epoch 78 - Training loss: 0.673 - Accuracy: 58.252\n",
      "Epoch 79 - Training loss: 0.671 - Accuracy: 60.000\n",
      "Epoch 80 - Training loss: 0.670 - Accuracy: 58.447\n",
      "Epoch 81 - Training loss: 0.668 - Accuracy: 62.524\n",
      "Epoch 82 - Training loss: 0.667 - Accuracy: 58.835\n",
      "Epoch 83 - Training loss: 0.670 - Accuracy: 59.612\n",
      "Epoch 84 - Training loss: 0.661 - Accuracy: 60.194\n",
      "Epoch 85 - Training loss: 0.674 - Accuracy: 60.971\n",
      "Epoch 86 - Training loss: 0.676 - Accuracy: 58.252\n",
      "Epoch 87 - Training loss: 0.649 - Accuracy: 59.806\n",
      "Epoch 88 - Training loss: 0.655 - Accuracy: 61.942\n",
      "Epoch 89 - Training loss: 0.667 - Accuracy: 59.806\n",
      "Epoch 90 - Training loss: 0.662 - Accuracy: 58.447\n",
      "Epoch 91 - Training loss: 0.660 - Accuracy: 61.748\n",
      "Epoch 92 - Training loss: 0.659 - Accuracy: 60.777\n",
      "Epoch 93 - Training loss: 0.662 - Accuracy: 59.417\n",
      "Epoch 94 - Training loss: 0.666 - Accuracy: 60.777\n",
      "Epoch 95 - Training loss: 0.662 - Accuracy: 60.971\n",
      "Epoch 96 - Training loss: 0.660 - Accuracy: 58.447\n",
      "Epoch 97 - Training loss: 0.658 - Accuracy: 60.000\n",
      "Epoch 98 - Training loss: 0.655 - Accuracy: 62.913\n",
      "Epoch 99 - Training loss: 0.649 - Accuracy: 62.524\n"
     ]
    }
   ],
   "source": [
    "for i in range(epochs):\n",
    "    running_loss = 0\n",
    "    correct_preds = 0\n",
    "    total_preds = 0\n",
    "    epoch_loss = 0\n",
    "    epoch_acc = 0\n",
    "    start_time = time.time()\n",
    "\n",
    "    for (data, ids1), (labels, ids2) in train_dataloader:\n",
    "        # Train a model\n",
    "        data = data.send(models[0].location)\n",
    "        data = data.view(data.shape[0], -1)\n",
    "        labels = labels.send(models[-1].location)\n",
    "\n",
    "        # Call model\n",
    "        loss, preds = train(data.float(), labels, splitNN)\n",
    "        \n",
    "        # Convert predictions\n",
    "        preds_ = preds.get().squeeze(1)\n",
    "        labels_ = labels.get()\n",
    "        preds_match = ((torch.sigmoid(preds_) > 0.5) == labels_)\n",
    "        #print(non_exist)\n",
    "\n",
    "        # Collect statistics\n",
    "        running_loss += loss.get()\n",
    "        correct_preds = correct_preds + int(preds_match.sum())\n",
    "        total_preds = total_preds + int(preds_match.size()[0])\n",
    "\n",
    "    total_time = time.time() - start_time\n",
    "    timelist.append(total_time)\n",
    "    e_loss.append((running_loss/len(train_dataloader)).item()) # for plt\n",
    "    e_acc.append((100*correct_preds/total_preds)) # for plt\n",
    "\n",
    "    print(f\"Epoch {i} - Training loss: {running_loss/len(train_dataloader):.3f} - Accuracy: {100*correct_preds/total_preds:.3f}\")"
   ]
  },
  {
   "cell_type": "code",
   "execution_count": 30,
   "metadata": {
    "colab": {
     "base_uri": "https://localhost:8080/"
    },
    "id": "xlyJue1LGMX5",
    "outputId": "d1679289-fa2a-4699-8dc2-88498928cb65"
   },
   "outputs": [
    {
     "data": {
      "text/plain": [
       "tensor([True, True, True])"
      ]
     },
     "execution_count": 30,
     "metadata": {
      "tags": []
     },
     "output_type": "execute_result"
    }
   ],
   "source": [
    "preds_match"
   ]
  },
  {
   "cell_type": "code",
   "execution_count": 31,
   "metadata": {
    "colab": {
     "base_uri": "https://localhost:8080/",
     "height": 282
    },
    "id": "-PvcJWdnkaJO",
    "outputId": "6c2f9d5d-bd95-4f0d-e766-be29dae4d528"
   },
   "outputs": [
    {
     "data": {
      "text/plain": [
       "[<matplotlib.lines.Line2D at 0x7f726811b6d0>]"
      ]
     },
     "execution_count": 31,
     "metadata": {
      "tags": []
     },
     "output_type": "execute_result"
    },
    {
     "data": {
      "image/png": "[encoded data removed]",
      "text/plain": [
       "<Figure size 432x288 with 1 Axes>"
      ]
     },
     "metadata": {
      "needs_background": "light",
      "tags": []
     },
     "output_type": "display_data"
    }
   ],
   "source": [
    "plt.plot(e_acc)"
   ]
  },
  {
   "cell_type": "code",
   "execution_count": 32,
   "metadata": {
    "colab": {
     "base_uri": "https://localhost:8080/",
     "height": 285
    },
    "id": "BOu6BPjZka5e",
    "outputId": "75f22dfb-81d4-4440-a7cf-14ef58e1c156"
   },
   "outputs": [
    {
     "data": {
      "text/plain": [
       "[<matplotlib.lines.Line2D at 0x7f7267c6a590>]"
      ]
     },
     "execution_count": 32,
     "metadata": {
      "tags": []
     },
     "output_type": "execute_result"
    },
    {
     "data": {
      "image/png": "[encoded data removed]",
      "text/plain": [
       "<Figure size 432x288 with 1 Axes>"
      ]
     },
     "metadata": {
      "needs_background": "light",
      "tags": []
     },
     "output_type": "display_data"
    }
   ],
   "source": [
    "plt.plot(e_loss)"
   ]
  },
  {
   "cell_type": "code",
   "execution_count": 33,
   "metadata": {
    "colab": {
     "base_uri": "https://localhost:8080/",
     "height": 282
    },
    "id": "k-rNyIZPOynv",
    "outputId": "032ee30d-9980-44d3-e828-e241d6d88123"
   },
   "outputs": [
    {
     "data": {
      "text/plain": [
       "[<matplotlib.lines.Line2D at 0x7f7267bd2390>]"
      ]
     },
     "execution_count": 33,
     "metadata": {
      "tags": []
     },
     "output_type": "execute_result"
    },
    {
     "data": {
      "image/png": "[encoded data removed]",
      "text/plain": [
       "<Figure size 432x288 with 1 Axes>"
      ]
     },
     "metadata": {
      "needs_background": "light",
      "tags": []
     },
     "output_type": "display_data"
    }
   ],
   "source": [
    "plt.plot(timelist)"
   ]
  },
  {
   "cell_type": "code",
   "execution_count": 34,
   "metadata": {
    "id": "3LuZWxTxzCJQ"
   },
   "outputs": [],
   "source": [
    "# define test to apply trained model\n",
    "def test(x, target, splitNN):\n",
    "       \n",
    "    #1) Make a prediction\n",
    "    pred = splitNN.forward(x)\n",
    "    \n",
    "    #2) Figure out how much we missed by\n",
    "    criterion = nn.BCEWithLogitsLoss()\n",
    "    loss = criterion(pred.reshape(-1), target.to(torch.float))\n",
    "        \n",
    "    return loss, pred"
   ]
  },
  {
   "cell_type": "code",
   "execution_count": 35,
   "metadata": {
    "colab": {
     "base_uri": "https://localhost:8080/"
    },
    "id": "mp2w24Xijd3g",
    "outputId": "3c47c08a-b813-4ff7-ce6d-3916ad415f35"
   },
   "outputs": [
    {
     "name": "stdout",
     "output_type": "stream",
     "text": [
      " Testing loss: 0.699 - Accuracy: 58.641\n"
     ]
    }
   ],
   "source": [
    "y_pred_list = []\n",
    "y_target_list = []\n",
    "running_loss = 0\n",
    "correct_preds = 0\n",
    "total_preds = 0\n",
    "\n",
    "# lock the models\n",
    "models[0].eval()\n",
    "models[1].eval()\n",
    "\n",
    "# put testing data into the models\n",
    "\n",
    "with torch.no_grad():\n",
    "    for (data, ids1), (labels, ids2) in test_dataloader:\n",
    "        # Train a model\n",
    "        data = data.send(models[0].location)\n",
    "        data = data.view(data.shape[0], -1)\n",
    "        labels = labels.send(models[-1].location)\n",
    "\n",
    "        # Call model\n",
    "        loss, preds = test(data.float(), labels, splitNN)\n",
    "        \n",
    "        # Convert predictions\n",
    "        preds_ = preds.get().squeeze(1)\n",
    "        labels_ = labels.get()\n",
    "        preds_match = ((torch.sigmoid(preds_) > 0.5) == labels_)\n",
    "        y_pred_list.append(torch.sigmoid(preds_) > 0.5)\n",
    "        y_target_list.append(labels_)\n",
    "\n",
    "        # Collect statistics\n",
    "        running_loss += loss.get()\n",
    "        correct_preds = correct_preds + int(preds_match.sum())\n",
    "        total_preds = total_preds + int(preds_match.size()[0])\n",
    "\n",
    "\n",
    "    print(f\" Testing loss: {running_loss/len(test_dataloader):.3f} - Accuracy: {100*correct_preds/total_preds:.3f}\")"
   ]
  },
  {
   "cell_type": "code",
   "execution_count": 36,
   "metadata": {
    "colab": {
     "base_uri": "https://localhost:8080/"
    },
    "id": "16Uw1Zf9wMte",
    "outputId": "057c6f92-706a-4aa0-f564-999e42ae0f87"
   },
   "outputs": [
    {
     "data": {
      "text/plain": [
       "array([[243, 104],\n",
       "       [109,  59]])"
      ]
     },
     "execution_count": 36,
     "metadata": {
      "tags": []
     },
     "output_type": "execute_result"
    }
   ],
   "source": [
    "confusion_matrix(y_target_list, y_pred_list)"
   ]
  },
  {
   "cell_type": "code",
   "execution_count": 37,
   "metadata": {
    "colab": {
     "base_uri": "https://localhost:8080/"
    },
    "id": "Knxthas7nWgB",
    "outputId": "7a962097-580f-4203-e477-9061da085fce"
   },
   "outputs": [
    {
     "name": "stdout",
     "output_type": "stream",
     "text": [
      "              precision    recall  f1-score   support\n",
      "\n",
      "           0       0.69      0.70      0.70       347\n",
      "           1       0.36      0.35      0.36       168\n",
      "\n",
      "    accuracy                           0.59       515\n",
      "   macro avg       0.53      0.53      0.53       515\n",
      "weighted avg       0.58      0.59      0.58       515\n",
      "\n"
     ]
    }
   ],
   "source": [
    "print(classification_report(y_target_list, y_pred_list))"
   ]
  },
  {
   "cell_type": "code",
   "execution_count": null,
   "metadata": {
    "id": "AAy-LuWEqrNA"
   },
   "outputs": [],
   "source": []
  }
 ],
 "metadata": {
  "accelerator": "GPU",
  "colab": {
   "collapsed_sections": [],
   "machine_shape": "hm",
   "name": "VFL-msmeA-final.ipynb",
   "provenance": []
  },
  "kernelspec": {
   "display_name": "Python 3",
   "language": "python",
   "name": "python3"
  },
  "language_info": {
   "codemirror_mode": {
    "name": "ipython",
    "version": 3
   },
   "file_extension": ".py",
   "mimetype": "text/x-python",
   "name": "python",
   "nbconvert_exporter": "python",
   "pygments_lexer": "ipython3",
   "version": "3.7.4"
  }
 },
 "nbformat": 4,
 "nbformat_minor": 4
}
