{
 "cells": [
  {
   "cell_type": "code",
   "execution_count": 3,
   "metadata": {
    "colab": {
     "base_uri": "https://localhost:8080/",
     "height": 232
    },
    "executionInfo": {
     "elapsed": 132688,
     "status": "error",
     "timestamp": 1619752700849,
     "user": {
      "displayName": "Amanda HUANG",
      "photoUrl": "",
      "userId": "17299220406110528803"
     },
     "user_tz": -480
    },
    "id": "xfFwkK7U94_w",
    "outputId": "c8e3d956-6268-4a05-b3b6-98f87453cce7"
   },
   "outputs": [
    {
     "name": "stdout",
     "output_type": "stream",
     "text": [
      "Drive already mounted at /content/drive; to attempt to forcibly remount, call drive.mount(\"/content/drive\", force_remount=True).\n"
     ]
    },
    {
     "ename": "FileExistsError",
     "evalue": "ignored",
     "output_type": "error",
     "traceback": [
      "\u001b[0;31m---------------------------------------------------------------------------\u001b[0m",
      "\u001b[0;31mFileExistsError\u001b[0m                           Traceback (most recent call last)",
      "\u001b[0;32m<ipython-input-3-01a0301fcd81>\u001b[0m in \u001b[0;36m<module>\u001b[0;34m()\u001b[0m\n\u001b[1;32m      3\u001b[0m \u001b[0mdrive\u001b[0m\u001b[0;34m.\u001b[0m\u001b[0mmount\u001b[0m\u001b[0;34m(\u001b[0m\u001b[0;34m'/content/drive'\u001b[0m\u001b[0;34m)\u001b[0m\u001b[0;34m\u001b[0m\u001b[0;34m\u001b[0m\u001b[0m\n\u001b[1;32m      4\u001b[0m \u001b[0mnb_path\u001b[0m \u001b[0;34m=\u001b[0m \u001b[0;34m'/content/notebooks'\u001b[0m\u001b[0;34m\u001b[0m\u001b[0;34m\u001b[0m\u001b[0m\n\u001b[0;32m----> 5\u001b[0;31m \u001b[0mos\u001b[0m\u001b[0;34m.\u001b[0m\u001b[0msymlink\u001b[0m\u001b[0;34m(\u001b[0m\u001b[0;34m'/content/drive/My Drive/Colab Notebooks'\u001b[0m\u001b[0;34m,\u001b[0m \u001b[0mnb_path\u001b[0m\u001b[0;34m)\u001b[0m\u001b[0;34m\u001b[0m\u001b[0;34m\u001b[0m\u001b[0m\n\u001b[0m\u001b[1;32m      6\u001b[0m \u001b[0msys\u001b[0m\u001b[0;34m.\u001b[0m\u001b[0mpath\u001b[0m\u001b[0;34m.\u001b[0m\u001b[0minsert\u001b[0m\u001b[0;34m(\u001b[0m\u001b[0;36m0\u001b[0m\u001b[0;34m,\u001b[0m\u001b[0mnb_path\u001b[0m\u001b[0;34m)\u001b[0m\u001b[0;34m\u001b[0m\u001b[0;34m\u001b[0m\u001b[0m\n",
      "\u001b[0;31mFileExistsError\u001b[0m: [Errno 17] File exists: '/content/drive/My Drive/Colab Notebooks' -> '/content/notebooks'"
     ]
    }
   ],
   "source": [
    "import os, sys\n",
    "from google.colab import drive\n",
    "drive.mount('/content/drive')\n",
    "nb_path = '/content/notebooks'\n",
    "os.symlink('/content/drive/My Drive/Colab Notebooks', nb_path)\n",
    "sys.path.insert(0,nb_path)\n"
   ]
  },
  {
   "cell_type": "code",
   "execution_count": null,
   "metadata": {
    "colab": {
     "base_uri": "https://localhost:8080/",
     "height": 1000
    },
    "executionInfo": {
     "elapsed": 140623,
     "status": "ok",
     "timestamp": 1619752700827,
     "user": {
      "displayName": "Amanda HUANG",
      "photoUrl": "",
      "userId": "17299220406110528803"
     },
     "user_tz": -480
    },
    "id": "iKBc9tZxAkGX",
    "outputId": "d30be6d5-f474-4231-f275-fa83dc3923e6"
   },
   "outputs": [],
   "source": [
    "# install syft\n",
    "!pip install syft==0.2.9"
   ]
  },
  {
   "cell_type": "code",
   "execution_count": null,
   "metadata": {
    "colab": {
     "base_uri": "https://localhost:8080/"
    },
    "executionInfo": {
     "elapsed": 4723,
     "status": "ok",
     "timestamp": 1619752733638,
     "user": {
      "displayName": "Amanda HUANG",
      "photoUrl": "",
      "userId": "17299220406110528803"
     },
     "user_tz": -480
    },
    "id": "ksiu0c3cAoPK",
    "outputId": "77cdcff2-48db-4716-8198-594e70bfe1fa"
   },
   "outputs": [],
   "source": [
    "# install private set intersection \n",
    "# to encrypt raw data\n",
    "!pip install openmined.psi"
   ]
  },
  {
   "cell_type": "code",
   "execution_count": 5,
   "metadata": {
    "executionInfo": {
     "elapsed": 6798,
     "status": "ok",
     "timestamp": 1619752740116,
     "user": {
      "displayName": "Amanda HUANG",
      "photoUrl": "",
      "userId": "17299220406110528803"
     },
     "user_tz": -480
    },
    "id": "AdwX-EwhAsnV"
   },
   "outputs": [],
   "source": [
    "import tensorflow as tf\n",
    "import sys\n",
    "\n",
    "# import the module from google drive\n",
    "sys.path.insert(0,'/content/drive/My Drive/Colab Notebooks')\n",
    "import src\n",
    "\n",
    "\n",
    "import torch\n",
    "from torchvision import datasets, transforms\n",
    "from torch import nn, optim\n",
    "from torch.utils.data import TensorDataset\n",
    "from torchvision.transforms import ToTensor\n",
    "\n",
    "import syft as sy\n",
    "\n",
    "hook = sy.TorchHook(torch)"
   ]
  },
  {
   "cell_type": "code",
   "execution_count": 6,
   "metadata": {
    "executionInfo": {
     "elapsed": 4510,
     "status": "ok",
     "timestamp": 1619752746108,
     "user": {
      "displayName": "Amanda HUANG",
      "photoUrl": "",
      "userId": "17299220406110528803"
     },
     "user_tz": -480
    },
    "id": "iSaq0p3lA39M"
   },
   "outputs": [],
   "source": [
    "from src.dataloader import VerticalDataLoader\n",
    "from src.psi.util import Client, Server\n",
    "from src.utils.split_data import add_ids"
   ]
  },
  {
   "cell_type": "code",
   "execution_count": 7,
   "metadata": {
    "executionInfo": {
     "elapsed": 6438,
     "status": "ok",
     "timestamp": 1619752748041,
     "user": {
      "displayName": "Amanda HUANG",
      "photoUrl": "",
      "userId": "17299220406110528803"
     },
     "user_tz": -480
    },
    "id": "WKhWTt30A943"
   },
   "outputs": [],
   "source": [
    "from imutils import paths\n",
    "from sklearn.model_selection import train_test_split\n",
    "from sklearn.preprocessing import LabelBinarizer\n",
    "from sklearn.utils import shuffle\n",
    "from sklearn.metrics import accuracy_score\n",
    "from sklearn.metrics import confusion_matrix, classification_report"
   ]
  },
  {
   "cell_type": "code",
   "execution_count": 8,
   "metadata": {
    "executionInfo": {
     "elapsed": 6437,
     "status": "ok",
     "timestamp": 1619752748046,
     "user": {
      "displayName": "Amanda HUANG",
      "photoUrl": "",
      "userId": "17299220406110528803"
     },
     "user_tz": -480
    },
    "id": "zN3muSmI9jVD"
   },
   "outputs": [],
   "source": [
    "from uuid import uuid4\n",
    "\n",
    "import numpy as np\n",
    "import pandas as pd\n",
    "\n",
    "import time\n",
    "import matplotlib.pyplot as plt"
   ]
  },
  {
   "cell_type": "code",
   "execution_count": 9,
   "metadata": {
    "executionInfo": {
     "elapsed": 6923,
     "status": "ok",
     "timestamp": 1619752748537,
     "user": {
      "displayName": "Amanda HUANG",
      "photoUrl": "",
      "userId": "17299220406110528803"
     },
     "user_tz": -480
    },
    "id": "DUM3Pj7Gl8cA"
   },
   "outputs": [],
   "source": [
    "# load the data\n",
    "df = pd.read_csv(\"drive/MyDrive/Colab Notebooks/data/dataset_c.csv\")"
   ]
  },
  {
   "cell_type": "code",
   "execution_count": 10,
   "metadata": {
    "colab": {
     "base_uri": "https://localhost:8080/",
     "height": 292
    },
    "executionInfo": {
     "elapsed": 6919,
     "status": "ok",
     "timestamp": 1619752748538,
     "user": {
      "displayName": "Amanda HUANG",
      "photoUrl": "",
      "userId": "17299220406110528803"
     },
     "user_tz": -480
    },
    "id": "02t3E6pInc2u",
    "outputId": "98b0a781-01c0-4c2f-b3eb-e9ffe068cd3c"
   },
   "outputs": [
    {
     "data": {
      "text/html": [
       "<div>\n",
       "<style scoped>\n",
       "    .dataframe tbody tr th:only-of-type {\n",
       "        vertical-align: middle;\n",
       "    }\n",
       "\n",
       "    .dataframe tbody tr th {\n",
       "        vertical-align: top;\n",
       "    }\n",
       "\n",
       "    .dataframe thead th {\n",
       "        text-align: right;\n",
       "    }\n",
       "</style>\n",
       "<table border=\"1\" class=\"dataframe\">\n",
       "  <thead>\n",
       "    <tr style=\"text-align: right;\">\n",
       "      <th></th>\n",
       "      <th>Applied Loan Amount</th>\n",
       "      <th>Applied Loan Tenor</th>\n",
       "      <th>Age</th>\n",
       "      <th>Monthly Housing/Rental</th>\n",
       "      <th>Monthly Income</th>\n",
       "      <th>Office (Area)_1</th>\n",
       "      <th>Office (Area)_2</th>\n",
       "      <th>Office (Area)_3</th>\n",
       "      <th>Office (Area)_6</th>\n",
       "      <th>Loan Purpose_Birth Giving</th>\n",
       "      <th>Loan Purpose_Business</th>\n",
       "      <th>Loan Purpose_Car Purchase</th>\n",
       "      <th>Loan Purpose_Decoration</th>\n",
       "      <th>Loan Purpose_Education</th>\n",
       "      <th>Loan Purpose_Funeral Expenses</th>\n",
       "      <th>Loan Purpose_Investment</th>\n",
       "      <th>Loan Purpose_Marriage</th>\n",
       "      <th>Loan Purpose_Medical Expenses</th>\n",
       "      <th>Loan Purpose_Personal use</th>\n",
       "      <th>Loan Purpose_Settle Loan / Credit Card O/S</th>\n",
       "      <th>Loan Purpose_Stand by</th>\n",
       "      <th>Loan Purpose_Tax Payment</th>\n",
       "      <th>Loan Purpose_Traveling</th>\n",
       "      <th>Gender_F</th>\n",
       "      <th>Gender_M</th>\n",
       "      <th>Marital Status_Divorced</th>\n",
       "      <th>Marital Status_Married</th>\n",
       "      <th>Marital Status_No Response</th>\n",
       "      <th>Marital Status_Separated</th>\n",
       "      <th>Marital Status_Single</th>\n",
       "      <th>Marital Status_Widowed</th>\n",
       "      <th>Education Level_Form 3 or below</th>\n",
       "      <th>Education Level_No Response</th>\n",
       "      <th>Education Level_Post Graduate</th>\n",
       "      <th>Education Level_Post Secondary</th>\n",
       "      <th>Education Level_Primary</th>\n",
       "      <th>Education Level_Secondary</th>\n",
       "      <th>Education Level_University</th>\n",
       "      <th>Residential Status_Company Provision</th>\n",
       "      <th>Residential Status_Live With Relatives</th>\n",
       "      <th>Residential Status_Mortgaged Private Housing</th>\n",
       "      <th>Residential Status_Mortgaged Public Housing</th>\n",
       "      <th>Residential Status_No Response</th>\n",
       "      <th>Residential Status_Rental</th>\n",
       "      <th>Residential Status_Self-owned Private Housing</th>\n",
       "      <th>Residential Status_Self-owned Public Housing</th>\n",
       "      <th>Contract Staff (Y/N)_N</th>\n",
       "      <th>Contract Staff (Y/N)_Y</th>\n",
       "      <th>Employment Type_Civil Servant</th>\n",
       "      <th>Employment Type_Fixed Income Earner</th>\n",
       "      <th>Employment Type_Non Fixed Income Earner</th>\n",
       "      <th>Employment Type_Not Applicable</th>\n",
       "      <th>Employment Type_Self-Employed</th>\n",
       "      <th>Employment Type_Self-Employed Professional</th>\n",
       "      <th>Nature of Business_All Other</th>\n",
       "      <th>Nature of Business_Construction Trades</th>\n",
       "      <th>Nature of Business_Driver</th>\n",
       "      <th>Nature of Business_Executive</th>\n",
       "      <th>Nature of Business_Factory Worker</th>\n",
       "      <th>Nature of Business_Guard</th>\n",
       "      <th>Nature of Business_Homemaker</th>\n",
       "      <th>Nature of Business_Manager</th>\n",
       "      <th>Nature of Business_No Response</th>\n",
       "      <th>Nature of Business_Office Worker</th>\n",
       "      <th>Nature of Business_Owner of a Business</th>\n",
       "      <th>Nature of Business_Professional</th>\n",
       "      <th>Nature of Business_Retired</th>\n",
       "      <th>Nature of Business_Sales</th>\n",
       "      <th>Nature of Business_Semi Professional</th>\n",
       "      <th>Nature of Business_Services</th>\n",
       "      <th>Nature of Business_Skilled Worker</th>\n",
       "      <th>Nature of Business_Unskilled Worker</th>\n",
       "      <th>Job Position_Government/Semi-Government</th>\n",
       "      <th>Job Position_Homemaker</th>\n",
       "      <th>Job Position_No Response</th>\n",
       "      <th>Job Position_Private</th>\n",
       "      <th>Job Position_Public</th>\n",
       "      <th>Job Position_Retired</th>\n",
       "      <th>Job Position_Self Employed</th>\n",
       "      <th>Indicators</th>\n",
       "    </tr>\n",
       "  </thead>\n",
       "  <tbody>\n",
       "    <tr>\n",
       "      <th>0</th>\n",
       "      <td>60000</td>\n",
       "      <td>24</td>\n",
       "      <td>22.301</td>\n",
       "      <td>0.0</td>\n",
       "      <td>10245.0</td>\n",
       "      <td>0</td>\n",
       "      <td>1</td>\n",
       "      <td>0</td>\n",
       "      <td>0</td>\n",
       "      <td>0</td>\n",
       "      <td>0</td>\n",
       "      <td>1</td>\n",
       "      <td>0</td>\n",
       "      <td>0</td>\n",
       "      <td>0</td>\n",
       "      <td>0</td>\n",
       "      <td>0</td>\n",
       "      <td>0</td>\n",
       "      <td>0</td>\n",
       "      <td>0</td>\n",
       "      <td>0</td>\n",
       "      <td>0</td>\n",
       "      <td>0</td>\n",
       "      <td>0</td>\n",
       "      <td>1</td>\n",
       "      <td>0</td>\n",
       "      <td>0</td>\n",
       "      <td>0</td>\n",
       "      <td>0</td>\n",
       "      <td>1</td>\n",
       "      <td>0</td>\n",
       "      <td>0</td>\n",
       "      <td>0</td>\n",
       "      <td>0</td>\n",
       "      <td>0</td>\n",
       "      <td>0</td>\n",
       "      <td>1</td>\n",
       "      <td>0</td>\n",
       "      <td>0</td>\n",
       "      <td>1</td>\n",
       "      <td>0</td>\n",
       "      <td>0</td>\n",
       "      <td>0</td>\n",
       "      <td>0</td>\n",
       "      <td>0</td>\n",
       "      <td>0</td>\n",
       "      <td>1</td>\n",
       "      <td>0</td>\n",
       "      <td>0</td>\n",
       "      <td>1</td>\n",
       "      <td>0</td>\n",
       "      <td>0</td>\n",
       "      <td>0</td>\n",
       "      <td>0</td>\n",
       "      <td>0</td>\n",
       "      <td>0</td>\n",
       "      <td>0</td>\n",
       "      <td>0</td>\n",
       "      <td>0</td>\n",
       "      <td>0</td>\n",
       "      <td>0</td>\n",
       "      <td>0</td>\n",
       "      <td>0</td>\n",
       "      <td>0</td>\n",
       "      <td>0</td>\n",
       "      <td>0</td>\n",
       "      <td>0</td>\n",
       "      <td>1</td>\n",
       "      <td>0</td>\n",
       "      <td>0</td>\n",
       "      <td>0</td>\n",
       "      <td>0</td>\n",
       "      <td>0</td>\n",
       "      <td>0</td>\n",
       "      <td>0</td>\n",
       "      <td>1</td>\n",
       "      <td>0</td>\n",
       "      <td>0</td>\n",
       "      <td>0</td>\n",
       "      <td>0</td>\n",
       "    </tr>\n",
       "    <tr>\n",
       "      <th>1</th>\n",
       "      <td>100000</td>\n",
       "      <td>60</td>\n",
       "      <td>33.159</td>\n",
       "      <td>0.0</td>\n",
       "      <td>10000.0</td>\n",
       "      <td>1</td>\n",
       "      <td>0</td>\n",
       "      <td>0</td>\n",
       "      <td>0</td>\n",
       "      <td>0</td>\n",
       "      <td>0</td>\n",
       "      <td>0</td>\n",
       "      <td>0</td>\n",
       "      <td>0</td>\n",
       "      <td>0</td>\n",
       "      <td>0</td>\n",
       "      <td>0</td>\n",
       "      <td>0</td>\n",
       "      <td>0</td>\n",
       "      <td>1</td>\n",
       "      <td>0</td>\n",
       "      <td>0</td>\n",
       "      <td>0</td>\n",
       "      <td>0</td>\n",
       "      <td>1</td>\n",
       "      <td>0</td>\n",
       "      <td>0</td>\n",
       "      <td>0</td>\n",
       "      <td>0</td>\n",
       "      <td>1</td>\n",
       "      <td>0</td>\n",
       "      <td>1</td>\n",
       "      <td>0</td>\n",
       "      <td>0</td>\n",
       "      <td>0</td>\n",
       "      <td>0</td>\n",
       "      <td>0</td>\n",
       "      <td>0</td>\n",
       "      <td>0</td>\n",
       "      <td>1</td>\n",
       "      <td>0</td>\n",
       "      <td>0</td>\n",
       "      <td>0</td>\n",
       "      <td>0</td>\n",
       "      <td>0</td>\n",
       "      <td>0</td>\n",
       "      <td>1</td>\n",
       "      <td>0</td>\n",
       "      <td>0</td>\n",
       "      <td>1</td>\n",
       "      <td>0</td>\n",
       "      <td>0</td>\n",
       "      <td>0</td>\n",
       "      <td>0</td>\n",
       "      <td>0</td>\n",
       "      <td>0</td>\n",
       "      <td>0</td>\n",
       "      <td>0</td>\n",
       "      <td>0</td>\n",
       "      <td>0</td>\n",
       "      <td>0</td>\n",
       "      <td>0</td>\n",
       "      <td>0</td>\n",
       "      <td>0</td>\n",
       "      <td>0</td>\n",
       "      <td>0</td>\n",
       "      <td>0</td>\n",
       "      <td>0</td>\n",
       "      <td>0</td>\n",
       "      <td>1</td>\n",
       "      <td>0</td>\n",
       "      <td>0</td>\n",
       "      <td>0</td>\n",
       "      <td>0</td>\n",
       "      <td>0</td>\n",
       "      <td>1</td>\n",
       "      <td>0</td>\n",
       "      <td>0</td>\n",
       "      <td>0</td>\n",
       "      <td>0</td>\n",
       "    </tr>\n",
       "    <tr>\n",
       "      <th>2</th>\n",
       "      <td>50000</td>\n",
       "      <td>24</td>\n",
       "      <td>28.389</td>\n",
       "      <td>2000.0</td>\n",
       "      <td>9700.0</td>\n",
       "      <td>0</td>\n",
       "      <td>0</td>\n",
       "      <td>1</td>\n",
       "      <td>0</td>\n",
       "      <td>0</td>\n",
       "      <td>0</td>\n",
       "      <td>0</td>\n",
       "      <td>0</td>\n",
       "      <td>0</td>\n",
       "      <td>0</td>\n",
       "      <td>0</td>\n",
       "      <td>0</td>\n",
       "      <td>0</td>\n",
       "      <td>1</td>\n",
       "      <td>0</td>\n",
       "      <td>0</td>\n",
       "      <td>0</td>\n",
       "      <td>0</td>\n",
       "      <td>1</td>\n",
       "      <td>0</td>\n",
       "      <td>0</td>\n",
       "      <td>1</td>\n",
       "      <td>0</td>\n",
       "      <td>0</td>\n",
       "      <td>0</td>\n",
       "      <td>0</td>\n",
       "      <td>0</td>\n",
       "      <td>0</td>\n",
       "      <td>0</td>\n",
       "      <td>0</td>\n",
       "      <td>0</td>\n",
       "      <td>0</td>\n",
       "      <td>1</td>\n",
       "      <td>0</td>\n",
       "      <td>0</td>\n",
       "      <td>0</td>\n",
       "      <td>0</td>\n",
       "      <td>0</td>\n",
       "      <td>1</td>\n",
       "      <td>0</td>\n",
       "      <td>0</td>\n",
       "      <td>1</td>\n",
       "      <td>0</td>\n",
       "      <td>0</td>\n",
       "      <td>1</td>\n",
       "      <td>0</td>\n",
       "      <td>0</td>\n",
       "      <td>0</td>\n",
       "      <td>0</td>\n",
       "      <td>0</td>\n",
       "      <td>0</td>\n",
       "      <td>0</td>\n",
       "      <td>0</td>\n",
       "      <td>0</td>\n",
       "      <td>0</td>\n",
       "      <td>0</td>\n",
       "      <td>0</td>\n",
       "      <td>0</td>\n",
       "      <td>0</td>\n",
       "      <td>0</td>\n",
       "      <td>0</td>\n",
       "      <td>0</td>\n",
       "      <td>0</td>\n",
       "      <td>0</td>\n",
       "      <td>1</td>\n",
       "      <td>0</td>\n",
       "      <td>0</td>\n",
       "      <td>0</td>\n",
       "      <td>0</td>\n",
       "      <td>0</td>\n",
       "      <td>1</td>\n",
       "      <td>0</td>\n",
       "      <td>0</td>\n",
       "      <td>0</td>\n",
       "      <td>0</td>\n",
       "    </tr>\n",
       "    <tr>\n",
       "      <th>3</th>\n",
       "      <td>70000</td>\n",
       "      <td>36</td>\n",
       "      <td>35.573</td>\n",
       "      <td>1200.0</td>\n",
       "      <td>23000.0</td>\n",
       "      <td>0</td>\n",
       "      <td>1</td>\n",
       "      <td>0</td>\n",
       "      <td>0</td>\n",
       "      <td>0</td>\n",
       "      <td>0</td>\n",
       "      <td>0</td>\n",
       "      <td>0</td>\n",
       "      <td>0</td>\n",
       "      <td>0</td>\n",
       "      <td>0</td>\n",
       "      <td>0</td>\n",
       "      <td>0</td>\n",
       "      <td>1</td>\n",
       "      <td>0</td>\n",
       "      <td>0</td>\n",
       "      <td>0</td>\n",
       "      <td>0</td>\n",
       "      <td>0</td>\n",
       "      <td>1</td>\n",
       "      <td>0</td>\n",
       "      <td>1</td>\n",
       "      <td>0</td>\n",
       "      <td>0</td>\n",
       "      <td>0</td>\n",
       "      <td>0</td>\n",
       "      <td>0</td>\n",
       "      <td>0</td>\n",
       "      <td>1</td>\n",
       "      <td>0</td>\n",
       "      <td>0</td>\n",
       "      <td>0</td>\n",
       "      <td>0</td>\n",
       "      <td>0</td>\n",
       "      <td>0</td>\n",
       "      <td>0</td>\n",
       "      <td>0</td>\n",
       "      <td>0</td>\n",
       "      <td>1</td>\n",
       "      <td>0</td>\n",
       "      <td>0</td>\n",
       "      <td>1</td>\n",
       "      <td>0</td>\n",
       "      <td>1</td>\n",
       "      <td>0</td>\n",
       "      <td>0</td>\n",
       "      <td>0</td>\n",
       "      <td>0</td>\n",
       "      <td>0</td>\n",
       "      <td>0</td>\n",
       "      <td>0</td>\n",
       "      <td>0</td>\n",
       "      <td>0</td>\n",
       "      <td>0</td>\n",
       "      <td>0</td>\n",
       "      <td>0</td>\n",
       "      <td>1</td>\n",
       "      <td>0</td>\n",
       "      <td>0</td>\n",
       "      <td>0</td>\n",
       "      <td>0</td>\n",
       "      <td>0</td>\n",
       "      <td>0</td>\n",
       "      <td>0</td>\n",
       "      <td>0</td>\n",
       "      <td>0</td>\n",
       "      <td>0</td>\n",
       "      <td>1</td>\n",
       "      <td>0</td>\n",
       "      <td>0</td>\n",
       "      <td>0</td>\n",
       "      <td>0</td>\n",
       "      <td>0</td>\n",
       "      <td>0</td>\n",
       "      <td>0</td>\n",
       "    </tr>\n",
       "    <tr>\n",
       "      <th>4</th>\n",
       "      <td>300000</td>\n",
       "      <td>60</td>\n",
       "      <td>30.849</td>\n",
       "      <td>11000.0</td>\n",
       "      <td>34000.0</td>\n",
       "      <td>1</td>\n",
       "      <td>0</td>\n",
       "      <td>0</td>\n",
       "      <td>0</td>\n",
       "      <td>0</td>\n",
       "      <td>0</td>\n",
       "      <td>0</td>\n",
       "      <td>0</td>\n",
       "      <td>0</td>\n",
       "      <td>0</td>\n",
       "      <td>0</td>\n",
       "      <td>0</td>\n",
       "      <td>0</td>\n",
       "      <td>0</td>\n",
       "      <td>1</td>\n",
       "      <td>0</td>\n",
       "      <td>0</td>\n",
       "      <td>0</td>\n",
       "      <td>1</td>\n",
       "      <td>0</td>\n",
       "      <td>0</td>\n",
       "      <td>0</td>\n",
       "      <td>0</td>\n",
       "      <td>0</td>\n",
       "      <td>1</td>\n",
       "      <td>0</td>\n",
       "      <td>0</td>\n",
       "      <td>0</td>\n",
       "      <td>0</td>\n",
       "      <td>0</td>\n",
       "      <td>0</td>\n",
       "      <td>0</td>\n",
       "      <td>1</td>\n",
       "      <td>0</td>\n",
       "      <td>0</td>\n",
       "      <td>1</td>\n",
       "      <td>0</td>\n",
       "      <td>0</td>\n",
       "      <td>0</td>\n",
       "      <td>0</td>\n",
       "      <td>0</td>\n",
       "      <td>1</td>\n",
       "      <td>0</td>\n",
       "      <td>0</td>\n",
       "      <td>1</td>\n",
       "      <td>0</td>\n",
       "      <td>0</td>\n",
       "      <td>0</td>\n",
       "      <td>0</td>\n",
       "      <td>0</td>\n",
       "      <td>0</td>\n",
       "      <td>0</td>\n",
       "      <td>0</td>\n",
       "      <td>0</td>\n",
       "      <td>0</td>\n",
       "      <td>0</td>\n",
       "      <td>1</td>\n",
       "      <td>0</td>\n",
       "      <td>0</td>\n",
       "      <td>0</td>\n",
       "      <td>0</td>\n",
       "      <td>0</td>\n",
       "      <td>0</td>\n",
       "      <td>0</td>\n",
       "      <td>0</td>\n",
       "      <td>0</td>\n",
       "      <td>0</td>\n",
       "      <td>0</td>\n",
       "      <td>0</td>\n",
       "      <td>0</td>\n",
       "      <td>1</td>\n",
       "      <td>0</td>\n",
       "      <td>0</td>\n",
       "      <td>0</td>\n",
       "      <td>0</td>\n",
       "    </tr>\n",
       "  </tbody>\n",
       "</table>\n",
       "</div>"
      ],
      "text/plain": [
       "   Applied Loan Amount  ...  Indicators\n",
       "0                60000  ...           0\n",
       "1               100000  ...           0\n",
       "2                50000  ...           0\n",
       "3                70000  ...           0\n",
       "4               300000  ...           0\n",
       "\n",
       "[5 rows x 80 columns]"
      ]
     },
     "execution_count": 10,
     "metadata": {
      "tags": []
     },
     "output_type": "execute_result"
    }
   ],
   "source": [
    "# clean the data\n",
    "# transform into binary columns\n",
    "\n",
    "df = df.dropna()\n",
    "df = pd.get_dummies(df)\n",
    "cols = df.columns.tolist()\n",
    "cols.remove('Indicators')\n",
    "cols.append('Indicators')\n",
    "df = df[cols]\n",
    "df.head()"
   ]
  },
  {
   "cell_type": "code",
   "execution_count": 11,
   "metadata": {
    "executionInfo": {
     "elapsed": 6912,
     "status": "ok",
     "timestamp": 1619752748538,
     "user": {
      "displayName": "Amanda HUANG",
      "photoUrl": "",
      "userId": "17299220406110528803"
     },
     "user_tz": -480
    },
    "id": "Y1ur1ac0l-DW"
   },
   "outputs": [],
   "source": [
    "# split it into training and testing dataset\n",
    "train, test = train_test_split( df , test_size=0.3, random_state=42)"
   ]
  },
  {
   "cell_type": "code",
   "execution_count": 12,
   "metadata": {
    "executionInfo": {
     "elapsed": 6909,
     "status": "ok",
     "timestamp": 1619752748539,
     "user": {
      "displayName": "Amanda HUANG",
      "photoUrl": "",
      "userId": "17299220406110528803"
     },
     "user_tz": -480
    },
    "id": "9K90vEH3ke-n"
   },
   "outputs": [],
   "source": [
    "# transform into tensor data\n",
    "train_features = torch.as_tensor(train.drop(\"Indicators\", axis=1).to_numpy()) # can only from numpy to tensor\n",
    "train_target = torch.as_tensor(train[\"Indicators\"].to_numpy())"
   ]
  },
  {
   "cell_type": "code",
   "execution_count": 13,
   "metadata": {
    "executionInfo": {
     "elapsed": 6906,
     "status": "ok",
     "timestamp": 1619752748540,
     "user": {
      "displayName": "Amanda HUANG",
      "photoUrl": "",
      "userId": "17299220406110528803"
     },
     "user_tz": -480
    },
    "id": "9vnsToiike-o"
   },
   "outputs": [],
   "source": [
    "# transform into tensor data\n",
    "test_features = torch.as_tensor(train.drop(\"Indicators\", axis=1).to_numpy()) # can only from numpy to tensor\n",
    "test_target = torch.as_tensor(train[\"Indicators\"].to_numpy())"
   ]
  },
  {
   "cell_type": "code",
   "execution_count": 14,
   "metadata": {
    "colab": {
     "base_uri": "https://localhost:8080/"
    },
    "executionInfo": {
     "elapsed": 7537,
     "status": "ok",
     "timestamp": 1619752749175,
     "user": {
      "displayName": "Amanda HUANG",
      "photoUrl": "",
      "userId": "17299220406110528803"
     },
     "user_tz": -480
    },
    "id": "OdGthx0cTCwj",
    "outputId": "5660404b-0117-422c-992e-6661dd4d2c12"
   },
   "outputs": [
    {
     "name": "stdout",
     "output_type": "stream",
     "text": [
      "cpu\n"
     ]
    }
   ],
   "source": [
    "# Implements a vertical dataset with TensorDataset\n",
    "import torch\n",
    "from torch.utils.data import Dataset\n",
    "device = 'cuda' if torch.cuda.is_available() else 'cpu'\n",
    "print(device)"
   ]
  },
  {
   "cell_type": "code",
   "execution_count": 15,
   "metadata": {
    "executionInfo": {
     "elapsed": 7532,
     "status": "ok",
     "timestamp": 1619752749175,
     "user": {
      "displayName": "Amanda HUANG",
      "photoUrl": "",
      "userId": "17299220406110528803"
     },
     "user_tz": -480
    },
    "id": "jqLePC47S1nm"
   },
   "outputs": [],
   "source": [
    "# self-designed VerticalTensorDataset\n",
    "# to add id, set features and target\n",
    "\n",
    "class VerticalTensorDataset(Dataset):\n",
    "    def __init__(self, features, targets):\n",
    "        super().__init__()\n",
    "\n",
    "        self.data = features\n",
    "        self.targets = targets\n",
    "        self.size = features.shape[0]\n",
    "\n",
    "        self.ids = np.array([uuid4() for _ in range(len(self))])\n",
    "\n",
    "    def __len__(self):\n",
    "        return self.size\n",
    "\n",
    "    def __getitem__(self, index):\n",
    "        if self.data is None:\n",
    "          data = None\n",
    "        else:\n",
    "          data = self.data[index]\n",
    "        if self.targets is None:\n",
    "          target = None\n",
    "        else:\n",
    "          target = self.targets[index]\n",
    "\n",
    "        id = self.ids[index]\n",
    "\n",
    "        return (*filter(lambda x: x is not None, (data, target, id)),)\n",
    "\n",
    "    def get_ids(self):\n",
    "        return [str(id) for id in self.ids]\n",
    "    \n"
   ]
  },
  {
   "cell_type": "code",
   "execution_count": 16,
   "metadata": {
    "colab": {
     "base_uri": "https://localhost:8080/"
    },
    "executionInfo": {
     "elapsed": 7529,
     "status": "ok",
     "timestamp": 1619752749176,
     "user": {
      "displayName": "Amanda HUANG",
      "photoUrl": "",
      "userId": "17299220406110528803"
     },
     "user_tz": -480
    },
    "id": "lwSBeXxznItN",
    "outputId": "cad326f5-7bcd-4d85-edba-59761e8c36e4"
   },
   "outputs": [
    {
     "name": "stdout",
     "output_type": "stream",
     "text": [
      "(tensor([1.0000e+05, 6.0000e+01, 4.3732e+01, 0.0000e+00, 4.0000e+04, 0.0000e+00,\n",
      "        0.0000e+00, 1.0000e+00, 0.0000e+00, 0.0000e+00, 0.0000e+00, 0.0000e+00,\n",
      "        0.0000e+00, 0.0000e+00, 0.0000e+00, 0.0000e+00, 0.0000e+00, 0.0000e+00,\n",
      "        1.0000e+00, 0.0000e+00, 0.0000e+00, 0.0000e+00, 0.0000e+00, 0.0000e+00,\n",
      "        1.0000e+00, 0.0000e+00, 1.0000e+00, 0.0000e+00, 0.0000e+00, 0.0000e+00,\n",
      "        0.0000e+00, 0.0000e+00, 0.0000e+00, 0.0000e+00, 0.0000e+00, 0.0000e+00,\n",
      "        1.0000e+00, 0.0000e+00, 0.0000e+00, 1.0000e+00, 0.0000e+00, 0.0000e+00,\n",
      "        0.0000e+00, 0.0000e+00, 0.0000e+00, 0.0000e+00, 1.0000e+00, 0.0000e+00,\n",
      "        0.0000e+00, 1.0000e+00, 0.0000e+00, 0.0000e+00, 0.0000e+00, 0.0000e+00,\n",
      "        0.0000e+00, 0.0000e+00, 1.0000e+00, 0.0000e+00, 0.0000e+00, 0.0000e+00,\n",
      "        0.0000e+00, 0.0000e+00, 0.0000e+00, 0.0000e+00, 0.0000e+00, 0.0000e+00,\n",
      "        0.0000e+00, 0.0000e+00, 0.0000e+00, 0.0000e+00, 0.0000e+00, 0.0000e+00,\n",
      "        0.0000e+00, 0.0000e+00, 0.0000e+00, 1.0000e+00, 0.0000e+00, 0.0000e+00,\n",
      "        0.0000e+00], dtype=torch.float64), tensor(0), UUID('24e327b5-5c28-4f3f-8218-43d1d40083f1'))\n"
     ]
    }
   ],
   "source": [
    "# put training data into VerticalTensorDataset \n",
    "# to add ids and identify features and target column\n",
    "train_dataset = VerticalTensorDataset(train_features, train_target)\n",
    "\n",
    "print(train_dataset[0])\n",
    "# VerticalDataLoader is from PyVertical package\n",
    "# it vetically patitions the data\n",
    "train_dataloader = VerticalDataLoader(train_dataset, batch_size = 64) "
   ]
  },
  {
   "cell_type": "code",
   "execution_count": 17,
   "metadata": {
    "colab": {
     "base_uri": "https://localhost:8080/"
    },
    "executionInfo": {
     "elapsed": 7525,
     "status": "ok",
     "timestamp": 1619752749176,
     "user": {
      "displayName": "Amanda HUANG",
      "photoUrl": "",
      "userId": "17299220406110528803"
     },
     "user_tz": -480
    },
    "id": "G-tskG6VnrYb",
    "outputId": "ebe0e744-ae02-4ef8-f27d-a41b3377ef16"
   },
   "outputs": [
    {
     "name": "stdout",
     "output_type": "stream",
     "text": [
      "(tensor([1.0000e+05, 6.0000e+01, 4.3732e+01, 0.0000e+00, 4.0000e+04, 0.0000e+00,\n",
      "        0.0000e+00, 1.0000e+00, 0.0000e+00, 0.0000e+00, 0.0000e+00, 0.0000e+00,\n",
      "        0.0000e+00, 0.0000e+00, 0.0000e+00, 0.0000e+00, 0.0000e+00, 0.0000e+00,\n",
      "        1.0000e+00, 0.0000e+00, 0.0000e+00, 0.0000e+00, 0.0000e+00, 0.0000e+00,\n",
      "        1.0000e+00, 0.0000e+00, 1.0000e+00, 0.0000e+00, 0.0000e+00, 0.0000e+00,\n",
      "        0.0000e+00, 0.0000e+00, 0.0000e+00, 0.0000e+00, 0.0000e+00, 0.0000e+00,\n",
      "        1.0000e+00, 0.0000e+00, 0.0000e+00, 1.0000e+00, 0.0000e+00, 0.0000e+00,\n",
      "        0.0000e+00, 0.0000e+00, 0.0000e+00, 0.0000e+00, 1.0000e+00, 0.0000e+00,\n",
      "        0.0000e+00, 1.0000e+00, 0.0000e+00, 0.0000e+00, 0.0000e+00, 0.0000e+00,\n",
      "        0.0000e+00, 0.0000e+00, 1.0000e+00, 0.0000e+00, 0.0000e+00, 0.0000e+00,\n",
      "        0.0000e+00, 0.0000e+00, 0.0000e+00, 0.0000e+00, 0.0000e+00, 0.0000e+00,\n",
      "        0.0000e+00, 0.0000e+00, 0.0000e+00, 0.0000e+00, 0.0000e+00, 0.0000e+00,\n",
      "        0.0000e+00, 0.0000e+00, 0.0000e+00, 1.0000e+00, 0.0000e+00, 0.0000e+00,\n",
      "        0.0000e+00], dtype=torch.float64), tensor(0), UUID('2b97bf96-a304-4e54-8d77-b8919fdd663d'))\n"
     ]
    }
   ],
   "source": [
    "# apply on testing data\n",
    "test_dataset = VerticalTensorDataset(test_features, test_target)\n",
    "\n",
    "print(test_dataset[0])\n",
    "\n",
    "test_dataloader = VerticalDataLoader(test_dataset, batch_size = 1)"
   ]
  },
  {
   "cell_type": "code",
   "execution_count": 18,
   "metadata": {
    "executionInfo": {
     "elapsed": 7522,
     "status": "ok",
     "timestamp": 1619752749177,
     "user": {
      "displayName": "Amanda HUANG",
      "photoUrl": "",
      "userId": "17299220406110528803"
     },
     "user_tz": -480
    },
    "id": "fG8zrBSABSg6"
   },
   "outputs": [],
   "source": [
    "# SplitNN\n",
    "# assign model segments to each local nodes\n",
    "# define how gradient is sent\n",
    "class SplitNN:\n",
    "    def __init__(self, models, optimizers):\n",
    "        self.models = models\n",
    "        self.optimizers = optimizers\n",
    "\n",
    "        self.data = []\n",
    "        self.remote_tensors = []\n",
    "\n",
    "    def forward(self, x):\n",
    "        data = []\n",
    "        remote_tensors = []\n",
    "\n",
    "        data.append(self.models[0](x))\n",
    "\n",
    "        if data[-1].location == self.models[1].location:\n",
    "            remote_tensors.append(data[-1].detach().requires_grad_())\n",
    "        else:\n",
    "            remote_tensors.append(\n",
    "                data[-1].detach().move(self.models[1].location).requires_grad_()\n",
    "            )\n",
    "\n",
    "        i = 1\n",
    "        while i < (len(models) - 1):\n",
    "            data.append(self.models[i](remote_tensors[-1]))\n",
    "\n",
    "            if data[-1].location == self.models[i + 1].location:\n",
    "                remote_tensors.append(data[-1].detach().requires_grad_())\n",
    "            else:\n",
    "                remote_tensors.append(\n",
    "                    data[-1].detach().move(self.models[i + 1].location).requires_grad_()\n",
    "                )\n",
    "\n",
    "            i += 1\n",
    "\n",
    "        data.append(self.models[i](remote_tensors[-1]))\n",
    "\n",
    "        self.data = data\n",
    "        self.remote_tensors = remote_tensors\n",
    "\n",
    "        return data[-1]\n",
    "        \n",
    "    def backward(self):\n",
    "        for i in range(len(models) - 2, -1, -1):\n",
    "            if self.remote_tensors[i].location == self.data[i].location:\n",
    "                grads = self.remote_tensors[i].grad.copy()\n",
    "            else:\n",
    "                grads = self.remote_tensors[i].grad.copy().move(self.data[i].location)\n",
    "    \n",
    "            self.data[i].backward(grads)\n",
    "\n",
    "    def zero_grads(self):\n",
    "        for opt in self.optimizers:\n",
    "            opt.zero_grad()\n",
    "\n",
    "    def step(self):\n",
    "        for opt in self.optimizers:\n",
    "            opt.step()"
   ]
  },
  {
   "cell_type": "code",
   "execution_count": 19,
   "metadata": {
    "executionInfo": {
     "elapsed": 7518,
     "status": "ok",
     "timestamp": 1619752749177,
     "user": {
      "displayName": "Amanda HUANG",
      "photoUrl": "",
      "userId": "17299220406110528803"
     },
     "user_tz": -480
    },
    "id": "qFjH0o5zDL2L"
   },
   "outputs": [],
   "source": [
    "torch.manual_seed(3)\n",
    "\n",
    "# Define our model segments\n",
    "\n",
    "input_size = 79\n",
    "hidden_sizes = [32, 64]\n",
    "output_size = 1\n",
    "\n",
    "\n",
    "# Deep Learning model\n",
    "# to apply it in SplitNN framework, it is divided into 2 parts\n",
    "models = [\n",
    "    nn.Sequential(\n",
    "        nn.Linear(input_size, hidden_sizes[0]),\n",
    "        nn.ReLU(),\n",
    "        nn.BatchNorm1d(hidden_sizes[0]),\n",
    "        nn.Linear(hidden_sizes[0], hidden_sizes[1]),\n",
    "        nn.ReLU(),\n",
    "        nn.BatchNorm1d(hidden_sizes[1]),\n",
    "        nn.Dropout(p=0.1)\n",
    "    ),\n",
    "    nn.Sequential(nn.Linear(hidden_sizes[1], output_size))\n",
    "\n",
    "]\n",
    "'''\n",
    "models = [\n",
    "    nn.Sequential(\n",
    "        nn.Linear(input_size, hidden_sizes[0]),\n",
    "        nn.ReLU(),\n",
    "        nn.Linear(hidden_sizes[0], hidden_sizes[1]),\n",
    "        nn.ReLU(),\n",
    "        nn.Dropout(p=0.1)\n",
    "    ),\n",
    "    nn.Sequential(nn.Linear(hidden_sizes[1], output_size))\n",
    "\n",
    "]\n",
    "'''\n",
    "# create optimisers for each segment and link to them\n",
    "optimizers = [\n",
    "    optim.SGD(model.parameters(), lr=0.001)\n",
    "    for model in models\n",
    "]\n"
   ]
  },
  {
   "cell_type": "code",
   "execution_count": 20,
   "metadata": {
    "executionInfo": {
     "elapsed": 7514,
     "status": "ok",
     "timestamp": 1619752749177,
     "user": {
      "displayName": "Amanda HUANG",
      "photoUrl": "",
      "userId": "17299220406110528803"
     },
     "user_tz": -480
    },
    "id": "7PRJATcrEUo7"
   },
   "outputs": [],
   "source": [
    "# create virtual workers as local node simulation\n",
    "alice = sy.VirtualWorker(hook, id=\"alice\")\n",
    "bob = sy.VirtualWorker(hook, id=\"bob\")\n",
    "\n",
    "# send Model Segments to model locations\n",
    "model_locations = [alice, bob]\n",
    "for model, location in zip(models, model_locations):\n",
    "    model.send(location)\n",
    "\n",
    "# instantiate a SpliNN class with our distributed segments and their respective optimizers\n",
    "splitNN = SplitNN(models, optimizers)"
   ]
  },
  {
   "cell_type": "code",
   "execution_count": 21,
   "metadata": {
    "executionInfo": {
     "elapsed": 7510,
     "status": "ok",
     "timestamp": 1619752749178,
     "user": {
      "displayName": "Amanda HUANG",
      "photoUrl": "",
      "userId": "17299220406110528803"
     },
     "user_tz": -480
    },
    "id": "PJPQZv5rEXYK"
   },
   "outputs": [],
   "source": [
    "def train(x, target, splitNN):\n",
    "    \n",
    "    #1) Zero our grads\n",
    "    splitNN.zero_grads()\n",
    "    \n",
    "    #2) Make a prediction\n",
    "    pred = splitNN.forward(x)\n",
    "    \n",
    "    #3) Figure out how much we missed by\n",
    "    criterion = nn.BCEWithLogitsLoss()\n",
    "    loss = criterion(pred.reshape(-1), target.to(torch.float))\n",
    "    \n",
    "    #4) Backprop the loss on the end layer\n",
    "    loss.backward()\n",
    "    \n",
    "    #5) Feed Gradients backward through the nework\n",
    "    splitNN.backward()\n",
    "    \n",
    "    #6) Change the weights\n",
    "    splitNN.step()\n",
    "    \n",
    "    return loss, pred"
   ]
  },
  {
   "cell_type": "code",
   "execution_count": 22,
   "metadata": {
    "executionInfo": {
     "elapsed": 7506,
     "status": "ok",
     "timestamp": 1619752749178,
     "user": {
      "displayName": "Amanda HUANG",
      "photoUrl": "",
      "userId": "17299220406110528803"
     },
     "user_tz": -480
    },
    "id": "e9cJZpVYEogF"
   },
   "outputs": [],
   "source": [
    "epochs = 100"
   ]
  },
  {
   "cell_type": "code",
   "execution_count": 23,
   "metadata": {
    "executionInfo": {
     "elapsed": 7503,
     "status": "ok",
     "timestamp": 1619752749179,
     "user": {
      "displayName": "Amanda HUANG",
      "photoUrl": "",
      "userId": "17299220406110528803"
     },
     "user_tz": -480
    },
    "id": "Dl2jo8TxlTuz"
   },
   "outputs": [],
   "source": [
    "e_loss = []\n",
    "e_acc = []\n",
    "timelist = []"
   ]
  },
  {
   "cell_type": "code",
   "execution_count": 24,
   "metadata": {
    "colab": {
     "base_uri": "https://localhost:8080/"
    },
    "executionInfo": {
     "elapsed": 254973,
     "status": "ok",
     "timestamp": 1619752996653,
     "user": {
      "displayName": "Amanda HUANG",
      "photoUrl": "",
      "userId": "17299220406110528803"
     },
     "user_tz": -480
    },
    "id": "IVXaLEmiEfdP",
    "outputId": "8f552b0a-8a04-4a20-f705-664c94dd57c4"
   },
   "outputs": [
    {
     "name": "stdout",
     "output_type": "stream",
     "text": [
      "Epoch 0 - Training loss: 0.726 - Accuracy: 48.648\n",
      "Epoch 1 - Training loss: 0.714 - Accuracy: 48.476\n",
      "Epoch 2 - Training loss: 0.705 - Accuracy: 50.172\n",
      "Epoch 3 - Training loss: 0.705 - Accuracy: 50.025\n",
      "Epoch 4 - Training loss: 0.704 - Accuracy: 49.189\n",
      "Epoch 5 - Training loss: 0.701 - Accuracy: 49.853\n",
      "Epoch 6 - Training loss: 0.703 - Accuracy: 48.673\n",
      "Epoch 7 - Training loss: 0.699 - Accuracy: 50.590\n",
      "Epoch 8 - Training loss: 0.700 - Accuracy: 49.705\n",
      "Epoch 9 - Training loss: 0.699 - Accuracy: 51.106\n",
      "Epoch 10 - Training loss: 0.698 - Accuracy: 50.959\n",
      "Epoch 11 - Training loss: 0.698 - Accuracy: 49.680\n",
      "Epoch 12 - Training loss: 0.699 - Accuracy: 50.664\n",
      "Epoch 13 - Training loss: 0.697 - Accuracy: 49.951\n",
      "Epoch 14 - Training loss: 0.697 - Accuracy: 50.000\n",
      "Epoch 15 - Training loss: 0.700 - Accuracy: 50.664\n",
      "Epoch 16 - Training loss: 0.695 - Accuracy: 51.401\n",
      "Epoch 17 - Training loss: 0.700 - Accuracy: 49.853\n",
      "Epoch 18 - Training loss: 0.697 - Accuracy: 50.492\n",
      "Epoch 19 - Training loss: 0.695 - Accuracy: 51.229\n",
      "Epoch 20 - Training loss: 0.695 - Accuracy: 50.959\n",
      "Epoch 21 - Training loss: 0.694 - Accuracy: 51.475\n",
      "Epoch 22 - Training loss: 0.695 - Accuracy: 51.672\n",
      "Epoch 23 - Training loss: 0.696 - Accuracy: 50.959\n",
      "Epoch 24 - Training loss: 0.695 - Accuracy: 50.885\n",
      "Epoch 25 - Training loss: 0.696 - Accuracy: 50.442\n",
      "Epoch 26 - Training loss: 0.697 - Accuracy: 51.057\n",
      "Epoch 27 - Training loss: 0.696 - Accuracy: 50.418\n",
      "Epoch 28 - Training loss: 0.696 - Accuracy: 50.910\n",
      "Epoch 29 - Training loss: 0.697 - Accuracy: 50.049\n",
      "Epoch 30 - Training loss: 0.694 - Accuracy: 50.737\n",
      "Epoch 31 - Training loss: 0.694 - Accuracy: 52.237\n",
      "Epoch 32 - Training loss: 0.695 - Accuracy: 51.573\n",
      "Epoch 33 - Training loss: 0.696 - Accuracy: 50.467\n",
      "Epoch 34 - Training loss: 0.695 - Accuracy: 50.860\n",
      "Epoch 35 - Training loss: 0.694 - Accuracy: 51.991\n",
      "Epoch 36 - Training loss: 0.694 - Accuracy: 51.647\n",
      "Epoch 37 - Training loss: 0.694 - Accuracy: 50.885\n",
      "Epoch 38 - Training loss: 0.694 - Accuracy: 51.327\n",
      "Epoch 39 - Training loss: 0.694 - Accuracy: 51.622\n",
      "Epoch 40 - Training loss: 0.694 - Accuracy: 52.557\n",
      "Epoch 41 - Training loss: 0.694 - Accuracy: 51.475\n",
      "Epoch 42 - Training loss: 0.694 - Accuracy: 51.327\n",
      "Epoch 43 - Training loss: 0.693 - Accuracy: 52.901\n",
      "Epoch 44 - Training loss: 0.693 - Accuracy: 51.942\n",
      "Epoch 45 - Training loss: 0.693 - Accuracy: 51.131\n",
      "Epoch 46 - Training loss: 0.690 - Accuracy: 52.434\n",
      "Epoch 47 - Training loss: 0.693 - Accuracy: 51.327\n",
      "Epoch 48 - Training loss: 0.691 - Accuracy: 53.441\n",
      "Epoch 49 - Training loss: 0.691 - Accuracy: 52.384\n",
      "Epoch 50 - Training loss: 0.695 - Accuracy: 50.860\n",
      "Epoch 51 - Training loss: 0.695 - Accuracy: 50.811\n",
      "Epoch 52 - Training loss: 0.691 - Accuracy: 53.540\n",
      "Epoch 53 - Training loss: 0.690 - Accuracy: 52.679\n",
      "Epoch 54 - Training loss: 0.692 - Accuracy: 51.770\n",
      "Epoch 55 - Training loss: 0.689 - Accuracy: 52.999\n",
      "Epoch 56 - Training loss: 0.694 - Accuracy: 51.868\n",
      "Epoch 57 - Training loss: 0.693 - Accuracy: 52.483\n",
      "Epoch 58 - Training loss: 0.695 - Accuracy: 51.696\n",
      "Epoch 59 - Training loss: 0.694 - Accuracy: 51.524\n",
      "Epoch 60 - Training loss: 0.693 - Accuracy: 52.139\n",
      "Epoch 61 - Training loss: 0.691 - Accuracy: 52.901\n",
      "Epoch 62 - Training loss: 0.693 - Accuracy: 53.024\n",
      "Epoch 63 - Training loss: 0.694 - Accuracy: 51.180\n",
      "Epoch 64 - Training loss: 0.694 - Accuracy: 52.507\n",
      "Epoch 65 - Training loss: 0.693 - Accuracy: 51.991\n",
      "Epoch 66 - Training loss: 0.693 - Accuracy: 51.991\n",
      "Epoch 67 - Training loss: 0.693 - Accuracy: 51.426\n",
      "Epoch 68 - Training loss: 0.691 - Accuracy: 52.655\n",
      "Epoch 69 - Training loss: 0.693 - Accuracy: 50.959\n",
      "Epoch 70 - Training loss: 0.692 - Accuracy: 53.073\n",
      "Epoch 71 - Training loss: 0.692 - Accuracy: 51.327\n",
      "Epoch 72 - Training loss: 0.693 - Accuracy: 52.212\n",
      "Epoch 73 - Training loss: 0.693 - Accuracy: 52.557\n",
      "Epoch 74 - Training loss: 0.693 - Accuracy: 52.827\n",
      "Epoch 75 - Training loss: 0.691 - Accuracy: 52.532\n",
      "Epoch 76 - Training loss: 0.694 - Accuracy: 51.622\n",
      "Epoch 77 - Training loss: 0.694 - Accuracy: 51.917\n",
      "Epoch 78 - Training loss: 0.691 - Accuracy: 52.409\n",
      "Epoch 79 - Training loss: 0.694 - Accuracy: 51.721\n",
      "Epoch 80 - Training loss: 0.694 - Accuracy: 52.163\n",
      "Epoch 81 - Training loss: 0.692 - Accuracy: 53.638\n",
      "Epoch 82 - Training loss: 0.693 - Accuracy: 52.557\n",
      "Epoch 83 - Training loss: 0.691 - Accuracy: 53.073\n",
      "Epoch 84 - Training loss: 0.690 - Accuracy: 53.147\n",
      "Epoch 85 - Training loss: 0.691 - Accuracy: 52.852\n",
      "Epoch 86 - Training loss: 0.690 - Accuracy: 53.540\n",
      "Epoch 87 - Training loss: 0.691 - Accuracy: 52.458\n",
      "Epoch 88 - Training loss: 0.690 - Accuracy: 53.294\n",
      "Epoch 89 - Training loss: 0.690 - Accuracy: 52.802\n",
      "Epoch 90 - Training loss: 0.691 - Accuracy: 52.262\n",
      "Epoch 91 - Training loss: 0.691 - Accuracy: 52.262\n",
      "Epoch 92 - Training loss: 0.692 - Accuracy: 52.016\n",
      "Epoch 93 - Training loss: 0.692 - Accuracy: 52.163\n",
      "Epoch 94 - Training loss: 0.692 - Accuracy: 52.212\n",
      "Epoch 95 - Training loss: 0.691 - Accuracy: 53.638\n",
      "Epoch 96 - Training loss: 0.694 - Accuracy: 52.016\n",
      "Epoch 97 - Training loss: 0.691 - Accuracy: 53.073\n",
      "Epoch 98 - Training loss: 0.692 - Accuracy: 53.392\n",
      "Epoch 99 - Training loss: 0.693 - Accuracy: 53.147\n"
     ]
    }
   ],
   "source": [
    "for i in range(epochs):\n",
    "    running_loss = 0\n",
    "    correct_preds = 0\n",
    "    total_preds = 0\n",
    "    epoch_loss = 0\n",
    "    epoch_acc = 0\n",
    "    start_time = time.time()\n",
    "\n",
    "    for (data, ids1), (labels, ids2) in train_dataloader:\n",
    "        # Train a model\n",
    "        data = data.send(models[0].location)\n",
    "        data = data.view(data.shape[0], -1)\n",
    "        labels = labels.send(models[-1].location)\n",
    "\n",
    "        # Call model\n",
    "        loss, preds = train(data.float(), labels, splitNN)\n",
    "        \n",
    "        # Convert predictions\n",
    "        preds_ = preds.get().squeeze(1)\n",
    "        labels_ = labels.get()\n",
    "        preds_match = ((torch.sigmoid(preds_) > 0.5) == labels_)\n",
    "        #print(non_exist)\n",
    "\n",
    "        # Collect statistics\n",
    "        running_loss += loss.get()\n",
    "        correct_preds = correct_preds + int(preds_match.sum())\n",
    "        total_preds = total_preds + int(preds_match.size()[0])\n",
    "\n",
    "    total_time = time.time() - start_time\n",
    "    timelist.append(total_time)\n",
    "    e_loss.append((running_loss/len(train_dataloader)).item()) # for plt\n",
    "    e_acc.append((100*correct_preds/total_preds)) # for plt\n",
    "\n",
    "    print(f\"Epoch {i} - Training loss: {running_loss/len(train_dataloader):.3f} - Accuracy: {100*correct_preds/total_preds:.3f}\")"
   ]
  },
  {
   "cell_type": "code",
   "execution_count": 25,
   "metadata": {
    "colab": {
     "base_uri": "https://localhost:8080/"
    },
    "executionInfo": {
     "elapsed": 254967,
     "status": "ok",
     "timestamp": 1619752996654,
     "user": {
      "displayName": "Amanda HUANG",
      "photoUrl": "",
      "userId": "17299220406110528803"
     },
     "user_tz": -480
    },
    "id": "xlyJue1LGMX5",
    "outputId": "e3866e44-1182-4cf5-e4a2-9830f5f8405f"
   },
   "outputs": [
    {
     "data": {
      "text/plain": [
       "tensor([ True, False, False,  True,  True,  True, False,  True, False, False,\n",
       "        False,  True, False,  True, False, False,  True, False, False,  True,\n",
       "         True, False, False, False,  True,  True,  True,  True, False,  True,\n",
       "         True,  True, False,  True,  True,  True])"
      ]
     },
     "execution_count": 25,
     "metadata": {
      "tags": []
     },
     "output_type": "execute_result"
    }
   ],
   "source": [
    "preds_match"
   ]
  },
  {
   "cell_type": "code",
   "execution_count": 26,
   "metadata": {
    "colab": {
     "base_uri": "https://localhost:8080/",
     "height": 71
    },
    "executionInfo": {
     "elapsed": 254972,
     "status": "ok",
     "timestamp": 1619752996663,
     "user": {
      "displayName": "Amanda HUANG",
      "photoUrl": "",
      "userId": "17299220406110528803"
     },
     "user_tz": -480
    },
    "id": "-PvcJWdnkaJO",
    "outputId": "d676ee5a-aabd-46f1-ff24-88a281edcec9"
   },
   "outputs": [
    {
     "data": {
      "text/plain": [
       "[<matplotlib.lines.Line2D at 0x7f964b98a8d0>]"
      ]
     },
     "execution_count": 26,
     "metadata": {
      "tags": []
     },
     "output_type": "execute_result"
    },
    {
     "data": {
      "image/png": "[encoded data removed]",
      "text/plain": [
       "<Figure size 432x288 with 1 Axes>"
      ]
     },
     "metadata": {
      "needs_background": "light",
      "tags": []
     },
     "output_type": "display_data"
    }
   ],
   "source": [
    "plt.plot(e_acc)"
   ]
  },
  {
   "cell_type": "code",
   "execution_count": 27,
   "metadata": {
    "colab": {
     "base_uri": "https://localhost:8080/",
     "height": 282
    },
    "executionInfo": {
     "elapsed": 254969,
     "status": "ok",
     "timestamp": 1619752996664,
     "user": {
      "displayName": "Amanda HUANG",
      "photoUrl": "",
      "userId": "17299220406110528803"
     },
     "user_tz": -480
    },
    "id": "BOu6BPjZka5e",
    "outputId": "77be790b-619d-4dab-e84c-4dc013ce5265"
   },
   "outputs": [
    {
     "data": {
      "text/plain": [
       "[<matplotlib.lines.Line2D at 0x7f9644f0df10>]"
      ]
     },
     "execution_count": 27,
     "metadata": {
      "tags": []
     },
     "output_type": "execute_result"
    },
    {
     "data": {
      "image/png": "[encoded data removed]",
      "text/plain": [
       "<Figure size 432x288 with 1 Axes>"
      ]
     },
     "metadata": {
      "needs_background": "light",
      "tags": []
     },
     "output_type": "display_data"
    }
   ],
   "source": [
    "plt.plot(e_loss)"
   ]
  },
  {
   "cell_type": "code",
   "execution_count": 28,
   "metadata": {
    "colab": {
     "base_uri": "https://localhost:8080/",
     "height": 282
    },
    "executionInfo": {
     "elapsed": 254965,
     "status": "ok",
     "timestamp": 1619752996665,
     "user": {
      "displayName": "Amanda HUANG",
      "photoUrl": "",
      "userId": "17299220406110528803"
     },
     "user_tz": -480
    },
    "id": "k-rNyIZPOynv",
    "outputId": "2e363a29-e497-4ab1-c73a-9f74cf4962eb"
   },
   "outputs": [
    {
     "data": {
      "text/plain": [
       "[<matplotlib.lines.Line2D at 0x7f9644ef3290>]"
      ]
     },
     "execution_count": 28,
     "metadata": {
      "tags": []
     },
     "output_type": "execute_result"
    },
    {
     "data": {
      "image/png": "[encoded data removed]",
      "text/plain": [
       "<Figure size 432x288 with 1 Axes>"
      ]
     },
     "metadata": {
      "needs_background": "light",
      "tags": []
     },
     "output_type": "display_data"
    }
   ],
   "source": [
    "plt.plot(timelist)"
   ]
  },
  {
   "cell_type": "code",
   "execution_count": 29,
   "metadata": {
    "colab": {
     "base_uri": "https://localhost:8080/"
    },
    "executionInfo": {
     "elapsed": 254961,
     "status": "ok",
     "timestamp": 1619752996665,
     "user": {
      "displayName": "Amanda HUANG",
      "photoUrl": "",
      "userId": "17299220406110528803"
     },
     "user_tz": -480
    },
    "id": "JTpTaQQagZ6g",
    "outputId": "970692f4-917b-499d-d5ec-a4266f014322"
   },
   "outputs": [
    {
     "name": "stdout",
     "output_type": "stream",
     "text": [
      "2.461207790374756\n"
     ]
    }
   ],
   "source": [
    "import statistics\n",
    "x = statistics.mean(timelist)\n",
    "print(x)"
   ]
  },
  {
   "cell_type": "code",
   "execution_count": 30,
   "metadata": {
    "executionInfo": {
     "elapsed": 254957,
     "status": "ok",
     "timestamp": 1619752996666,
     "user": {
      "displayName": "Amanda HUANG",
      "photoUrl": "",
      "userId": "17299220406110528803"
     },
     "user_tz": -480
    },
    "id": "3LuZWxTxzCJQ"
   },
   "outputs": [],
   "source": [
    "# define test to apply trained model\n",
    "def test(x, target, splitNN):\n",
    "       \n",
    "    #1) Make a prediction\n",
    "    pred = splitNN.forward(x)\n",
    "    \n",
    "    #2) Figure out how much we missed by\n",
    "    criterion = nn.BCEWithLogitsLoss()\n",
    "    loss = criterion(pred.reshape(-1), target.to(torch.float))\n",
    "        \n",
    "    return loss, pred"
   ]
  },
  {
   "cell_type": "code",
   "execution_count": 31,
   "metadata": {
    "colab": {
     "base_uri": "https://localhost:8080/"
    },
    "executionInfo": {
     "elapsed": 299103,
     "status": "ok",
     "timestamp": 1619753040816,
     "user": {
      "displayName": "Amanda HUANG",
      "photoUrl": "",
      "userId": "17299220406110528803"
     },
     "user_tz": -480
    },
    "id": "mp2w24Xijd3g",
    "outputId": "ac77a83b-90b8-4829-c4ad-748033c969fa"
   },
   "outputs": [
    {
     "name": "stdout",
     "output_type": "stream",
     "text": [
      " Testing loss: 0.699 - Accuracy: 52.655\n"
     ]
    }
   ],
   "source": [
    "y_pred_list = []\n",
    "y_target_list = []\n",
    "running_loss = 0\n",
    "correct_preds = 0\n",
    "total_preds = 0\n",
    "\n",
    "# lock the models\n",
    "models[0].eval()\n",
    "models[1].eval()\n",
    "\n",
    "# put testing data into the models\n",
    "\n",
    "with torch.no_grad():\n",
    "    for (data, ids1), (labels, ids2) in test_dataloader:\n",
    "        # Train a model\n",
    "        data = data.send(models[0].location)\n",
    "        data = data.view(data.shape[0], -1)\n",
    "        labels = labels.send(models[-1].location)\n",
    "\n",
    "        # Call model\n",
    "        loss, preds = test(data.float(), labels, splitNN)\n",
    "        \n",
    "        # Convert predictions\n",
    "        preds_ = preds.get().squeeze(1)\n",
    "        labels_ = labels.get()\n",
    "        preds_match = ((torch.sigmoid(preds_) > 0.5) == labels_)\n",
    "        y_pred_list.append(torch.sigmoid(preds_) > 0.5)\n",
    "        y_target_list.append(labels_)\n",
    "\n",
    "        # Collect statistics\n",
    "        running_loss += loss.get()\n",
    "        correct_preds = correct_preds + int(preds_match.sum())\n",
    "        total_preds = total_preds + int(preds_match.size()[0])\n",
    "\n",
    "\n",
    "    print(f\" Testing loss: {running_loss/len(test_dataloader):.3f} - Accuracy: {100*correct_preds/total_preds:.3f}\")"
   ]
  },
  {
   "cell_type": "code",
   "execution_count": 32,
   "metadata": {
    "colab": {
     "base_uri": "https://localhost:8080/"
    },
    "executionInfo": {
     "elapsed": 299772,
     "status": "ok",
     "timestamp": 1619753041489,
     "user": {
      "displayName": "Amanda HUANG",
      "photoUrl": "",
      "userId": "17299220406110528803"
     },
     "user_tz": -480
    },
    "id": "16Uw1Zf9wMte",
    "outputId": "8d5d8319-d06b-4cc6-e084-a8dfb548676d"
   },
   "outputs": [
    {
     "data": {
      "text/plain": [
       "array([[2110,   41],\n",
       "       [1885,   32]])"
      ]
     },
     "execution_count": 32,
     "metadata": {
      "tags": []
     },
     "output_type": "execute_result"
    }
   ],
   "source": [
    "confusion_matrix(y_target_list, y_pred_list)"
   ]
  },
  {
   "cell_type": "code",
   "execution_count": 33,
   "metadata": {
    "colab": {
     "base_uri": "https://localhost:8080/"
    },
    "executionInfo": {
     "elapsed": 299767,
     "status": "ok",
     "timestamp": 1619753041489,
     "user": {
      "displayName": "Amanda HUANG",
      "photoUrl": "",
      "userId": "17299220406110528803"
     },
     "user_tz": -480
    },
    "id": "Knxthas7nWgB",
    "outputId": "1efcbbef-11e9-43f0-a17a-2c7d6c270b6c"
   },
   "outputs": [
    {
     "name": "stdout",
     "output_type": "stream",
     "text": [
      "              precision    recall  f1-score   support\n",
      "\n",
      "           0       0.53      0.98      0.69      2151\n",
      "           1       0.44      0.02      0.03      1917\n",
      "\n",
      "    accuracy                           0.53      4068\n",
      "   macro avg       0.48      0.50      0.36      4068\n",
      "weighted avg       0.49      0.53      0.38      4068\n",
      "\n"
     ]
    }
   ],
   "source": [
    "print(classification_report(y_target_list, y_pred_list))"
   ]
  },
  {
   "cell_type": "code",
   "execution_count": 33,
   "metadata": {
    "executionInfo": {
     "elapsed": 299765,
     "status": "ok",
     "timestamp": 1619753041490,
     "user": {
      "displayName": "Amanda HUANG",
      "photoUrl": "",
      "userId": "17299220406110528803"
     },
     "user_tz": -480
    },
    "id": "AAy-LuWEqrNA"
   },
   "outputs": [],
   "source": []
  }
 ],
 "metadata": {
  "colab": {
   "collapsed_sections": [],
   "machine_shape": "hm",
   "name": "VFL-DatasetC-final-100ep-cpu.ipynb",
   "provenance": []
  },
  "kernelspec": {
   "display_name": "Python 3",
   "language": "python",
   "name": "python3"
  },
  "language_info": {
   "codemirror_mode": {
    "name": "ipython",
    "version": 3
   },
   "file_extension": ".py",
   "mimetype": "text/x-python",
   "name": "python",
   "nbconvert_exporter": "python",
   "pygments_lexer": "ipython3",
   "version": "3.7.4"
  }
 },
 "nbformat": 4,
 "nbformat_minor": 4
}
