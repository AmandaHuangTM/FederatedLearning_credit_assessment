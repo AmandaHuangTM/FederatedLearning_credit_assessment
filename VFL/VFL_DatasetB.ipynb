{
  "nbformat": 4,
  "nbformat_minor": 0,
  "metadata": {
    "colab": {
      "name": "VFL-DatasetB-final-100ep-cpu.ipynb",
      "provenance": [],
      "collapsed_sections": [],
      "machine_shape": "hm"
    },
    "kernelspec": {
      "display_name": "Python 3",
      "name": "python3"
    },
    "language_info": {
      "name": "python"
    }
  },
  "cells": [
    {
      "cell_type": "code",
      "metadata": {
        "colab": {
          "base_uri": "https://localhost:8080/"
        },
        "id": "xfFwkK7U94_w",
        "outputId": "fb7ee6b3-742d-4d64-ce32-3028a7a16f22"
      },
      "source": [
        "import os, sys\n",
        "from google.colab import drive\n",
        "drive.mount('/content/drive')\n",
        "nb_path = '/content/notebooks'\n",
        "os.symlink('/content/drive/My Drive/Colab Notebooks', nb_path)\n",
        "sys.path.insert(0,nb_path)\n"
      ],
      "execution_count": 1,
      "outputs": [
        {
          "output_type": "stream",
          "text": [
            "Mounted at /content/drive\n"
          ],
          "name": "stdout"
        }
      ]
    },
    {
      "cell_type": "code",
      "metadata": {
        "colab": {
          "base_uri": "https://localhost:8080/",
          "height": 1000
        },
        "id": "iKBc9tZxAkGX",
        "outputId": "501d6200-d7b1-419d-e348-6a3a78e54509"
      },
      "source": [
        "# install syft\n",
        "!pip install syft==0.2.9"
      ],
      "execution_count": 2,
      "outputs": [
        {
          "output_type": "stream",
          "text": [
            "Collecting syft==0.2.9\n",
            "\u001b[?25l  Downloading https://files.pythonhosted.org/packages/1c/73/891ba1dca7e0ba77be211c36688f083184d8c9d5901b8cd59cbf867052f3/syft-0.2.9-py3-none-any.whl (433kB)\n",
            "\u001b[K     |████████████████████████████████| 440kB 5.3MB/s \n",
            "\u001b[?25hRequirement already satisfied: Pillow>=7.1.0 in /usr/local/lib/python3.7/dist-packages (from syft==0.2.9) (7.1.2)\n",
            "Collecting requests-toolbelt==0.9.1\n",
            "\u001b[?25l  Downloading https://files.pythonhosted.org/packages/60/ef/7681134338fc097acef8d9b2f8abe0458e4d87559c689a8c306d0957ece5/requests_toolbelt-0.9.1-py2.py3-none-any.whl (54kB)\n",
            "\u001b[K     |████████████████████████████████| 61kB 4.6MB/s \n",
            "\u001b[?25hCollecting aiortc==0.9.28\n",
            "\u001b[?25l  Downloading https://files.pythonhosted.org/packages/df/c5/0c15e562c5ea1531e8c7db1bcd524e53619cc27a228f3f28d2ba55544d38/aiortc-0.9.28-cp37-cp37m-manylinux2010_x86_64.whl (2.0MB)\n",
            "\u001b[K     |████████████████████████████████| 2.0MB 8.2MB/s \n",
            "\u001b[?25hCollecting importlib-resources~=1.5.0\n",
            "  Downloading https://files.pythonhosted.org/packages/7f/2d/88f166bcaadc09d9fdbf1c336ad118e01b7fe1155e15675e125be2ff1899/importlib_resources-1.5.0-py2.py3-none-any.whl\n",
            "Collecting phe~=1.4.0\n",
            "  Downloading https://files.pythonhosted.org/packages/32/0e/568e97b014eb14e794a1258a341361e9da351dc6240c63b89e1541e3341c/phe-1.4.0.tar.gz\n",
            "Collecting psutil==5.7.0\n",
            "\u001b[?25l  Downloading https://files.pythonhosted.org/packages/c4/b8/3512f0e93e0db23a71d82485ba256071ebef99b227351f0f5540f744af41/psutil-5.7.0.tar.gz (449kB)\n",
            "\u001b[K     |████████████████████████████████| 450kB 24.4MB/s \n",
            "\u001b[?25hCollecting openmined.threepio==0.2.0\n",
            "\u001b[?25l  Downloading https://files.pythonhosted.org/packages/0a/38/df6367693c7f3808f076cd8c2647c434a04adda2bbb2435dadefe7258fd4/openmined.threepio-0.2.0.tar.gz (73kB)\n",
            "\u001b[K     |████████████████████████████████| 81kB 7.3MB/s \n",
            "\u001b[?25hCollecting flask-socketio~=4.2.1\n",
            "  Downloading https://files.pythonhosted.org/packages/66/44/edc4715af85671b943c18ac8345d0207972284a0cd630126ff5251faa08b/Flask_SocketIO-4.2.1-py2.py3-none-any.whl\n",
            "Collecting notebook==5.7.8\n",
            "\u001b[?25l  Downloading https://files.pythonhosted.org/packages/f6/36/89ebfffc9dd8c8dbd81c1ffb53e3d4233ee666414c143959477cb07cc5f5/notebook-5.7.8-py2.py3-none-any.whl (9.0MB)\n",
            "\u001b[K     |████████████████████████████████| 9.0MB 22.5MB/s \n",
            "\u001b[?25hRequirement already satisfied: msgpack~=1.0.0 in /usr/local/lib/python3.7/dist-packages (from syft==0.2.9) (1.0.2)\n",
            "Collecting numpy~=1.18.1\n",
            "\u001b[?25l  Downloading https://files.pythonhosted.org/packages/d6/c6/58e517e8b1fb192725cfa23c01c2e60e4e6699314ee9684a1c5f5c9b27e1/numpy-1.18.5-cp37-cp37m-manylinux1_x86_64.whl (20.1MB)\n",
            "\u001b[K     |████████████████████████████████| 20.1MB 65.2MB/s \n",
            "\u001b[?25hCollecting lz4~=3.0.2\n",
            "\u001b[?25l  Downloading https://files.pythonhosted.org/packages/65/38/dacc3cbb33a9ded9e2e57f48707e8842f1080997901578ebddaa0e031646/lz4-3.0.2-cp37-cp37m-manylinux2010_x86_64.whl (1.8MB)\n",
            "\u001b[K     |████████████████████████████████| 1.8MB 42.4MB/s \n",
            "\u001b[?25hCollecting syft-proto~=0.5.2\n",
            "\u001b[?25l  Downloading https://files.pythonhosted.org/packages/da/88/67edf7836ac4eab723416933cd663c4f87753d3ff31337f91701c0b75474/syft_proto-0.5.3-py3-none-any.whl (66kB)\n",
            "\u001b[K     |████████████████████████████████| 71kB 7.4MB/s \n",
            "\u001b[?25hCollecting shaloop==0.2.1-alpha.11\n",
            "\u001b[?25l  Downloading https://files.pythonhosted.org/packages/7b/8e/6c4493280d55199161c2eea896327c740195cf16cc74c5393c08eababc83/shaloop-0.2.1_alpha.11-py3-none-manylinux1_x86_64.whl (126kB)\n",
            "\u001b[K     |████████████████████████████████| 133kB 46.6MB/s \n",
            "\u001b[?25hCollecting requests~=2.22.0\n",
            "\u001b[?25l  Downloading https://files.pythonhosted.org/packages/51/bd/23c926cd341ea6b7dd0b2a00aba99ae0f828be89d72b2190f27c11d4b7fb/requests-2.22.0-py2.py3-none-any.whl (57kB)\n",
            "\u001b[K     |████████████████████████████████| 61kB 6.1MB/s \n",
            "\u001b[?25hCollecting torchvision~=0.5.0\n",
            "\u001b[?25l  Downloading https://files.pythonhosted.org/packages/1c/32/cb0e4c43cd717da50258887b088471568990b5a749784c465a8a1962e021/torchvision-0.5.0-cp37-cp37m-manylinux1_x86_64.whl (4.0MB)\n",
            "\u001b[K     |████████████████████████████████| 4.0MB 39.0MB/s \n",
            "\u001b[?25hCollecting websocket-client~=0.57.0\n",
            "\u001b[?25l  Downloading https://files.pythonhosted.org/packages/4c/5f/f61b420143ed1c8dc69f9eaec5ff1ac36109d52c80de49d66e0c36c3dfdf/websocket_client-0.57.0-py2.py3-none-any.whl (200kB)\n",
            "\u001b[K     |████████████████████████████████| 204kB 37.2MB/s \n",
            "\u001b[?25hRequirement already satisfied: scipy~=1.4.1 in /usr/local/lib/python3.7/dist-packages (from syft==0.2.9) (1.4.1)\n",
            "Collecting tblib~=1.6.0\n",
            "  Downloading https://files.pythonhosted.org/packages/0d/de/dca3e651ca62e59c08d324f4a51467fa4b8cbeaafb883b5e83720b4d4a47/tblib-1.6.0-py2.py3-none-any.whl\n",
            "Collecting torch~=1.4.0\n",
            "\u001b[?25l  Downloading https://files.pythonhosted.org/packages/1a/3b/fa92ece1e58a6a48ec598bab327f39d69808133e5b2fb33002ca754e381e/torch-1.4.0-cp37-cp37m-manylinux1_x86_64.whl (753.4MB)\n",
            "\u001b[K     |████████████████████████████████| 753.4MB 15kB/s \n",
            "\u001b[?25hCollecting RestrictedPython~=5.0\n",
            "  Downloading https://files.pythonhosted.org/packages/a0/cc/28c4d966615a46b03be4dac0f2c6e713412efbf2f85428eeb9618c4f6f0c/RestrictedPython-5.1-py2.py3-none-any.whl\n",
            "Collecting tornado==4.5.3\n",
            "\u001b[?25l  Downloading https://files.pythonhosted.org/packages/e3/7b/e29ab3d51c8df66922fea216e2bddfcb6430fb29620e5165b16a216e0d3c/tornado-4.5.3.tar.gz (484kB)\n",
            "\u001b[K     |████████████████████████████████| 491kB 42.0MB/s \n",
            "\u001b[?25hRequirement already satisfied: Flask~=1.1.1 in /usr/local/lib/python3.7/dist-packages (from syft==0.2.9) (1.1.2)\n",
            "Requirement already satisfied: dill~=0.3.1 in /usr/local/lib/python3.7/dist-packages (from syft==0.2.9) (0.3.3)\n",
            "Collecting websockets~=8.1.0\n",
            "\u001b[?25l  Downloading https://files.pythonhosted.org/packages/5a/0b/3ebc752392a368af14dd24ee041683416ac6d2463eead94b311b11e41c82/websockets-8.1-cp37-cp37m-manylinux2010_x86_64.whl (79kB)\n",
            "\u001b[K     |████████████████████████████████| 81kB 7.3MB/s \n",
            "\u001b[?25hCollecting cryptography>=2.2\n",
            "\u001b[?25l  Downloading https://files.pythonhosted.org/packages/b2/26/7af637e6a7e87258b963f1731c5982fb31cd507f0d90d91836e446955d02/cryptography-3.4.7-cp36-abi3-manylinux2014_x86_64.whl (3.2MB)\n",
            "\u001b[K     |████████████████████████████████| 3.2MB 39.8MB/s \n",
            "\u001b[?25hCollecting pylibsrtp>=0.5.6\n",
            "\u001b[?25l  Downloading https://files.pythonhosted.org/packages/a2/24/9c2060d5f2d831091c7bb41428d17fd20e839959f1e78e6930329b21c0a7/pylibsrtp-0.6.8-cp37-cp37m-manylinux2010_x86_64.whl (75kB)\n",
            "\u001b[K     |████████████████████████████████| 81kB 7.4MB/s \n",
            "\u001b[?25hCollecting av<9.0.0,>=8.0.0\n",
            "\u001b[?25l  Downloading https://files.pythonhosted.org/packages/66/ff/bacde7314c646a2bd2f240034809a10cc3f8b096751284d0828640fff3dd/av-8.0.3-cp37-cp37m-manylinux2010_x86_64.whl (37.2MB)\n",
            "\u001b[K     |████████████████████████████████| 37.2MB 221kB/s \n",
            "\u001b[?25hCollecting aioice<0.7.0,>=0.6.17\n",
            "  Downloading https://files.pythonhosted.org/packages/8b/86/e3cdf660b67da7a9a7013253db5db7cf786a52296cb40078db1206177698/aioice-0.6.18-py3-none-any.whl\n",
            "Collecting pyee>=6.0.0\n",
            "  Downloading https://files.pythonhosted.org/packages/0d/0a/933b3931107e1da186963fd9bb9bceb9a613cff034cb0fb3b0c61003f357/pyee-8.1.0-py2.py3-none-any.whl\n",
            "Collecting crc32c\n",
            "\u001b[?25l  Downloading https://files.pythonhosted.org/packages/db/85/4656cc0ac33be2725d6de41eabfeb72f86c194fe26decf28162d72f9a642/crc32c-2.2-cp37-cp37m-manylinux2010_x86_64.whl (48kB)\n",
            "\u001b[K     |████████████████████████████████| 51kB 5.0MB/s \n",
            "\u001b[?25hRequirement already satisfied: cffi>=1.0.0 in /usr/local/lib/python3.7/dist-packages (from aiortc==0.9.28->syft==0.2.9) (1.14.5)\n",
            "Requirement already satisfied: zipp>=0.4; python_version < \"3.8\" in /usr/local/lib/python3.7/dist-packages (from importlib-resources~=1.5.0->syft==0.2.9) (3.4.1)\n",
            "Requirement already satisfied: importlib-metadata; python_version < \"3.8\" in /usr/local/lib/python3.7/dist-packages (from importlib-resources~=1.5.0->syft==0.2.9) (3.10.1)\n",
            "Collecting python-socketio>=4.3.0\n",
            "\u001b[?25l  Downloading https://files.pythonhosted.org/packages/52/87/4503777f71dc2b125b18c43989d0afdf0e7306d0d8682ec6691209cc9329/python_socketio-5.2.1-py2.py3-none-any.whl (53kB)\n",
            "\u001b[K     |████████████████████████████████| 61kB 5.8MB/s \n",
            "\u001b[?25hRequirement already satisfied: pyzmq>=17 in /usr/local/lib/python3.7/dist-packages (from notebook==5.7.8->syft==0.2.9) (22.0.3)\n",
            "Requirement already satisfied: ipython-genutils in /usr/local/lib/python3.7/dist-packages (from notebook==5.7.8->syft==0.2.9) (0.2.0)\n",
            "Requirement already satisfied: traitlets>=4.2.1 in /usr/local/lib/python3.7/dist-packages (from notebook==5.7.8->syft==0.2.9) (5.0.5)\n",
            "Requirement already satisfied: ipykernel in /usr/local/lib/python3.7/dist-packages (from notebook==5.7.8->syft==0.2.9) (4.10.1)\n",
            "Requirement already satisfied: jinja2 in /usr/local/lib/python3.7/dist-packages (from notebook==5.7.8->syft==0.2.9) (2.11.3)\n",
            "Requirement already satisfied: nbformat in /usr/local/lib/python3.7/dist-packages (from notebook==5.7.8->syft==0.2.9) (5.1.3)\n",
            "Requirement already satisfied: jupyter-client>=5.2.0 in /usr/local/lib/python3.7/dist-packages (from notebook==5.7.8->syft==0.2.9) (5.3.5)\n",
            "Requirement already satisfied: terminado>=0.8.1 in /usr/local/lib/python3.7/dist-packages (from notebook==5.7.8->syft==0.2.9) (0.9.4)\n",
            "Requirement already satisfied: Send2Trash in /usr/local/lib/python3.7/dist-packages (from notebook==5.7.8->syft==0.2.9) (1.5.0)\n",
            "Requirement already satisfied: jupyter-core>=4.4.0 in /usr/local/lib/python3.7/dist-packages (from notebook==5.7.8->syft==0.2.9) (4.7.1)\n",
            "Requirement already satisfied: nbconvert in /usr/local/lib/python3.7/dist-packages (from notebook==5.7.8->syft==0.2.9) (5.6.1)\n",
            "Requirement already satisfied: prometheus-client in /usr/local/lib/python3.7/dist-packages (from notebook==5.7.8->syft==0.2.9) (0.10.1)\n",
            "Requirement already satisfied: protobuf>=3.12.2 in /usr/local/lib/python3.7/dist-packages (from syft-proto~=0.5.2->syft==0.2.9) (3.12.4)\n",
            "Requirement already satisfied: pycparser>=2 in /usr/local/lib/python3.7/dist-packages (from shaloop==0.2.1-alpha.11->syft==0.2.9) (2.20)\n",
            "Requirement already satisfied: chardet<3.1.0,>=3.0.2 in /usr/local/lib/python3.7/dist-packages (from requests~=2.22.0->syft==0.2.9) (3.0.4)\n",
            "Requirement already satisfied: certifi>=2017.4.17 in /usr/local/lib/python3.7/dist-packages (from requests~=2.22.0->syft==0.2.9) (2020.12.5)\n",
            "Collecting idna<2.9,>=2.5\n",
            "\u001b[?25l  Downloading https://files.pythonhosted.org/packages/14/2c/cd551d81dbe15200be1cf41cd03869a46fe7226e7450af7a6545bfc474c9/idna-2.8-py2.py3-none-any.whl (58kB)\n",
            "\u001b[K     |████████████████████████████████| 61kB 6.1MB/s \n",
            "\u001b[?25hRequirement already satisfied: urllib3!=1.25.0,!=1.25.1,<1.26,>=1.21.1 in /usr/local/lib/python3.7/dist-packages (from requests~=2.22.0->syft==0.2.9) (1.24.3)\n",
            "Requirement already satisfied: six in /usr/local/lib/python3.7/dist-packages (from torchvision~=0.5.0->syft==0.2.9) (1.15.0)\n",
            "Requirement already satisfied: Werkzeug>=0.15 in /usr/local/lib/python3.7/dist-packages (from Flask~=1.1.1->syft==0.2.9) (1.0.1)\n",
            "Requirement already satisfied: itsdangerous>=0.24 in /usr/local/lib/python3.7/dist-packages (from Flask~=1.1.1->syft==0.2.9) (1.1.0)\n",
            "Requirement already satisfied: click>=5.1 in /usr/local/lib/python3.7/dist-packages (from Flask~=1.1.1->syft==0.2.9) (7.1.2)\n",
            "Collecting netifaces\n",
            "  Downloading https://files.pythonhosted.org/packages/0d/18/fd6e9c71a35b67a73160ec80a49da63d1eed2d2055054cc2995714949132/netifaces-0.10.9.tar.gz\n",
            "Requirement already satisfied: typing-extensions>=3.6.4; python_version < \"3.8\" in /usr/local/lib/python3.7/dist-packages (from importlib-metadata; python_version < \"3.8\"->importlib-resources~=1.5.0->syft==0.2.9) (3.7.4.3)\n",
            "Collecting python-engineio>=4.1.0\n",
            "\u001b[?25l  Downloading https://files.pythonhosted.org/packages/46/f6/9515c8357935d4fe58b526ab5b4857245948fa1b5f607cf63d4663cce5c2/python_engineio-4.1.0-py2.py3-none-any.whl (51kB)\n",
            "\u001b[K     |████████████████████████████████| 61kB 6.0MB/s \n",
            "\u001b[?25hCollecting bidict>=0.21.0\n",
            "  Downloading https://files.pythonhosted.org/packages/67/d4/eaf9242722bf991e0955380dd6168020cb15a71cc0d3cc2373f4911b1f1d/bidict-0.21.2-py2.py3-none-any.whl\n",
            "Requirement already satisfied: ipython>=4.0.0 in /usr/local/lib/python3.7/dist-packages (from ipykernel->notebook==5.7.8->syft==0.2.9) (5.5.0)\n",
            "Requirement already satisfied: MarkupSafe>=0.23 in /usr/local/lib/python3.7/dist-packages (from jinja2->notebook==5.7.8->syft==0.2.9) (1.1.1)\n",
            "Requirement already satisfied: jsonschema!=2.5.0,>=2.4 in /usr/local/lib/python3.7/dist-packages (from nbformat->notebook==5.7.8->syft==0.2.9) (2.6.0)\n",
            "Requirement already satisfied: python-dateutil>=2.1 in /usr/local/lib/python3.7/dist-packages (from jupyter-client>=5.2.0->notebook==5.7.8->syft==0.2.9) (2.8.1)\n",
            "Requirement already satisfied: ptyprocess; os_name != \"nt\" in /usr/local/lib/python3.7/dist-packages (from terminado>=0.8.1->notebook==5.7.8->syft==0.2.9) (0.7.0)\n",
            "Requirement already satisfied: bleach in /usr/local/lib/python3.7/dist-packages (from nbconvert->notebook==5.7.8->syft==0.2.9) (3.3.0)\n",
            "Requirement already satisfied: testpath in /usr/local/lib/python3.7/dist-packages (from nbconvert->notebook==5.7.8->syft==0.2.9) (0.4.4)\n",
            "Requirement already satisfied: pandocfilters>=1.4.1 in /usr/local/lib/python3.7/dist-packages (from nbconvert->notebook==5.7.8->syft==0.2.9) (1.4.3)\n",
            "Requirement already satisfied: entrypoints>=0.2.2 in /usr/local/lib/python3.7/dist-packages (from nbconvert->notebook==5.7.8->syft==0.2.9) (0.3)\n",
            "Requirement already satisfied: pygments in /usr/local/lib/python3.7/dist-packages (from nbconvert->notebook==5.7.8->syft==0.2.9) (2.6.1)\n",
            "Requirement already satisfied: mistune<2,>=0.8.1 in /usr/local/lib/python3.7/dist-packages (from nbconvert->notebook==5.7.8->syft==0.2.9) (0.8.4)\n",
            "Requirement already satisfied: defusedxml in /usr/local/lib/python3.7/dist-packages (from nbconvert->notebook==5.7.8->syft==0.2.9) (0.7.1)\n",
            "Requirement already satisfied: setuptools in /usr/local/lib/python3.7/dist-packages (from protobuf>=3.12.2->syft-proto~=0.5.2->syft==0.2.9) (56.0.0)\n",
            "Requirement already satisfied: simplegeneric>0.8 in /usr/local/lib/python3.7/dist-packages (from ipython>=4.0.0->ipykernel->notebook==5.7.8->syft==0.2.9) (0.8.1)\n",
            "Requirement already satisfied: pickleshare in /usr/local/lib/python3.7/dist-packages (from ipython>=4.0.0->ipykernel->notebook==5.7.8->syft==0.2.9) (0.7.5)\n",
            "Requirement already satisfied: decorator in /usr/local/lib/python3.7/dist-packages (from ipython>=4.0.0->ipykernel->notebook==5.7.8->syft==0.2.9) (4.4.2)\n",
            "Requirement already satisfied: prompt-toolkit<2.0.0,>=1.0.4 in /usr/local/lib/python3.7/dist-packages (from ipython>=4.0.0->ipykernel->notebook==5.7.8->syft==0.2.9) (1.0.18)\n",
            "Requirement already satisfied: pexpect; sys_platform != \"win32\" in /usr/local/lib/python3.7/dist-packages (from ipython>=4.0.0->ipykernel->notebook==5.7.8->syft==0.2.9) (4.8.0)\n",
            "Requirement already satisfied: packaging in /usr/local/lib/python3.7/dist-packages (from bleach->nbconvert->notebook==5.7.8->syft==0.2.9) (20.9)\n",
            "Requirement already satisfied: webencodings in /usr/local/lib/python3.7/dist-packages (from bleach->nbconvert->notebook==5.7.8->syft==0.2.9) (0.5.1)\n",
            "Requirement already satisfied: wcwidth in /usr/local/lib/python3.7/dist-packages (from prompt-toolkit<2.0.0,>=1.0.4->ipython>=4.0.0->ipykernel->notebook==5.7.8->syft==0.2.9) (0.2.5)\n",
            "Requirement already satisfied: pyparsing>=2.0.2 in /usr/local/lib/python3.7/dist-packages (from packaging->bleach->nbconvert->notebook==5.7.8->syft==0.2.9) (2.4.7)\n",
            "Building wheels for collected packages: phe, psutil, openmined.threepio, tornado, netifaces\n",
            "  Building wheel for phe (setup.py) ... \u001b[?25l\u001b[?25hdone\n",
            "  Created wheel for phe: filename=phe-1.4.0-py2.py3-none-any.whl size=37362 sha256=d1e04856bdcd13e59b73c16e9e513eb56b729d76385ccf609417d05c34144a01\n",
            "  Stored in directory: /root/.cache/pip/wheels/f8/dc/36/dcb6bf0f1b9907e7b710ace63e64d08e7022340909315fdea4\n",
            "  Building wheel for psutil (setup.py) ... \u001b[?25l\u001b[?25hdone\n",
            "  Created wheel for psutil: filename=psutil-5.7.0-cp37-cp37m-linux_x86_64.whl size=276453 sha256=9ab37fd135208122165bca39ec44703977fa8dedb0998011aabc4ca6720dd19f\n",
            "  Stored in directory: /root/.cache/pip/wheels/d7/69/b4/3200b95828d1f0ddb3cb5699083717f4fdbd9b4223d0644c57\n",
            "  Building wheel for openmined.threepio (setup.py) ... \u001b[?25l\u001b[?25hdone\n",
            "  Created wheel for openmined.threepio: filename=openmined.threepio-0.2.0-cp37-none-any.whl size=80095 sha256=1f349631a0ec1fc7d7c19249ae83df0ed7fb34c83d6b91b70b30bef94f5625e9\n",
            "  Stored in directory: /root/.cache/pip/wheels/1b/a5/c5/7e67449f5d4d487e1d3a583ba51d27403b315b18ef2e48a13c\n",
            "  Building wheel for tornado (setup.py) ... \u001b[?25l\u001b[?25hdone\n",
            "  Created wheel for tornado: filename=tornado-4.5.3-cp37-cp37m-linux_x86_64.whl size=434017 sha256=53132fcf191991541c26c0b869133d6ae37371d40f69bf6fe0666102067b764b\n",
            "  Stored in directory: /root/.cache/pip/wheels/72/bf/f4/b68fa69596986881b397b18ff2b9af5f8181233aadcc9f76fd\n",
            "  Building wheel for netifaces (setup.py) ... \u001b[?25l\u001b[?25hdone\n",
            "  Created wheel for netifaces: filename=netifaces-0.10.9-cp37-cp37m-linux_x86_64.whl size=37422 sha256=58403409661b07801c3705e8c0c19640d59a962276855c27867102be9c17b495\n",
            "  Stored in directory: /root/.cache/pip/wheels/23/8f/f3/7054578f04c904f70757c5c85a6e2823baa69d42365526e93d\n",
            "Successfully built phe psutil openmined.threepio tornado netifaces\n",
            "\u001b[31mERROR: torchtext 0.9.1 has requirement torch==1.8.1, but you'll have torch 1.4.0 which is incompatible.\u001b[0m\n",
            "\u001b[31mERROR: tensorflow 2.4.1 has requirement numpy~=1.19.2, but you'll have numpy 1.18.5 which is incompatible.\u001b[0m\n",
            "\u001b[31mERROR: google-colab 1.0.0 has requirement notebook~=5.3.0; python_version >= \"3.0\", but you'll have notebook 5.7.8 which is incompatible.\u001b[0m\n",
            "\u001b[31mERROR: google-colab 1.0.0 has requirement requests~=2.23.0, but you'll have requests 2.22.0 which is incompatible.\u001b[0m\n",
            "\u001b[31mERROR: google-colab 1.0.0 has requirement tornado~=5.1.0; python_version >= \"3.0\", but you'll have tornado 4.5.3 which is incompatible.\u001b[0m\n",
            "\u001b[31mERROR: datascience 0.10.6 has requirement folium==0.2.1, but you'll have folium 0.8.3 which is incompatible.\u001b[0m\n",
            "\u001b[31mERROR: bokeh 2.3.1 has requirement tornado>=5.1, but you'll have tornado 4.5.3 which is incompatible.\u001b[0m\n",
            "\u001b[31mERROR: albumentations 0.1.12 has requirement imgaug<0.2.7,>=0.2.5, but you'll have imgaug 0.2.9 which is incompatible.\u001b[0m\n",
            "Installing collected packages: idna, requests, requests-toolbelt, cryptography, pylibsrtp, av, netifaces, aioice, pyee, crc32c, aiortc, importlib-resources, phe, psutil, openmined.threepio, python-engineio, bidict, python-socketio, flask-socketio, tornado, notebook, numpy, lz4, syft-proto, shaloop, torch, torchvision, websocket-client, tblib, RestrictedPython, websockets, syft\n",
            "  Found existing installation: idna 2.10\n",
            "    Uninstalling idna-2.10:\n",
            "      Successfully uninstalled idna-2.10\n",
            "  Found existing installation: requests 2.23.0\n",
            "    Uninstalling requests-2.23.0:\n",
            "      Successfully uninstalled requests-2.23.0\n",
            "  Found existing installation: importlib-resources 5.1.2\n",
            "    Uninstalling importlib-resources-5.1.2:\n",
            "      Successfully uninstalled importlib-resources-5.1.2\n",
            "  Found existing installation: psutil 5.4.8\n",
            "    Uninstalling psutil-5.4.8:\n",
            "      Successfully uninstalled psutil-5.4.8\n",
            "  Found existing installation: tornado 5.1.1\n",
            "    Uninstalling tornado-5.1.1:\n",
            "      Successfully uninstalled tornado-5.1.1\n",
            "  Found existing installation: notebook 5.3.1\n",
            "    Uninstalling notebook-5.3.1:\n",
            "      Successfully uninstalled notebook-5.3.1\n",
            "  Found existing installation: numpy 1.19.5\n",
            "    Uninstalling numpy-1.19.5:\n",
            "      Successfully uninstalled numpy-1.19.5\n",
            "  Found existing installation: torch 1.8.1+cu101\n",
            "    Uninstalling torch-1.8.1+cu101:\n",
            "      Successfully uninstalled torch-1.8.1+cu101\n",
            "  Found existing installation: torchvision 0.9.1+cu101\n",
            "    Uninstalling torchvision-0.9.1+cu101:\n",
            "      Successfully uninstalled torchvision-0.9.1+cu101\n",
            "  Found existing installation: tblib 1.7.0\n",
            "    Uninstalling tblib-1.7.0:\n",
            "      Successfully uninstalled tblib-1.7.0\n",
            "Successfully installed RestrictedPython-5.1 aioice-0.6.18 aiortc-0.9.28 av-8.0.3 bidict-0.21.2 crc32c-2.2 cryptography-3.4.7 flask-socketio-4.2.1 idna-2.8 importlib-resources-1.5.0 lz4-3.0.2 netifaces-0.10.9 notebook-5.7.8 numpy-1.18.5 openmined.threepio-0.2.0 phe-1.4.0 psutil-5.7.0 pyee-8.1.0 pylibsrtp-0.6.8 python-engineio-4.1.0 python-socketio-5.2.1 requests-2.22.0 requests-toolbelt-0.9.1 shaloop-0.2.1a11 syft-0.2.9 syft-proto-0.5.3 tblib-1.6.0 torch-1.4.0 torchvision-0.5.0 tornado-4.5.3 websocket-client-0.57.0 websockets-8.1\n"
          ],
          "name": "stdout"
        },
        {
          "output_type": "display_data",
          "data": {
            "application/vnd.colab-display-data+json": {
              "pip_warning": {
                "packages": [
                  "numpy",
                  "psutil",
                  "tornado"
                ]
              }
            }
          },
          "metadata": {
            "tags": []
          }
        }
      ]
    },
    {
      "cell_type": "code",
      "metadata": {
        "colab": {
          "base_uri": "https://localhost:8080/"
        },
        "id": "ksiu0c3cAoPK",
        "outputId": "97b10e11-3f18-419c-9ac3-da9a610dc52e"
      },
      "source": [
        "# install private set intersection \n",
        "# to encrypt raw data\n",
        "!pip install openmined.psi"
      ],
      "execution_count": 3,
      "outputs": [
        {
          "output_type": "stream",
          "text": [
            "Collecting openmined.psi\n",
            "\u001b[?25l  Downloading https://files.pythonhosted.org/packages/c7/48/f883f306ad132b3fe7fc5c5e99581793a155e5b70094b03e833affc443e4/openmined.psi-0.3.5-cp37-cp37m-manylinux2014_x86_64.whl (1.9MB)\n",
            "\u001b[K     |████████████████████████████████| 1.9MB 5.8MB/s \n",
            "\u001b[?25hRequirement already satisfied: protobuf in /usr/local/lib/python3.7/dist-packages (from openmined.psi) (3.12.4)\n",
            "Requirement already satisfied: six>=1.9 in /usr/local/lib/python3.7/dist-packages (from protobuf->openmined.psi) (1.15.0)\n",
            "Requirement already satisfied: setuptools in /usr/local/lib/python3.7/dist-packages (from protobuf->openmined.psi) (56.0.0)\n",
            "Installing collected packages: openmined.psi\n",
            "Successfully installed openmined.psi-0.3.5\n"
          ],
          "name": "stdout"
        }
      ]
    },
    {
      "cell_type": "code",
      "metadata": {
        "id": "AdwX-EwhAsnV"
      },
      "source": [
        "import tensorflow as tf\n",
        "import sys\n",
        "\n",
        "# import the module from google drive\n",
        "sys.path.insert(0,'/content/drive/My Drive/Colab Notebooks')\n",
        "import src\n",
        "\n",
        "\n",
        "import torch\n",
        "from torchvision import datasets, transforms\n",
        "from torch import nn, optim\n",
        "from torch.utils.data import TensorDataset\n",
        "from torchvision.transforms import ToTensor\n",
        "\n",
        "import syft as sy\n",
        "\n",
        "hook = sy.TorchHook(torch)"
      ],
      "execution_count": 4,
      "outputs": []
    },
    {
      "cell_type": "code",
      "metadata": {
        "id": "iSaq0p3lA39M"
      },
      "source": [
        "from src.dataloader import VerticalDataLoader\n",
        "from src.psi.util import Client, Server\n",
        "from src.utils.split_data import add_ids"
      ],
      "execution_count": 5,
      "outputs": []
    },
    {
      "cell_type": "code",
      "metadata": {
        "id": "WKhWTt30A943"
      },
      "source": [
        "from imutils import paths\n",
        "from sklearn.model_selection import train_test_split\n",
        "from sklearn.preprocessing import LabelBinarizer\n",
        "from sklearn.utils import shuffle\n",
        "from sklearn.metrics import accuracy_score\n",
        "from sklearn.metrics import confusion_matrix, classification_report"
      ],
      "execution_count": 6,
      "outputs": []
    },
    {
      "cell_type": "code",
      "metadata": {
        "id": "zN3muSmI9jVD"
      },
      "source": [
        "from uuid import uuid4\n",
        "\n",
        "import numpy as np\n",
        "import pandas as pd\n",
        "\n",
        "import time\n",
        "import matplotlib.pyplot as plt"
      ],
      "execution_count": 7,
      "outputs": []
    },
    {
      "cell_type": "code",
      "metadata": {
        "id": "DUM3Pj7Gl8cA"
      },
      "source": [
        "# load the data\n",
        "df = pd.read_csv(\"drive/MyDrive/Colab Notebooks/data/dataset_b_all.csv\")"
      ],
      "execution_count": 8,
      "outputs": []
    },
    {
      "cell_type": "code",
      "metadata": {
        "colab": {
          "base_uri": "https://localhost:8080/",
          "height": 321
        },
        "id": "02t3E6pInc2u",
        "outputId": "2f45fd78-0e1e-4786-b5ea-3e70cdb322b3"
      },
      "source": [
        "# clean the data\n",
        "# transform into binary columns\n",
        "\n",
        "df = df.dropna()\n",
        "df = pd.get_dummies(df)\n",
        "cols = df.columns.tolist()\n",
        "cols.remove('Indicators')\n",
        "cols.append('Indicators')\n",
        "df = df[cols]\n",
        "df.head()"
      ],
      "execution_count": 9,
      "outputs": [
        {
          "output_type": "execute_result",
          "data": {
            "text/html": [
              "<div>\n",
              "<style scoped>\n",
              "    .dataframe tbody tr th:only-of-type {\n",
              "        vertical-align: middle;\n",
              "    }\n",
              "\n",
              "    .dataframe tbody tr th {\n",
              "        vertical-align: top;\n",
              "    }\n",
              "\n",
              "    .dataframe thead th {\n",
              "        text-align: right;\n",
              "    }\n",
              "</style>\n",
              "<table border=\"1\" class=\"dataframe\">\n",
              "  <thead>\n",
              "    <tr style=\"text-align: right;\">\n",
              "      <th></th>\n",
              "      <th>Applied Loan Amount</th>\n",
              "      <th>Applied Loan Tenor</th>\n",
              "      <th>Age</th>\n",
              "      <th>Monthly Housing/Rental</th>\n",
              "      <th>Monthly Income</th>\n",
              "      <th>Office (Area)_1</th>\n",
              "      <th>Office (Area)_2</th>\n",
              "      <th>Office (Area)_3</th>\n",
              "      <th>Office (Area)_6</th>\n",
              "      <th>Loan Purpose_Birth Giving</th>\n",
              "      <th>Loan Purpose_Business</th>\n",
              "      <th>Loan Purpose_Car Purchase</th>\n",
              "      <th>Loan Purpose_Decoration</th>\n",
              "      <th>Loan Purpose_Education</th>\n",
              "      <th>Loan Purpose_Funeral Expenses</th>\n",
              "      <th>Loan Purpose_Investment</th>\n",
              "      <th>Loan Purpose_Marriage</th>\n",
              "      <th>Loan Purpose_Medical Expenses</th>\n",
              "      <th>Loan Purpose_Personal use</th>\n",
              "      <th>Loan Purpose_Settle Loan / Credit Card O/S</th>\n",
              "      <th>Loan Purpose_Stand by</th>\n",
              "      <th>Loan Purpose_Tax Payment</th>\n",
              "      <th>Loan Purpose_Traveling</th>\n",
              "      <th>Gender_F</th>\n",
              "      <th>Gender_M</th>\n",
              "      <th>Marital Status_Divorced</th>\n",
              "      <th>Marital Status_Married</th>\n",
              "      <th>Marital Status_No Response</th>\n",
              "      <th>Marital Status_Separated</th>\n",
              "      <th>Marital Status_Single</th>\n",
              "      <th>Marital Status_Widowed</th>\n",
              "      <th>Education Level_Form 3 or below</th>\n",
              "      <th>Education Level_No Response</th>\n",
              "      <th>Education Level_Post Graduate</th>\n",
              "      <th>Education Level_Post Secondary</th>\n",
              "      <th>Education Level_Primary</th>\n",
              "      <th>Education Level_Secondary</th>\n",
              "      <th>Education Level_University</th>\n",
              "      <th>Residential Status_Company Provision</th>\n",
              "      <th>Residential Status_Live With Relatives</th>\n",
              "      <th>...</th>\n",
              "      <th>Residential Status_Self-owned Private Housing</th>\n",
              "      <th>Residential Status_Self-owned Public Housing</th>\n",
              "      <th>Contract Staff (Y/N)_N</th>\n",
              "      <th>Contract Staff (Y/N)_Y</th>\n",
              "      <th>Employment Type_Civil Servant</th>\n",
              "      <th>Employment Type_Fixed Income Earner</th>\n",
              "      <th>Employment Type_Non Fixed Income Earner</th>\n",
              "      <th>Employment Type_Not Applicable</th>\n",
              "      <th>Employment Type_Self-Employed</th>\n",
              "      <th>Employment Type_Self-Employed Professional</th>\n",
              "      <th>Nature of Business_All Other</th>\n",
              "      <th>Nature of Business_Construction Trades</th>\n",
              "      <th>Nature of Business_Driver</th>\n",
              "      <th>Nature of Business_Executive</th>\n",
              "      <th>Nature of Business_Factory Worker</th>\n",
              "      <th>Nature of Business_Guard</th>\n",
              "      <th>Nature of Business_Homemaker</th>\n",
              "      <th>Nature of Business_Manager</th>\n",
              "      <th>Nature of Business_No Response</th>\n",
              "      <th>Nature of Business_Office Worker</th>\n",
              "      <th>Nature of Business_Owner of a Business</th>\n",
              "      <th>Nature of Business_Professional</th>\n",
              "      <th>Nature of Business_Retired</th>\n",
              "      <th>Nature of Business_Sales</th>\n",
              "      <th>Nature of Business_Semi Professional</th>\n",
              "      <th>Nature of Business_Services</th>\n",
              "      <th>Nature of Business_Skilled Worker</th>\n",
              "      <th>Nature of Business_Student</th>\n",
              "      <th>Nature of Business_Unemployed</th>\n",
              "      <th>Nature of Business_Unskilled Worker</th>\n",
              "      <th>Job Position_Government/Semi-Government</th>\n",
              "      <th>Job Position_Homemaker</th>\n",
              "      <th>Job Position_No Response</th>\n",
              "      <th>Job Position_Private</th>\n",
              "      <th>Job Position_Public</th>\n",
              "      <th>Job Position_Retired</th>\n",
              "      <th>Job Position_Self Employed</th>\n",
              "      <th>Job Position_Student</th>\n",
              "      <th>Job Position_Unemployed</th>\n",
              "      <th>Indicators</th>\n",
              "    </tr>\n",
              "  </thead>\n",
              "  <tbody>\n",
              "    <tr>\n",
              "      <th>0</th>\n",
              "      <td>60000</td>\n",
              "      <td>24</td>\n",
              "      <td>22.301</td>\n",
              "      <td>0.0</td>\n",
              "      <td>10245.0</td>\n",
              "      <td>0</td>\n",
              "      <td>1</td>\n",
              "      <td>0</td>\n",
              "      <td>0</td>\n",
              "      <td>0</td>\n",
              "      <td>0</td>\n",
              "      <td>1</td>\n",
              "      <td>0</td>\n",
              "      <td>0</td>\n",
              "      <td>0</td>\n",
              "      <td>0</td>\n",
              "      <td>0</td>\n",
              "      <td>0</td>\n",
              "      <td>0</td>\n",
              "      <td>0</td>\n",
              "      <td>0</td>\n",
              "      <td>0</td>\n",
              "      <td>0</td>\n",
              "      <td>0</td>\n",
              "      <td>1</td>\n",
              "      <td>0</td>\n",
              "      <td>0</td>\n",
              "      <td>0</td>\n",
              "      <td>0</td>\n",
              "      <td>1</td>\n",
              "      <td>0</td>\n",
              "      <td>0</td>\n",
              "      <td>0</td>\n",
              "      <td>0</td>\n",
              "      <td>0</td>\n",
              "      <td>0</td>\n",
              "      <td>1</td>\n",
              "      <td>0</td>\n",
              "      <td>0</td>\n",
              "      <td>1</td>\n",
              "      <td>...</td>\n",
              "      <td>0</td>\n",
              "      <td>0</td>\n",
              "      <td>1</td>\n",
              "      <td>0</td>\n",
              "      <td>0</td>\n",
              "      <td>1</td>\n",
              "      <td>0</td>\n",
              "      <td>0</td>\n",
              "      <td>0</td>\n",
              "      <td>0</td>\n",
              "      <td>0</td>\n",
              "      <td>0</td>\n",
              "      <td>0</td>\n",
              "      <td>0</td>\n",
              "      <td>0</td>\n",
              "      <td>0</td>\n",
              "      <td>0</td>\n",
              "      <td>0</td>\n",
              "      <td>0</td>\n",
              "      <td>0</td>\n",
              "      <td>0</td>\n",
              "      <td>0</td>\n",
              "      <td>0</td>\n",
              "      <td>1</td>\n",
              "      <td>0</td>\n",
              "      <td>0</td>\n",
              "      <td>0</td>\n",
              "      <td>0</td>\n",
              "      <td>0</td>\n",
              "      <td>0</td>\n",
              "      <td>0</td>\n",
              "      <td>0</td>\n",
              "      <td>0</td>\n",
              "      <td>1</td>\n",
              "      <td>0</td>\n",
              "      <td>0</td>\n",
              "      <td>0</td>\n",
              "      <td>0</td>\n",
              "      <td>0</td>\n",
              "      <td>0</td>\n",
              "    </tr>\n",
              "    <tr>\n",
              "      <th>1</th>\n",
              "      <td>100000</td>\n",
              "      <td>60</td>\n",
              "      <td>33.159</td>\n",
              "      <td>0.0</td>\n",
              "      <td>10000.0</td>\n",
              "      <td>1</td>\n",
              "      <td>0</td>\n",
              "      <td>0</td>\n",
              "      <td>0</td>\n",
              "      <td>0</td>\n",
              "      <td>0</td>\n",
              "      <td>0</td>\n",
              "      <td>0</td>\n",
              "      <td>0</td>\n",
              "      <td>0</td>\n",
              "      <td>0</td>\n",
              "      <td>0</td>\n",
              "      <td>0</td>\n",
              "      <td>0</td>\n",
              "      <td>1</td>\n",
              "      <td>0</td>\n",
              "      <td>0</td>\n",
              "      <td>0</td>\n",
              "      <td>0</td>\n",
              "      <td>1</td>\n",
              "      <td>0</td>\n",
              "      <td>0</td>\n",
              "      <td>0</td>\n",
              "      <td>0</td>\n",
              "      <td>1</td>\n",
              "      <td>0</td>\n",
              "      <td>1</td>\n",
              "      <td>0</td>\n",
              "      <td>0</td>\n",
              "      <td>0</td>\n",
              "      <td>0</td>\n",
              "      <td>0</td>\n",
              "      <td>0</td>\n",
              "      <td>0</td>\n",
              "      <td>1</td>\n",
              "      <td>...</td>\n",
              "      <td>0</td>\n",
              "      <td>0</td>\n",
              "      <td>1</td>\n",
              "      <td>0</td>\n",
              "      <td>0</td>\n",
              "      <td>1</td>\n",
              "      <td>0</td>\n",
              "      <td>0</td>\n",
              "      <td>0</td>\n",
              "      <td>0</td>\n",
              "      <td>0</td>\n",
              "      <td>0</td>\n",
              "      <td>0</td>\n",
              "      <td>0</td>\n",
              "      <td>0</td>\n",
              "      <td>0</td>\n",
              "      <td>0</td>\n",
              "      <td>0</td>\n",
              "      <td>0</td>\n",
              "      <td>0</td>\n",
              "      <td>0</td>\n",
              "      <td>0</td>\n",
              "      <td>0</td>\n",
              "      <td>0</td>\n",
              "      <td>0</td>\n",
              "      <td>1</td>\n",
              "      <td>0</td>\n",
              "      <td>0</td>\n",
              "      <td>0</td>\n",
              "      <td>0</td>\n",
              "      <td>0</td>\n",
              "      <td>0</td>\n",
              "      <td>0</td>\n",
              "      <td>1</td>\n",
              "      <td>0</td>\n",
              "      <td>0</td>\n",
              "      <td>0</td>\n",
              "      <td>0</td>\n",
              "      <td>0</td>\n",
              "      <td>0</td>\n",
              "    </tr>\n",
              "    <tr>\n",
              "      <th>2</th>\n",
              "      <td>50000</td>\n",
              "      <td>24</td>\n",
              "      <td>28.389</td>\n",
              "      <td>2000.0</td>\n",
              "      <td>9700.0</td>\n",
              "      <td>0</td>\n",
              "      <td>0</td>\n",
              "      <td>1</td>\n",
              "      <td>0</td>\n",
              "      <td>0</td>\n",
              "      <td>0</td>\n",
              "      <td>0</td>\n",
              "      <td>0</td>\n",
              "      <td>0</td>\n",
              "      <td>0</td>\n",
              "      <td>0</td>\n",
              "      <td>0</td>\n",
              "      <td>0</td>\n",
              "      <td>1</td>\n",
              "      <td>0</td>\n",
              "      <td>0</td>\n",
              "      <td>0</td>\n",
              "      <td>0</td>\n",
              "      <td>1</td>\n",
              "      <td>0</td>\n",
              "      <td>0</td>\n",
              "      <td>1</td>\n",
              "      <td>0</td>\n",
              "      <td>0</td>\n",
              "      <td>0</td>\n",
              "      <td>0</td>\n",
              "      <td>0</td>\n",
              "      <td>0</td>\n",
              "      <td>0</td>\n",
              "      <td>0</td>\n",
              "      <td>0</td>\n",
              "      <td>0</td>\n",
              "      <td>1</td>\n",
              "      <td>0</td>\n",
              "      <td>0</td>\n",
              "      <td>...</td>\n",
              "      <td>0</td>\n",
              "      <td>0</td>\n",
              "      <td>1</td>\n",
              "      <td>0</td>\n",
              "      <td>0</td>\n",
              "      <td>1</td>\n",
              "      <td>0</td>\n",
              "      <td>0</td>\n",
              "      <td>0</td>\n",
              "      <td>0</td>\n",
              "      <td>0</td>\n",
              "      <td>0</td>\n",
              "      <td>0</td>\n",
              "      <td>0</td>\n",
              "      <td>0</td>\n",
              "      <td>0</td>\n",
              "      <td>0</td>\n",
              "      <td>0</td>\n",
              "      <td>0</td>\n",
              "      <td>0</td>\n",
              "      <td>0</td>\n",
              "      <td>0</td>\n",
              "      <td>0</td>\n",
              "      <td>0</td>\n",
              "      <td>0</td>\n",
              "      <td>1</td>\n",
              "      <td>0</td>\n",
              "      <td>0</td>\n",
              "      <td>0</td>\n",
              "      <td>0</td>\n",
              "      <td>0</td>\n",
              "      <td>0</td>\n",
              "      <td>0</td>\n",
              "      <td>1</td>\n",
              "      <td>0</td>\n",
              "      <td>0</td>\n",
              "      <td>0</td>\n",
              "      <td>0</td>\n",
              "      <td>0</td>\n",
              "      <td>0</td>\n",
              "    </tr>\n",
              "    <tr>\n",
              "      <th>3</th>\n",
              "      <td>70000</td>\n",
              "      <td>36</td>\n",
              "      <td>35.573</td>\n",
              "      <td>1200.0</td>\n",
              "      <td>23000.0</td>\n",
              "      <td>0</td>\n",
              "      <td>1</td>\n",
              "      <td>0</td>\n",
              "      <td>0</td>\n",
              "      <td>0</td>\n",
              "      <td>0</td>\n",
              "      <td>0</td>\n",
              "      <td>0</td>\n",
              "      <td>0</td>\n",
              "      <td>0</td>\n",
              "      <td>0</td>\n",
              "      <td>0</td>\n",
              "      <td>0</td>\n",
              "      <td>1</td>\n",
              "      <td>0</td>\n",
              "      <td>0</td>\n",
              "      <td>0</td>\n",
              "      <td>0</td>\n",
              "      <td>0</td>\n",
              "      <td>1</td>\n",
              "      <td>0</td>\n",
              "      <td>1</td>\n",
              "      <td>0</td>\n",
              "      <td>0</td>\n",
              "      <td>0</td>\n",
              "      <td>0</td>\n",
              "      <td>0</td>\n",
              "      <td>0</td>\n",
              "      <td>1</td>\n",
              "      <td>0</td>\n",
              "      <td>0</td>\n",
              "      <td>0</td>\n",
              "      <td>0</td>\n",
              "      <td>0</td>\n",
              "      <td>0</td>\n",
              "      <td>...</td>\n",
              "      <td>0</td>\n",
              "      <td>0</td>\n",
              "      <td>1</td>\n",
              "      <td>0</td>\n",
              "      <td>1</td>\n",
              "      <td>0</td>\n",
              "      <td>0</td>\n",
              "      <td>0</td>\n",
              "      <td>0</td>\n",
              "      <td>0</td>\n",
              "      <td>0</td>\n",
              "      <td>0</td>\n",
              "      <td>0</td>\n",
              "      <td>0</td>\n",
              "      <td>0</td>\n",
              "      <td>0</td>\n",
              "      <td>0</td>\n",
              "      <td>1</td>\n",
              "      <td>0</td>\n",
              "      <td>0</td>\n",
              "      <td>0</td>\n",
              "      <td>0</td>\n",
              "      <td>0</td>\n",
              "      <td>0</td>\n",
              "      <td>0</td>\n",
              "      <td>0</td>\n",
              "      <td>0</td>\n",
              "      <td>0</td>\n",
              "      <td>0</td>\n",
              "      <td>0</td>\n",
              "      <td>1</td>\n",
              "      <td>0</td>\n",
              "      <td>0</td>\n",
              "      <td>0</td>\n",
              "      <td>0</td>\n",
              "      <td>0</td>\n",
              "      <td>0</td>\n",
              "      <td>0</td>\n",
              "      <td>0</td>\n",
              "      <td>0</td>\n",
              "    </tr>\n",
              "    <tr>\n",
              "      <th>4</th>\n",
              "      <td>300000</td>\n",
              "      <td>60</td>\n",
              "      <td>30.849</td>\n",
              "      <td>11000.0</td>\n",
              "      <td>34000.0</td>\n",
              "      <td>1</td>\n",
              "      <td>0</td>\n",
              "      <td>0</td>\n",
              "      <td>0</td>\n",
              "      <td>0</td>\n",
              "      <td>0</td>\n",
              "      <td>0</td>\n",
              "      <td>0</td>\n",
              "      <td>0</td>\n",
              "      <td>0</td>\n",
              "      <td>0</td>\n",
              "      <td>0</td>\n",
              "      <td>0</td>\n",
              "      <td>0</td>\n",
              "      <td>1</td>\n",
              "      <td>0</td>\n",
              "      <td>0</td>\n",
              "      <td>0</td>\n",
              "      <td>1</td>\n",
              "      <td>0</td>\n",
              "      <td>0</td>\n",
              "      <td>0</td>\n",
              "      <td>0</td>\n",
              "      <td>0</td>\n",
              "      <td>1</td>\n",
              "      <td>0</td>\n",
              "      <td>0</td>\n",
              "      <td>0</td>\n",
              "      <td>0</td>\n",
              "      <td>0</td>\n",
              "      <td>0</td>\n",
              "      <td>0</td>\n",
              "      <td>1</td>\n",
              "      <td>0</td>\n",
              "      <td>0</td>\n",
              "      <td>...</td>\n",
              "      <td>0</td>\n",
              "      <td>0</td>\n",
              "      <td>1</td>\n",
              "      <td>0</td>\n",
              "      <td>0</td>\n",
              "      <td>1</td>\n",
              "      <td>0</td>\n",
              "      <td>0</td>\n",
              "      <td>0</td>\n",
              "      <td>0</td>\n",
              "      <td>0</td>\n",
              "      <td>0</td>\n",
              "      <td>0</td>\n",
              "      <td>0</td>\n",
              "      <td>0</td>\n",
              "      <td>0</td>\n",
              "      <td>0</td>\n",
              "      <td>1</td>\n",
              "      <td>0</td>\n",
              "      <td>0</td>\n",
              "      <td>0</td>\n",
              "      <td>0</td>\n",
              "      <td>0</td>\n",
              "      <td>0</td>\n",
              "      <td>0</td>\n",
              "      <td>0</td>\n",
              "      <td>0</td>\n",
              "      <td>0</td>\n",
              "      <td>0</td>\n",
              "      <td>0</td>\n",
              "      <td>0</td>\n",
              "      <td>0</td>\n",
              "      <td>0</td>\n",
              "      <td>1</td>\n",
              "      <td>0</td>\n",
              "      <td>0</td>\n",
              "      <td>0</td>\n",
              "      <td>0</td>\n",
              "      <td>0</td>\n",
              "      <td>0</td>\n",
              "    </tr>\n",
              "  </tbody>\n",
              "</table>\n",
              "<p>5 rows × 84 columns</p>\n",
              "</div>"
            ],
            "text/plain": [
              "   Applied Loan Amount  Applied Loan Tenor  ...  Job Position_Unemployed  Indicators\n",
              "0                60000                  24  ...                        0           0\n",
              "1               100000                  60  ...                        0           0\n",
              "2                50000                  24  ...                        0           0\n",
              "3                70000                  36  ...                        0           0\n",
              "4               300000                  60  ...                        0           0\n",
              "\n",
              "[5 rows x 84 columns]"
            ]
          },
          "metadata": {
            "tags": []
          },
          "execution_count": 9
        }
      ]
    },
    {
      "cell_type": "code",
      "metadata": {
        "id": "Y1ur1ac0l-DW"
      },
      "source": [
        "# split it into training and testing dataset\n",
        "train, test = train_test_split( df , test_size=0.3, random_state=42)"
      ],
      "execution_count": 10,
      "outputs": []
    },
    {
      "cell_type": "code",
      "metadata": {
        "id": "9K90vEH3ke-n"
      },
      "source": [
        "# transform into tensor data\n",
        "train_features = torch.as_tensor(train.drop(\"Indicators\", axis=1).to_numpy()) # can only from numpy to tensor\n",
        "train_target = torch.as_tensor(train[\"Indicators\"].to_numpy())"
      ],
      "execution_count": 11,
      "outputs": []
    },
    {
      "cell_type": "code",
      "metadata": {
        "id": "9vnsToiike-o"
      },
      "source": [
        "# transform into tensor data\n",
        "test_features = torch.as_tensor(train.drop(\"Indicators\", axis=1).to_numpy()) # can only from numpy to tensor\n",
        "test_target = torch.as_tensor(train[\"Indicators\"].to_numpy())"
      ],
      "execution_count": 12,
      "outputs": []
    },
    {
      "cell_type": "code",
      "metadata": {
        "colab": {
          "base_uri": "https://localhost:8080/"
        },
        "id": "OdGthx0cTCwj",
        "outputId": "bed47836-421d-49d7-bc55-c6e0ba519790"
      },
      "source": [
        "# Implements a vertical dataset with TensorDataset\n",
        "import torch\n",
        "from torch.utils.data import Dataset\n",
        "device = 'cuda' if torch.cuda.is_available() else 'cpu'\n",
        "print(device)"
      ],
      "execution_count": 13,
      "outputs": [
        {
          "output_type": "stream",
          "text": [
            "cpu\n"
          ],
          "name": "stdout"
        }
      ]
    },
    {
      "cell_type": "code",
      "metadata": {
        "id": "jqLePC47S1nm"
      },
      "source": [
        "# self-designed VerticalTensorDataset\n",
        "# to add id, set features and target\n",
        "\n",
        "class VerticalTensorDataset(Dataset):\n",
        "    def __init__(self, features, targets):\n",
        "        super().__init__()\n",
        "\n",
        "        self.data = features\n",
        "        self.targets = targets\n",
        "        self.size = features.shape[0]\n",
        "\n",
        "        self.ids = np.array([uuid4() for _ in range(len(self))])\n",
        "\n",
        "    def __len__(self):\n",
        "        return self.size\n",
        "\n",
        "    def __getitem__(self, index):\n",
        "        if self.data is None:\n",
        "          data = None\n",
        "        else:\n",
        "          data = self.data[index]\n",
        "        if self.targets is None:\n",
        "          target = None\n",
        "        else:\n",
        "          target = self.targets[index]\n",
        "\n",
        "        id = self.ids[index]\n",
        "\n",
        "        return (*filter(lambda x: x is not None, (data, target, id)),)\n",
        "\n",
        "    def get_ids(self):\n",
        "        return [str(id) for id in self.ids]\n",
        "    \n"
      ],
      "execution_count": 14,
      "outputs": []
    },
    {
      "cell_type": "code",
      "metadata": {
        "colab": {
          "base_uri": "https://localhost:8080/"
        },
        "id": "lwSBeXxznItN",
        "outputId": "2f8564a8-cd7e-43e0-ed5f-b85e5f8099ab"
      },
      "source": [
        "# put training data into VerticalTensorDataset \n",
        "# to add ids and identify features and target column\n",
        "train_dataset = VerticalTensorDataset(train_features, train_target)\n",
        "\n",
        "print(train_dataset[0])\n",
        "# VerticalDataLoader is from PyVertical package\n",
        "# it vetically patitions the data\n",
        "train_dataloader = VerticalDataLoader(train_dataset, batch_size = 64) "
      ],
      "execution_count": 15,
      "outputs": [
        {
          "output_type": "stream",
          "text": [
            "(tensor([6.0000e+04, 2.4000e+01, 4.4797e+01, 6.5500e+02, 1.9570e+04, 0.0000e+00,\n",
            "        0.0000e+00, 1.0000e+00, 0.0000e+00, 0.0000e+00, 0.0000e+00, 0.0000e+00,\n",
            "        0.0000e+00, 0.0000e+00, 0.0000e+00, 0.0000e+00, 0.0000e+00, 0.0000e+00,\n",
            "        1.0000e+00, 0.0000e+00, 0.0000e+00, 0.0000e+00, 0.0000e+00, 0.0000e+00,\n",
            "        1.0000e+00, 0.0000e+00, 0.0000e+00, 0.0000e+00, 0.0000e+00, 0.0000e+00,\n",
            "        1.0000e+00, 0.0000e+00, 0.0000e+00, 0.0000e+00, 0.0000e+00, 0.0000e+00,\n",
            "        0.0000e+00, 1.0000e+00, 0.0000e+00, 0.0000e+00, 0.0000e+00, 0.0000e+00,\n",
            "        0.0000e+00, 1.0000e+00, 0.0000e+00, 0.0000e+00, 1.0000e+00, 0.0000e+00,\n",
            "        0.0000e+00, 1.0000e+00, 0.0000e+00, 0.0000e+00, 0.0000e+00, 0.0000e+00,\n",
            "        0.0000e+00, 0.0000e+00, 0.0000e+00, 0.0000e+00, 0.0000e+00, 0.0000e+00,\n",
            "        0.0000e+00, 0.0000e+00, 0.0000e+00, 0.0000e+00, 0.0000e+00, 0.0000e+00,\n",
            "        0.0000e+00, 0.0000e+00, 0.0000e+00, 1.0000e+00, 0.0000e+00, 0.0000e+00,\n",
            "        0.0000e+00, 0.0000e+00, 0.0000e+00, 0.0000e+00, 0.0000e+00, 1.0000e+00,\n",
            "        0.0000e+00, 0.0000e+00, 0.0000e+00, 0.0000e+00, 0.0000e+00],\n",
            "       dtype=torch.float64), tensor(1), UUID('d01b8869-4d01-4636-a019-36e511ec1696'))\n"
          ],
          "name": "stdout"
        }
      ]
    },
    {
      "cell_type": "code",
      "metadata": {
        "colab": {
          "base_uri": "https://localhost:8080/"
        },
        "id": "G-tskG6VnrYb",
        "outputId": "1dc1bf29-5b0d-497c-f832-ba6686f9c1e3"
      },
      "source": [
        "# apply on testing data\n",
        "test_dataset = VerticalTensorDataset(test_features, test_target)\n",
        "\n",
        "print(test_dataset[0])\n",
        "\n",
        "test_dataloader = VerticalDataLoader(test_dataset, batch_size = 1)"
      ],
      "execution_count": 16,
      "outputs": [
        {
          "output_type": "stream",
          "text": [
            "(tensor([6.0000e+04, 2.4000e+01, 4.4797e+01, 6.5500e+02, 1.9570e+04, 0.0000e+00,\n",
            "        0.0000e+00, 1.0000e+00, 0.0000e+00, 0.0000e+00, 0.0000e+00, 0.0000e+00,\n",
            "        0.0000e+00, 0.0000e+00, 0.0000e+00, 0.0000e+00, 0.0000e+00, 0.0000e+00,\n",
            "        1.0000e+00, 0.0000e+00, 0.0000e+00, 0.0000e+00, 0.0000e+00, 0.0000e+00,\n",
            "        1.0000e+00, 0.0000e+00, 0.0000e+00, 0.0000e+00, 0.0000e+00, 0.0000e+00,\n",
            "        1.0000e+00, 0.0000e+00, 0.0000e+00, 0.0000e+00, 0.0000e+00, 0.0000e+00,\n",
            "        0.0000e+00, 1.0000e+00, 0.0000e+00, 0.0000e+00, 0.0000e+00, 0.0000e+00,\n",
            "        0.0000e+00, 1.0000e+00, 0.0000e+00, 0.0000e+00, 1.0000e+00, 0.0000e+00,\n",
            "        0.0000e+00, 1.0000e+00, 0.0000e+00, 0.0000e+00, 0.0000e+00, 0.0000e+00,\n",
            "        0.0000e+00, 0.0000e+00, 0.0000e+00, 0.0000e+00, 0.0000e+00, 0.0000e+00,\n",
            "        0.0000e+00, 0.0000e+00, 0.0000e+00, 0.0000e+00, 0.0000e+00, 0.0000e+00,\n",
            "        0.0000e+00, 0.0000e+00, 0.0000e+00, 1.0000e+00, 0.0000e+00, 0.0000e+00,\n",
            "        0.0000e+00, 0.0000e+00, 0.0000e+00, 0.0000e+00, 0.0000e+00, 1.0000e+00,\n",
            "        0.0000e+00, 0.0000e+00, 0.0000e+00, 0.0000e+00, 0.0000e+00],\n",
            "       dtype=torch.float64), tensor(1), UUID('900cacdf-d67c-4cfe-92bc-3df864fb9897'))\n"
          ],
          "name": "stdout"
        }
      ]
    },
    {
      "cell_type": "code",
      "metadata": {
        "id": "fG8zrBSABSg6"
      },
      "source": [
        "# SplitNN\n",
        "# assign model segments to each local nodes\n",
        "# define how gradient is sent\n",
        "class SplitNN:\n",
        "    def __init__(self, models, optimizers):\n",
        "        self.models = models\n",
        "        self.optimizers = optimizers\n",
        "\n",
        "        self.data = []\n",
        "        self.remote_tensors = []\n",
        "\n",
        "    def forward(self, x):\n",
        "        data = []\n",
        "        remote_tensors = []\n",
        "\n",
        "        data.append(self.models[0](x))\n",
        "\n",
        "        if data[-1].location == self.models[1].location:\n",
        "            remote_tensors.append(data[-1].detach().requires_grad_())\n",
        "        else:\n",
        "            remote_tensors.append(\n",
        "                data[-1].detach().move(self.models[1].location).requires_grad_()\n",
        "            )\n",
        "\n",
        "        i = 1\n",
        "        while i < (len(models) - 1):\n",
        "            data.append(self.models[i](remote_tensors[-1]))\n",
        "\n",
        "            if data[-1].location == self.models[i + 1].location:\n",
        "                remote_tensors.append(data[-1].detach().requires_grad_())\n",
        "            else:\n",
        "                remote_tensors.append(\n",
        "                    data[-1].detach().move(self.models[i + 1].location).requires_grad_()\n",
        "                )\n",
        "\n",
        "            i += 1\n",
        "\n",
        "        data.append(self.models[i](remote_tensors[-1]))\n",
        "\n",
        "        self.data = data\n",
        "        self.remote_tensors = remote_tensors\n",
        "\n",
        "        return data[-1]\n",
        "        \n",
        "    def backward(self):\n",
        "        for i in range(len(models) - 2, -1, -1):\n",
        "            if self.remote_tensors[i].location == self.data[i].location:\n",
        "                grads = self.remote_tensors[i].grad.copy()\n",
        "            else:\n",
        "                grads = self.remote_tensors[i].grad.copy().move(self.data[i].location)\n",
        "    \n",
        "            self.data[i].backward(grads)\n",
        "\n",
        "    def zero_grads(self):\n",
        "        for opt in self.optimizers:\n",
        "            opt.zero_grad()\n",
        "\n",
        "    def step(self):\n",
        "        for opt in self.optimizers:\n",
        "            opt.step()"
      ],
      "execution_count": 17,
      "outputs": []
    },
    {
      "cell_type": "code",
      "metadata": {
        "id": "qFjH0o5zDL2L"
      },
      "source": [
        "torch.manual_seed(3)\n",
        "\n",
        "# Define our model segments\n",
        "\n",
        "input_size = 83\n",
        "hidden_sizes = [32, 64]\n",
        "output_size = 1\n",
        "\n",
        "\n",
        "# Deep Learning model\n",
        "# to apply it in SplitNN framework, it is divided into 2 parts\n",
        "models = [\n",
        "    nn.Sequential(\n",
        "        nn.Linear(input_size, hidden_sizes[0]),\n",
        "        nn.ReLU(),\n",
        "        nn.BatchNorm1d(hidden_sizes[0]),\n",
        "        nn.Linear(hidden_sizes[0], hidden_sizes[1]),\n",
        "        nn.ReLU(),\n",
        "        nn.BatchNorm1d(hidden_sizes[1]),\n",
        "        nn.Dropout(p=0.1)\n",
        "    ),\n",
        "    nn.Sequential(nn.Linear(hidden_sizes[1], output_size))\n",
        "\n",
        "]\n",
        "'''\n",
        "models = [\n",
        "    nn.Sequential(\n",
        "        nn.Linear(input_size, hidden_sizes[0]),\n",
        "        nn.ReLU(),\n",
        "        nn.Linear(hidden_sizes[0], hidden_sizes[1]),\n",
        "        nn.ReLU(),\n",
        "        nn.Dropout(p=0.1)\n",
        "    ),\n",
        "    nn.Sequential(nn.Linear(hidden_sizes[1], output_size))\n",
        "\n",
        "]\n",
        "'''\n",
        "# create optimisers for each segment and link to them\n",
        "optimizers = [\n",
        "    optim.SGD(model.parameters(), lr=0.001)\n",
        "    for model in models\n",
        "]\n"
      ],
      "execution_count": 18,
      "outputs": []
    },
    {
      "cell_type": "code",
      "metadata": {
        "id": "7PRJATcrEUo7"
      },
      "source": [
        "# create virtual workers as local node simulation\n",
        "alice = sy.VirtualWorker(hook, id=\"alice\")\n",
        "bob = sy.VirtualWorker(hook, id=\"bob\")\n",
        "\n",
        "# send Model Segments to model locations\n",
        "model_locations = [alice, bob]\n",
        "for model, location in zip(models, model_locations):\n",
        "    model.send(location)\n",
        "\n",
        "# instantiate a SpliNN class with our distributed segments and their respective optimizers\n",
        "splitNN = SplitNN(models, optimizers)"
      ],
      "execution_count": 19,
      "outputs": []
    },
    {
      "cell_type": "code",
      "metadata": {
        "id": "PJPQZv5rEXYK"
      },
      "source": [
        "def train(x, target, splitNN):\n",
        "    \n",
        "    #1) Zero our grads\n",
        "    splitNN.zero_grads()\n",
        "    \n",
        "    #2) Make a prediction\n",
        "    pred = splitNN.forward(x)\n",
        "    \n",
        "    #3) Figure out how much we missed by\n",
        "    criterion = nn.BCEWithLogitsLoss()\n",
        "    loss = criterion(pred.reshape(-1), target.to(torch.float))\n",
        "    \n",
        "    #4) Backprop the loss on the end layer\n",
        "    loss.backward()\n",
        "    \n",
        "    #5) Feed Gradients backward through the nework\n",
        "    splitNN.backward()\n",
        "    \n",
        "    #6) Change the weights\n",
        "    splitNN.step()\n",
        "    \n",
        "    return loss, pred"
      ],
      "execution_count": 20,
      "outputs": []
    },
    {
      "cell_type": "code",
      "metadata": {
        "id": "e9cJZpVYEogF"
      },
      "source": [
        "epochs = 100"
      ],
      "execution_count": 21,
      "outputs": []
    },
    {
      "cell_type": "code",
      "metadata": {
        "id": "Dl2jo8TxlTuz"
      },
      "source": [
        "e_loss = []\n",
        "e_acc = []\n",
        "timelist = []"
      ],
      "execution_count": 22,
      "outputs": []
    },
    {
      "cell_type": "code",
      "metadata": {
        "colab": {
          "base_uri": "https://localhost:8080/"
        },
        "id": "IVXaLEmiEfdP",
        "outputId": "26b2f5ca-5cfd-4773-90e7-01cabf2c62d6"
      },
      "source": [
        "for i in range(epochs):\n",
        "    running_loss = 0\n",
        "    correct_preds = 0\n",
        "    total_preds = 0\n",
        "    epoch_loss = 0\n",
        "    epoch_acc = 0\n",
        "    start_time = time.time()\n",
        "\n",
        "    for (data, ids1), (labels, ids2) in train_dataloader:\n",
        "        # Train a model\n",
        "        data = data.send(models[0].location)\n",
        "        data = data.view(data.shape[0], -1)\n",
        "        labels = labels.send(models[-1].location)\n",
        "\n",
        "        # Call model\n",
        "        loss, preds = train(data.float(), labels, splitNN)\n",
        "        \n",
        "        # Convert predictions\n",
        "        preds_ = preds.get().squeeze(1)\n",
        "        labels_ = labels.get()\n",
        "        preds_match = ((torch.sigmoid(preds_) > 0.5) == labels_)\n",
        "        #print(non_exist)\n",
        "\n",
        "        # Collect statistics\n",
        "        running_loss += loss.get()\n",
        "        correct_preds = correct_preds + int(preds_match.sum())\n",
        "        total_preds = total_preds + int(preds_match.size()[0])\n",
        "\n",
        "    total_time = time.time() - start_time\n",
        "    timelist.append(total_time)\n",
        "    e_loss.append((running_loss/len(train_dataloader)).item()) # for plt\n",
        "    e_acc.append((100*correct_preds/total_preds)) # for plt\n",
        "\n",
        "    print(f\"Epoch {i} - Training loss: {running_loss/len(train_dataloader):.3f} - Accuracy: {100*correct_preds/total_preds:.3f}\")"
      ],
      "execution_count": 23,
      "outputs": [
        {
          "output_type": "stream",
          "text": [
            "Epoch 0 - Training loss: 0.714 - Accuracy: 51.262\n",
            "Epoch 1 - Training loss: 0.706 - Accuracy: 50.172\n",
            "Epoch 2 - Training loss: 0.703 - Accuracy: 49.926\n",
            "Epoch 3 - Training loss: 0.707 - Accuracy: 51.617\n",
            "Epoch 4 - Training loss: 0.703 - Accuracy: 51.250\n",
            "Epoch 5 - Training loss: 0.702 - Accuracy: 50.711\n",
            "Epoch 6 - Training loss: 0.701 - Accuracy: 50.527\n",
            "Epoch 7 - Training loss: 0.699 - Accuracy: 51.335\n",
            "Epoch 8 - Training loss: 0.698 - Accuracy: 50.527\n",
            "Epoch 9 - Training loss: 0.698 - Accuracy: 50.747\n",
            "Epoch 10 - Training loss: 0.697 - Accuracy: 51.985\n",
            "Epoch 11 - Training loss: 0.697 - Accuracy: 51.323\n",
            "Epoch 12 - Training loss: 0.697 - Accuracy: 50.772\n",
            "Epoch 13 - Training loss: 0.697 - Accuracy: 51.728\n",
            "Epoch 14 - Training loss: 0.697 - Accuracy: 52.046\n",
            "Epoch 15 - Training loss: 0.698 - Accuracy: 51.005\n",
            "Epoch 16 - Training loss: 0.695 - Accuracy: 51.348\n",
            "Epoch 17 - Training loss: 0.698 - Accuracy: 51.887\n",
            "Epoch 18 - Training loss: 0.698 - Accuracy: 51.188\n",
            "Epoch 19 - Training loss: 0.697 - Accuracy: 51.495\n",
            "Epoch 20 - Training loss: 0.697 - Accuracy: 51.115\n",
            "Epoch 21 - Training loss: 0.696 - Accuracy: 52.009\n",
            "Epoch 22 - Training loss: 0.695 - Accuracy: 52.058\n",
            "Epoch 23 - Training loss: 0.694 - Accuracy: 52.585\n",
            "Epoch 24 - Training loss: 0.693 - Accuracy: 52.989\n",
            "Epoch 25 - Training loss: 0.694 - Accuracy: 52.193\n",
            "Epoch 26 - Training loss: 0.695 - Accuracy: 52.303\n",
            "Epoch 27 - Training loss: 0.694 - Accuracy: 52.034\n",
            "Epoch 28 - Training loss: 0.695 - Accuracy: 52.389\n",
            "Epoch 29 - Training loss: 0.695 - Accuracy: 51.605\n",
            "Epoch 30 - Training loss: 0.695 - Accuracy: 52.561\n",
            "Epoch 31 - Training loss: 0.693 - Accuracy: 52.744\n",
            "Epoch 32 - Training loss: 0.694 - Accuracy: 52.597\n",
            "Epoch 33 - Training loss: 0.694 - Accuracy: 52.989\n",
            "Epoch 34 - Training loss: 0.695 - Accuracy: 52.279\n",
            "Epoch 35 - Training loss: 0.693 - Accuracy: 52.646\n",
            "Epoch 36 - Training loss: 0.694 - Accuracy: 52.340\n",
            "Epoch 37 - Training loss: 0.693 - Accuracy: 52.659\n",
            "Epoch 38 - Training loss: 0.695 - Accuracy: 52.830\n",
            "Epoch 39 - Training loss: 0.692 - Accuracy: 53.185\n",
            "Epoch 40 - Training loss: 0.694 - Accuracy: 52.561\n",
            "Epoch 41 - Training loss: 0.694 - Accuracy: 51.997\n",
            "Epoch 42 - Training loss: 0.692 - Accuracy: 52.855\n",
            "Epoch 43 - Training loss: 0.693 - Accuracy: 52.818\n",
            "Epoch 44 - Training loss: 0.693 - Accuracy: 52.475\n",
            "Epoch 45 - Training loss: 0.691 - Accuracy: 52.463\n",
            "Epoch 46 - Training loss: 0.692 - Accuracy: 53.014\n",
            "Epoch 47 - Training loss: 0.691 - Accuracy: 52.953\n",
            "Epoch 48 - Training loss: 0.692 - Accuracy: 52.904\n",
            "Epoch 49 - Training loss: 0.694 - Accuracy: 52.218\n",
            "Epoch 50 - Training loss: 0.692 - Accuracy: 52.585\n",
            "Epoch 51 - Training loss: 0.692 - Accuracy: 53.259\n",
            "Epoch 52 - Training loss: 0.692 - Accuracy: 52.732\n",
            "Epoch 53 - Training loss: 0.691 - Accuracy: 52.659\n",
            "Epoch 54 - Training loss: 0.692 - Accuracy: 53.431\n",
            "Epoch 55 - Training loss: 0.691 - Accuracy: 53.688\n",
            "Epoch 56 - Training loss: 0.692 - Accuracy: 53.676\n",
            "Epoch 57 - Training loss: 0.691 - Accuracy: 53.284\n",
            "Epoch 58 - Training loss: 0.691 - Accuracy: 53.173\n",
            "Epoch 59 - Training loss: 0.692 - Accuracy: 53.124\n",
            "Epoch 60 - Training loss: 0.692 - Accuracy: 53.308\n",
            "Epoch 61 - Training loss: 0.692 - Accuracy: 53.271\n",
            "Epoch 62 - Training loss: 0.691 - Accuracy: 53.921\n",
            "Epoch 63 - Training loss: 0.692 - Accuracy: 52.879\n",
            "Epoch 64 - Training loss: 0.692 - Accuracy: 53.578\n",
            "Epoch 65 - Training loss: 0.692 - Accuracy: 52.928\n",
            "Epoch 66 - Training loss: 0.692 - Accuracy: 52.867\n",
            "Epoch 67 - Training loss: 0.693 - Accuracy: 52.744\n",
            "Epoch 68 - Training loss: 0.691 - Accuracy: 53.345\n",
            "Epoch 69 - Training loss: 0.690 - Accuracy: 53.235\n",
            "Epoch 70 - Training loss: 0.690 - Accuracy: 53.198\n",
            "Epoch 71 - Training loss: 0.689 - Accuracy: 54.006\n",
            "Epoch 72 - Training loss: 0.691 - Accuracy: 53.553\n",
            "Epoch 73 - Training loss: 0.690 - Accuracy: 52.744\n",
            "Epoch 74 - Training loss: 0.689 - Accuracy: 53.553\n",
            "Epoch 75 - Training loss: 0.692 - Accuracy: 52.928\n",
            "Epoch 76 - Training loss: 0.691 - Accuracy: 52.891\n",
            "Epoch 77 - Training loss: 0.691 - Accuracy: 53.308\n",
            "Epoch 78 - Training loss: 0.690 - Accuracy: 52.928\n",
            "Epoch 79 - Training loss: 0.691 - Accuracy: 52.989\n",
            "Epoch 80 - Training loss: 0.691 - Accuracy: 53.467\n",
            "Epoch 81 - Training loss: 0.692 - Accuracy: 52.818\n",
            "Epoch 82 - Training loss: 0.691 - Accuracy: 53.578\n",
            "Epoch 83 - Training loss: 0.691 - Accuracy: 53.296\n",
            "Epoch 84 - Training loss: 0.690 - Accuracy: 53.774\n",
            "Epoch 85 - Training loss: 0.690 - Accuracy: 53.516\n",
            "Epoch 86 - Training loss: 0.690 - Accuracy: 53.786\n",
            "Epoch 87 - Training loss: 0.689 - Accuracy: 53.749\n",
            "Epoch 88 - Training loss: 0.692 - Accuracy: 53.320\n",
            "Epoch 89 - Training loss: 0.692 - Accuracy: 53.320\n",
            "Epoch 90 - Training loss: 0.691 - Accuracy: 53.210\n",
            "Epoch 91 - Training loss: 0.690 - Accuracy: 53.590\n",
            "Epoch 92 - Training loss: 0.690 - Accuracy: 53.161\n",
            "Epoch 93 - Training loss: 0.691 - Accuracy: 53.136\n",
            "Epoch 94 - Training loss: 0.691 - Accuracy: 53.198\n",
            "Epoch 95 - Training loss: 0.689 - Accuracy: 53.651\n",
            "Epoch 96 - Training loss: 0.691 - Accuracy: 52.940\n",
            "Epoch 97 - Training loss: 0.689 - Accuracy: 53.872\n",
            "Epoch 98 - Training loss: 0.690 - Accuracy: 53.688\n",
            "Epoch 99 - Training loss: 0.691 - Accuracy: 53.455\n"
          ],
          "name": "stdout"
        }
      ]
    },
    {
      "cell_type": "code",
      "metadata": {
        "id": "xlyJue1LGMX5",
        "colab": {
          "base_uri": "https://localhost:8080/"
        },
        "outputId": "6cfb0ce6-cdce-4d60-9aef-d6d276e0c326"
      },
      "source": [
        "preds_match"
      ],
      "execution_count": 24,
      "outputs": [
        {
          "output_type": "execute_result",
          "data": {
            "text/plain": [
              "tensor([False,  True,  True, False, False,  True,  True,  True,  True,  True,\n",
              "        False,  True,  True, False,  True,  True,  True,  True, False, False,\n",
              "         True,  True,  True,  True, False, False, False, False, False, False,\n",
              "         True, False,  True,  True])"
            ]
          },
          "metadata": {
            "tags": []
          },
          "execution_count": 24
        }
      ]
    },
    {
      "cell_type": "code",
      "metadata": {
        "colab": {
          "base_uri": "https://localhost:8080/",
          "height": 282
        },
        "id": "-PvcJWdnkaJO",
        "outputId": "34006f47-6a13-43ce-a6be-5595aa4b117f"
      },
      "source": [
        "plt.plot(e_acc)"
      ],
      "execution_count": 25,
      "outputs": [
        {
          "output_type": "execute_result",
          "data": {
            "text/plain": [
              "[<matplotlib.lines.Line2D at 0x7f5b9aff7690>]"
            ]
          },
          "metadata": {
            "tags": []
          },
          "execution_count": 25
        },
        {
          "output_type": "display_data",
          "data": {
            "image/png": "[encoded data removed]",
            "text/plain": [
              "<Figure size 432x288 with 1 Axes>"
            ]
          },
          "metadata": {
            "tags": [],
            "needs_background": "light"
          }
        }
      ]
    },
    {
      "cell_type": "code",
      "metadata": {
        "colab": {
          "base_uri": "https://localhost:8080/",
          "height": 283
        },
        "id": "BOu6BPjZka5e",
        "outputId": "d9014824-cc6a-4ca5-bb22-81f7fc06ff2d"
      },
      "source": [
        "plt.plot(e_loss)"
      ],
      "execution_count": 26,
      "outputs": [
        {
          "output_type": "execute_result",
          "data": {
            "text/plain": [
              "[<matplotlib.lines.Line2D at 0x7f5b9afed950>]"
            ]
          },
          "metadata": {
            "tags": []
          },
          "execution_count": 26
        },
        {
          "output_type": "display_data",
          "data": {
            "image/png": "[encoded data removed]",
            "text/plain": [
              "<Figure size 432x288 with 1 Axes>"
            ]
          },
          "metadata": {
            "tags": [],
            "needs_background": "light"
          }
        }
      ]
    },
    {
      "cell_type": "code",
      "metadata": {
        "colab": {
          "base_uri": "https://localhost:8080/",
          "height": 282
        },
        "id": "k-rNyIZPOynv",
        "outputId": "9b85e0a2-652a-4519-c7a1-9f16dc79204e"
      },
      "source": [
        "plt.plot(timelist)"
      ],
      "execution_count": 27,
      "outputs": [
        {
          "output_type": "execute_result",
          "data": {
            "text/plain": [
              "[<matplotlib.lines.Line2D at 0x7f5b9ab62e10>]"
            ]
          },
          "metadata": {
            "tags": []
          },
          "execution_count": 27
        },
        {
          "output_type": "display_data",
          "data": {
            "image/png": "[encoded data removed]",
            "text/plain": [
              "<Figure size 432x288 with 1 Axes>"
            ]
          },
          "metadata": {
            "tags": [],
            "needs_background": "light"
          }
        }
      ]
    },
    {
      "cell_type": "code",
      "metadata": {
        "colab": {
          "base_uri": "https://localhost:8080/"
        },
        "id": "JTpTaQQagZ6g",
        "outputId": "62c833fe-fa23-4822-ec03-25bc05af70ad"
      },
      "source": [
        "import statistics\n",
        "x = statistics.mean(timelist)\n",
        "print(x)"
      ],
      "execution_count": 28,
      "outputs": [
        {
          "output_type": "stream",
          "text": [
            "6.6317285060882565\n"
          ],
          "name": "stdout"
        }
      ]
    },
    {
      "cell_type": "code",
      "metadata": {
        "id": "3LuZWxTxzCJQ"
      },
      "source": [
        "# define test to apply trained model\n",
        "def test(x, target, splitNN):\n",
        "       \n",
        "    #1) Make a prediction\n",
        "    pred = splitNN.forward(x)\n",
        "    \n",
        "    #2) Figure out how much we missed by\n",
        "    criterion = nn.BCEWithLogitsLoss()\n",
        "    loss = criterion(pred.reshape(-1), target.to(torch.float))\n",
        "        \n",
        "    return loss, pred"
      ],
      "execution_count": 29,
      "outputs": []
    },
    {
      "cell_type": "code",
      "metadata": {
        "colab": {
          "base_uri": "https://localhost:8080/"
        },
        "id": "mp2w24Xijd3g",
        "outputId": "78471349-cc48-415e-b304-c94d01ea37b8"
      },
      "source": [
        "y_pred_list = []\n",
        "y_target_list = []\n",
        "running_loss = 0\n",
        "correct_preds = 0\n",
        "total_preds = 0\n",
        "\n",
        "# lock the models\n",
        "models[0].eval()\n",
        "models[1].eval()\n",
        "\n",
        "# put testing data into the models\n",
        "\n",
        "with torch.no_grad():\n",
        "    for (data, ids1), (labels, ids2) in test_dataloader:\n",
        "        # Train a model\n",
        "        data = data.send(models[0].location)\n",
        "        data = data.view(data.shape[0], -1)\n",
        "        labels = labels.send(models[-1].location)\n",
        "\n",
        "        # Call model\n",
        "        loss, preds = test(data.float(), labels, splitNN)\n",
        "        \n",
        "        # Convert predictions\n",
        "        preds_ = preds.get().squeeze(1)\n",
        "        labels_ = labels.get()\n",
        "        preds_match = ((torch.sigmoid(preds_) > 0.5) == labels_)\n",
        "        y_pred_list.append(torch.sigmoid(preds_) > 0.5)\n",
        "        y_target_list.append(labels_)\n",
        "\n",
        "        # Collect statistics\n",
        "        running_loss += loss.get()\n",
        "        correct_preds = correct_preds + int(preds_match.sum())\n",
        "        total_preds = total_preds + int(preds_match.size()[0])\n",
        "\n",
        "\n",
        "    print(f\" Testing loss: {running_loss/len(test_dataloader):.3f} - Accuracy: {100*correct_preds/total_preds:.3f}\")"
      ],
      "execution_count": 30,
      "outputs": [
        {
          "output_type": "stream",
          "text": [
            " Testing loss: 0.697 - Accuracy: 53.639\n"
          ],
          "name": "stdout"
        }
      ]
    },
    {
      "cell_type": "code",
      "metadata": {
        "colab": {
          "base_uri": "https://localhost:8080/"
        },
        "id": "16Uw1Zf9wMte",
        "outputId": "2d573294-0a44-4293-bdf2-7e66c7c72c0e"
      },
      "source": [
        "confusion_matrix(y_target_list, y_pred_list)"
      ],
      "execution_count": 31,
      "outputs": [
        {
          "output_type": "execute_result",
          "data": {
            "text/plain": [
              "array([[4288,   90],\n",
              "       [3694,   90]])"
            ]
          },
          "metadata": {
            "tags": []
          },
          "execution_count": 31
        }
      ]
    },
    {
      "cell_type": "code",
      "metadata": {
        "colab": {
          "base_uri": "https://localhost:8080/"
        },
        "id": "Knxthas7nWgB",
        "outputId": "e862aa04-98d6-4e80-dcb1-d8697551e935"
      },
      "source": [
        "print(classification_report(y_target_list, y_pred_list))"
      ],
      "execution_count": 32,
      "outputs": [
        {
          "output_type": "stream",
          "text": [
            "              precision    recall  f1-score   support\n",
            "\n",
            "           0       0.54      0.98      0.69      4378\n",
            "           1       0.50      0.02      0.05      3784\n",
            "\n",
            "    accuracy                           0.54      8162\n",
            "   macro avg       0.52      0.50      0.37      8162\n",
            "weighted avg       0.52      0.54      0.39      8162\n",
            "\n"
          ],
          "name": "stdout"
        }
      ]
    },
    {
      "cell_type": "code",
      "metadata": {
        "id": "AAy-LuWEqrNA"
      },
      "source": [
        ""
      ],
      "execution_count": null,
      "outputs": []
    }
  ]
}