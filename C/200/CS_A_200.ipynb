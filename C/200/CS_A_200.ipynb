{
  "nbformat": 4,
  "nbformat_minor": 0,
  "metadata": {
    "colab": {
      "name": "CS A 500.ipynb",
      "provenance": []
    },
    "kernelspec": {
      "name": "python3",
      "display_name": "Python 3"
    }
  },
  "cells": [
    {
      "cell_type": "code",
      "metadata": {
        "id": "G48xlrYj2kwE"
      },
      "source": [
        "import numpy as np\n",
        "import pandas as pd\n",
        "import seaborn as sns\n",
        "import matplotlib.pyplot as plt\n",
        "import time\n",
        "import torch\n",
        "import torch.nn as nn\n",
        "import torch.optim as optim\n",
        "from torch.utils.data import Dataset, DataLoader\n",
        "\n",
        "from sklearn.preprocessing import StandardScaler    \n",
        "from sklearn.model_selection import train_test_split\n",
        "from sklearn.metrics import confusion_matrix, classification_report"
      ],
      "execution_count": null,
      "outputs": []
    },
    {
      "cell_type": "code",
      "metadata": {
        "colab": {
          "base_uri": "https://localhost:8080/",
          "height": 204
        },
        "id": "56nv66rL2v6m",
        "outputId": "be62ec0a-694a-4fbb-8255-09b8655339fd"
      },
      "source": [
        "df = pd.read_csv(\"datatrain.csv\")\n",
        "df.head()"
      ],
      "execution_count": null,
      "outputs": [
        {
          "output_type": "execute_result",
          "data": {
            "text/html": [
              "<div>\n",
              "<style scoped>\n",
              "    .dataframe tbody tr th:only-of-type {\n",
              "        vertical-align: middle;\n",
              "    }\n",
              "\n",
              "    .dataframe tbody tr th {\n",
              "        vertical-align: top;\n",
              "    }\n",
              "\n",
              "    .dataframe thead th {\n",
              "        text-align: right;\n",
              "    }\n",
              "</style>\n",
              "<table border=\"1\" class=\"dataframe\">\n",
              "  <thead>\n",
              "    <tr style=\"text-align: right;\">\n",
              "      <th></th>\n",
              "      <th>Applied Loan Amount</th>\n",
              "      <th>Applied Loan Tenor</th>\n",
              "      <th>Gender</th>\n",
              "      <th>Age</th>\n",
              "      <th>Education Level</th>\n",
              "      <th>Monthly Housing/Rental</th>\n",
              "      <th>Monthly Income</th>\n",
              "      <th>Indicators</th>\n",
              "    </tr>\n",
              "  </thead>\n",
              "  <tbody>\n",
              "    <tr>\n",
              "      <th>0</th>\n",
              "      <td>60000</td>\n",
              "      <td>24</td>\n",
              "      <td>1</td>\n",
              "      <td>22.301</td>\n",
              "      <td>Secondary</td>\n",
              "      <td>0.0</td>\n",
              "      <td>10245.0</td>\n",
              "      <td>0</td>\n",
              "    </tr>\n",
              "    <tr>\n",
              "      <th>1</th>\n",
              "      <td>100000</td>\n",
              "      <td>60</td>\n",
              "      <td>1</td>\n",
              "      <td>33.159</td>\n",
              "      <td>Form 3 or below</td>\n",
              "      <td>0.0</td>\n",
              "      <td>10000.0</td>\n",
              "      <td>0</td>\n",
              "    </tr>\n",
              "    <tr>\n",
              "      <th>2</th>\n",
              "      <td>50000</td>\n",
              "      <td>24</td>\n",
              "      <td>0</td>\n",
              "      <td>28.389</td>\n",
              "      <td>University</td>\n",
              "      <td>2000.0</td>\n",
              "      <td>9700.0</td>\n",
              "      <td>0</td>\n",
              "    </tr>\n",
              "    <tr>\n",
              "      <th>3</th>\n",
              "      <td>70000</td>\n",
              "      <td>36</td>\n",
              "      <td>1</td>\n",
              "      <td>35.573</td>\n",
              "      <td>Post Graduate</td>\n",
              "      <td>1200.0</td>\n",
              "      <td>23000.0</td>\n",
              "      <td>0</td>\n",
              "    </tr>\n",
              "    <tr>\n",
              "      <th>4</th>\n",
              "      <td>300000</td>\n",
              "      <td>60</td>\n",
              "      <td>0</td>\n",
              "      <td>30.849</td>\n",
              "      <td>University</td>\n",
              "      <td>11000.0</td>\n",
              "      <td>34000.0</td>\n",
              "      <td>0</td>\n",
              "    </tr>\n",
              "  </tbody>\n",
              "</table>\n",
              "</div>"
            ],
            "text/plain": [
              "   Applied Loan Amount  Applied Loan Tenor  ...  Monthly Income  Indicators\n",
              "0                60000                  24  ...         10245.0           0\n",
              "1               100000                  60  ...         10000.0           0\n",
              "2                50000                  24  ...          9700.0           0\n",
              "3                70000                  36  ...         23000.0           0\n",
              "4               300000                  60  ...         34000.0           0\n",
              "\n",
              "[5 rows x 8 columns]"
            ]
          },
          "metadata": {
            "tags": []
          },
          "execution_count": 2
        }
      ]
    },
    {
      "cell_type": "code",
      "metadata": {
        "id": "avX72D0AI3nc"
      },
      "source": [
        "df = df.dropna()"
      ],
      "execution_count": null,
      "outputs": []
    },
    {
      "cell_type": "code",
      "metadata": {
        "colab": {
          "base_uri": "https://localhost:8080/",
          "height": 238
        },
        "id": "XsWYIA_iYiYm",
        "outputId": "b0fe51d3-d6ca-4d19-af3e-21247c6c59c0"
      },
      "source": [
        "df = pd.get_dummies(df)\n",
        "cols = df.columns.tolist()\n",
        "cols.remove('Indicators')\n",
        "cols.append('Indicators')\n",
        "df = df[cols]\n",
        "df.head() "
      ],
      "execution_count": null,
      "outputs": [
        {
          "output_type": "execute_result",
          "data": {
            "text/html": [
              "<div>\n",
              "<style scoped>\n",
              "    .dataframe tbody tr th:only-of-type {\n",
              "        vertical-align: middle;\n",
              "    }\n",
              "\n",
              "    .dataframe tbody tr th {\n",
              "        vertical-align: top;\n",
              "    }\n",
              "\n",
              "    .dataframe thead th {\n",
              "        text-align: right;\n",
              "    }\n",
              "</style>\n",
              "<table border=\"1\" class=\"dataframe\">\n",
              "  <thead>\n",
              "    <tr style=\"text-align: right;\">\n",
              "      <th></th>\n",
              "      <th>Applied Loan Amount</th>\n",
              "      <th>Applied Loan Tenor</th>\n",
              "      <th>Gender</th>\n",
              "      <th>Age</th>\n",
              "      <th>Monthly Housing/Rental</th>\n",
              "      <th>Monthly Income</th>\n",
              "      <th>Education Level_Form 3 or below</th>\n",
              "      <th>Education Level_No Response</th>\n",
              "      <th>Education Level_Post Graduate</th>\n",
              "      <th>Education Level_Post Secondary</th>\n",
              "      <th>Education Level_Primary</th>\n",
              "      <th>Education Level_Secondary</th>\n",
              "      <th>Education Level_University</th>\n",
              "      <th>Indicators</th>\n",
              "    </tr>\n",
              "  </thead>\n",
              "  <tbody>\n",
              "    <tr>\n",
              "      <th>0</th>\n",
              "      <td>60000</td>\n",
              "      <td>24</td>\n",
              "      <td>1</td>\n",
              "      <td>22.301</td>\n",
              "      <td>0.0</td>\n",
              "      <td>10245.0</td>\n",
              "      <td>0</td>\n",
              "      <td>0</td>\n",
              "      <td>0</td>\n",
              "      <td>0</td>\n",
              "      <td>0</td>\n",
              "      <td>1</td>\n",
              "      <td>0</td>\n",
              "      <td>0</td>\n",
              "    </tr>\n",
              "    <tr>\n",
              "      <th>1</th>\n",
              "      <td>100000</td>\n",
              "      <td>60</td>\n",
              "      <td>1</td>\n",
              "      <td>33.159</td>\n",
              "      <td>0.0</td>\n",
              "      <td>10000.0</td>\n",
              "      <td>1</td>\n",
              "      <td>0</td>\n",
              "      <td>0</td>\n",
              "      <td>0</td>\n",
              "      <td>0</td>\n",
              "      <td>0</td>\n",
              "      <td>0</td>\n",
              "      <td>0</td>\n",
              "    </tr>\n",
              "    <tr>\n",
              "      <th>2</th>\n",
              "      <td>50000</td>\n",
              "      <td>24</td>\n",
              "      <td>0</td>\n",
              "      <td>28.389</td>\n",
              "      <td>2000.0</td>\n",
              "      <td>9700.0</td>\n",
              "      <td>0</td>\n",
              "      <td>0</td>\n",
              "      <td>0</td>\n",
              "      <td>0</td>\n",
              "      <td>0</td>\n",
              "      <td>0</td>\n",
              "      <td>1</td>\n",
              "      <td>0</td>\n",
              "    </tr>\n",
              "    <tr>\n",
              "      <th>3</th>\n",
              "      <td>70000</td>\n",
              "      <td>36</td>\n",
              "      <td>1</td>\n",
              "      <td>35.573</td>\n",
              "      <td>1200.0</td>\n",
              "      <td>23000.0</td>\n",
              "      <td>0</td>\n",
              "      <td>0</td>\n",
              "      <td>1</td>\n",
              "      <td>0</td>\n",
              "      <td>0</td>\n",
              "      <td>0</td>\n",
              "      <td>0</td>\n",
              "      <td>0</td>\n",
              "    </tr>\n",
              "    <tr>\n",
              "      <th>4</th>\n",
              "      <td>300000</td>\n",
              "      <td>60</td>\n",
              "      <td>0</td>\n",
              "      <td>30.849</td>\n",
              "      <td>11000.0</td>\n",
              "      <td>34000.0</td>\n",
              "      <td>0</td>\n",
              "      <td>0</td>\n",
              "      <td>0</td>\n",
              "      <td>0</td>\n",
              "      <td>0</td>\n",
              "      <td>0</td>\n",
              "      <td>1</td>\n",
              "      <td>0</td>\n",
              "    </tr>\n",
              "  </tbody>\n",
              "</table>\n",
              "</div>"
            ],
            "text/plain": [
              "   Applied Loan Amount  ...  Indicators\n",
              "0                60000  ...           0\n",
              "1               100000  ...           0\n",
              "2                50000  ...           0\n",
              "3                70000  ...           0\n",
              "4               300000  ...           0\n",
              "\n",
              "[5 rows x 14 columns]"
            ]
          },
          "metadata": {
            "tags": []
          },
          "execution_count": 4
        }
      ]
    },
    {
      "cell_type": "code",
      "metadata": {
        "colab": {
          "base_uri": "https://localhost:8080/"
        },
        "id": "_mJCLwBvfzFn",
        "outputId": "bfedec9f-5588-4779-fe56-fe314553a1bd"
      },
      "source": [
        "# df = df.astype(np.float64)\n",
        "# df[\"Final_Status (Y/N)\"].astype(int)\n",
        "df.dtypes"
      ],
      "execution_count": null,
      "outputs": [
        {
          "output_type": "execute_result",
          "data": {
            "text/plain": [
              "Applied Loan Amount                  int64\n",
              "Applied Loan Tenor                   int64\n",
              "Gender                               int64\n",
              "Age                                float64\n",
              "Monthly Housing/Rental             float64\n",
              "Monthly Income                     float64\n",
              "Education Level_Form 3 or below      uint8\n",
              "Education Level_No Response          uint8\n",
              "Education Level_Post Graduate        uint8\n",
              "Education Level_Post Secondary       uint8\n",
              "Education Level_Primary              uint8\n",
              "Education Level_Secondary            uint8\n",
              "Education Level_University           uint8\n",
              "Indicators                           int64\n",
              "dtype: object"
            ]
          },
          "metadata": {
            "tags": []
          },
          "execution_count": 5
        }
      ]
    },
    {
      "cell_type": "code",
      "metadata": {
        "id": "ZmD3OfVGZEp7"
      },
      "source": [
        "# df['Class_att'] = df['Class_att'].astype('category')\n",
        "# encode_map = {\n",
        "#     'Abnormal': 1,\n",
        "#     'Normal': 0\n",
        "# }\n",
        "\n",
        "# df['Class_att'].replace(encode_map, inplace=True)"
      ],
      "execution_count": null,
      "outputs": []
    },
    {
      "cell_type": "code",
      "metadata": {
        "colab": {
          "base_uri": "https://localhost:8080/",
          "height": 296
        },
        "id": "ue8sL8oD25xm",
        "outputId": "bd9f103e-d8b8-4508-85b2-c6085a3ac524"
      },
      "source": [
        "sns.countplot(x = 'Indicators', data=df)"
      ],
      "execution_count": null,
      "outputs": [
        {
          "output_type": "execute_result",
          "data": {
            "text/plain": [
              "<matplotlib.axes._subplots.AxesSubplot at 0x7fb59d584748>"
            ]
          },
          "metadata": {
            "tags": []
          },
          "execution_count": 7
        },
        {
          "output_type": "display_data",
          "data": {
            "image/png": "[encoded data removed]",
            "text/plain": [
              "<Figure size 432x288 with 1 Axes>"
            ]
          },
          "metadata": {
            "tags": [],
            "needs_background": "light"
          }
        }
      ]
    },
    {
      "cell_type": "code",
      "metadata": {
        "id": "wh4AamM-3Az9"
      },
      "source": [
        "X = df.iloc[:, 0:-1]\n",
        "y = df.iloc[:, -1]"
      ],
      "execution_count": null,
      "outputs": []
    },
    {
      "cell_type": "code",
      "metadata": {
        "id": "8wCEr7DFaC_s",
        "colab": {
          "base_uri": "https://localhost:8080/"
        },
        "outputId": "c58dc696-a9b2-46bb-a952-7671e6d1b072"
      },
      "source": [
        "print(X.shape, y.shape)"
      ],
      "execution_count": null,
      "outputs": [
        {
          "output_type": "stream",
          "text": [
            "(11669, 13) (11669,)\n"
          ],
          "name": "stdout"
        }
      ]
    },
    {
      "cell_type": "code",
      "metadata": {
        "colab": {
          "base_uri": "https://localhost:8080/"
        },
        "id": "G_P5vxxa3Jxt",
        "outputId": "0fb74660-fd13-44b2-a043-fd1a0c6a2244"
      },
      "source": [
        "np.any(np.isnan(y))"
      ],
      "execution_count": null,
      "outputs": [
        {
          "output_type": "execute_result",
          "data": {
            "text/plain": [
              "False"
            ]
          },
          "metadata": {
            "tags": []
          },
          "execution_count": 10
        }
      ]
    },
    {
      "cell_type": "code",
      "metadata": {
        "id": "eaRuRf-C3KXG"
      },
      "source": [
        "X_train, X_test, y_train, y_test = train_test_split(X, y, test_size=0.33, random_state=42)"
      ],
      "execution_count": null,
      "outputs": []
    },
    {
      "cell_type": "code",
      "metadata": {
        "id": "1BPpSRS_3bpT"
      },
      "source": [
        "scaler = StandardScaler()\n",
        "X_train = scaler.fit_transform(X_train)\n",
        "X_test = scaler.fit_transform(X_test)"
      ],
      "execution_count": null,
      "outputs": []
    },
    {
      "cell_type": "code",
      "metadata": {
        "colab": {
          "base_uri": "https://localhost:8080/"
        },
        "id": "j1ciBz7S3rt5",
        "outputId": "b0e96a7f-b272-4cbb-cb20-73cf39e7b4af"
      },
      "source": [
        "print(X_train.shape, X_test.shape)"
      ],
      "execution_count": null,
      "outputs": [
        {
          "output_type": "stream",
          "text": [
            "(7818, 13) (3851, 13)\n"
          ],
          "name": "stdout"
        }
      ]
    },
    {
      "cell_type": "code",
      "metadata": {
        "id": "16o0pu823uP4"
      },
      "source": [
        "EPOCHS = 200\n",
        "BATCH_SIZE = 64\n",
        "LEARNING_RATE = 0.001"
      ],
      "execution_count": null,
      "outputs": []
    },
    {
      "cell_type": "code",
      "metadata": {
        "id": "vVVMj8foGMga"
      },
      "source": [
        "## train data\n",
        "class trainData(Dataset):\n",
        "    \n",
        "    def __init__(self, X_data, y_data):\n",
        "        self.X_data = X_data\n",
        "        self.y_data = y_data\n",
        "        \n",
        "    def __getitem__(self, index):\n",
        "        return self.X_data[index], self.y_data[index]\n",
        "        \n",
        "    def __len__ (self):\n",
        "        return len(self.X_data)\n",
        "\n",
        "\n",
        "train_data = trainData(torch.FloatTensor(X_train), \n",
        "                       torch.FloatTensor(torch.Tensor(y_train.values)))\n",
        "## test data    \n",
        "class testData(Dataset):\n",
        "    \n",
        "    def __init__(self, X_data):\n",
        "        self.X_data = X_data\n",
        "        \n",
        "    def __getitem__(self, index):\n",
        "        return self.X_data[index]\n",
        "        \n",
        "    def __len__ (self):\n",
        "        return len(self.X_data)\n",
        "    \n",
        "\n",
        "test_data = testData(torch.FloatTensor(X_test))"
      ],
      "execution_count": null,
      "outputs": []
    },
    {
      "cell_type": "code",
      "metadata": {
        "id": "7SPYrIRJHJuC"
      },
      "source": [
        "train_loader = DataLoader(dataset=train_data, batch_size=BATCH_SIZE, shuffle=True)\n",
        "test_loader = DataLoader(dataset=test_data, batch_size=1) # may need increase later"
      ],
      "execution_count": null,
      "outputs": []
    },
    {
      "cell_type": "code",
      "metadata": {
        "id": "Wuo5hNoFHOi6"
      },
      "source": [
        "class binaryClassification(nn.Module):\n",
        "    def __init__(self):\n",
        "        super(binaryClassification, self).__init__()\n",
        "        # Number of input features is 12.\n",
        "        self.layer_1 = nn.Linear(13, 32) \n",
        "        self.layer_2 = nn.Linear(32, 64)\n",
        "        self.layer_out = nn.Linear(64, 1) \n",
        "        \n",
        "        self.relu = nn.ReLU()\n",
        "        self.dropout = nn.Dropout(p=0.1)\n",
        "        self.batchnorm1 = nn.BatchNorm1d(32)\n",
        "        self.batchnorm2 = nn.BatchNorm1d(64)\n",
        "        \n",
        "    def forward(self, inputs):\n",
        "        x = self.relu(self.layer_1(inputs))\n",
        "        x = self.batchnorm1(x)\n",
        "        x = self.relu(self.layer_2(x))\n",
        "        x = self.batchnorm2(x)\n",
        "        x = self.dropout(x)\n",
        "        x = self.layer_out(x)\n",
        "        \n",
        "        return x"
      ],
      "execution_count": null,
      "outputs": []
    },
    {
      "cell_type": "code",
      "metadata": {
        "colab": {
          "base_uri": "https://localhost:8080/"
        },
        "id": "DzVhwSTkHcoc",
        "outputId": "03e66f13-32b2-46d4-ac64-3697b69c084f"
      },
      "source": [
        "device = torch.device(\"cuda:0\" if torch.cuda.is_available() else \"cpu\")\n",
        "print(device)\n",
        "###############"
      ],
      "execution_count": null,
      "outputs": [
        {
          "output_type": "stream",
          "text": [
            "cpu\n"
          ],
          "name": "stdout"
        }
      ]
    },
    {
      "cell_type": "code",
      "metadata": {
        "colab": {
          "base_uri": "https://localhost:8080/"
        },
        "id": "Ts-WGSyqHfGM",
        "outputId": "1db4c106-cd6b-481b-b3a0-f55f8b46c35a"
      },
      "source": [
        "model = binaryClassification()\n",
        "model.to(device)\n",
        "print(model)\n",
        "criterion = nn.BCEWithLogitsLoss()\n",
        "optimizer = optim.SGD(model.parameters(), lr=LEARNING_RATE)"
      ],
      "execution_count": null,
      "outputs": [
        {
          "output_type": "stream",
          "text": [
            "binaryClassification(\n",
            "  (layer_1): Linear(in_features=13, out_features=32, bias=True)\n",
            "  (layer_2): Linear(in_features=32, out_features=64, bias=True)\n",
            "  (layer_out): Linear(in_features=64, out_features=1, bias=True)\n",
            "  (relu): ReLU()\n",
            "  (dropout): Dropout(p=0.1, inplace=False)\n",
            "  (batchnorm1): BatchNorm1d(32, eps=1e-05, momentum=0.1, affine=True, track_running_stats=True)\n",
            "  (batchnorm2): BatchNorm1d(64, eps=1e-05, momentum=0.1, affine=True, track_running_stats=True)\n",
            ")\n"
          ],
          "name": "stdout"
        }
      ]
    },
    {
      "cell_type": "code",
      "metadata": {
        "id": "07Hyj1KzHhqR"
      },
      "source": [
        "def binary_acc(y_pred, y_test):\n",
        "    y_pred_tag = torch.round(torch.sigmoid(y_pred))\n",
        "\n",
        "    correct_results_sum = (y_pred_tag == y_test).sum().float()\n",
        "    acc = correct_results_sum/y_test.shape[0]\n",
        "    acc = torch.round(acc * 100)\n",
        "    \n",
        "    return acc"
      ],
      "execution_count": null,
      "outputs": []
    },
    {
      "cell_type": "code",
      "metadata": {
        "colab": {
          "base_uri": "https://localhost:8080/"
        },
        "id": "UcvpKapcHmVM",
        "outputId": "3488b7b5-279f-4a2e-a69d-3eb1a580ddc5"
      },
      "source": [
        "model.train()\n",
        "e_loss = []\n",
        "e_acc = []\n",
        "timelist = []\n",
        "for e in range(1, EPOCHS+1):\n",
        "    epoch_loss = 0\n",
        "    epoch_acc = 0\n",
        "    start_time = time.time()\n",
        "    for X_batch, y_batch in train_loader:\n",
        "        X_batch, y_batch = X_batch.to(device), y_batch.to(device)\n",
        "        optimizer.zero_grad()\n",
        "        \n",
        "        y_pred = model(X_batch)\n",
        "        \n",
        "        loss = criterion(y_pred, y_batch.unsqueeze(1))\n",
        "        acc = binary_acc(y_pred, y_batch.unsqueeze(1))\n",
        "        \n",
        "        loss.backward()\n",
        "        optimizer.step()\n",
        "        \n",
        "        epoch_loss += loss.item()\n",
        "        epoch_acc += acc.item()\n",
        "    total_time = time.time() - start_time\n",
        "    timelist.append(total_time)\n",
        "    e_loss.append(epoch_loss/len(train_loader)) # for plt\n",
        "    e_acc.append(epoch_acc/len(train_loader)) # for plt\n",
        "    print(f'Epoch {e+0:03}: | Loss: {epoch_loss/len(train_loader):.5f} | Acc: {epoch_acc/len(train_loader):.3f} | Time: {total_time:.3f}')"
      ],
      "execution_count": null,
      "outputs": [
        {
          "output_type": "stream",
          "text": [
            "Epoch 001: | Loss: 0.69313 | Acc: 55.033 | Time: 0.307\n",
            "Epoch 002: | Loss: 0.66588 | Acc: 59.545 | Time: 0.302\n",
            "Epoch 003: | Loss: 0.64844 | Acc: 62.813 | Time: 0.294\n",
            "Epoch 004: | Loss: 0.63526 | Acc: 64.553 | Time: 0.306\n",
            "Epoch 005: | Loss: 0.62786 | Acc: 65.780 | Time: 0.299\n",
            "Epoch 006: | Loss: 0.62096 | Acc: 66.146 | Time: 0.334\n",
            "Epoch 007: | Loss: 0.61904 | Acc: 66.423 | Time: 0.296\n",
            "Epoch 008: | Loss: 0.61224 | Acc: 67.016 | Time: 0.308\n",
            "Epoch 009: | Loss: 0.60989 | Acc: 67.407 | Time: 0.295\n",
            "Epoch 010: | Loss: 0.61036 | Acc: 67.593 | Time: 0.294\n",
            "Epoch 011: | Loss: 0.60616 | Acc: 67.813 | Time: 0.298\n",
            "Epoch 012: | Loss: 0.60226 | Acc: 68.260 | Time: 0.305\n",
            "Epoch 013: | Loss: 0.60279 | Acc: 68.504 | Time: 0.292\n",
            "Epoch 014: | Loss: 0.60025 | Acc: 68.504 | Time: 0.302\n",
            "Epoch 015: | Loss: 0.59891 | Acc: 68.870 | Time: 0.297\n",
            "Epoch 016: | Loss: 0.59527 | Acc: 68.878 | Time: 0.305\n",
            "Epoch 017: | Loss: 0.59747 | Acc: 68.943 | Time: 0.296\n",
            "Epoch 018: | Loss: 0.59352 | Acc: 69.171 | Time: 0.317\n",
            "Epoch 019: | Loss: 0.59536 | Acc: 68.927 | Time: 0.295\n",
            "Epoch 020: | Loss: 0.59065 | Acc: 69.439 | Time: 0.293\n",
            "Epoch 021: | Loss: 0.59286 | Acc: 69.008 | Time: 0.302\n",
            "Epoch 022: | Loss: 0.59228 | Acc: 69.463 | Time: 0.296\n",
            "Epoch 023: | Loss: 0.59580 | Acc: 69.545 | Time: 0.297\n",
            "Epoch 024: | Loss: 0.59483 | Acc: 68.927 | Time: 0.302\n",
            "Epoch 025: | Loss: 0.58810 | Acc: 69.520 | Time: 0.293\n",
            "Epoch 026: | Loss: 0.58820 | Acc: 69.984 | Time: 0.317\n",
            "Epoch 027: | Loss: 0.59093 | Acc: 69.528 | Time: 0.292\n",
            "Epoch 028: | Loss: 0.59291 | Acc: 69.447 | Time: 0.300\n",
            "Epoch 029: | Loss: 0.59238 | Acc: 69.496 | Time: 0.294\n",
            "Epoch 030: | Loss: 0.58837 | Acc: 70.098 | Time: 0.293\n",
            "Epoch 031: | Loss: 0.58556 | Acc: 69.959 | Time: 0.296\n",
            "Epoch 032: | Loss: 0.58800 | Acc: 69.878 | Time: 0.298\n",
            "Epoch 033: | Loss: 0.58673 | Acc: 70.187 | Time: 0.301\n",
            "Epoch 034: | Loss: 0.58547 | Acc: 69.894 | Time: 0.286\n",
            "Epoch 035: | Loss: 0.58773 | Acc: 69.252 | Time: 0.304\n",
            "Epoch 036: | Loss: 0.58297 | Acc: 70.520 | Time: 0.290\n",
            "Epoch 037: | Loss: 0.58619 | Acc: 70.276 | Time: 0.288\n",
            "Epoch 038: | Loss: 0.58791 | Acc: 69.862 | Time: 0.305\n",
            "Epoch 039: | Loss: 0.58294 | Acc: 70.488 | Time: 0.303\n",
            "Epoch 040: | Loss: 0.58553 | Acc: 70.024 | Time: 0.288\n",
            "Epoch 041: | Loss: 0.58410 | Acc: 69.967 | Time: 0.288\n",
            "Epoch 042: | Loss: 0.58584 | Acc: 70.220 | Time: 0.296\n",
            "Epoch 043: | Loss: 0.58175 | Acc: 70.317 | Time: 0.290\n",
            "Epoch 044: | Loss: 0.58395 | Acc: 70.463 | Time: 0.290\n",
            "Epoch 045: | Loss: 0.58472 | Acc: 70.415 | Time: 0.294\n",
            "Epoch 046: | Loss: 0.58342 | Acc: 70.220 | Time: 0.291\n",
            "Epoch 047: | Loss: 0.58135 | Acc: 70.919 | Time: 0.289\n",
            "Epoch 048: | Loss: 0.58308 | Acc: 70.496 | Time: 0.303\n",
            "Epoch 049: | Loss: 0.58231 | Acc: 70.390 | Time: 0.286\n",
            "Epoch 050: | Loss: 0.58306 | Acc: 70.390 | Time: 0.290\n",
            "Epoch 051: | Loss: 0.58231 | Acc: 70.390 | Time: 0.293\n",
            "Epoch 052: | Loss: 0.58578 | Acc: 70.366 | Time: 0.306\n",
            "Epoch 053: | Loss: 0.58579 | Acc: 70.325 | Time: 0.285\n",
            "Epoch 054: | Loss: 0.58331 | Acc: 70.179 | Time: 0.292\n",
            "Epoch 055: | Loss: 0.57834 | Acc: 70.927 | Time: 0.294\n",
            "Epoch 056: | Loss: 0.57948 | Acc: 70.805 | Time: 0.291\n",
            "Epoch 057: | Loss: 0.57759 | Acc: 70.748 | Time: 0.295\n",
            "Epoch 058: | Loss: 0.57802 | Acc: 70.976 | Time: 0.294\n",
            "Epoch 059: | Loss: 0.57741 | Acc: 70.959 | Time: 0.301\n",
            "Epoch 060: | Loss: 0.57898 | Acc: 70.927 | Time: 0.290\n",
            "Epoch 061: | Loss: 0.57954 | Acc: 70.756 | Time: 0.291\n",
            "Epoch 062: | Loss: 0.57854 | Acc: 70.894 | Time: 0.292\n",
            "Epoch 063: | Loss: 0.58189 | Acc: 70.512 | Time: 0.292\n",
            "Epoch 064: | Loss: 0.57951 | Acc: 70.480 | Time: 0.297\n",
            "Epoch 065: | Loss: 0.58109 | Acc: 70.667 | Time: 0.286\n",
            "Epoch 066: | Loss: 0.58065 | Acc: 70.659 | Time: 0.305\n",
            "Epoch 067: | Loss: 0.58018 | Acc: 70.642 | Time: 0.295\n",
            "Epoch 068: | Loss: 0.57853 | Acc: 70.724 | Time: 0.290\n",
            "Epoch 069: | Loss: 0.57811 | Acc: 70.512 | Time: 0.299\n",
            "Epoch 070: | Loss: 0.57657 | Acc: 70.683 | Time: 0.287\n",
            "Epoch 071: | Loss: 0.57837 | Acc: 70.610 | Time: 0.301\n",
            "Epoch 072: | Loss: 0.58039 | Acc: 70.683 | Time: 0.287\n",
            "Epoch 073: | Loss: 0.57774 | Acc: 70.545 | Time: 0.295\n",
            "Epoch 074: | Loss: 0.57834 | Acc: 71.187 | Time: 0.288\n",
            "Epoch 075: | Loss: 0.57777 | Acc: 70.569 | Time: 0.290\n",
            "Epoch 076: | Loss: 0.57735 | Acc: 70.911 | Time: 0.299\n",
            "Epoch 077: | Loss: 0.57614 | Acc: 70.772 | Time: 0.305\n",
            "Epoch 078: | Loss: 0.57579 | Acc: 71.154 | Time: 0.287\n",
            "Epoch 079: | Loss: 0.57645 | Acc: 71.106 | Time: 0.287\n",
            "Epoch 080: | Loss: 0.57702 | Acc: 70.902 | Time: 0.292\n",
            "Epoch 081: | Loss: 0.57591 | Acc: 71.098 | Time: 0.285\n",
            "Epoch 082: | Loss: 0.57873 | Acc: 70.846 | Time: 0.286\n",
            "Epoch 083: | Loss: 0.57474 | Acc: 71.268 | Time: 0.295\n",
            "Epoch 084: | Loss: 0.57455 | Acc: 70.943 | Time: 0.297\n",
            "Epoch 085: | Loss: 0.57699 | Acc: 70.911 | Time: 0.289\n",
            "Epoch 086: | Loss: 0.57776 | Acc: 70.463 | Time: 0.294\n",
            "Epoch 087: | Loss: 0.57619 | Acc: 70.561 | Time: 0.295\n",
            "Epoch 088: | Loss: 0.57735 | Acc: 70.528 | Time: 0.286\n",
            "Epoch 089: | Loss: 0.57564 | Acc: 71.089 | Time: 0.296\n",
            "Epoch 090: | Loss: 0.57649 | Acc: 70.976 | Time: 0.297\n",
            "Epoch 091: | Loss: 0.57429 | Acc: 71.220 | Time: 0.298\n",
            "Epoch 092: | Loss: 0.57295 | Acc: 70.992 | Time: 0.285\n",
            "Epoch 093: | Loss: 0.57281 | Acc: 71.244 | Time: 0.292\n",
            "Epoch 094: | Loss: 0.57373 | Acc: 70.951 | Time: 0.294\n",
            "Epoch 095: | Loss: 0.57178 | Acc: 71.943 | Time: 0.288\n",
            "Epoch 096: | Loss: 0.57360 | Acc: 71.382 | Time: 0.286\n",
            "Epoch 097: | Loss: 0.57597 | Acc: 70.618 | Time: 0.293\n",
            "Epoch 098: | Loss: 0.57818 | Acc: 70.561 | Time: 0.299\n",
            "Epoch 099: | Loss: 0.57525 | Acc: 70.959 | Time: 0.291\n",
            "Epoch 100: | Loss: 0.57327 | Acc: 71.041 | Time: 0.293\n",
            "Epoch 101: | Loss: 0.57305 | Acc: 71.301 | Time: 0.321\n",
            "Epoch 102: | Loss: 0.57355 | Acc: 71.049 | Time: 0.288\n",
            "Epoch 103: | Loss: 0.57484 | Acc: 71.041 | Time: 0.286\n",
            "Epoch 104: | Loss: 0.57405 | Acc: 71.220 | Time: 0.294\n",
            "Epoch 105: | Loss: 0.57470 | Acc: 71.252 | Time: 0.285\n",
            "Epoch 106: | Loss: 0.57209 | Acc: 71.561 | Time: 0.299\n",
            "Epoch 107: | Loss: 0.57104 | Acc: 71.366 | Time: 0.300\n",
            "Epoch 108: | Loss: 0.57346 | Acc: 71.309 | Time: 0.290\n",
            "Epoch 109: | Loss: 0.57534 | Acc: 71.049 | Time: 0.285\n",
            "Epoch 110: | Loss: 0.57553 | Acc: 71.203 | Time: 0.291\n",
            "Epoch 111: | Loss: 0.57250 | Acc: 71.228 | Time: 0.291\n",
            "Epoch 112: | Loss: 0.57506 | Acc: 71.000 | Time: 0.290\n",
            "Epoch 113: | Loss: 0.57443 | Acc: 71.106 | Time: 0.285\n",
            "Epoch 114: | Loss: 0.57517 | Acc: 71.130 | Time: 0.310\n",
            "Epoch 115: | Loss: 0.57317 | Acc: 71.024 | Time: 0.288\n",
            "Epoch 116: | Loss: 0.57395 | Acc: 71.187 | Time: 0.288\n",
            "Epoch 117: | Loss: 0.57523 | Acc: 71.187 | Time: 0.290\n",
            "Epoch 118: | Loss: 0.56883 | Acc: 71.805 | Time: 0.295\n",
            "Epoch 119: | Loss: 0.57179 | Acc: 71.350 | Time: 0.285\n",
            "Epoch 120: | Loss: 0.57314 | Acc: 71.065 | Time: 0.284\n",
            "Epoch 121: | Loss: 0.57180 | Acc: 71.512 | Time: 0.292\n",
            "Epoch 122: | Loss: 0.57070 | Acc: 71.610 | Time: 0.296\n",
            "Epoch 123: | Loss: 0.57192 | Acc: 71.252 | Time: 0.290\n",
            "Epoch 124: | Loss: 0.57309 | Acc: 71.171 | Time: 0.286\n",
            "Epoch 125: | Loss: 0.56766 | Acc: 71.797 | Time: 0.302\n",
            "Epoch 126: | Loss: 0.57290 | Acc: 71.350 | Time: 0.292\n",
            "Epoch 127: | Loss: 0.57180 | Acc: 71.049 | Time: 0.299\n",
            "Epoch 128: | Loss: 0.57181 | Acc: 71.593 | Time: 0.293\n",
            "Epoch 129: | Loss: 0.56774 | Acc: 71.911 | Time: 0.291\n",
            "Epoch 130: | Loss: 0.56872 | Acc: 71.585 | Time: 0.292\n",
            "Epoch 131: | Loss: 0.57011 | Acc: 71.252 | Time: 0.291\n",
            "Epoch 132: | Loss: 0.56999 | Acc: 71.593 | Time: 0.295\n",
            "Epoch 133: | Loss: 0.57035 | Acc: 71.675 | Time: 0.289\n",
            "Epoch 134: | Loss: 0.57027 | Acc: 71.967 | Time: 0.286\n",
            "Epoch 135: | Loss: 0.57053 | Acc: 71.374 | Time: 0.302\n",
            "Epoch 136: | Loss: 0.57093 | Acc: 71.447 | Time: 0.304\n",
            "Epoch 137: | Loss: 0.56825 | Acc: 71.634 | Time: 0.287\n",
            "Epoch 138: | Loss: 0.56953 | Acc: 70.935 | Time: 0.293\n",
            "Epoch 139: | Loss: 0.57394 | Acc: 71.423 | Time: 0.292\n",
            "Epoch 140: | Loss: 0.56926 | Acc: 70.951 | Time: 0.286\n",
            "Epoch 141: | Loss: 0.57064 | Acc: 71.220 | Time: 0.293\n",
            "Epoch 142: | Loss: 0.56986 | Acc: 71.317 | Time: 0.316\n",
            "Epoch 143: | Loss: 0.57116 | Acc: 71.016 | Time: 0.290\n",
            "Epoch 144: | Loss: 0.57017 | Acc: 71.472 | Time: 0.292\n",
            "Epoch 145: | Loss: 0.57214 | Acc: 71.439 | Time: 0.290\n",
            "Epoch 146: | Loss: 0.56739 | Acc: 71.350 | Time: 0.289\n",
            "Epoch 147: | Loss: 0.57211 | Acc: 71.187 | Time: 0.300\n",
            "Epoch 148: | Loss: 0.57439 | Acc: 70.878 | Time: 0.296\n",
            "Epoch 149: | Loss: 0.56945 | Acc: 71.780 | Time: 0.303\n",
            "Epoch 150: | Loss: 0.57084 | Acc: 71.431 | Time: 0.291\n",
            "Epoch 151: | Loss: 0.56774 | Acc: 71.618 | Time: 0.292\n",
            "Epoch 152: | Loss: 0.56724 | Acc: 71.707 | Time: 0.289\n",
            "Epoch 153: | Loss: 0.56654 | Acc: 71.244 | Time: 0.297\n",
            "Epoch 154: | Loss: 0.56787 | Acc: 71.585 | Time: 0.288\n",
            "Epoch 155: | Loss: 0.57114 | Acc: 71.593 | Time: 0.291\n",
            "Epoch 156: | Loss: 0.56847 | Acc: 71.447 | Time: 0.306\n",
            "Epoch 157: | Loss: 0.56811 | Acc: 71.528 | Time: 0.290\n",
            "Epoch 158: | Loss: 0.56852 | Acc: 71.740 | Time: 0.295\n",
            "Epoch 159: | Loss: 0.56669 | Acc: 71.691 | Time: 0.302\n",
            "Epoch 160: | Loss: 0.56821 | Acc: 71.447 | Time: 0.295\n",
            "Epoch 161: | Loss: 0.57141 | Acc: 71.285 | Time: 0.291\n",
            "Epoch 162: | Loss: 0.56880 | Acc: 71.569 | Time: 0.285\n",
            "Epoch 163: | Loss: 0.57039 | Acc: 70.894 | Time: 0.292\n",
            "Epoch 164: | Loss: 0.56847 | Acc: 71.675 | Time: 0.290\n",
            "Epoch 165: | Loss: 0.56842 | Acc: 71.797 | Time: 0.294\n",
            "Epoch 166: | Loss: 0.57033 | Acc: 71.789 | Time: 0.309\n",
            "Epoch 167: | Loss: 0.56711 | Acc: 71.724 | Time: 0.291\n",
            "Epoch 168: | Loss: 0.56556 | Acc: 72.179 | Time: 0.287\n",
            "Epoch 169: | Loss: 0.56450 | Acc: 71.967 | Time: 0.287\n",
            "Epoch 170: | Loss: 0.56673 | Acc: 71.496 | Time: 0.290\n",
            "Epoch 171: | Loss: 0.56578 | Acc: 71.642 | Time: 0.302\n",
            "Epoch 172: | Loss: 0.56541 | Acc: 72.252 | Time: 0.287\n",
            "Epoch 173: | Loss: 0.56721 | Acc: 71.724 | Time: 0.309\n",
            "Epoch 174: | Loss: 0.56931 | Acc: 71.366 | Time: 0.292\n",
            "Epoch 175: | Loss: 0.56517 | Acc: 71.634 | Time: 0.290\n",
            "Epoch 176: | Loss: 0.56638 | Acc: 71.439 | Time: 0.294\n",
            "Epoch 177: | Loss: 0.56831 | Acc: 71.748 | Time: 0.295\n",
            "Epoch 178: | Loss: 0.56565 | Acc: 71.846 | Time: 0.291\n",
            "Epoch 179: | Loss: 0.56747 | Acc: 71.886 | Time: 0.284\n",
            "Epoch 180: | Loss: 0.57112 | Acc: 71.797 | Time: 0.295\n",
            "Epoch 181: | Loss: 0.56450 | Acc: 71.780 | Time: 0.290\n",
            "Epoch 182: | Loss: 0.56342 | Acc: 71.870 | Time: 0.289\n",
            "Epoch 183: | Loss: 0.56716 | Acc: 71.325 | Time: 0.309\n",
            "Epoch 184: | Loss: 0.56477 | Acc: 72.114 | Time: 0.291\n",
            "Epoch 185: | Loss: 0.56864 | Acc: 71.886 | Time: 0.292\n",
            "Epoch 186: | Loss: 0.56516 | Acc: 71.764 | Time: 0.288\n",
            "Epoch 187: | Loss: 0.56702 | Acc: 71.935 | Time: 0.295\n",
            "Epoch 188: | Loss: 0.56456 | Acc: 71.610 | Time: 0.293\n",
            "Epoch 189: | Loss: 0.56699 | Acc: 71.366 | Time: 0.291\n",
            "Epoch 190: | Loss: 0.56725 | Acc: 71.553 | Time: 0.299\n",
            "Epoch 191: | Loss: 0.56670 | Acc: 71.748 | Time: 0.288\n",
            "Epoch 192: | Loss: 0.56632 | Acc: 71.789 | Time: 0.297\n",
            "Epoch 193: | Loss: 0.56573 | Acc: 71.789 | Time: 0.285\n",
            "Epoch 194: | Loss: 0.56532 | Acc: 71.984 | Time: 0.310\n",
            "Epoch 195: | Loss: 0.56740 | Acc: 71.797 | Time: 0.287\n",
            "Epoch 196: | Loss: 0.56498 | Acc: 71.821 | Time: 0.288\n",
            "Epoch 197: | Loss: 0.56456 | Acc: 71.569 | Time: 0.299\n",
            "Epoch 198: | Loss: 0.56022 | Acc: 72.057 | Time: 0.285\n",
            "Epoch 199: | Loss: 0.56479 | Acc: 71.756 | Time: 0.310\n",
            "Epoch 200: | Loss: 0.56479 | Acc: 71.642 | Time: 0.293\n"
          ],
          "name": "stdout"
        }
      ]
    },
    {
      "cell_type": "code",
      "metadata": {
        "id": "2NzgHAKkRGtf"
      },
      "source": [
        "# n_list = np.arange(1, 501).tolist()\n",
        "# n_list = pd.Series(n_list)\n",
        "# time_list = pd.Series(timelist)"
      ],
      "execution_count": null,
      "outputs": []
    },
    {
      "cell_type": "code",
      "metadata": {
        "colab": {
          "base_uri": "https://localhost:8080/"
        },
        "id": "Wk06y2XrRGqK",
        "outputId": "d490c57d-2dd0-4dcb-9c45-862ff4110fbd"
      },
      "source": [
        "import statistics\n",
        "statistics.mean(timelist)"
      ],
      "execution_count": null,
      "outputs": [
        {
          "output_type": "execute_result",
          "data": {
            "text/plain": [
              "0.2944057905673981"
            ]
          },
          "metadata": {
            "tags": []
          },
          "execution_count": 23
        }
      ]
    },
    {
      "cell_type": "code",
      "metadata": {
        "colab": {
          "base_uri": "https://localhost:8080/"
        },
        "id": "K8KQ311QL-eW",
        "outputId": "af728485-9c6d-4fa6-ab73-e99fd5957af3"
      },
      "source": [
        "plt.plot(e_loss)"
      ],
      "execution_count": null,
      "outputs": [
        {
          "output_type": "execute_result",
          "data": {
            "text/plain": [
              "[<matplotlib.lines.Line2D at 0x7fb59bd6cf98>]"
            ]
          },
          "metadata": {
            "tags": []
          },
          "execution_count": 24
        },
        {
          "output_type": "display_data",
          "data": {
            "image/png": "[encoded data removed]",
            "text/plain": [
              "<Figure size 432x288 with 1 Axes>"
            ]
          },
          "metadata": {
            "tags": [],
            "needs_background": "light"
          }
        }
      ]
    },
    {
      "cell_type": "code",
      "metadata": {
        "colab": {
          "base_uri": "https://localhost:8080/"
        },
        "id": "5Xwb9IE6N0Sp",
        "outputId": "9f25715d-d4d2-4451-cebd-af7e21369147"
      },
      "source": [
        "plt.plot(e_acc)"
      ],
      "execution_count": null,
      "outputs": [
        {
          "output_type": "execute_result",
          "data": {
            "text/plain": [
              "[<matplotlib.lines.Line2D at 0x7fb59b4ec1d0>]"
            ]
          },
          "metadata": {
            "tags": []
          },
          "execution_count": 25
        },
        {
          "output_type": "display_data",
          "data": {
            "image/png": "[encoded data removed]",
            "text/plain": [
              "<Figure size 432x288 with 1 Axes>"
            ]
          },
          "metadata": {
            "tags": [],
            "needs_background": "light"
          }
        }
      ]
    },
    {
      "cell_type": "code",
      "metadata": {
        "colab": {
          "base_uri": "https://localhost:8080/",
          "height": 282
        },
        "id": "fTxNUE7AQ9AE",
        "outputId": "4c3b4ed8-5ebe-4c6e-ec49-ab9de53df113"
      },
      "source": [
        "plt.plot(timelist)"
      ],
      "execution_count": null,
      "outputs": [
        {
          "output_type": "execute_result",
          "data": {
            "text/plain": [
              "[<matplotlib.lines.Line2D at 0x7fb59b4da400>]"
            ]
          },
          "metadata": {
            "tags": []
          },
          "execution_count": 26
        },
        {
          "output_type": "display_data",
          "data": {
            "image/png": "[encoded data removed]",
            "text/plain": [
              "<Figure size 432x288 with 1 Axes>"
            ]
          },
          "metadata": {
            "tags": [],
            "needs_background": "light"
          }
        }
      ]
    },
    {
      "cell_type": "code",
      "metadata": {
        "id": "XkmU5dGGHoy_"
      },
      "source": [
        "y_pred_list = []\n",
        "model.eval()\n",
        "with torch.no_grad():\n",
        "    for X_batch in test_loader:\n",
        "        X_batch = X_batch.to(device)\n",
        "        y_test_pred = model(X_batch)\n",
        "        y_test_pred = torch.sigmoid(y_test_pred)\n",
        "        y_pred_tag = torch.round(y_test_pred)\n",
        "        y_pred_list.append(y_pred_tag.cpu().numpy())\n",
        "\n",
        "y_pred_list = [a.squeeze().tolist() for a in y_pred_list]"
      ],
      "execution_count": null,
      "outputs": []
    },
    {
      "cell_type": "code",
      "metadata": {
        "id": "A2ZClPrQGRws"
      },
      "source": [
        ""
      ],
      "execution_count": null,
      "outputs": []
    },
    {
      "cell_type": "code",
      "metadata": {
        "colab": {
          "base_uri": "https://localhost:8080/"
        },
        "id": "L92l4ORgIIx_",
        "outputId": "371c2d44-20fc-49fa-b1b3-044278e17c39"
      },
      "source": [
        "confusion_matrix(y_test, y_pred_list)"
      ],
      "execution_count": null,
      "outputs": [
        {
          "output_type": "execute_result",
          "data": {
            "text/plain": [
              "array([[1616,  419],\n",
              "       [ 695, 1121]])"
            ]
          },
          "metadata": {
            "tags": []
          },
          "execution_count": 28
        }
      ]
    },
    {
      "cell_type": "code",
      "metadata": {
        "id": "GXMIFgsfIJBz",
        "colab": {
          "base_uri": "https://localhost:8080/"
        },
        "outputId": "80621587-4a00-496a-b189-cb549b51cfa1"
      },
      "source": [
        "print(classification_report(y_test, y_pred_list))"
      ],
      "execution_count": null,
      "outputs": [
        {
          "output_type": "stream",
          "text": [
            "              precision    recall  f1-score   support\n",
            "\n",
            "           0       0.70      0.79      0.74      2035\n",
            "           1       0.73      0.62      0.67      1816\n",
            "\n",
            "    accuracy                           0.71      3851\n",
            "   macro avg       0.71      0.71      0.71      3851\n",
            "weighted avg       0.71      0.71      0.71      3851\n",
            "\n"
          ],
          "name": "stdout"
        }
      ]
    },
    {
      "cell_type": "code",
      "metadata": {
        "id": "7UPXR7RxZX2i"
      },
      "source": [
        ""
      ],
      "execution_count": null,
      "outputs": []
    }
  ]
}
