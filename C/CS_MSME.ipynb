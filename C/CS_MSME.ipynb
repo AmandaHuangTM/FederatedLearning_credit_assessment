{
  "nbformat": 4,
  "nbformat_minor": 0,
  "metadata": {
    "colab": {
      "name": "CS MSME.ipynb",
      "provenance": []
    },
    "kernelspec": {
      "name": "python3",
      "display_name": "Python 3"
    }
  },
  "cells": [
    {
      "cell_type": "code",
      "metadata": {
        "id": "G48xlrYj2kwE"
      },
      "source": [
        "import numpy as np\n",
        "import pandas as pd\n",
        "import seaborn as sns\n",
        "import matplotlib.pyplot as plt\n",
        "import time\n",
        "import torch\n",
        "import torch.nn as nn\n",
        "import torch.optim as optim\n",
        "from torch.utils.data import Dataset, DataLoader\n",
        "\n",
        "from sklearn.preprocessing import StandardScaler    \n",
        "from sklearn.model_selection import train_test_split\n",
        "from sklearn.metrics import confusion_matrix, classification_report"
      ],
      "execution_count": null,
      "outputs": []
    },
    {
      "cell_type": "code",
      "metadata": {
        "colab": {
          "base_uri": "https://localhost:8080/",
          "height": 462
        },
        "id": "56nv66rL2v6m",
        "outputId": "cf22e440-098b-47ba-af3c-e08f9ea722f0"
      },
      "source": [
        "df = pd.read_csv(\"dataset_b_msme.csv\")\n",
        "df.head()"
      ],
      "execution_count": null,
      "outputs": [
        {
          "output_type": "execute_result",
          "data": {
            "text/html": [
              "<div>\n",
              "<style scoped>\n",
              "    .dataframe tbody tr th:only-of-type {\n",
              "        vertical-align: middle;\n",
              "    }\n",
              "\n",
              "    .dataframe tbody tr th {\n",
              "        vertical-align: top;\n",
              "    }\n",
              "\n",
              "    .dataframe thead th {\n",
              "        text-align: right;\n",
              "    }\n",
              "</style>\n",
              "<table border=\"1\" class=\"dataframe\">\n",
              "  <thead>\n",
              "    <tr style=\"text-align: right;\">\n",
              "      <th></th>\n",
              "      <th>Applied Loan Amount</th>\n",
              "      <th>Applied Loan Tenor</th>\n",
              "      <th>Loan Purpose</th>\n",
              "      <th>Gender</th>\n",
              "      <th>Age</th>\n",
              "      <th>Marital Status</th>\n",
              "      <th>Education Level</th>\n",
              "      <th>Residential Status</th>\n",
              "      <th>Monthly Housing/Rental</th>\n",
              "      <th>Contract Staff (Y/N)</th>\n",
              "      <th>Employment Type</th>\n",
              "      <th>Nature of Business</th>\n",
              "      <th>Job Position</th>\n",
              "      <th>Monthly Income</th>\n",
              "      <th>Office (Area)_1</th>\n",
              "      <th>Office (Area)_2</th>\n",
              "      <th>Office (Area)_3</th>\n",
              "      <th>Office (Area)_6</th>\n",
              "      <th>Indicators</th>\n",
              "    </tr>\n",
              "  </thead>\n",
              "  <tbody>\n",
              "    <tr>\n",
              "      <th>0</th>\n",
              "      <td>200000</td>\n",
              "      <td>60</td>\n",
              "      <td>Personal use</td>\n",
              "      <td>M</td>\n",
              "      <td>59.482</td>\n",
              "      <td>Married</td>\n",
              "      <td>University</td>\n",
              "      <td>Mortgaged Private Housing</td>\n",
              "      <td>15182.0</td>\n",
              "      <td>N</td>\n",
              "      <td>Self-Employed</td>\n",
              "      <td>Owner of a Business</td>\n",
              "      <td>Self Employed</td>\n",
              "      <td>30000.0</td>\n",
              "      <td>0</td>\n",
              "      <td>0</td>\n",
              "      <td>1</td>\n",
              "      <td>0</td>\n",
              "      <td>0</td>\n",
              "    </tr>\n",
              "    <tr>\n",
              "      <th>1</th>\n",
              "      <td>100000</td>\n",
              "      <td>24</td>\n",
              "      <td>Personal use</td>\n",
              "      <td>M</td>\n",
              "      <td>49.745</td>\n",
              "      <td>Married</td>\n",
              "      <td>Secondary</td>\n",
              "      <td>Live With Relatives</td>\n",
              "      <td>0.0</td>\n",
              "      <td>N</td>\n",
              "      <td>Self-Employed</td>\n",
              "      <td>Owner of a Business</td>\n",
              "      <td>Self Employed</td>\n",
              "      <td>50000.0</td>\n",
              "      <td>1</td>\n",
              "      <td>0</td>\n",
              "      <td>0</td>\n",
              "      <td>0</td>\n",
              "      <td>0</td>\n",
              "    </tr>\n",
              "    <tr>\n",
              "      <th>2</th>\n",
              "      <td>286000</td>\n",
              "      <td>60</td>\n",
              "      <td>Personal use</td>\n",
              "      <td>F</td>\n",
              "      <td>55.584</td>\n",
              "      <td>Married</td>\n",
              "      <td>Secondary</td>\n",
              "      <td>Live With Relatives</td>\n",
              "      <td>0.0</td>\n",
              "      <td>N</td>\n",
              "      <td>Self-Employed</td>\n",
              "      <td>Owner of a Business</td>\n",
              "      <td>Self Employed</td>\n",
              "      <td>28600.0</td>\n",
              "      <td>0</td>\n",
              "      <td>0</td>\n",
              "      <td>1</td>\n",
              "      <td>0</td>\n",
              "      <td>0</td>\n",
              "    </tr>\n",
              "    <tr>\n",
              "      <th>3</th>\n",
              "      <td>190000</td>\n",
              "      <td>36</td>\n",
              "      <td>Personal use</td>\n",
              "      <td>F</td>\n",
              "      <td>56.677</td>\n",
              "      <td>Single</td>\n",
              "      <td>Post Secondary</td>\n",
              "      <td>Self-owned Private Housing</td>\n",
              "      <td>10000.0</td>\n",
              "      <td>N</td>\n",
              "      <td>Self-Employed</td>\n",
              "      <td>Owner of a Business</td>\n",
              "      <td>Self Employed</td>\n",
              "      <td>19800.0</td>\n",
              "      <td>1</td>\n",
              "      <td>0</td>\n",
              "      <td>0</td>\n",
              "      <td>0</td>\n",
              "      <td>0</td>\n",
              "    </tr>\n",
              "    <tr>\n",
              "      <th>4</th>\n",
              "      <td>50000</td>\n",
              "      <td>48</td>\n",
              "      <td>Settle Loan / Credit Card O/S</td>\n",
              "      <td>F</td>\n",
              "      <td>39.699</td>\n",
              "      <td>Married</td>\n",
              "      <td>Secondary</td>\n",
              "      <td>Self-owned Private Housing</td>\n",
              "      <td>0.0</td>\n",
              "      <td>N</td>\n",
              "      <td>Non Fixed Income Earner</td>\n",
              "      <td>Owner of a Business</td>\n",
              "      <td>Self Employed</td>\n",
              "      <td>13000.0</td>\n",
              "      <td>0</td>\n",
              "      <td>0</td>\n",
              "      <td>1</td>\n",
              "      <td>0</td>\n",
              "      <td>0</td>\n",
              "    </tr>\n",
              "  </tbody>\n",
              "</table>\n",
              "</div>"
            ],
            "text/plain": [
              "   Applied Loan Amount  Applied Loan Tenor  ... Office (Area)_6 Indicators\n",
              "0               200000                  60  ...               0          0\n",
              "1               100000                  24  ...               0          0\n",
              "2               286000                  60  ...               0          0\n",
              "3               190000                  36  ...               0          0\n",
              "4                50000                  48  ...               0          0\n",
              "\n",
              "[5 rows x 19 columns]"
            ]
          },
          "metadata": {
            "tags": []
          },
          "execution_count": 2
        }
      ]
    },
    {
      "cell_type": "code",
      "metadata": {
        "id": "avX72D0AI3nc"
      },
      "source": [
        "df = df.dropna()"
      ],
      "execution_count": null,
      "outputs": []
    },
    {
      "cell_type": "code",
      "metadata": {
        "colab": {
          "base_uri": "https://localhost:8080/"
        },
        "id": "_mJCLwBvfzFn",
        "outputId": "4dc17a9a-68f2-4512-e763-a262ac1d3beb"
      },
      "source": [
        "# df = df.astype(np.float64)\n",
        "# df[\"Final_Status (Y/N)\"].astype(int)\n",
        "df.dtypes"
      ],
      "execution_count": null,
      "outputs": [
        {
          "output_type": "execute_result",
          "data": {
            "text/plain": [
              "Applied Loan Amount         int64\n",
              "Applied Loan Tenor          int64\n",
              "Loan Purpose               object\n",
              "Gender                     object\n",
              "Age                       float64\n",
              "Marital Status             object\n",
              "Education Level            object\n",
              "Residential Status         object\n",
              "Monthly Housing/Rental    float64\n",
              "Contract Staff (Y/N)       object\n",
              "Employment Type            object\n",
              "Nature of Business         object\n",
              "Job Position               object\n",
              "Monthly Income            float64\n",
              "Office (Area)_1             int64\n",
              "Office (Area)_2             int64\n",
              "Office (Area)_3             int64\n",
              "Office (Area)_6             int64\n",
              "Indicators                  int64\n",
              "dtype: object"
            ]
          },
          "metadata": {
            "tags": []
          },
          "execution_count": 4
        }
      ]
    },
    {
      "cell_type": "code",
      "metadata": {
        "colab": {
          "base_uri": "https://localhost:8080/",
          "height": 292
        },
        "id": "H0UiZUl1fToc",
        "outputId": "e5d3d6a7-b0f2-4aac-9269-a247ddd43252"
      },
      "source": [
        "df = pd.get_dummies(df)\n",
        "df.head()"
      ],
      "execution_count": null,
      "outputs": [
        {
          "output_type": "execute_result",
          "data": {
            "text/html": [
              "<div>\n",
              "<style scoped>\n",
              "    .dataframe tbody tr th:only-of-type {\n",
              "        vertical-align: middle;\n",
              "    }\n",
              "\n",
              "    .dataframe tbody tr th {\n",
              "        vertical-align: top;\n",
              "    }\n",
              "\n",
              "    .dataframe thead th {\n",
              "        text-align: right;\n",
              "    }\n",
              "</style>\n",
              "<table border=\"1\" class=\"dataframe\">\n",
              "  <thead>\n",
              "    <tr style=\"text-align: right;\">\n",
              "      <th></th>\n",
              "      <th>Applied Loan Amount</th>\n",
              "      <th>Applied Loan Tenor</th>\n",
              "      <th>Age</th>\n",
              "      <th>Monthly Housing/Rental</th>\n",
              "      <th>Monthly Income</th>\n",
              "      <th>Office (Area)_1</th>\n",
              "      <th>Office (Area)_2</th>\n",
              "      <th>Office (Area)_3</th>\n",
              "      <th>Office (Area)_6</th>\n",
              "      <th>Indicators</th>\n",
              "      <th>Loan Purpose_Business</th>\n",
              "      <th>Loan Purpose_Car Purchase</th>\n",
              "      <th>Loan Purpose_Decoration</th>\n",
              "      <th>Loan Purpose_Education</th>\n",
              "      <th>Loan Purpose_Investment</th>\n",
              "      <th>Loan Purpose_Personal use</th>\n",
              "      <th>Loan Purpose_Settle Loan / Credit Card O/S</th>\n",
              "      <th>Loan Purpose_Stand by</th>\n",
              "      <th>Loan Purpose_Tax Payment</th>\n",
              "      <th>Gender_F</th>\n",
              "      <th>Gender_M</th>\n",
              "      <th>Marital Status_Divorced</th>\n",
              "      <th>Marital Status_Married</th>\n",
              "      <th>Marital Status_No Response</th>\n",
              "      <th>Marital Status_Single</th>\n",
              "      <th>Marital Status_Widowed</th>\n",
              "      <th>Education Level_Form 3 or below</th>\n",
              "      <th>Education Level_No Response</th>\n",
              "      <th>Education Level_Post Graduate</th>\n",
              "      <th>Education Level_Post Secondary</th>\n",
              "      <th>Education Level_Primary</th>\n",
              "      <th>Education Level_Secondary</th>\n",
              "      <th>Education Level_University</th>\n",
              "      <th>Residential Status_Company Provision</th>\n",
              "      <th>Residential Status_Live With Relatives</th>\n",
              "      <th>Residential Status_Mortgaged Private Housing</th>\n",
              "      <th>Residential Status_Mortgaged Public Housing</th>\n",
              "      <th>Residential Status_No Response</th>\n",
              "      <th>Residential Status_Rental</th>\n",
              "      <th>Residential Status_Self-owned Private Housing</th>\n",
              "      <th>Residential Status_Self-owned Public Housing</th>\n",
              "      <th>Contract Staff (Y/N)_N</th>\n",
              "      <th>Contract Staff (Y/N)_Y</th>\n",
              "      <th>Employment Type_Fixed Income Earner</th>\n",
              "      <th>Employment Type_Non Fixed Income Earner</th>\n",
              "      <th>Employment Type_Self-Employed</th>\n",
              "      <th>Employment Type_Self-Employed Professional</th>\n",
              "      <th>Nature of Business_Owner of a Business</th>\n",
              "      <th>Job Position_Self Employed</th>\n",
              "    </tr>\n",
              "  </thead>\n",
              "  <tbody>\n",
              "    <tr>\n",
              "      <th>0</th>\n",
              "      <td>200000</td>\n",
              "      <td>60</td>\n",
              "      <td>59.482</td>\n",
              "      <td>15182.0</td>\n",
              "      <td>30000.0</td>\n",
              "      <td>0</td>\n",
              "      <td>0</td>\n",
              "      <td>1</td>\n",
              "      <td>0</td>\n",
              "      <td>0</td>\n",
              "      <td>0</td>\n",
              "      <td>0</td>\n",
              "      <td>0</td>\n",
              "      <td>0</td>\n",
              "      <td>0</td>\n",
              "      <td>1</td>\n",
              "      <td>0</td>\n",
              "      <td>0</td>\n",
              "      <td>0</td>\n",
              "      <td>0</td>\n",
              "      <td>1</td>\n",
              "      <td>0</td>\n",
              "      <td>1</td>\n",
              "      <td>0</td>\n",
              "      <td>0</td>\n",
              "      <td>0</td>\n",
              "      <td>0</td>\n",
              "      <td>0</td>\n",
              "      <td>0</td>\n",
              "      <td>0</td>\n",
              "      <td>0</td>\n",
              "      <td>0</td>\n",
              "      <td>1</td>\n",
              "      <td>0</td>\n",
              "      <td>0</td>\n",
              "      <td>1</td>\n",
              "      <td>0</td>\n",
              "      <td>0</td>\n",
              "      <td>0</td>\n",
              "      <td>0</td>\n",
              "      <td>0</td>\n",
              "      <td>1</td>\n",
              "      <td>0</td>\n",
              "      <td>0</td>\n",
              "      <td>0</td>\n",
              "      <td>1</td>\n",
              "      <td>0</td>\n",
              "      <td>1</td>\n",
              "      <td>1</td>\n",
              "    </tr>\n",
              "    <tr>\n",
              "      <th>1</th>\n",
              "      <td>100000</td>\n",
              "      <td>24</td>\n",
              "      <td>49.745</td>\n",
              "      <td>0.0</td>\n",
              "      <td>50000.0</td>\n",
              "      <td>1</td>\n",
              "      <td>0</td>\n",
              "      <td>0</td>\n",
              "      <td>0</td>\n",
              "      <td>0</td>\n",
              "      <td>0</td>\n",
              "      <td>0</td>\n",
              "      <td>0</td>\n",
              "      <td>0</td>\n",
              "      <td>0</td>\n",
              "      <td>1</td>\n",
              "      <td>0</td>\n",
              "      <td>0</td>\n",
              "      <td>0</td>\n",
              "      <td>0</td>\n",
              "      <td>1</td>\n",
              "      <td>0</td>\n",
              "      <td>1</td>\n",
              "      <td>0</td>\n",
              "      <td>0</td>\n",
              "      <td>0</td>\n",
              "      <td>0</td>\n",
              "      <td>0</td>\n",
              "      <td>0</td>\n",
              "      <td>0</td>\n",
              "      <td>0</td>\n",
              "      <td>1</td>\n",
              "      <td>0</td>\n",
              "      <td>0</td>\n",
              "      <td>1</td>\n",
              "      <td>0</td>\n",
              "      <td>0</td>\n",
              "      <td>0</td>\n",
              "      <td>0</td>\n",
              "      <td>0</td>\n",
              "      <td>0</td>\n",
              "      <td>1</td>\n",
              "      <td>0</td>\n",
              "      <td>0</td>\n",
              "      <td>0</td>\n",
              "      <td>1</td>\n",
              "      <td>0</td>\n",
              "      <td>1</td>\n",
              "      <td>1</td>\n",
              "    </tr>\n",
              "    <tr>\n",
              "      <th>2</th>\n",
              "      <td>286000</td>\n",
              "      <td>60</td>\n",
              "      <td>55.584</td>\n",
              "      <td>0.0</td>\n",
              "      <td>28600.0</td>\n",
              "      <td>0</td>\n",
              "      <td>0</td>\n",
              "      <td>1</td>\n",
              "      <td>0</td>\n",
              "      <td>0</td>\n",
              "      <td>0</td>\n",
              "      <td>0</td>\n",
              "      <td>0</td>\n",
              "      <td>0</td>\n",
              "      <td>0</td>\n",
              "      <td>1</td>\n",
              "      <td>0</td>\n",
              "      <td>0</td>\n",
              "      <td>0</td>\n",
              "      <td>1</td>\n",
              "      <td>0</td>\n",
              "      <td>0</td>\n",
              "      <td>1</td>\n",
              "      <td>0</td>\n",
              "      <td>0</td>\n",
              "      <td>0</td>\n",
              "      <td>0</td>\n",
              "      <td>0</td>\n",
              "      <td>0</td>\n",
              "      <td>0</td>\n",
              "      <td>0</td>\n",
              "      <td>1</td>\n",
              "      <td>0</td>\n",
              "      <td>0</td>\n",
              "      <td>1</td>\n",
              "      <td>0</td>\n",
              "      <td>0</td>\n",
              "      <td>0</td>\n",
              "      <td>0</td>\n",
              "      <td>0</td>\n",
              "      <td>0</td>\n",
              "      <td>1</td>\n",
              "      <td>0</td>\n",
              "      <td>0</td>\n",
              "      <td>0</td>\n",
              "      <td>1</td>\n",
              "      <td>0</td>\n",
              "      <td>1</td>\n",
              "      <td>1</td>\n",
              "    </tr>\n",
              "    <tr>\n",
              "      <th>3</th>\n",
              "      <td>190000</td>\n",
              "      <td>36</td>\n",
              "      <td>56.677</td>\n",
              "      <td>10000.0</td>\n",
              "      <td>19800.0</td>\n",
              "      <td>1</td>\n",
              "      <td>0</td>\n",
              "      <td>0</td>\n",
              "      <td>0</td>\n",
              "      <td>0</td>\n",
              "      <td>0</td>\n",
              "      <td>0</td>\n",
              "      <td>0</td>\n",
              "      <td>0</td>\n",
              "      <td>0</td>\n",
              "      <td>1</td>\n",
              "      <td>0</td>\n",
              "      <td>0</td>\n",
              "      <td>0</td>\n",
              "      <td>1</td>\n",
              "      <td>0</td>\n",
              "      <td>0</td>\n",
              "      <td>0</td>\n",
              "      <td>0</td>\n",
              "      <td>1</td>\n",
              "      <td>0</td>\n",
              "      <td>0</td>\n",
              "      <td>0</td>\n",
              "      <td>0</td>\n",
              "      <td>1</td>\n",
              "      <td>0</td>\n",
              "      <td>0</td>\n",
              "      <td>0</td>\n",
              "      <td>0</td>\n",
              "      <td>0</td>\n",
              "      <td>0</td>\n",
              "      <td>0</td>\n",
              "      <td>0</td>\n",
              "      <td>0</td>\n",
              "      <td>1</td>\n",
              "      <td>0</td>\n",
              "      <td>1</td>\n",
              "      <td>0</td>\n",
              "      <td>0</td>\n",
              "      <td>0</td>\n",
              "      <td>1</td>\n",
              "      <td>0</td>\n",
              "      <td>1</td>\n",
              "      <td>1</td>\n",
              "    </tr>\n",
              "    <tr>\n",
              "      <th>4</th>\n",
              "      <td>50000</td>\n",
              "      <td>48</td>\n",
              "      <td>39.699</td>\n",
              "      <td>0.0</td>\n",
              "      <td>13000.0</td>\n",
              "      <td>0</td>\n",
              "      <td>0</td>\n",
              "      <td>1</td>\n",
              "      <td>0</td>\n",
              "      <td>0</td>\n",
              "      <td>0</td>\n",
              "      <td>0</td>\n",
              "      <td>0</td>\n",
              "      <td>0</td>\n",
              "      <td>0</td>\n",
              "      <td>0</td>\n",
              "      <td>1</td>\n",
              "      <td>0</td>\n",
              "      <td>0</td>\n",
              "      <td>1</td>\n",
              "      <td>0</td>\n",
              "      <td>0</td>\n",
              "      <td>1</td>\n",
              "      <td>0</td>\n",
              "      <td>0</td>\n",
              "      <td>0</td>\n",
              "      <td>0</td>\n",
              "      <td>0</td>\n",
              "      <td>0</td>\n",
              "      <td>0</td>\n",
              "      <td>0</td>\n",
              "      <td>1</td>\n",
              "      <td>0</td>\n",
              "      <td>0</td>\n",
              "      <td>0</td>\n",
              "      <td>0</td>\n",
              "      <td>0</td>\n",
              "      <td>0</td>\n",
              "      <td>0</td>\n",
              "      <td>1</td>\n",
              "      <td>0</td>\n",
              "      <td>1</td>\n",
              "      <td>0</td>\n",
              "      <td>0</td>\n",
              "      <td>1</td>\n",
              "      <td>0</td>\n",
              "      <td>0</td>\n",
              "      <td>1</td>\n",
              "      <td>1</td>\n",
              "    </tr>\n",
              "  </tbody>\n",
              "</table>\n",
              "</div>"
            ],
            "text/plain": [
              "   Applied Loan Amount  ...  Job Position_Self Employed\n",
              "0               200000  ...                           1\n",
              "1               100000  ...                           1\n",
              "2               286000  ...                           1\n",
              "3               190000  ...                           1\n",
              "4                50000  ...                           1\n",
              "\n",
              "[5 rows x 49 columns]"
            ]
          },
          "metadata": {
            "tags": []
          },
          "execution_count": 5
        }
      ]
    },
    {
      "cell_type": "code",
      "metadata": {
        "colab": {
          "base_uri": "https://localhost:8080/",
          "height": 292
        },
        "id": "Cf53p4AzfTlH",
        "outputId": "fb988b76-3840-4696-a971-b9c723104a22"
      },
      "source": [
        "cols = df.columns.tolist()\n",
        "cols.remove('Indicators')\n",
        "cols.append('Indicators')\n",
        "df = df[cols]\n",
        "df.head() "
      ],
      "execution_count": null,
      "outputs": [
        {
          "output_type": "execute_result",
          "data": {
            "text/html": [
              "<div>\n",
              "<style scoped>\n",
              "    .dataframe tbody tr th:only-of-type {\n",
              "        vertical-align: middle;\n",
              "    }\n",
              "\n",
              "    .dataframe tbody tr th {\n",
              "        vertical-align: top;\n",
              "    }\n",
              "\n",
              "    .dataframe thead th {\n",
              "        text-align: right;\n",
              "    }\n",
              "</style>\n",
              "<table border=\"1\" class=\"dataframe\">\n",
              "  <thead>\n",
              "    <tr style=\"text-align: right;\">\n",
              "      <th></th>\n",
              "      <th>Applied Loan Amount</th>\n",
              "      <th>Applied Loan Tenor</th>\n",
              "      <th>Age</th>\n",
              "      <th>Monthly Housing/Rental</th>\n",
              "      <th>Monthly Income</th>\n",
              "      <th>Office (Area)_1</th>\n",
              "      <th>Office (Area)_2</th>\n",
              "      <th>Office (Area)_3</th>\n",
              "      <th>Office (Area)_6</th>\n",
              "      <th>Loan Purpose_Business</th>\n",
              "      <th>Loan Purpose_Car Purchase</th>\n",
              "      <th>Loan Purpose_Decoration</th>\n",
              "      <th>Loan Purpose_Education</th>\n",
              "      <th>Loan Purpose_Investment</th>\n",
              "      <th>Loan Purpose_Personal use</th>\n",
              "      <th>Loan Purpose_Settle Loan / Credit Card O/S</th>\n",
              "      <th>Loan Purpose_Stand by</th>\n",
              "      <th>Loan Purpose_Tax Payment</th>\n",
              "      <th>Gender_F</th>\n",
              "      <th>Gender_M</th>\n",
              "      <th>Marital Status_Divorced</th>\n",
              "      <th>Marital Status_Married</th>\n",
              "      <th>Marital Status_No Response</th>\n",
              "      <th>Marital Status_Single</th>\n",
              "      <th>Marital Status_Widowed</th>\n",
              "      <th>Education Level_Form 3 or below</th>\n",
              "      <th>Education Level_No Response</th>\n",
              "      <th>Education Level_Post Graduate</th>\n",
              "      <th>Education Level_Post Secondary</th>\n",
              "      <th>Education Level_Primary</th>\n",
              "      <th>Education Level_Secondary</th>\n",
              "      <th>Education Level_University</th>\n",
              "      <th>Residential Status_Company Provision</th>\n",
              "      <th>Residential Status_Live With Relatives</th>\n",
              "      <th>Residential Status_Mortgaged Private Housing</th>\n",
              "      <th>Residential Status_Mortgaged Public Housing</th>\n",
              "      <th>Residential Status_No Response</th>\n",
              "      <th>Residential Status_Rental</th>\n",
              "      <th>Residential Status_Self-owned Private Housing</th>\n",
              "      <th>Residential Status_Self-owned Public Housing</th>\n",
              "      <th>Contract Staff (Y/N)_N</th>\n",
              "      <th>Contract Staff (Y/N)_Y</th>\n",
              "      <th>Employment Type_Fixed Income Earner</th>\n",
              "      <th>Employment Type_Non Fixed Income Earner</th>\n",
              "      <th>Employment Type_Self-Employed</th>\n",
              "      <th>Employment Type_Self-Employed Professional</th>\n",
              "      <th>Nature of Business_Owner of a Business</th>\n",
              "      <th>Job Position_Self Employed</th>\n",
              "      <th>Indicators</th>\n",
              "    </tr>\n",
              "  </thead>\n",
              "  <tbody>\n",
              "    <tr>\n",
              "      <th>0</th>\n",
              "      <td>200000</td>\n",
              "      <td>60</td>\n",
              "      <td>59.482</td>\n",
              "      <td>15182.0</td>\n",
              "      <td>30000.0</td>\n",
              "      <td>0</td>\n",
              "      <td>0</td>\n",
              "      <td>1</td>\n",
              "      <td>0</td>\n",
              "      <td>0</td>\n",
              "      <td>0</td>\n",
              "      <td>0</td>\n",
              "      <td>0</td>\n",
              "      <td>0</td>\n",
              "      <td>1</td>\n",
              "      <td>0</td>\n",
              "      <td>0</td>\n",
              "      <td>0</td>\n",
              "      <td>0</td>\n",
              "      <td>1</td>\n",
              "      <td>0</td>\n",
              "      <td>1</td>\n",
              "      <td>0</td>\n",
              "      <td>0</td>\n",
              "      <td>0</td>\n",
              "      <td>0</td>\n",
              "      <td>0</td>\n",
              "      <td>0</td>\n",
              "      <td>0</td>\n",
              "      <td>0</td>\n",
              "      <td>0</td>\n",
              "      <td>1</td>\n",
              "      <td>0</td>\n",
              "      <td>0</td>\n",
              "      <td>1</td>\n",
              "      <td>0</td>\n",
              "      <td>0</td>\n",
              "      <td>0</td>\n",
              "      <td>0</td>\n",
              "      <td>0</td>\n",
              "      <td>1</td>\n",
              "      <td>0</td>\n",
              "      <td>0</td>\n",
              "      <td>0</td>\n",
              "      <td>1</td>\n",
              "      <td>0</td>\n",
              "      <td>1</td>\n",
              "      <td>1</td>\n",
              "      <td>0</td>\n",
              "    </tr>\n",
              "    <tr>\n",
              "      <th>1</th>\n",
              "      <td>100000</td>\n",
              "      <td>24</td>\n",
              "      <td>49.745</td>\n",
              "      <td>0.0</td>\n",
              "      <td>50000.0</td>\n",
              "      <td>1</td>\n",
              "      <td>0</td>\n",
              "      <td>0</td>\n",
              "      <td>0</td>\n",
              "      <td>0</td>\n",
              "      <td>0</td>\n",
              "      <td>0</td>\n",
              "      <td>0</td>\n",
              "      <td>0</td>\n",
              "      <td>1</td>\n",
              "      <td>0</td>\n",
              "      <td>0</td>\n",
              "      <td>0</td>\n",
              "      <td>0</td>\n",
              "      <td>1</td>\n",
              "      <td>0</td>\n",
              "      <td>1</td>\n",
              "      <td>0</td>\n",
              "      <td>0</td>\n",
              "      <td>0</td>\n",
              "      <td>0</td>\n",
              "      <td>0</td>\n",
              "      <td>0</td>\n",
              "      <td>0</td>\n",
              "      <td>0</td>\n",
              "      <td>1</td>\n",
              "      <td>0</td>\n",
              "      <td>0</td>\n",
              "      <td>1</td>\n",
              "      <td>0</td>\n",
              "      <td>0</td>\n",
              "      <td>0</td>\n",
              "      <td>0</td>\n",
              "      <td>0</td>\n",
              "      <td>0</td>\n",
              "      <td>1</td>\n",
              "      <td>0</td>\n",
              "      <td>0</td>\n",
              "      <td>0</td>\n",
              "      <td>1</td>\n",
              "      <td>0</td>\n",
              "      <td>1</td>\n",
              "      <td>1</td>\n",
              "      <td>0</td>\n",
              "    </tr>\n",
              "    <tr>\n",
              "      <th>2</th>\n",
              "      <td>286000</td>\n",
              "      <td>60</td>\n",
              "      <td>55.584</td>\n",
              "      <td>0.0</td>\n",
              "      <td>28600.0</td>\n",
              "      <td>0</td>\n",
              "      <td>0</td>\n",
              "      <td>1</td>\n",
              "      <td>0</td>\n",
              "      <td>0</td>\n",
              "      <td>0</td>\n",
              "      <td>0</td>\n",
              "      <td>0</td>\n",
              "      <td>0</td>\n",
              "      <td>1</td>\n",
              "      <td>0</td>\n",
              "      <td>0</td>\n",
              "      <td>0</td>\n",
              "      <td>1</td>\n",
              "      <td>0</td>\n",
              "      <td>0</td>\n",
              "      <td>1</td>\n",
              "      <td>0</td>\n",
              "      <td>0</td>\n",
              "      <td>0</td>\n",
              "      <td>0</td>\n",
              "      <td>0</td>\n",
              "      <td>0</td>\n",
              "      <td>0</td>\n",
              "      <td>0</td>\n",
              "      <td>1</td>\n",
              "      <td>0</td>\n",
              "      <td>0</td>\n",
              "      <td>1</td>\n",
              "      <td>0</td>\n",
              "      <td>0</td>\n",
              "      <td>0</td>\n",
              "      <td>0</td>\n",
              "      <td>0</td>\n",
              "      <td>0</td>\n",
              "      <td>1</td>\n",
              "      <td>0</td>\n",
              "      <td>0</td>\n",
              "      <td>0</td>\n",
              "      <td>1</td>\n",
              "      <td>0</td>\n",
              "      <td>1</td>\n",
              "      <td>1</td>\n",
              "      <td>0</td>\n",
              "    </tr>\n",
              "    <tr>\n",
              "      <th>3</th>\n",
              "      <td>190000</td>\n",
              "      <td>36</td>\n",
              "      <td>56.677</td>\n",
              "      <td>10000.0</td>\n",
              "      <td>19800.0</td>\n",
              "      <td>1</td>\n",
              "      <td>0</td>\n",
              "      <td>0</td>\n",
              "      <td>0</td>\n",
              "      <td>0</td>\n",
              "      <td>0</td>\n",
              "      <td>0</td>\n",
              "      <td>0</td>\n",
              "      <td>0</td>\n",
              "      <td>1</td>\n",
              "      <td>0</td>\n",
              "      <td>0</td>\n",
              "      <td>0</td>\n",
              "      <td>1</td>\n",
              "      <td>0</td>\n",
              "      <td>0</td>\n",
              "      <td>0</td>\n",
              "      <td>0</td>\n",
              "      <td>1</td>\n",
              "      <td>0</td>\n",
              "      <td>0</td>\n",
              "      <td>0</td>\n",
              "      <td>0</td>\n",
              "      <td>1</td>\n",
              "      <td>0</td>\n",
              "      <td>0</td>\n",
              "      <td>0</td>\n",
              "      <td>0</td>\n",
              "      <td>0</td>\n",
              "      <td>0</td>\n",
              "      <td>0</td>\n",
              "      <td>0</td>\n",
              "      <td>0</td>\n",
              "      <td>1</td>\n",
              "      <td>0</td>\n",
              "      <td>1</td>\n",
              "      <td>0</td>\n",
              "      <td>0</td>\n",
              "      <td>0</td>\n",
              "      <td>1</td>\n",
              "      <td>0</td>\n",
              "      <td>1</td>\n",
              "      <td>1</td>\n",
              "      <td>0</td>\n",
              "    </tr>\n",
              "    <tr>\n",
              "      <th>4</th>\n",
              "      <td>50000</td>\n",
              "      <td>48</td>\n",
              "      <td>39.699</td>\n",
              "      <td>0.0</td>\n",
              "      <td>13000.0</td>\n",
              "      <td>0</td>\n",
              "      <td>0</td>\n",
              "      <td>1</td>\n",
              "      <td>0</td>\n",
              "      <td>0</td>\n",
              "      <td>0</td>\n",
              "      <td>0</td>\n",
              "      <td>0</td>\n",
              "      <td>0</td>\n",
              "      <td>0</td>\n",
              "      <td>1</td>\n",
              "      <td>0</td>\n",
              "      <td>0</td>\n",
              "      <td>1</td>\n",
              "      <td>0</td>\n",
              "      <td>0</td>\n",
              "      <td>1</td>\n",
              "      <td>0</td>\n",
              "      <td>0</td>\n",
              "      <td>0</td>\n",
              "      <td>0</td>\n",
              "      <td>0</td>\n",
              "      <td>0</td>\n",
              "      <td>0</td>\n",
              "      <td>0</td>\n",
              "      <td>1</td>\n",
              "      <td>0</td>\n",
              "      <td>0</td>\n",
              "      <td>0</td>\n",
              "      <td>0</td>\n",
              "      <td>0</td>\n",
              "      <td>0</td>\n",
              "      <td>0</td>\n",
              "      <td>1</td>\n",
              "      <td>0</td>\n",
              "      <td>1</td>\n",
              "      <td>0</td>\n",
              "      <td>0</td>\n",
              "      <td>1</td>\n",
              "      <td>0</td>\n",
              "      <td>0</td>\n",
              "      <td>1</td>\n",
              "      <td>1</td>\n",
              "      <td>0</td>\n",
              "    </tr>\n",
              "  </tbody>\n",
              "</table>\n",
              "</div>"
            ],
            "text/plain": [
              "   Applied Loan Amount  ...  Indicators\n",
              "0               200000  ...           0\n",
              "1               100000  ...           0\n",
              "2               286000  ...           0\n",
              "3               190000  ...           0\n",
              "4                50000  ...           0\n",
              "\n",
              "[5 rows x 49 columns]"
            ]
          },
          "metadata": {
            "tags": []
          },
          "execution_count": 6
        }
      ]
    },
    {
      "cell_type": "code",
      "metadata": {
        "colab": {
          "base_uri": "https://localhost:8080/"
        },
        "id": "kMQV-WLdgYne",
        "outputId": "a4c12a8f-428b-4681-fde6-0a16fe074d4f"
      },
      "source": [
        "df.shape"
      ],
      "execution_count": null,
      "outputs": [
        {
          "output_type": "execute_result",
          "data": {
            "text/plain": [
              "(736, 49)"
            ]
          },
          "metadata": {
            "tags": []
          },
          "execution_count": 7
        }
      ]
    },
    {
      "cell_type": "code",
      "metadata": {
        "id": "ZmD3OfVGZEp7"
      },
      "source": [
        "# df['Class_att'] = df['Class_att'].astype('category')\n",
        "# encode_map = {\n",
        "#     'Abnormal': 1,\n",
        "#     'Normal': 0\n",
        "# }\n",
        "\n",
        "# df['Class_att'].replace(encode_map, inplace=True)"
      ],
      "execution_count": null,
      "outputs": []
    },
    {
      "cell_type": "code",
      "metadata": {
        "colab": {
          "base_uri": "https://localhost:8080/",
          "height": 296
        },
        "id": "ue8sL8oD25xm",
        "outputId": "8c86537e-a0bc-40d6-e5cf-7c0b63b79b24"
      },
      "source": [
        "sns.countplot(x = 'Indicators', data=df)"
      ],
      "execution_count": null,
      "outputs": [
        {
          "output_type": "execute_result",
          "data": {
            "text/plain": [
              "<matplotlib.axes._subplots.AxesSubplot at 0x7f46826b3fd0>"
            ]
          },
          "metadata": {
            "tags": []
          },
          "execution_count": 9
        },
        {
          "output_type": "display_data",
          "data": {
            "image/png": "[encoded data removed]",
            "text/plain": [
              "<Figure size 432x288 with 1 Axes>"
            ]
          },
          "metadata": {
            "tags": [],
            "needs_background": "light"
          }
        }
      ]
    },
    {
      "cell_type": "code",
      "metadata": {
        "id": "wh4AamM-3Az9"
      },
      "source": [
        "X = df.iloc[:, 0:-1]\n",
        "y = df.iloc[:, -1]"
      ],
      "execution_count": null,
      "outputs": []
    },
    {
      "cell_type": "code",
      "metadata": {
        "id": "8wCEr7DFaC_s",
        "colab": {
          "base_uri": "https://localhost:8080/"
        },
        "outputId": "21319c7b-08ee-4d2f-ec2c-fb10f275bb92"
      },
      "source": [
        "print(X.shape, y.shape)"
      ],
      "execution_count": null,
      "outputs": [
        {
          "output_type": "stream",
          "text": [
            "(736, 48) (736,)\n"
          ],
          "name": "stdout"
        }
      ]
    },
    {
      "cell_type": "code",
      "metadata": {
        "colab": {
          "base_uri": "https://localhost:8080/"
        },
        "id": "G_P5vxxa3Jxt",
        "outputId": "7b0deee0-715c-4f67-f2fe-07680a2f5a37"
      },
      "source": [
        "np.any(np.isnan(y))"
      ],
      "execution_count": null,
      "outputs": [
        {
          "output_type": "execute_result",
          "data": {
            "text/plain": [
              "False"
            ]
          },
          "metadata": {
            "tags": []
          },
          "execution_count": 12
        }
      ]
    },
    {
      "cell_type": "code",
      "metadata": {
        "id": "eaRuRf-C3KXG"
      },
      "source": [
        "X_train, X_test, y_train, y_test = train_test_split(X, y, test_size=0.33, random_state=42)"
      ],
      "execution_count": null,
      "outputs": []
    },
    {
      "cell_type": "code",
      "metadata": {
        "id": "1BPpSRS_3bpT"
      },
      "source": [
        "scaler = StandardScaler()\n",
        "X_train = scaler.fit_transform(X_train)\n",
        "X_test = scaler.fit_transform(X_test)"
      ],
      "execution_count": null,
      "outputs": []
    },
    {
      "cell_type": "code",
      "metadata": {
        "colab": {
          "base_uri": "https://localhost:8080/"
        },
        "id": "j1ciBz7S3rt5",
        "outputId": "10a91392-1dcf-4386-e7b0-f3ce3a797de2"
      },
      "source": [
        "print(X_train.shape, X_test.shape)"
      ],
      "execution_count": null,
      "outputs": [
        {
          "output_type": "stream",
          "text": [
            "(493, 48) (243, 48)\n"
          ],
          "name": "stdout"
        }
      ]
    },
    {
      "cell_type": "code",
      "metadata": {
        "id": "16o0pu823uP4"
      },
      "source": [
        "EPOCHS = 100\n",
        "BATCH_SIZE = 64\n",
        "LEARNING_RATE = 0.001"
      ],
      "execution_count": null,
      "outputs": []
    },
    {
      "cell_type": "code",
      "metadata": {
        "id": "vVVMj8foGMga"
      },
      "source": [
        "## train data\n",
        "class trainData(Dataset):\n",
        "    \n",
        "    def __init__(self, X_data, y_data):\n",
        "        self.X_data = X_data\n",
        "        self.y_data = y_data\n",
        "        \n",
        "    def __getitem__(self, index):\n",
        "        return self.X_data[index], self.y_data[index]\n",
        "        \n",
        "    def __len__ (self):\n",
        "        return len(self.X_data)\n",
        "\n",
        "\n",
        "train_data = trainData(torch.FloatTensor(X_train), \n",
        "                       torch.FloatTensor(torch.Tensor(y_train.values)))\n",
        "## test data    \n",
        "class testData(Dataset):\n",
        "    \n",
        "    def __init__(self, X_data):\n",
        "        self.X_data = X_data\n",
        "        \n",
        "    def __getitem__(self, index):\n",
        "        return self.X_data[index]\n",
        "        \n",
        "    def __len__ (self):\n",
        "        return len(self.X_data)\n",
        "    \n",
        "\n",
        "test_data = testData(torch.FloatTensor(X_test))"
      ],
      "execution_count": null,
      "outputs": []
    },
    {
      "cell_type": "code",
      "metadata": {
        "id": "7SPYrIRJHJuC"
      },
      "source": [
        "train_loader = DataLoader(dataset=train_data, batch_size=BATCH_SIZE, shuffle=True)\n",
        "test_loader = DataLoader(dataset=test_data, batch_size=1) # may need increase later"
      ],
      "execution_count": null,
      "outputs": []
    },
    {
      "cell_type": "code",
      "metadata": {
        "id": "Wuo5hNoFHOi6"
      },
      "source": [
        "class binaryClassification(nn.Module):\n",
        "    def __init__(self):\n",
        "        super(binaryClassification, self).__init__()\n",
        "        # Number of input features is 12.\n",
        "        self.layer_1 = nn.Linear(48, 160) \n",
        "        self.layer_2 = nn.Linear(160, 40)\n",
        "        self.layer_out = nn.Linear(40, 1) \n",
        "        \n",
        "        self.relu = nn.ReLU()\n",
        "        self.dropout = nn.Dropout(p=0.1)\n",
        "        self.batchnorm1 = nn.BatchNorm1d(160)\n",
        "        self.batchnorm2 = nn.BatchNorm1d(40)\n",
        "        \n",
        "    def forward(self, inputs):\n",
        "        x = self.relu(self.layer_1(inputs))\n",
        "        x = self.batchnorm1(x)\n",
        "        x = self.relu(self.layer_2(x))\n",
        "        x = self.batchnorm2(x)\n",
        "        x = self.dropout(x)\n",
        "        x = self.layer_out(x)\n",
        "        \n",
        "        return x"
      ],
      "execution_count": null,
      "outputs": []
    },
    {
      "cell_type": "code",
      "metadata": {
        "colab": {
          "base_uri": "https://localhost:8080/"
        },
        "id": "DzVhwSTkHcoc",
        "outputId": "1dc97dbc-546f-46c8-f3a4-6873b4543af3"
      },
      "source": [
        "device = torch.device(\"cuda:0\" if torch.cuda.is_available() else \"cpu\")\n",
        "print(device)\n",
        "###############"
      ],
      "execution_count": null,
      "outputs": [
        {
          "output_type": "stream",
          "text": [
            "cpu\n"
          ],
          "name": "stdout"
        }
      ]
    },
    {
      "cell_type": "code",
      "metadata": {
        "colab": {
          "base_uri": "https://localhost:8080/"
        },
        "id": "Ts-WGSyqHfGM",
        "outputId": "8203a514-e71b-413c-875e-c96ff11f49c6"
      },
      "source": [
        "model = binaryClassification()\n",
        "model.to(device)\n",
        "print(model)\n",
        "criterion = nn.BCEWithLogitsLoss()\n",
        "optimizer = optim.SGD(model.parameters(), lr=LEARNING_RATE)"
      ],
      "execution_count": null,
      "outputs": [
        {
          "output_type": "stream",
          "text": [
            "binaryClassification(\n",
            "  (layer_1): Linear(in_features=48, out_features=160, bias=True)\n",
            "  (layer_2): Linear(in_features=160, out_features=40, bias=True)\n",
            "  (layer_out): Linear(in_features=40, out_features=1, bias=True)\n",
            "  (relu): ReLU()\n",
            "  (dropout): Dropout(p=0.1, inplace=False)\n",
            "  (batchnorm1): BatchNorm1d(160, eps=1e-05, momentum=0.1, affine=True, track_running_stats=True)\n",
            "  (batchnorm2): BatchNorm1d(40, eps=1e-05, momentum=0.1, affine=True, track_running_stats=True)\n",
            ")\n"
          ],
          "name": "stdout"
        }
      ]
    },
    {
      "cell_type": "code",
      "metadata": {
        "id": "07Hyj1KzHhqR"
      },
      "source": [
        "def binary_acc(y_pred, y_test):\n",
        "    y_pred_tag = torch.round(torch.sigmoid(y_pred))\n",
        "\n",
        "    correct_results_sum = (y_pred_tag == y_test).sum().float()\n",
        "    acc = correct_results_sum/y_test.shape[0]\n",
        "    acc = torch.round(acc * 100)\n",
        "    \n",
        "    return acc"
      ],
      "execution_count": null,
      "outputs": []
    },
    {
      "cell_type": "code",
      "metadata": {
        "colab": {
          "base_uri": "https://localhost:8080/"
        },
        "id": "UcvpKapcHmVM",
        "outputId": "c2f7bfa3-13bc-4a5a-c648-754bf91446df"
      },
      "source": [
        "model.train()\n",
        "e_loss = []\n",
        "e_acc = []\n",
        "timelist = []\n",
        "for e in range(1, EPOCHS+1):\n",
        "    epoch_loss = 0\n",
        "    epoch_acc = 0\n",
        "    start_time = time.time()\n",
        "    for X_batch, y_batch in train_loader:\n",
        "        X_batch, y_batch = X_batch.to(device), y_batch.to(device)\n",
        "        optimizer.zero_grad()\n",
        "        \n",
        "        y_pred = model(X_batch)\n",
        "        \n",
        "        loss = criterion(y_pred, y_batch.unsqueeze(1))\n",
        "        acc = binary_acc(y_pred, y_batch.unsqueeze(1))\n",
        "        \n",
        "        loss.backward()\n",
        "        optimizer.step()\n",
        "        \n",
        "        epoch_loss += loss.item()\n",
        "        epoch_acc += acc.item()\n",
        "    total_time = time.time() - start_time\n",
        "    timelist.append(total_time)\n",
        "    e_loss.append(epoch_loss/len(train_loader)) # for plt\n",
        "    e_acc.append(epoch_acc/len(train_loader)) # for plt\n",
        "    print(f'Epoch {e+0:03}: | Loss: {epoch_loss/len(train_loader):.5f} | Acc: {epoch_acc/len(train_loader):.3f} | Time: {total_time:.3f}')"
      ],
      "execution_count": null,
      "outputs": [
        {
          "output_type": "stream",
          "text": [
            "Epoch 001: | Loss: 0.69073 | Acc: 53.250 | Time: 0.164\n",
            "Epoch 002: | Loss: 0.68357 | Acc: 57.500 | Time: 0.022\n",
            "Epoch 003: | Loss: 0.67898 | Acc: 57.375 | Time: 0.022\n",
            "Epoch 004: | Loss: 0.66319 | Acc: 61.750 | Time: 0.022\n",
            "Epoch 005: | Loss: 0.65267 | Acc: 62.000 | Time: 0.025\n",
            "Epoch 006: | Loss: 0.64584 | Acc: 64.375 | Time: 0.025\n",
            "Epoch 007: | Loss: 0.64101 | Acc: 63.000 | Time: 0.023\n",
            "Epoch 008: | Loss: 0.63788 | Acc: 65.250 | Time: 0.022\n",
            "Epoch 009: | Loss: 0.63759 | Acc: 66.625 | Time: 0.023\n",
            "Epoch 010: | Loss: 0.61550 | Acc: 69.125 | Time: 0.034\n",
            "Epoch 011: | Loss: 0.61678 | Acc: 68.875 | Time: 0.022\n",
            "Epoch 012: | Loss: 0.61376 | Acc: 68.875 | Time: 0.024\n",
            "Epoch 013: | Loss: 0.61331 | Acc: 68.625 | Time: 0.022\n",
            "Epoch 014: | Loss: 0.59920 | Acc: 71.375 | Time: 0.024\n",
            "Epoch 015: | Loss: 0.60240 | Acc: 71.250 | Time: 0.022\n",
            "Epoch 016: | Loss: 0.59475 | Acc: 72.750 | Time: 0.023\n",
            "Epoch 017: | Loss: 0.59334 | Acc: 70.875 | Time: 0.023\n",
            "Epoch 018: | Loss: 0.59462 | Acc: 72.375 | Time: 0.024\n",
            "Epoch 019: | Loss: 0.58439 | Acc: 73.875 | Time: 0.028\n",
            "Epoch 020: | Loss: 0.59319 | Acc: 70.250 | Time: 0.022\n",
            "Epoch 021: | Loss: 0.58688 | Acc: 71.625 | Time: 0.023\n",
            "Epoch 022: | Loss: 0.58063 | Acc: 71.125 | Time: 0.021\n",
            "Epoch 023: | Loss: 0.56216 | Acc: 74.875 | Time: 0.021\n",
            "Epoch 024: | Loss: 0.56065 | Acc: 74.625 | Time: 0.021\n",
            "Epoch 025: | Loss: 0.56448 | Acc: 76.625 | Time: 0.023\n",
            "Epoch 026: | Loss: 0.56572 | Acc: 73.875 | Time: 0.023\n",
            "Epoch 027: | Loss: 0.55156 | Acc: 77.000 | Time: 0.025\n",
            "Epoch 028: | Loss: 0.55358 | Acc: 74.250 | Time: 0.030\n",
            "Epoch 029: | Loss: 0.55443 | Acc: 76.000 | Time: 0.021\n",
            "Epoch 030: | Loss: 0.54356 | Acc: 75.500 | Time: 0.022\n",
            "Epoch 031: | Loss: 0.54037 | Acc: 76.750 | Time: 0.022\n",
            "Epoch 032: | Loss: 0.54057 | Acc: 75.875 | Time: 0.021\n",
            "Epoch 033: | Loss: 0.54237 | Acc: 76.625 | Time: 0.026\n",
            "Epoch 034: | Loss: 0.53668 | Acc: 77.375 | Time: 0.021\n",
            "Epoch 035: | Loss: 0.53791 | Acc: 74.500 | Time: 0.021\n",
            "Epoch 036: | Loss: 0.53606 | Acc: 76.500 | Time: 0.021\n",
            "Epoch 037: | Loss: 0.53484 | Acc: 76.000 | Time: 0.024\n",
            "Epoch 038: | Loss: 0.52457 | Acc: 77.750 | Time: 0.022\n",
            "Epoch 039: | Loss: 0.51946 | Acc: 78.500 | Time: 0.022\n",
            "Epoch 040: | Loss: 0.51869 | Acc: 79.375 | Time: 0.021\n",
            "Epoch 041: | Loss: 0.52554 | Acc: 78.250 | Time: 0.026\n",
            "Epoch 042: | Loss: 0.51429 | Acc: 76.625 | Time: 0.021\n",
            "Epoch 043: | Loss: 0.51858 | Acc: 77.875 | Time: 0.021\n",
            "Epoch 044: | Loss: 0.51055 | Acc: 80.125 | Time: 0.021\n",
            "Epoch 045: | Loss: 0.51304 | Acc: 78.500 | Time: 0.021\n",
            "Epoch 046: | Loss: 0.51407 | Acc: 79.375 | Time: 0.024\n",
            "Epoch 047: | Loss: 0.50683 | Acc: 79.625 | Time: 0.023\n",
            "Epoch 048: | Loss: 0.49605 | Acc: 79.250 | Time: 0.021\n",
            "Epoch 049: | Loss: 0.50232 | Acc: 80.625 | Time: 0.022\n",
            "Epoch 050: | Loss: 0.50417 | Acc: 79.875 | Time: 0.023\n",
            "Epoch 051: | Loss: 0.50829 | Acc: 79.500 | Time: 0.024\n",
            "Epoch 052: | Loss: 0.50331 | Acc: 78.750 | Time: 0.022\n",
            "Epoch 053: | Loss: 0.50315 | Acc: 80.000 | Time: 0.025\n",
            "Epoch 054: | Loss: 0.50420 | Acc: 79.375 | Time: 0.022\n",
            "Epoch 055: | Loss: 0.49409 | Acc: 79.750 | Time: 0.031\n",
            "Epoch 056: | Loss: 0.49058 | Acc: 79.625 | Time: 0.023\n",
            "Epoch 057: | Loss: 0.49973 | Acc: 78.125 | Time: 0.022\n",
            "Epoch 058: | Loss: 0.49642 | Acc: 79.375 | Time: 0.022\n",
            "Epoch 059: | Loss: 0.49241 | Acc: 80.250 | Time: 0.021\n",
            "Epoch 060: | Loss: 0.48848 | Acc: 80.125 | Time: 0.022\n",
            "Epoch 061: | Loss: 0.49401 | Acc: 78.375 | Time: 0.023\n",
            "Epoch 062: | Loss: 0.49320 | Acc: 80.125 | Time: 0.035\n",
            "Epoch 063: | Loss: 0.47934 | Acc: 79.875 | Time: 0.024\n",
            "Epoch 064: | Loss: 0.47757 | Acc: 81.000 | Time: 0.028\n",
            "Epoch 065: | Loss: 0.48652 | Acc: 78.750 | Time: 0.024\n",
            "Epoch 066: | Loss: 0.48371 | Acc: 79.375 | Time: 0.024\n",
            "Epoch 067: | Loss: 0.48695 | Acc: 79.750 | Time: 0.022\n",
            "Epoch 068: | Loss: 0.47724 | Acc: 79.375 | Time: 0.023\n",
            "Epoch 069: | Loss: 0.47459 | Acc: 80.750 | Time: 0.023\n",
            "Epoch 070: | Loss: 0.47635 | Acc: 78.875 | Time: 0.033\n",
            "Epoch 071: | Loss: 0.48073 | Acc: 81.000 | Time: 0.024\n",
            "Epoch 072: | Loss: 0.48092 | Acc: 80.125 | Time: 0.022\n",
            "Epoch 073: | Loss: 0.47527 | Acc: 81.750 | Time: 0.027\n",
            "Epoch 074: | Loss: 0.48708 | Acc: 78.250 | Time: 0.023\n",
            "Epoch 075: | Loss: 0.47293 | Acc: 80.250 | Time: 0.023\n",
            "Epoch 076: | Loss: 0.47123 | Acc: 80.125 | Time: 0.023\n",
            "Epoch 077: | Loss: 0.47518 | Acc: 81.000 | Time: 0.027\n",
            "Epoch 078: | Loss: 0.46716 | Acc: 81.125 | Time: 0.023\n",
            "Epoch 079: | Loss: 0.47070 | Acc: 79.750 | Time: 0.022\n",
            "Epoch 080: | Loss: 0.46052 | Acc: 81.000 | Time: 0.022\n",
            "Epoch 081: | Loss: 0.47568 | Acc: 80.500 | Time: 0.023\n",
            "Epoch 082: | Loss: 0.46065 | Acc: 82.625 | Time: 0.027\n",
            "Epoch 083: | Loss: 0.46211 | Acc: 82.375 | Time: 0.023\n",
            "Epoch 084: | Loss: 0.46445 | Acc: 79.875 | Time: 0.023\n",
            "Epoch 085: | Loss: 0.46002 | Acc: 81.375 | Time: 0.023\n",
            "Epoch 086: | Loss: 0.45497 | Acc: 82.250 | Time: 0.026\n",
            "Epoch 087: | Loss: 0.46354 | Acc: 80.250 | Time: 0.022\n",
            "Epoch 088: | Loss: 0.46180 | Acc: 80.250 | Time: 0.026\n",
            "Epoch 089: | Loss: 0.45445 | Acc: 81.875 | Time: 0.022\n",
            "Epoch 090: | Loss: 0.46131 | Acc: 80.875 | Time: 0.022\n",
            "Epoch 091: | Loss: 0.46060 | Acc: 80.750 | Time: 0.026\n",
            "Epoch 092: | Loss: 0.45353 | Acc: 80.875 | Time: 0.022\n",
            "Epoch 093: | Loss: 0.46292 | Acc: 79.500 | Time: 0.023\n",
            "Epoch 094: | Loss: 0.45526 | Acc: 80.000 | Time: 0.022\n",
            "Epoch 095: | Loss: 0.45469 | Acc: 80.750 | Time: 0.023\n",
            "Epoch 096: | Loss: 0.45165 | Acc: 82.625 | Time: 0.022\n",
            "Epoch 097: | Loss: 0.44429 | Acc: 81.250 | Time: 0.023\n",
            "Epoch 098: | Loss: 0.44992 | Acc: 81.250 | Time: 0.022\n",
            "Epoch 099: | Loss: 0.45755 | Acc: 81.375 | Time: 0.022\n",
            "Epoch 100: | Loss: 0.45309 | Acc: 83.000 | Time: 0.022\n"
          ],
          "name": "stdout"
        }
      ]
    },
    {
      "cell_type": "code",
      "metadata": {
        "id": "2NzgHAKkRGtf"
      },
      "source": [
        "n_list = np.arange(1, 501).tolist()\n",
        "n_list = pd.Series(n_list)\n",
        "time_list = pd.Series(timelist)"
      ],
      "execution_count": null,
      "outputs": []
    },
    {
      "cell_type": "code",
      "metadata": {
        "colab": {
          "base_uri": "https://localhost:8080/"
        },
        "id": "Wk06y2XrRGqK",
        "outputId": "eb616472-8afc-45da-d5d9-96527ab0d57b"
      },
      "source": [
        "time_list.corr(n_list)"
      ],
      "execution_count": null,
      "outputs": [
        {
          "output_type": "execute_result",
          "data": {
            "text/plain": [
              "-0.1637726617149273"
            ]
          },
          "metadata": {
            "tags": []
          },
          "execution_count": 37
        }
      ]
    },
    {
      "cell_type": "code",
      "metadata": {
        "colab": {
          "base_uri": "https://localhost:8080/",
          "height": 284
        },
        "id": "K8KQ311QL-eW",
        "outputId": "e0230af6-db6a-4479-cb22-3fe9739220c2"
      },
      "source": [
        "plt.plot(e_loss)"
      ],
      "execution_count": null,
      "outputs": [
        {
          "output_type": "execute_result",
          "data": {
            "text/plain": [
              "[<matplotlib.lines.Line2D at 0x7f4681419a50>]"
            ]
          },
          "metadata": {
            "tags": []
          },
          "execution_count": 38
        },
        {
          "output_type": "display_data",
          "data": {
            "image/png": "[encoded data removed]",
            "text/plain": [
              "<Figure size 432x288 with 1 Axes>"
            ]
          },
          "metadata": {
            "tags": [],
            "needs_background": "light"
          }
        }
      ]
    },
    {
      "cell_type": "code",
      "metadata": {
        "colab": {
          "base_uri": "https://localhost:8080/",
          "height": 282
        },
        "id": "5Xwb9IE6N0Sp",
        "outputId": "1c6751e0-563e-4f2d-e94c-9c19db198733"
      },
      "source": [
        "plt.plot(e_acc)"
      ],
      "execution_count": null,
      "outputs": [
        {
          "output_type": "execute_result",
          "data": {
            "text/plain": [
              "[<matplotlib.lines.Line2D at 0x7f4680b7a710>]"
            ]
          },
          "metadata": {
            "tags": []
          },
          "execution_count": 39
        },
        {
          "output_type": "display_data",
          "data": {
            "image/png": "[encoded data removed]",
            "text/plain": [
              "<Figure size 432x288 with 1 Axes>"
            ]
          },
          "metadata": {
            "tags": [],
            "needs_background": "light"
          }
        }
      ]
    },
    {
      "cell_type": "code",
      "metadata": {
        "colab": {
          "base_uri": "https://localhost:8080/",
          "height": 282
        },
        "id": "fTxNUE7AQ9AE",
        "outputId": "20293e06-b1bd-4e16-8e03-7d0cde8713a1"
      },
      "source": [
        "plt.plot(timelist)"
      ],
      "execution_count": null,
      "outputs": [
        {
          "output_type": "execute_result",
          "data": {
            "text/plain": [
              "[<matplotlib.lines.Line2D at 0x7f4680b53f90>]"
            ]
          },
          "metadata": {
            "tags": []
          },
          "execution_count": 40
        },
        {
          "output_type": "display_data",
          "data": {
            "image/png": "[encoded data removed]",
            "text/plain": [
              "<Figure size 432x288 with 1 Axes>"
            ]
          },
          "metadata": {
            "tags": [],
            "needs_background": "light"
          }
        }
      ]
    },
    {
      "cell_type": "code",
      "metadata": {
        "colab": {
          "base_uri": "https://localhost:8080/"
        },
        "id": "3LZVIsxU7iVL",
        "outputId": "5f356563-15ff-4b61-9ca4-847bcc3dc531"
      },
      "source": [
        "import statistics\n",
        "statistics.mean(timelist)"
      ],
      "execution_count": null,
      "outputs": [
        {
          "output_type": "execute_result",
          "data": {
            "text/plain": [
              "0.024816043376922607"
            ]
          },
          "metadata": {
            "tags": []
          },
          "execution_count": 41
        }
      ]
    },
    {
      "cell_type": "code",
      "metadata": {
        "id": "XkmU5dGGHoy_"
      },
      "source": [
        "y_pred_list = []\n",
        "model.eval()\n",
        "with torch.no_grad():\n",
        "    for X_batch in test_loader:\n",
        "        X_batch = X_batch.to(device)\n",
        "        y_test_pred = model(X_batch)\n",
        "        y_test_pred = torch.sigmoid(y_test_pred)\n",
        "        y_pred_tag = torch.round(y_test_pred)\n",
        "        y_pred_list.append(y_pred_tag.cpu().numpy())\n",
        "\n",
        "y_pred_list = [a.squeeze().tolist() for a in y_pred_list]"
      ],
      "execution_count": null,
      "outputs": []
    },
    {
      "cell_type": "code",
      "metadata": {
        "colab": {
          "base_uri": "https://localhost:8080/"
        },
        "id": "L92l4ORgIIx_",
        "outputId": "b46271d0-229e-43f8-b963-bfeec36d1489"
      },
      "source": [
        "confusion_matrix(y_test, y_pred_list)"
      ],
      "execution_count": null,
      "outputs": [
        {
          "output_type": "execute_result",
          "data": {
            "text/plain": [
              "array([[129,  38],\n",
              "       [ 22,  54]])"
            ]
          },
          "metadata": {
            "tags": []
          },
          "execution_count": 43
        }
      ]
    },
    {
      "cell_type": "code",
      "metadata": {
        "id": "GXMIFgsfIJBz",
        "colab": {
          "base_uri": "https://localhost:8080/"
        },
        "outputId": "7b1fb942-cc6f-446d-fe0a-a53e2aebb927"
      },
      "source": [
        "print(classification_report(y_test, y_pred_list))"
      ],
      "execution_count": null,
      "outputs": [
        {
          "output_type": "stream",
          "text": [
            "              precision    recall  f1-score   support\n",
            "\n",
            "           0       0.85      0.77      0.81       167\n",
            "           1       0.59      0.71      0.64        76\n",
            "\n",
            "    accuracy                           0.75       243\n",
            "   macro avg       0.72      0.74      0.73       243\n",
            "weighted avg       0.77      0.75      0.76       243\n",
            "\n"
          ],
          "name": "stdout"
        }
      ]
    },
    {
      "cell_type": "code",
      "metadata": {
        "id": "C6QtDOpjknfy"
      },
      "source": [
        ""
      ],
      "execution_count": null,
      "outputs": []
    }
  ]
}
