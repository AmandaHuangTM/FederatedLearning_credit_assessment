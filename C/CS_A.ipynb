{
  "nbformat": 4,
  "nbformat_minor": 0,
  "metadata": {
    "colab": {
      "name": "CS A.ipynb",
      "provenance": []
    },
    "kernelspec": {
      "name": "python3",
      "display_name": "Python 3"
    }
  },
  "cells": [
    {
      "cell_type": "code",
      "metadata": {
        "id": "G48xlrYj2kwE"
      },
      "source": [
        "import numpy as np\n",
        "import pandas as pd\n",
        "import seaborn as sns\n",
        "import matplotlib.pyplot as plt\n",
        "import time\n",
        "import torch\n",
        "import torch.nn as nn\n",
        "import torch.optim as optim\n",
        "from torch.utils.data import Dataset, DataLoader\n",
        "\n",
        "from sklearn.preprocessing import StandardScaler    \n",
        "from sklearn.model_selection import train_test_split\n",
        "from sklearn.metrics import confusion_matrix, classification_report"
      ],
      "execution_count": null,
      "outputs": []
    },
    {
      "cell_type": "code",
      "metadata": {
        "colab": {
          "base_uri": "https://localhost:8080/",
          "height": 204
        },
        "id": "56nv66rL2v6m",
        "outputId": "de25e10f-785d-46ab-d691-e33996266a1d"
      },
      "source": [
        "df = pd.read_csv(\"datatrain.csv\")\n",
        "df.head()"
      ],
      "execution_count": null,
      "outputs": [
        {
          "output_type": "execute_result",
          "data": {
            "text/html": [
              "<div>\n",
              "<style scoped>\n",
              "    .dataframe tbody tr th:only-of-type {\n",
              "        vertical-align: middle;\n",
              "    }\n",
              "\n",
              "    .dataframe tbody tr th {\n",
              "        vertical-align: top;\n",
              "    }\n",
              "\n",
              "    .dataframe thead th {\n",
              "        text-align: right;\n",
              "    }\n",
              "</style>\n",
              "<table border=\"1\" class=\"dataframe\">\n",
              "  <thead>\n",
              "    <tr style=\"text-align: right;\">\n",
              "      <th></th>\n",
              "      <th>Applied Loan Amount</th>\n",
              "      <th>Applied Loan Tenor</th>\n",
              "      <th>Gender</th>\n",
              "      <th>Age</th>\n",
              "      <th>Education Level</th>\n",
              "      <th>Monthly Housing/Rental</th>\n",
              "      <th>Monthly Income</th>\n",
              "      <th>Indicators</th>\n",
              "    </tr>\n",
              "  </thead>\n",
              "  <tbody>\n",
              "    <tr>\n",
              "      <th>0</th>\n",
              "      <td>60000</td>\n",
              "      <td>24</td>\n",
              "      <td>1</td>\n",
              "      <td>22.301</td>\n",
              "      <td>Secondary</td>\n",
              "      <td>0.0</td>\n",
              "      <td>10245.0</td>\n",
              "      <td>0</td>\n",
              "    </tr>\n",
              "    <tr>\n",
              "      <th>1</th>\n",
              "      <td>100000</td>\n",
              "      <td>60</td>\n",
              "      <td>1</td>\n",
              "      <td>33.159</td>\n",
              "      <td>Form 3 or below</td>\n",
              "      <td>0.0</td>\n",
              "      <td>10000.0</td>\n",
              "      <td>0</td>\n",
              "    </tr>\n",
              "    <tr>\n",
              "      <th>2</th>\n",
              "      <td>50000</td>\n",
              "      <td>24</td>\n",
              "      <td>0</td>\n",
              "      <td>28.389</td>\n",
              "      <td>University</td>\n",
              "      <td>2000.0</td>\n",
              "      <td>9700.0</td>\n",
              "      <td>0</td>\n",
              "    </tr>\n",
              "    <tr>\n",
              "      <th>3</th>\n",
              "      <td>70000</td>\n",
              "      <td>36</td>\n",
              "      <td>1</td>\n",
              "      <td>35.573</td>\n",
              "      <td>Post Graduate</td>\n",
              "      <td>1200.0</td>\n",
              "      <td>23000.0</td>\n",
              "      <td>0</td>\n",
              "    </tr>\n",
              "    <tr>\n",
              "      <th>4</th>\n",
              "      <td>300000</td>\n",
              "      <td>60</td>\n",
              "      <td>0</td>\n",
              "      <td>30.849</td>\n",
              "      <td>University</td>\n",
              "      <td>11000.0</td>\n",
              "      <td>34000.0</td>\n",
              "      <td>0</td>\n",
              "    </tr>\n",
              "  </tbody>\n",
              "</table>\n",
              "</div>"
            ],
            "text/plain": [
              "   Applied Loan Amount  Applied Loan Tenor  ...  Monthly Income  Indicators\n",
              "0                60000                  24  ...         10245.0           0\n",
              "1               100000                  60  ...         10000.0           0\n",
              "2                50000                  24  ...          9700.0           0\n",
              "3                70000                  36  ...         23000.0           0\n",
              "4               300000                  60  ...         34000.0           0\n",
              "\n",
              "[5 rows x 8 columns]"
            ]
          },
          "metadata": {
            "tags": []
          },
          "execution_count": 2
        }
      ]
    },
    {
      "cell_type": "code",
      "metadata": {
        "id": "avX72D0AI3nc"
      },
      "source": [
        "df = df.dropna()"
      ],
      "execution_count": null,
      "outputs": []
    },
    {
      "cell_type": "code",
      "metadata": {
        "colab": {
          "base_uri": "https://localhost:8080/",
          "height": 238
        },
        "id": "XsWYIA_iYiYm",
        "outputId": "10beb284-e6c8-48ce-a18d-1c6a5318ce45"
      },
      "source": [
        "df = pd.get_dummies(df)\n",
        "cols = df.columns.tolist()\n",
        "cols.remove('Indicators')\n",
        "cols.append('Indicators')\n",
        "df = df[cols]\n",
        "df.head() "
      ],
      "execution_count": null,
      "outputs": [
        {
          "output_type": "execute_result",
          "data": {
            "text/html": [
              "<div>\n",
              "<style scoped>\n",
              "    .dataframe tbody tr th:only-of-type {\n",
              "        vertical-align: middle;\n",
              "    }\n",
              "\n",
              "    .dataframe tbody tr th {\n",
              "        vertical-align: top;\n",
              "    }\n",
              "\n",
              "    .dataframe thead th {\n",
              "        text-align: right;\n",
              "    }\n",
              "</style>\n",
              "<table border=\"1\" class=\"dataframe\">\n",
              "  <thead>\n",
              "    <tr style=\"text-align: right;\">\n",
              "      <th></th>\n",
              "      <th>Applied Loan Amount</th>\n",
              "      <th>Applied Loan Tenor</th>\n",
              "      <th>Gender</th>\n",
              "      <th>Age</th>\n",
              "      <th>Monthly Housing/Rental</th>\n",
              "      <th>Monthly Income</th>\n",
              "      <th>Education Level_Form 3 or below</th>\n",
              "      <th>Education Level_No Response</th>\n",
              "      <th>Education Level_Post Graduate</th>\n",
              "      <th>Education Level_Post Secondary</th>\n",
              "      <th>Education Level_Primary</th>\n",
              "      <th>Education Level_Secondary</th>\n",
              "      <th>Education Level_University</th>\n",
              "      <th>Indicators</th>\n",
              "    </tr>\n",
              "  </thead>\n",
              "  <tbody>\n",
              "    <tr>\n",
              "      <th>0</th>\n",
              "      <td>60000</td>\n",
              "      <td>24</td>\n",
              "      <td>1</td>\n",
              "      <td>22.301</td>\n",
              "      <td>0.0</td>\n",
              "      <td>10245.0</td>\n",
              "      <td>0</td>\n",
              "      <td>0</td>\n",
              "      <td>0</td>\n",
              "      <td>0</td>\n",
              "      <td>0</td>\n",
              "      <td>1</td>\n",
              "      <td>0</td>\n",
              "      <td>0</td>\n",
              "    </tr>\n",
              "    <tr>\n",
              "      <th>1</th>\n",
              "      <td>100000</td>\n",
              "      <td>60</td>\n",
              "      <td>1</td>\n",
              "      <td>33.159</td>\n",
              "      <td>0.0</td>\n",
              "      <td>10000.0</td>\n",
              "      <td>1</td>\n",
              "      <td>0</td>\n",
              "      <td>0</td>\n",
              "      <td>0</td>\n",
              "      <td>0</td>\n",
              "      <td>0</td>\n",
              "      <td>0</td>\n",
              "      <td>0</td>\n",
              "    </tr>\n",
              "    <tr>\n",
              "      <th>2</th>\n",
              "      <td>50000</td>\n",
              "      <td>24</td>\n",
              "      <td>0</td>\n",
              "      <td>28.389</td>\n",
              "      <td>2000.0</td>\n",
              "      <td>9700.0</td>\n",
              "      <td>0</td>\n",
              "      <td>0</td>\n",
              "      <td>0</td>\n",
              "      <td>0</td>\n",
              "      <td>0</td>\n",
              "      <td>0</td>\n",
              "      <td>1</td>\n",
              "      <td>0</td>\n",
              "    </tr>\n",
              "    <tr>\n",
              "      <th>3</th>\n",
              "      <td>70000</td>\n",
              "      <td>36</td>\n",
              "      <td>1</td>\n",
              "      <td>35.573</td>\n",
              "      <td>1200.0</td>\n",
              "      <td>23000.0</td>\n",
              "      <td>0</td>\n",
              "      <td>0</td>\n",
              "      <td>1</td>\n",
              "      <td>0</td>\n",
              "      <td>0</td>\n",
              "      <td>0</td>\n",
              "      <td>0</td>\n",
              "      <td>0</td>\n",
              "    </tr>\n",
              "    <tr>\n",
              "      <th>4</th>\n",
              "      <td>300000</td>\n",
              "      <td>60</td>\n",
              "      <td>0</td>\n",
              "      <td>30.849</td>\n",
              "      <td>11000.0</td>\n",
              "      <td>34000.0</td>\n",
              "      <td>0</td>\n",
              "      <td>0</td>\n",
              "      <td>0</td>\n",
              "      <td>0</td>\n",
              "      <td>0</td>\n",
              "      <td>0</td>\n",
              "      <td>1</td>\n",
              "      <td>0</td>\n",
              "    </tr>\n",
              "  </tbody>\n",
              "</table>\n",
              "</div>"
            ],
            "text/plain": [
              "   Applied Loan Amount  ...  Indicators\n",
              "0                60000  ...           0\n",
              "1               100000  ...           0\n",
              "2                50000  ...           0\n",
              "3                70000  ...           0\n",
              "4               300000  ...           0\n",
              "\n",
              "[5 rows x 14 columns]"
            ]
          },
          "metadata": {
            "tags": []
          },
          "execution_count": 4
        }
      ]
    },
    {
      "cell_type": "code",
      "metadata": {
        "colab": {
          "base_uri": "https://localhost:8080/"
        },
        "id": "_mJCLwBvfzFn",
        "outputId": "d9212078-f881-48da-e984-d0c97200e67f"
      },
      "source": [
        "# df = df.astype(np.float64)\n",
        "# df[\"Final_Status (Y/N)\"].astype(int)\n",
        "df.dtypes"
      ],
      "execution_count": null,
      "outputs": [
        {
          "output_type": "execute_result",
          "data": {
            "text/plain": [
              "Applied Loan Amount                  int64\n",
              "Applied Loan Tenor                   int64\n",
              "Gender                               int64\n",
              "Age                                float64\n",
              "Monthly Housing/Rental             float64\n",
              "Monthly Income                     float64\n",
              "Education Level_Form 3 or below      uint8\n",
              "Education Level_No Response          uint8\n",
              "Education Level_Post Graduate        uint8\n",
              "Education Level_Post Secondary       uint8\n",
              "Education Level_Primary              uint8\n",
              "Education Level_Secondary            uint8\n",
              "Education Level_University           uint8\n",
              "Indicators                           int64\n",
              "dtype: object"
            ]
          },
          "metadata": {
            "tags": []
          },
          "execution_count": 5
        }
      ]
    },
    {
      "cell_type": "code",
      "metadata": {
        "id": "ZmD3OfVGZEp7"
      },
      "source": [
        "# df['Class_att'] = df['Class_att'].astype('category')\n",
        "# encode_map = {\n",
        "#     'Abnormal': 1,\n",
        "#     'Normal': 0\n",
        "# }\n",
        "\n",
        "# df['Class_att'].replace(encode_map, inplace=True)"
      ],
      "execution_count": null,
      "outputs": []
    },
    {
      "cell_type": "code",
      "metadata": {
        "colab": {
          "base_uri": "https://localhost:8080/",
          "height": 296
        },
        "id": "ue8sL8oD25xm",
        "outputId": "da5471cc-b5b3-41a4-8e95-3c303ccb0a33"
      },
      "source": [
        "sns.countplot(x = 'Indicators', data=df)"
      ],
      "execution_count": null,
      "outputs": [
        {
          "output_type": "execute_result",
          "data": {
            "text/plain": [
              "<matplotlib.axes._subplots.AxesSubplot at 0x7f03c124fcf8>"
            ]
          },
          "metadata": {
            "tags": []
          },
          "execution_count": 7
        },
        {
          "output_type": "display_data",
          "data": {
            "image/png": "[encoded data removed]",
            "text/plain": [
              "<Figure size 432x288 with 1 Axes>"
            ]
          },
          "metadata": {
            "tags": [],
            "needs_background": "light"
          }
        }
      ]
    },
    {
      "cell_type": "code",
      "metadata": {
        "id": "wh4AamM-3Az9"
      },
      "source": [
        "X = df.iloc[:, 0:-1]\n",
        "y = df.iloc[:, -1]"
      ],
      "execution_count": null,
      "outputs": []
    },
    {
      "cell_type": "code",
      "metadata": {
        "id": "8wCEr7DFaC_s",
        "colab": {
          "base_uri": "https://localhost:8080/"
        },
        "outputId": "7412c3dd-6692-4082-9972-4513c3f21a51"
      },
      "source": [
        "print(X.shape, y.shape)"
      ],
      "execution_count": null,
      "outputs": [
        {
          "output_type": "stream",
          "text": [
            "(11669, 13) (11669,)\n"
          ],
          "name": "stdout"
        }
      ]
    },
    {
      "cell_type": "code",
      "metadata": {
        "colab": {
          "base_uri": "https://localhost:8080/"
        },
        "id": "G_P5vxxa3Jxt",
        "outputId": "a0eedca9-6af4-4e80-f10a-d3537241bb90"
      },
      "source": [
        "np.any(np.isnan(y))"
      ],
      "execution_count": null,
      "outputs": [
        {
          "output_type": "execute_result",
          "data": {
            "text/plain": [
              "False"
            ]
          },
          "metadata": {
            "tags": []
          },
          "execution_count": 10
        }
      ]
    },
    {
      "cell_type": "code",
      "metadata": {
        "id": "eaRuRf-C3KXG"
      },
      "source": [
        "X_train, X_test, y_train, y_test = train_test_split(X, y, test_size=0.33, random_state=42)"
      ],
      "execution_count": null,
      "outputs": []
    },
    {
      "cell_type": "code",
      "metadata": {
        "id": "1BPpSRS_3bpT"
      },
      "source": [
        "scaler = StandardScaler()\n",
        "X_train = scaler.fit_transform(X_train)\n",
        "X_test = scaler.fit_transform(X_test)"
      ],
      "execution_count": null,
      "outputs": []
    },
    {
      "cell_type": "code",
      "metadata": {
        "colab": {
          "base_uri": "https://localhost:8080/"
        },
        "id": "j1ciBz7S3rt5",
        "outputId": "d0c327b6-0976-4aa7-f36f-b212f4f356f9"
      },
      "source": [
        "print(X_train.shape, X_test.shape)"
      ],
      "execution_count": null,
      "outputs": [
        {
          "output_type": "stream",
          "text": [
            "(7818, 13) (3851, 13)\n"
          ],
          "name": "stdout"
        }
      ]
    },
    {
      "cell_type": "code",
      "metadata": {
        "id": "16o0pu823uP4"
      },
      "source": [
        "EPOCHS = 100\n",
        "BATCH_SIZE = 64\n",
        "LEARNING_RATE = 0.001"
      ],
      "execution_count": null,
      "outputs": []
    },
    {
      "cell_type": "code",
      "metadata": {
        "id": "vVVMj8foGMga"
      },
      "source": [
        "## train data\n",
        "class trainData(Dataset):\n",
        "    \n",
        "    def __init__(self, X_data, y_data):\n",
        "        self.X_data = X_data\n",
        "        self.y_data = y_data\n",
        "        \n",
        "    def __getitem__(self, index):\n",
        "        return self.X_data[index], self.y_data[index]\n",
        "        \n",
        "    def __len__ (self):\n",
        "        return len(self.X_data)\n",
        "\n",
        "\n",
        "train_data = trainData(torch.FloatTensor(X_train), \n",
        "                       torch.FloatTensor(torch.Tensor(y_train.values)))\n",
        "## test data    \n",
        "class testData(Dataset):\n",
        "    \n",
        "    def __init__(self, X_data):\n",
        "        self.X_data = X_data\n",
        "        \n",
        "    def __getitem__(self, index):\n",
        "        return self.X_data[index]\n",
        "        \n",
        "    def __len__ (self):\n",
        "        return len(self.X_data)\n",
        "    \n",
        "\n",
        "test_data = testData(torch.FloatTensor(X_test))"
      ],
      "execution_count": null,
      "outputs": []
    },
    {
      "cell_type": "code",
      "metadata": {
        "id": "7SPYrIRJHJuC"
      },
      "source": [
        "train_loader = DataLoader(dataset=train_data, batch_size=BATCH_SIZE, shuffle=True)\n",
        "test_loader = DataLoader(dataset=test_data, batch_size=1) # may need increase later"
      ],
      "execution_count": null,
      "outputs": []
    },
    {
      "cell_type": "code",
      "metadata": {
        "id": "Wuo5hNoFHOi6"
      },
      "source": [
        "class binaryClassification(nn.Module):\n",
        "    def __init__(self):\n",
        "        super(binaryClassification, self).__init__()\n",
        "        # Number of input features is 12.\n",
        "        self.layer_1 = nn.Linear(13, 32) \n",
        "        self.layer_2 = nn.Linear(32, 64)\n",
        "        self.layer_out = nn.Linear(64, 1) \n",
        "        \n",
        "        self.relu = nn.ReLU()\n",
        "        self.dropout = nn.Dropout(p=0.1)\n",
        "        self.batchnorm1 = nn.BatchNorm1d(32)\n",
        "        self.batchnorm2 = nn.BatchNorm1d(64)\n",
        "        \n",
        "    def forward(self, inputs):\n",
        "        x = self.relu(self.layer_1(inputs))\n",
        "        x = self.batchnorm1(x)\n",
        "        x = self.relu(self.layer_2(x))\n",
        "        x = self.batchnorm2(x)\n",
        "        x = self.dropout(x)\n",
        "        x = self.layer_out(x)\n",
        "        \n",
        "        return x"
      ],
      "execution_count": null,
      "outputs": []
    },
    {
      "cell_type": "code",
      "metadata": {
        "colab": {
          "base_uri": "https://localhost:8080/"
        },
        "id": "DzVhwSTkHcoc",
        "outputId": "b5031686-8ebf-4f47-9e6f-096d90e99073"
      },
      "source": [
        "device = torch.device(\"cuda:0\" if torch.cuda.is_available() else \"cpu\")\n",
        "print(device)\n",
        "###############"
      ],
      "execution_count": null,
      "outputs": [
        {
          "output_type": "stream",
          "text": [
            "cpu\n"
          ],
          "name": "stdout"
        }
      ]
    },
    {
      "cell_type": "code",
      "metadata": {
        "colab": {
          "base_uri": "https://localhost:8080/"
        },
        "id": "Ts-WGSyqHfGM",
        "outputId": "85e4b5c0-d883-4e80-a46a-2c859c962b45"
      },
      "source": [
        "model = binaryClassification()\n",
        "model.to(device)\n",
        "print(model)\n",
        "criterion = nn.BCEWithLogitsLoss()\n",
        "optimizer = optim.SGD(model.parameters(), lr=LEARNING_RATE)"
      ],
      "execution_count": null,
      "outputs": [
        {
          "output_type": "stream",
          "text": [
            "binaryClassification(\n",
            "  (layer_1): Linear(in_features=13, out_features=32, bias=True)\n",
            "  (layer_2): Linear(in_features=32, out_features=64, bias=True)\n",
            "  (layer_out): Linear(in_features=64, out_features=1, bias=True)\n",
            "  (relu): ReLU()\n",
            "  (dropout): Dropout(p=0.1, inplace=False)\n",
            "  (batchnorm1): BatchNorm1d(32, eps=1e-05, momentum=0.1, affine=True, track_running_stats=True)\n",
            "  (batchnorm2): BatchNorm1d(64, eps=1e-05, momentum=0.1, affine=True, track_running_stats=True)\n",
            ")\n"
          ],
          "name": "stdout"
        }
      ]
    },
    {
      "cell_type": "code",
      "metadata": {
        "id": "07Hyj1KzHhqR"
      },
      "source": [
        "def binary_acc(y_pred, y_test):\n",
        "    y_pred_tag = torch.round(torch.sigmoid(y_pred))\n",
        "\n",
        "    correct_results_sum = (y_pred_tag == y_test).sum().float()\n",
        "    acc = correct_results_sum/y_test.shape[0]\n",
        "    acc = torch.round(acc * 100)\n",
        "    \n",
        "    return acc"
      ],
      "execution_count": null,
      "outputs": []
    },
    {
      "cell_type": "code",
      "metadata": {
        "colab": {
          "base_uri": "https://localhost:8080/"
        },
        "id": "UcvpKapcHmVM",
        "outputId": "9d430082-cbb0-49b5-bdd4-878a91adbb89"
      },
      "source": [
        "model.train()\n",
        "e_loss = []\n",
        "e_acc = []\n",
        "timelist = []\n",
        "for e in range(1, EPOCHS+1):\n",
        "    epoch_loss = 0\n",
        "    epoch_acc = 0\n",
        "    start_time = time.time()\n",
        "    for X_batch, y_batch in train_loader:\n",
        "        X_batch, y_batch = X_batch.to(device), y_batch.to(device)\n",
        "        optimizer.zero_grad()\n",
        "        \n",
        "        y_pred = model(X_batch)\n",
        "        \n",
        "        loss = criterion(y_pred, y_batch.unsqueeze(1))\n",
        "        acc = binary_acc(y_pred, y_batch.unsqueeze(1))\n",
        "        \n",
        "        loss.backward()\n",
        "        optimizer.step()\n",
        "        \n",
        "        epoch_loss += loss.item()\n",
        "        epoch_acc += acc.item()\n",
        "    total_time = time.time() - start_time\n",
        "    timelist.append(total_time)\n",
        "    e_loss.append(epoch_loss/len(train_loader)) # for plt\n",
        "    e_acc.append(epoch_acc/len(train_loader)) # for plt\n",
        "    print(f'Epoch {e+0:03}: | Loss: {epoch_loss/len(train_loader):.5f} | Acc: {epoch_acc/len(train_loader):.3f} | Time: {total_time:.3f}')"
      ],
      "execution_count": null,
      "outputs": [
        {
          "output_type": "stream",
          "text": [
            "Epoch 001: | Loss: 0.73192 | Acc: 53.081 | Time: 0.573\n",
            "Epoch 002: | Loss: 0.67916 | Acc: 59.707 | Time: 0.354\n",
            "Epoch 003: | Loss: 0.65101 | Acc: 62.065 | Time: 0.299\n",
            "Epoch 004: | Loss: 0.63528 | Acc: 64.211 | Time: 0.395\n",
            "Epoch 005: | Loss: 0.62273 | Acc: 65.870 | Time: 0.342\n",
            "Epoch 006: | Loss: 0.61850 | Acc: 67.187 | Time: 0.300\n",
            "Epoch 007: | Loss: 0.61331 | Acc: 67.520 | Time: 0.312\n",
            "Epoch 008: | Loss: 0.61189 | Acc: 67.309 | Time: 0.306\n",
            "Epoch 009: | Loss: 0.60716 | Acc: 67.935 | Time: 0.306\n",
            "Epoch 010: | Loss: 0.60190 | Acc: 68.407 | Time: 0.305\n",
            "Epoch 011: | Loss: 0.60363 | Acc: 68.553 | Time: 0.307\n",
            "Epoch 012: | Loss: 0.60188 | Acc: 68.472 | Time: 0.315\n",
            "Epoch 013: | Loss: 0.59971 | Acc: 68.236 | Time: 0.305\n",
            "Epoch 014: | Loss: 0.60150 | Acc: 68.935 | Time: 0.304\n",
            "Epoch 015: | Loss: 0.59909 | Acc: 68.772 | Time: 0.318\n",
            "Epoch 016: | Loss: 0.59844 | Acc: 68.911 | Time: 0.300\n",
            "Epoch 017: | Loss: 0.59584 | Acc: 69.309 | Time: 0.305\n",
            "Epoch 018: | Loss: 0.59449 | Acc: 69.138 | Time: 0.323\n",
            "Epoch 019: | Loss: 0.59261 | Acc: 69.951 | Time: 0.297\n",
            "Epoch 020: | Loss: 0.58929 | Acc: 69.715 | Time: 0.297\n",
            "Epoch 021: | Loss: 0.59060 | Acc: 69.862 | Time: 0.310\n",
            "Epoch 022: | Loss: 0.59275 | Acc: 69.732 | Time: 0.304\n",
            "Epoch 023: | Loss: 0.58761 | Acc: 69.935 | Time: 0.308\n",
            "Epoch 024: | Loss: 0.58923 | Acc: 69.577 | Time: 0.322\n",
            "Epoch 025: | Loss: 0.58737 | Acc: 69.642 | Time: 0.383\n",
            "Epoch 026: | Loss: 0.58468 | Acc: 69.748 | Time: 0.389\n",
            "Epoch 027: | Loss: 0.59103 | Acc: 69.423 | Time: 0.338\n",
            "Epoch 028: | Loss: 0.58600 | Acc: 69.772 | Time: 0.298\n",
            "Epoch 029: | Loss: 0.58851 | Acc: 69.870 | Time: 0.316\n",
            "Epoch 030: | Loss: 0.58870 | Acc: 70.187 | Time: 0.312\n",
            "Epoch 031: | Loss: 0.58389 | Acc: 70.488 | Time: 0.300\n",
            "Epoch 032: | Loss: 0.58568 | Acc: 70.390 | Time: 0.300\n",
            "Epoch 033: | Loss: 0.58413 | Acc: 69.886 | Time: 0.301\n",
            "Epoch 034: | Loss: 0.58659 | Acc: 70.098 | Time: 0.339\n",
            "Epoch 035: | Loss: 0.58804 | Acc: 69.967 | Time: 0.311\n",
            "Epoch 036: | Loss: 0.58480 | Acc: 70.057 | Time: 0.298\n",
            "Epoch 037: | Loss: 0.58667 | Acc: 69.886 | Time: 0.310\n",
            "Epoch 038: | Loss: 0.58319 | Acc: 70.756 | Time: 0.296\n",
            "Epoch 039: | Loss: 0.58187 | Acc: 69.919 | Time: 0.304\n",
            "Epoch 040: | Loss: 0.58204 | Acc: 70.252 | Time: 0.303\n",
            "Epoch 041: | Loss: 0.58336 | Acc: 70.585 | Time: 0.398\n",
            "Epoch 042: | Loss: 0.58414 | Acc: 70.415 | Time: 0.393\n",
            "Epoch 043: | Loss: 0.58253 | Acc: 70.325 | Time: 0.352\n",
            "Epoch 044: | Loss: 0.58323 | Acc: 69.959 | Time: 0.386\n",
            "Epoch 045: | Loss: 0.57983 | Acc: 71.203 | Time: 0.397\n",
            "Epoch 046: | Loss: 0.58225 | Acc: 70.293 | Time: 0.324\n",
            "Epoch 047: | Loss: 0.58065 | Acc: 70.618 | Time: 0.313\n",
            "Epoch 048: | Loss: 0.57878 | Acc: 70.179 | Time: 0.310\n",
            "Epoch 049: | Loss: 0.57858 | Acc: 70.350 | Time: 0.337\n",
            "Epoch 050: | Loss: 0.57844 | Acc: 70.650 | Time: 0.305\n",
            "Epoch 051: | Loss: 0.57977 | Acc: 70.472 | Time: 0.311\n",
            "Epoch 052: | Loss: 0.58096 | Acc: 70.699 | Time: 0.320\n",
            "Epoch 053: | Loss: 0.58163 | Acc: 70.545 | Time: 0.305\n",
            "Epoch 054: | Loss: 0.57849 | Acc: 70.382 | Time: 0.306\n",
            "Epoch 055: | Loss: 0.57921 | Acc: 70.569 | Time: 0.307\n",
            "Epoch 056: | Loss: 0.57784 | Acc: 71.041 | Time: 0.291\n",
            "Epoch 057: | Loss: 0.57797 | Acc: 70.699 | Time: 0.300\n",
            "Epoch 058: | Loss: 0.57905 | Acc: 71.008 | Time: 0.306\n",
            "Epoch 059: | Loss: 0.58012 | Acc: 70.610 | Time: 0.311\n",
            "Epoch 060: | Loss: 0.57536 | Acc: 71.171 | Time: 0.311\n",
            "Epoch 061: | Loss: 0.57546 | Acc: 71.098 | Time: 0.309\n",
            "Epoch 062: | Loss: 0.57896 | Acc: 70.463 | Time: 0.309\n",
            "Epoch 063: | Loss: 0.57679 | Acc: 71.049 | Time: 0.299\n",
            "Epoch 064: | Loss: 0.58214 | Acc: 70.642 | Time: 0.304\n",
            "Epoch 065: | Loss: 0.57688 | Acc: 70.626 | Time: 0.326\n",
            "Epoch 066: | Loss: 0.57458 | Acc: 71.244 | Time: 0.302\n",
            "Epoch 067: | Loss: 0.57770 | Acc: 70.366 | Time: 0.307\n",
            "Epoch 068: | Loss: 0.57943 | Acc: 70.732 | Time: 0.306\n",
            "Epoch 069: | Loss: 0.57656 | Acc: 70.650 | Time: 0.299\n",
            "Epoch 070: | Loss: 0.57535 | Acc: 70.577 | Time: 0.305\n",
            "Epoch 071: | Loss: 0.57430 | Acc: 71.252 | Time: 0.331\n",
            "Epoch 072: | Loss: 0.57791 | Acc: 70.496 | Time: 0.310\n",
            "Epoch 073: | Loss: 0.57675 | Acc: 70.577 | Time: 0.305\n",
            "Epoch 074: | Loss: 0.57554 | Acc: 70.683 | Time: 0.302\n",
            "Epoch 075: | Loss: 0.57749 | Acc: 70.943 | Time: 0.359\n",
            "Epoch 076: | Loss: 0.57604 | Acc: 70.610 | Time: 0.400\n",
            "Epoch 077: | Loss: 0.57403 | Acc: 70.764 | Time: 0.369\n",
            "Epoch 078: | Loss: 0.57354 | Acc: 70.919 | Time: 0.396\n",
            "Epoch 079: | Loss: 0.57739 | Acc: 70.748 | Time: 0.386\n",
            "Epoch 080: | Loss: 0.57194 | Acc: 71.455 | Time: 0.310\n",
            "Epoch 081: | Loss: 0.57536 | Acc: 70.504 | Time: 0.297\n",
            "Epoch 082: | Loss: 0.57309 | Acc: 70.789 | Time: 0.297\n",
            "Epoch 083: | Loss: 0.57529 | Acc: 71.000 | Time: 0.316\n",
            "Epoch 084: | Loss: 0.57468 | Acc: 70.837 | Time: 0.305\n",
            "Epoch 085: | Loss: 0.57327 | Acc: 70.927 | Time: 0.311\n",
            "Epoch 086: | Loss: 0.57522 | Acc: 71.065 | Time: 0.309\n",
            "Epoch 087: | Loss: 0.57240 | Acc: 71.049 | Time: 0.307\n",
            "Epoch 088: | Loss: 0.57427 | Acc: 71.065 | Time: 0.308\n",
            "Epoch 089: | Loss: 0.57400 | Acc: 71.423 | Time: 0.324\n",
            "Epoch 090: | Loss: 0.57182 | Acc: 71.480 | Time: 0.390\n",
            "Epoch 091: | Loss: 0.57493 | Acc: 71.106 | Time: 0.399\n",
            "Epoch 092: | Loss: 0.57477 | Acc: 71.480 | Time: 0.334\n",
            "Epoch 093: | Loss: 0.57314 | Acc: 71.122 | Time: 0.326\n",
            "Epoch 094: | Loss: 0.57564 | Acc: 70.846 | Time: 0.303\n",
            "Epoch 095: | Loss: 0.57383 | Acc: 71.146 | Time: 0.303\n",
            "Epoch 096: | Loss: 0.57127 | Acc: 71.780 | Time: 0.310\n",
            "Epoch 097: | Loss: 0.57085 | Acc: 71.504 | Time: 0.306\n",
            "Epoch 098: | Loss: 0.57006 | Acc: 71.504 | Time: 0.302\n",
            "Epoch 099: | Loss: 0.57442 | Acc: 71.106 | Time: 0.311\n",
            "Epoch 100: | Loss: 0.57442 | Acc: 71.122 | Time: 0.305\n"
          ],
          "name": "stdout"
        }
      ]
    },
    {
      "cell_type": "code",
      "metadata": {
        "id": "2NzgHAKkRGtf"
      },
      "source": [
        "# n_list = np.arange(1, 501).tolist()\n",
        "# n_list = pd.Series(n_list)\n",
        "# time_list = pd.Series(timelist)"
      ],
      "execution_count": null,
      "outputs": []
    },
    {
      "cell_type": "code",
      "metadata": {
        "colab": {
          "base_uri": "https://localhost:8080/"
        },
        "id": "Wk06y2XrRGqK",
        "outputId": "1a14de69-e288-4da0-f4da-de44034bedc5"
      },
      "source": [
        "import statistics\n",
        "statistics.mean(timelist)"
      ],
      "execution_count": null,
      "outputs": [
        {
          "output_type": "execute_result",
          "data": {
            "text/plain": [
              "0.3238640189170837"
            ]
          },
          "metadata": {
            "tags": []
          },
          "execution_count": 30
        }
      ]
    },
    {
      "cell_type": "code",
      "metadata": {
        "colab": {
          "base_uri": "https://localhost:8080/",
          "height": 286
        },
        "id": "K8KQ311QL-eW",
        "outputId": "8e2bf98d-946a-4de6-ad94-4e09fd5b36c4"
      },
      "source": [
        "plt.plot(e_loss)"
      ],
      "execution_count": null,
      "outputs": [
        {
          "output_type": "execute_result",
          "data": {
            "text/plain": [
              "[<matplotlib.lines.Line2D at 0x7f03bfa89198>]"
            ]
          },
          "metadata": {
            "tags": []
          },
          "execution_count": 24
        },
        {
          "output_type": "display_data",
          "data": {
            "image/png": "[encoded data removed]",
            "text/plain": [
              "<Figure size 432x288 with 1 Axes>"
            ]
          },
          "metadata": {
            "tags": [],
            "needs_background": "light"
          }
        }
      ]
    },
    {
      "cell_type": "code",
      "metadata": {
        "colab": {
          "base_uri": "https://localhost:8080/",
          "height": 284
        },
        "id": "5Xwb9IE6N0Sp",
        "outputId": "c1146236-4c11-4b2c-a6cf-eb81287f4a0d"
      },
      "source": [
        "plt.plot(e_acc)"
      ],
      "execution_count": null,
      "outputs": [
        {
          "output_type": "execute_result",
          "data": {
            "text/plain": [
              "[<matplotlib.lines.Line2D at 0x7f03bf1f5cf8>]"
            ]
          },
          "metadata": {
            "tags": []
          },
          "execution_count": 25
        },
        {
          "output_type": "display_data",
          "data": {
            "image/png": "[encoded data removed]",
            "text/plain": [
              "<Figure size 432x288 with 1 Axes>"
            ]
          },
          "metadata": {
            "tags": [],
            "needs_background": "light"
          }
        }
      ]
    },
    {
      "cell_type": "code",
      "metadata": {
        "colab": {
          "base_uri": "https://localhost:8080/",
          "height": 282
        },
        "id": "fTxNUE7AQ9AE",
        "outputId": "4cb12c45-feb1-4b84-badc-373c37a74e5f"
      },
      "source": [
        "plt.plot(timelist)"
      ],
      "execution_count": null,
      "outputs": [
        {
          "output_type": "execute_result",
          "data": {
            "text/plain": [
              "[<matplotlib.lines.Line2D at 0x7f03bf166278>]"
            ]
          },
          "metadata": {
            "tags": []
          },
          "execution_count": 26
        },
        {
          "output_type": "display_data",
          "data": {
            "image/png": "[encoded data removed]",
            "text/plain": [
              "<Figure size 432x288 with 1 Axes>"
            ]
          },
          "metadata": {
            "tags": [],
            "needs_background": "light"
          }
        }
      ]
    },
    {
      "cell_type": "code",
      "metadata": {
        "id": "XkmU5dGGHoy_"
      },
      "source": [
        "y_pred_list = []\n",
        "model.eval()\n",
        "with torch.no_grad():\n",
        "    for X_batch in test_loader:\n",
        "        X_batch = X_batch.to(device)\n",
        "        y_test_pred = model(X_batch)\n",
        "        y_test_pred = torch.sigmoid(y_test_pred)\n",
        "        y_pred_tag = torch.round(y_test_pred)\n",
        "        y_pred_list.append(y_pred_tag.cpu().numpy())\n",
        "\n",
        "y_pred_list = [a.squeeze().tolist() for a in y_pred_list]"
      ],
      "execution_count": null,
      "outputs": []
    },
    {
      "cell_type": "code",
      "metadata": {
        "id": "A2ZClPrQGRws"
      },
      "source": [
        ""
      ],
      "execution_count": null,
      "outputs": []
    },
    {
      "cell_type": "code",
      "metadata": {
        "colab": {
          "base_uri": "https://localhost:8080/"
        },
        "id": "L92l4ORgIIx_",
        "outputId": "94473a73-d91a-470f-a455-d64a9b72eb40"
      },
      "source": [
        "confusion_matrix(y_test, y_pred_list)"
      ],
      "execution_count": null,
      "outputs": [
        {
          "output_type": "execute_result",
          "data": {
            "text/plain": [
              "array([[1609,  426],\n",
              "       [ 706, 1110]])"
            ]
          },
          "metadata": {
            "tags": []
          },
          "execution_count": 28
        }
      ]
    },
    {
      "cell_type": "code",
      "metadata": {
        "id": "GXMIFgsfIJBz",
        "colab": {
          "base_uri": "https://localhost:8080/"
        },
        "outputId": "54666458-b515-4eab-f950-733e067ba0ed"
      },
      "source": [
        "print(classification_report(y_test, y_pred_list))"
      ],
      "execution_count": null,
      "outputs": [
        {
          "output_type": "stream",
          "text": [
            "              precision    recall  f1-score   support\n",
            "\n",
            "           0       0.70      0.79      0.74      2035\n",
            "           1       0.72      0.61      0.66      1816\n",
            "\n",
            "    accuracy                           0.71      3851\n",
            "   macro avg       0.71      0.70      0.70      3851\n",
            "weighted avg       0.71      0.71      0.70      3851\n",
            "\n"
          ],
          "name": "stdout"
        }
      ]
    },
    {
      "cell_type": "code",
      "metadata": {
        "id": "7UPXR7RxZX2i"
      },
      "source": [
        ""
      ],
      "execution_count": null,
      "outputs": []
    }
  ]
}