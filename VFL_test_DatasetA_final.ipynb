{
  "nbformat": 4,
  "nbformat_minor": 0,
  "metadata": {
    "colab": {
      "name": "VFL-test-DatasetA-final.ipynb",
      "provenance": [],
      "collapsed_sections": [],
      "machine_shape": "hm"
    },
    "kernelspec": {
      "display_name": "Python 3",
      "name": "python3"
    },
    "language_info": {
      "name": "python"
    },
    "accelerator": "GPU"
  },
  "cells": [
    {
      "cell_type": "code",
      "metadata": {
        "colab": {
          "base_uri": "https://localhost:8080/"
        },
        "id": "xfFwkK7U94_w",
        "outputId": "a7bbf0fe-7161-49f8-ad16-ae6d5a381223"
      },
      "source": [
        "import os, sys\n",
        "from google.colab import drive\n",
        "drive.mount('/content/drive')\n",
        "nb_path = '/content/notebooks'\n",
        "os.symlink('/content/drive/My Drive/Colab Notebooks', nb_path)\n",
        "sys.path.insert(0,nb_path)\n"
      ],
      "execution_count": 1,
      "outputs": [
        {
          "output_type": "stream",
          "text": [
            "Mounted at /content/drive\n"
          ],
          "name": "stdout"
        }
      ]
    },
    {
      "cell_type": "code",
      "metadata": {
        "colab": {
          "base_uri": "https://localhost:8080/",
          "height": 1000
        },
        "id": "iKBc9tZxAkGX",
        "outputId": "617b2147-917c-4369-ff85-b13a2d9edd4b"
      },
      "source": [
        "# install syft\n",
        "!pip install syft==0.2.9"
      ],
      "execution_count": 2,
      "outputs": [
        {
          "output_type": "stream",
          "text": [
            "Collecting syft==0.2.9\n",
            "\u001b[?25l  Downloading https://files.pythonhosted.org/packages/1c/73/891ba1dca7e0ba77be211c36688f083184d8c9d5901b8cd59cbf867052f3/syft-0.2.9-py3-none-any.whl (433kB)\n",
            "\u001b[K     |████████████████████████████████| 440kB 5.6MB/s \n",
            "\u001b[?25hCollecting websocket-client~=0.57.0\n",
            "\u001b[?25l  Downloading https://files.pythonhosted.org/packages/4c/5f/f61b420143ed1c8dc69f9eaec5ff1ac36109d52c80de49d66e0c36c3dfdf/websocket_client-0.57.0-py2.py3-none-any.whl (200kB)\n",
            "\u001b[K     |████████████████████████████████| 204kB 33.5MB/s \n",
            "\u001b[?25hCollecting torchvision~=0.5.0\n",
            "\u001b[?25l  Downloading https://files.pythonhosted.org/packages/1c/32/cb0e4c43cd717da50258887b088471568990b5a749784c465a8a1962e021/torchvision-0.5.0-cp37-cp37m-manylinux1_x86_64.whl (4.0MB)\n",
            "\u001b[K     |████████████████████████████████| 4.0MB 32.3MB/s \n",
            "\u001b[?25hRequirement already satisfied: Pillow>=7.1.0 in /usr/local/lib/python3.7/dist-packages (from syft==0.2.9) (7.1.2)\n",
            "Collecting phe~=1.4.0\n",
            "  Downloading https://files.pythonhosted.org/packages/32/0e/568e97b014eb14e794a1258a341361e9da351dc6240c63b89e1541e3341c/phe-1.4.0.tar.gz\n",
            "Collecting syft-proto~=0.5.2\n",
            "\u001b[?25l  Downloading https://files.pythonhosted.org/packages/da/88/67edf7836ac4eab723416933cd663c4f87753d3ff31337f91701c0b75474/syft_proto-0.5.3-py3-none-any.whl (66kB)\n",
            "\u001b[K     |████████████████████████████████| 71kB 10.5MB/s \n",
            "\u001b[?25hCollecting websockets~=8.1.0\n",
            "\u001b[?25l  Downloading https://files.pythonhosted.org/packages/5a/0b/3ebc752392a368af14dd24ee041683416ac6d2463eead94b311b11e41c82/websockets-8.1-cp37-cp37m-manylinux2010_x86_64.whl (79kB)\n",
            "\u001b[K     |████████████████████████████████| 81kB 12.1MB/s \n",
            "\u001b[?25hCollecting torch~=1.4.0\n",
            "\u001b[?25l  Downloading https://files.pythonhosted.org/packages/1a/3b/fa92ece1e58a6a48ec598bab327f39d69808133e5b2fb33002ca754e381e/torch-1.4.0-cp37-cp37m-manylinux1_x86_64.whl (753.4MB)\n",
            "\u001b[K     |████████████████████████████████| 753.4MB 22kB/s \n",
            "\u001b[?25hRequirement already satisfied: Flask~=1.1.1 in /usr/local/lib/python3.7/dist-packages (from syft==0.2.9) (1.1.2)\n",
            "Collecting tornado==4.5.3\n",
            "\u001b[?25l  Downloading https://files.pythonhosted.org/packages/e3/7b/e29ab3d51c8df66922fea216e2bddfcb6430fb29620e5165b16a216e0d3c/tornado-4.5.3.tar.gz (484kB)\n",
            "\u001b[K     |████████████████████████████████| 491kB 58.4MB/s \n",
            "\u001b[?25hCollecting RestrictedPython~=5.0\n",
            "  Downloading https://files.pythonhosted.org/packages/a0/cc/28c4d966615a46b03be4dac0f2c6e713412efbf2f85428eeb9618c4f6f0c/RestrictedPython-5.1-py2.py3-none-any.whl\n",
            "Collecting flask-socketio~=4.2.1\n",
            "  Downloading https://files.pythonhosted.org/packages/66/44/edc4715af85671b943c18ac8345d0207972284a0cd630126ff5251faa08b/Flask_SocketIO-4.2.1-py2.py3-none-any.whl\n",
            "Collecting lz4~=3.0.2\n",
            "\u001b[?25l  Downloading https://files.pythonhosted.org/packages/65/38/dacc3cbb33a9ded9e2e57f48707e8842f1080997901578ebddaa0e031646/lz4-3.0.2-cp37-cp37m-manylinux2010_x86_64.whl (1.8MB)\n",
            "\u001b[K     |████████████████████████████████| 1.8MB 74.7MB/s \n",
            "\u001b[?25hCollecting openmined.threepio==0.2.0\n",
            "\u001b[?25l  Downloading https://files.pythonhosted.org/packages/0a/38/df6367693c7f3808f076cd8c2647c434a04adda2bbb2435dadefe7258fd4/openmined.threepio-0.2.0.tar.gz (73kB)\n",
            "\u001b[K     |████████████████████████████████| 81kB 12.9MB/s \n",
            "\u001b[?25hCollecting tblib~=1.6.0\n",
            "  Downloading https://files.pythonhosted.org/packages/0d/de/dca3e651ca62e59c08d324f4a51467fa4b8cbeaafb883b5e83720b4d4a47/tblib-1.6.0-py2.py3-none-any.whl\n",
            "Collecting requests~=2.22.0\n",
            "\u001b[?25l  Downloading https://files.pythonhosted.org/packages/51/bd/23c926cd341ea6b7dd0b2a00aba99ae0f828be89d72b2190f27c11d4b7fb/requests-2.22.0-py2.py3-none-any.whl (57kB)\n",
            "\u001b[K     |████████████████████████████████| 61kB 10.0MB/s \n",
            "\u001b[?25hRequirement already satisfied: scipy~=1.4.1 in /usr/local/lib/python3.7/dist-packages (from syft==0.2.9) (1.4.1)\n",
            "Collecting requests-toolbelt==0.9.1\n",
            "\u001b[?25l  Downloading https://files.pythonhosted.org/packages/60/ef/7681134338fc097acef8d9b2f8abe0458e4d87559c689a8c306d0957ece5/requests_toolbelt-0.9.1-py2.py3-none-any.whl (54kB)\n",
            "\u001b[K     |████████████████████████████████| 61kB 10.1MB/s \n",
            "\u001b[?25hRequirement already satisfied: msgpack~=1.0.0 in /usr/local/lib/python3.7/dist-packages (from syft==0.2.9) (1.0.2)\n",
            "Collecting psutil==5.7.0\n",
            "\u001b[?25l  Downloading https://files.pythonhosted.org/packages/c4/b8/3512f0e93e0db23a71d82485ba256071ebef99b227351f0f5540f744af41/psutil-5.7.0.tar.gz (449kB)\n",
            "\u001b[K     |████████████████████████████████| 450kB 74.2MB/s \n",
            "\u001b[?25hCollecting notebook==5.7.8\n",
            "\u001b[?25l  Downloading https://files.pythonhosted.org/packages/f6/36/89ebfffc9dd8c8dbd81c1ffb53e3d4233ee666414c143959477cb07cc5f5/notebook-5.7.8-py2.py3-none-any.whl (9.0MB)\n",
            "\u001b[K     |████████████████████████████████| 9.0MB 52.9MB/s \n",
            "\u001b[?25hCollecting aiortc==0.9.28\n",
            "\u001b[?25l  Downloading https://files.pythonhosted.org/packages/df/c5/0c15e562c5ea1531e8c7db1bcd524e53619cc27a228f3f28d2ba55544d38/aiortc-0.9.28-cp37-cp37m-manylinux2010_x86_64.whl (2.0MB)\n",
            "\u001b[K     |████████████████████████████████| 2.0MB 49.2MB/s \n",
            "\u001b[?25hCollecting importlib-resources~=1.5.0\n",
            "  Downloading https://files.pythonhosted.org/packages/7f/2d/88f166bcaadc09d9fdbf1c336ad118e01b7fe1155e15675e125be2ff1899/importlib_resources-1.5.0-py2.py3-none-any.whl\n",
            "Collecting numpy~=1.18.1\n",
            "\u001b[?25l  Downloading https://files.pythonhosted.org/packages/d6/c6/58e517e8b1fb192725cfa23c01c2e60e4e6699314ee9684a1c5f5c9b27e1/numpy-1.18.5-cp37-cp37m-manylinux1_x86_64.whl (20.1MB)\n",
            "\u001b[K     |████████████████████████████████| 20.1MB 1.2MB/s \n",
            "\u001b[?25hCollecting shaloop==0.2.1-alpha.11\n",
            "\u001b[?25l  Downloading https://files.pythonhosted.org/packages/7b/8e/6c4493280d55199161c2eea896327c740195cf16cc74c5393c08eababc83/shaloop-0.2.1_alpha.11-py3-none-manylinux1_x86_64.whl (126kB)\n",
            "\u001b[K     |████████████████████████████████| 133kB 77.6MB/s \n",
            "\u001b[?25hRequirement already satisfied: dill~=0.3.1 in /usr/local/lib/python3.7/dist-packages (from syft==0.2.9) (0.3.3)\n",
            "Requirement already satisfied: six in /usr/local/lib/python3.7/dist-packages (from websocket-client~=0.57.0->syft==0.2.9) (1.15.0)\n",
            "Requirement already satisfied: protobuf>=3.12.2 in /usr/local/lib/python3.7/dist-packages (from syft-proto~=0.5.2->syft==0.2.9) (3.12.4)\n",
            "Requirement already satisfied: Jinja2>=2.10.1 in /usr/local/lib/python3.7/dist-packages (from Flask~=1.1.1->syft==0.2.9) (2.11.3)\n",
            "Requirement already satisfied: click>=5.1 in /usr/local/lib/python3.7/dist-packages (from Flask~=1.1.1->syft==0.2.9) (7.1.2)\n",
            "Requirement already satisfied: Werkzeug>=0.15 in /usr/local/lib/python3.7/dist-packages (from Flask~=1.1.1->syft==0.2.9) (1.0.1)\n",
            "Requirement already satisfied: itsdangerous>=0.24 in /usr/local/lib/python3.7/dist-packages (from Flask~=1.1.1->syft==0.2.9) (1.1.0)\n",
            "Collecting python-socketio>=4.3.0\n",
            "\u001b[?25l  Downloading https://files.pythonhosted.org/packages/52/87/4503777f71dc2b125b18c43989d0afdf0e7306d0d8682ec6691209cc9329/python_socketio-5.2.1-py2.py3-none-any.whl (53kB)\n",
            "\u001b[K     |████████████████████████████████| 61kB 9.9MB/s \n",
            "\u001b[?25hRequirement already satisfied: certifi>=2017.4.17 in /usr/local/lib/python3.7/dist-packages (from requests~=2.22.0->syft==0.2.9) (2020.12.5)\n",
            "Requirement already satisfied: urllib3!=1.25.0,!=1.25.1,<1.26,>=1.21.1 in /usr/local/lib/python3.7/dist-packages (from requests~=2.22.0->syft==0.2.9) (1.24.3)\n",
            "Requirement already satisfied: chardet<3.1.0,>=3.0.2 in /usr/local/lib/python3.7/dist-packages (from requests~=2.22.0->syft==0.2.9) (3.0.4)\n",
            "Collecting idna<2.9,>=2.5\n",
            "\u001b[?25l  Downloading https://files.pythonhosted.org/packages/14/2c/cd551d81dbe15200be1cf41cd03869a46fe7226e7450af7a6545bfc474c9/idna-2.8-py2.py3-none-any.whl (58kB)\n",
            "\u001b[K     |████████████████████████████████| 61kB 9.9MB/s \n",
            "\u001b[?25hRequirement already satisfied: pyzmq>=17 in /usr/local/lib/python3.7/dist-packages (from notebook==5.7.8->syft==0.2.9) (22.0.3)\n",
            "Requirement already satisfied: jupyter-client>=5.2.0 in /usr/local/lib/python3.7/dist-packages (from notebook==5.7.8->syft==0.2.9) (5.3.5)\n",
            "Requirement already satisfied: ipython-genutils in /usr/local/lib/python3.7/dist-packages (from notebook==5.7.8->syft==0.2.9) (0.2.0)\n",
            "Requirement already satisfied: nbformat in /usr/local/lib/python3.7/dist-packages (from notebook==5.7.8->syft==0.2.9) (5.1.3)\n",
            "Requirement already satisfied: nbconvert in /usr/local/lib/python3.7/dist-packages (from notebook==5.7.8->syft==0.2.9) (5.6.1)\n",
            "Requirement already satisfied: Send2Trash in /usr/local/lib/python3.7/dist-packages (from notebook==5.7.8->syft==0.2.9) (1.5.0)\n",
            "Requirement already satisfied: ipykernel in /usr/local/lib/python3.7/dist-packages (from notebook==5.7.8->syft==0.2.9) (4.10.1)\n",
            "Requirement already satisfied: jupyter-core>=4.4.0 in /usr/local/lib/python3.7/dist-packages (from notebook==5.7.8->syft==0.2.9) (4.7.1)\n",
            "Requirement already satisfied: traitlets>=4.2.1 in /usr/local/lib/python3.7/dist-packages (from notebook==5.7.8->syft==0.2.9) (5.0.5)\n",
            "Requirement already satisfied: prometheus-client in /usr/local/lib/python3.7/dist-packages (from notebook==5.7.8->syft==0.2.9) (0.10.1)\n",
            "Requirement already satisfied: terminado>=0.8.1 in /usr/local/lib/python3.7/dist-packages (from notebook==5.7.8->syft==0.2.9) (0.9.4)\n",
            "Collecting av<9.0.0,>=8.0.0\n",
            "\u001b[?25l  Downloading https://files.pythonhosted.org/packages/66/ff/bacde7314c646a2bd2f240034809a10cc3f8b096751284d0828640fff3dd/av-8.0.3-cp37-cp37m-manylinux2010_x86_64.whl (37.2MB)\n",
            "\u001b[K     |████████████████████████████████| 37.2MB 87kB/s \n",
            "\u001b[?25hCollecting crc32c\n",
            "\u001b[?25l  Downloading https://files.pythonhosted.org/packages/db/85/4656cc0ac33be2725d6de41eabfeb72f86c194fe26decf28162d72f9a642/crc32c-2.2-cp37-cp37m-manylinux2010_x86_64.whl (48kB)\n",
            "\u001b[K     |████████████████████████████████| 51kB 8.0MB/s \n",
            "\u001b[?25hCollecting cryptography>=2.2\n",
            "\u001b[?25l  Downloading https://files.pythonhosted.org/packages/b2/26/7af637e6a7e87258b963f1731c5982fb31cd507f0d90d91836e446955d02/cryptography-3.4.7-cp36-abi3-manylinux2014_x86_64.whl (3.2MB)\n",
            "\u001b[K     |████████████████████████████████| 3.2MB 49.1MB/s \n",
            "\u001b[?25hCollecting pyee>=6.0.0\n",
            "  Downloading https://files.pythonhosted.org/packages/0d/0a/933b3931107e1da186963fd9bb9bceb9a613cff034cb0fb3b0c61003f357/pyee-8.1.0-py2.py3-none-any.whl\n",
            "Requirement already satisfied: cffi>=1.0.0 in /usr/local/lib/python3.7/dist-packages (from aiortc==0.9.28->syft==0.2.9) (1.14.5)\n",
            "Collecting aioice<0.7.0,>=0.6.17\n",
            "  Downloading https://files.pythonhosted.org/packages/8b/86/e3cdf660b67da7a9a7013253db5db7cf786a52296cb40078db1206177698/aioice-0.6.18-py3-none-any.whl\n",
            "Collecting pylibsrtp>=0.5.6\n",
            "\u001b[?25l  Downloading https://files.pythonhosted.org/packages/a2/24/9c2060d5f2d831091c7bb41428d17fd20e839959f1e78e6930329b21c0a7/pylibsrtp-0.6.8-cp37-cp37m-manylinux2010_x86_64.whl (75kB)\n",
            "\u001b[K     |████████████████████████████████| 81kB 13.2MB/s \n",
            "\u001b[?25hRequirement already satisfied: zipp>=0.4; python_version < \"3.8\" in /usr/local/lib/python3.7/dist-packages (from importlib-resources~=1.5.0->syft==0.2.9) (3.4.1)\n",
            "Requirement already satisfied: importlib-metadata; python_version < \"3.8\" in /usr/local/lib/python3.7/dist-packages (from importlib-resources~=1.5.0->syft==0.2.9) (3.10.1)\n",
            "Requirement already satisfied: pycparser>=2 in /usr/local/lib/python3.7/dist-packages (from shaloop==0.2.1-alpha.11->syft==0.2.9) (2.20)\n",
            "Requirement already satisfied: setuptools in /usr/local/lib/python3.7/dist-packages (from protobuf>=3.12.2->syft-proto~=0.5.2->syft==0.2.9) (54.2.0)\n",
            "Requirement already satisfied: MarkupSafe>=0.23 in /usr/local/lib/python3.7/dist-packages (from Jinja2>=2.10.1->Flask~=1.1.1->syft==0.2.9) (1.1.1)\n",
            "Collecting python-engineio>=4.1.0\n",
            "\u001b[?25l  Downloading https://files.pythonhosted.org/packages/46/f6/9515c8357935d4fe58b526ab5b4857245948fa1b5f607cf63d4663cce5c2/python_engineio-4.1.0-py2.py3-none-any.whl (51kB)\n",
            "\u001b[K     |████████████████████████████████| 61kB 10.3MB/s \n",
            "\u001b[?25hCollecting bidict>=0.21.0\n",
            "  Downloading https://files.pythonhosted.org/packages/67/d4/eaf9242722bf991e0955380dd6168020cb15a71cc0d3cc2373f4911b1f1d/bidict-0.21.2-py2.py3-none-any.whl\n",
            "Requirement already satisfied: python-dateutil>=2.1 in /usr/local/lib/python3.7/dist-packages (from jupyter-client>=5.2.0->notebook==5.7.8->syft==0.2.9) (2.8.1)\n",
            "Requirement already satisfied: jsonschema!=2.5.0,>=2.4 in /usr/local/lib/python3.7/dist-packages (from nbformat->notebook==5.7.8->syft==0.2.9) (2.6.0)\n",
            "Requirement already satisfied: bleach in /usr/local/lib/python3.7/dist-packages (from nbconvert->notebook==5.7.8->syft==0.2.9) (3.3.0)\n",
            "Requirement already satisfied: entrypoints>=0.2.2 in /usr/local/lib/python3.7/dist-packages (from nbconvert->notebook==5.7.8->syft==0.2.9) (0.3)\n",
            "Requirement already satisfied: defusedxml in /usr/local/lib/python3.7/dist-packages (from nbconvert->notebook==5.7.8->syft==0.2.9) (0.7.1)\n",
            "Requirement already satisfied: mistune<2,>=0.8.1 in /usr/local/lib/python3.7/dist-packages (from nbconvert->notebook==5.7.8->syft==0.2.9) (0.8.4)\n",
            "Requirement already satisfied: pygments in /usr/local/lib/python3.7/dist-packages (from nbconvert->notebook==5.7.8->syft==0.2.9) (2.6.1)\n",
            "Requirement already satisfied: pandocfilters>=1.4.1 in /usr/local/lib/python3.7/dist-packages (from nbconvert->notebook==5.7.8->syft==0.2.9) (1.4.3)\n",
            "Requirement already satisfied: testpath in /usr/local/lib/python3.7/dist-packages (from nbconvert->notebook==5.7.8->syft==0.2.9) (0.4.4)\n",
            "Requirement already satisfied: ipython>=4.0.0 in /usr/local/lib/python3.7/dist-packages (from ipykernel->notebook==5.7.8->syft==0.2.9) (5.5.0)\n",
            "Requirement already satisfied: ptyprocess; os_name != \"nt\" in /usr/local/lib/python3.7/dist-packages (from terminado>=0.8.1->notebook==5.7.8->syft==0.2.9) (0.7.0)\n",
            "Collecting netifaces\n",
            "  Downloading https://files.pythonhosted.org/packages/0d/18/fd6e9c71a35b67a73160ec80a49da63d1eed2d2055054cc2995714949132/netifaces-0.10.9.tar.gz\n",
            "Requirement already satisfied: typing-extensions>=3.6.4; python_version < \"3.8\" in /usr/local/lib/python3.7/dist-packages (from importlib-metadata; python_version < \"3.8\"->importlib-resources~=1.5.0->syft==0.2.9) (3.7.4.3)\n",
            "Requirement already satisfied: packaging in /usr/local/lib/python3.7/dist-packages (from bleach->nbconvert->notebook==5.7.8->syft==0.2.9) (20.9)\n",
            "Requirement already satisfied: webencodings in /usr/local/lib/python3.7/dist-packages (from bleach->nbconvert->notebook==5.7.8->syft==0.2.9) (0.5.1)\n",
            "Requirement already satisfied: pexpect; sys_platform != \"win32\" in /usr/local/lib/python3.7/dist-packages (from ipython>=4.0.0->ipykernel->notebook==5.7.8->syft==0.2.9) (4.8.0)\n",
            "Requirement already satisfied: decorator in /usr/local/lib/python3.7/dist-packages (from ipython>=4.0.0->ipykernel->notebook==5.7.8->syft==0.2.9) (4.4.2)\n",
            "Requirement already satisfied: pickleshare in /usr/local/lib/python3.7/dist-packages (from ipython>=4.0.0->ipykernel->notebook==5.7.8->syft==0.2.9) (0.7.5)\n",
            "Requirement already satisfied: prompt-toolkit<2.0.0,>=1.0.4 in /usr/local/lib/python3.7/dist-packages (from ipython>=4.0.0->ipykernel->notebook==5.7.8->syft==0.2.9) (1.0.18)\n",
            "Requirement already satisfied: simplegeneric>0.8 in /usr/local/lib/python3.7/dist-packages (from ipython>=4.0.0->ipykernel->notebook==5.7.8->syft==0.2.9) (0.8.1)\n",
            "Requirement already satisfied: pyparsing>=2.0.2 in /usr/local/lib/python3.7/dist-packages (from packaging->bleach->nbconvert->notebook==5.7.8->syft==0.2.9) (2.4.7)\n",
            "Requirement already satisfied: wcwidth in /usr/local/lib/python3.7/dist-packages (from prompt-toolkit<2.0.0,>=1.0.4->ipython>=4.0.0->ipykernel->notebook==5.7.8->syft==0.2.9) (0.2.5)\n",
            "Building wheels for collected packages: phe, tornado, openmined.threepio, psutil, netifaces\n",
            "  Building wheel for phe (setup.py) ... \u001b[?25l\u001b[?25hdone\n",
            "  Created wheel for phe: filename=phe-1.4.0-py2.py3-none-any.whl size=37362 sha256=182641ca6aa5864b96d37a8d383e807d7e8d7fceeb9ad5b8706b0ea7a66413b6\n",
            "  Stored in directory: /root/.cache/pip/wheels/f8/dc/36/dcb6bf0f1b9907e7b710ace63e64d08e7022340909315fdea4\n",
            "  Building wheel for tornado (setup.py) ... \u001b[?25l\u001b[?25hdone\n",
            "  Created wheel for tornado: filename=tornado-4.5.3-cp37-cp37m-linux_x86_64.whl size=433999 sha256=47e27e990bfbb2c4900ff29c4df26a0be63f65ae1edc13fc63ba188961e7f5c1\n",
            "  Stored in directory: /root/.cache/pip/wheels/72/bf/f4/b68fa69596986881b397b18ff2b9af5f8181233aadcc9f76fd\n",
            "  Building wheel for openmined.threepio (setup.py) ... \u001b[?25l\u001b[?25hdone\n",
            "  Created wheel for openmined.threepio: filename=openmined.threepio-0.2.0-cp37-none-any.whl size=80095 sha256=580099b229045515c8635cf06987b19a99659474a43535f5578d55f2769e40a8\n",
            "  Stored in directory: /root/.cache/pip/wheels/1b/a5/c5/7e67449f5d4d487e1d3a583ba51d27403b315b18ef2e48a13c\n",
            "  Building wheel for psutil (setup.py) ... \u001b[?25l\u001b[?25hdone\n",
            "  Created wheel for psutil: filename=psutil-5.7.0-cp37-cp37m-linux_x86_64.whl size=276424 sha256=216291a0961ec80236a9b5c170788526833451675d604c6b37135ec54d3f8158\n",
            "  Stored in directory: /root/.cache/pip/wheels/d7/69/b4/3200b95828d1f0ddb3cb5699083717f4fdbd9b4223d0644c57\n",
            "  Building wheel for netifaces (setup.py) ... \u001b[?25l\u001b[?25hdone\n",
            "  Created wheel for netifaces: filename=netifaces-0.10.9-cp37-cp37m-linux_x86_64.whl size=37435 sha256=2b356ba689ff4e50863a79f44639186ffc960532a1f7bf790dacbf5ef600f4dd\n",
            "  Stored in directory: /root/.cache/pip/wheels/23/8f/f3/7054578f04c904f70757c5c85a6e2823baa69d42365526e93d\n",
            "Successfully built phe tornado openmined.threepio psutil netifaces\n",
            "\u001b[31mERROR: torchtext 0.9.1 has requirement torch==1.8.1, but you'll have torch 1.4.0 which is incompatible.\u001b[0m\n",
            "\u001b[31mERROR: tensorflow 2.4.1 has requirement numpy~=1.19.2, but you'll have numpy 1.18.5 which is incompatible.\u001b[0m\n",
            "\u001b[31mERROR: google-colab 1.0.0 has requirement notebook~=5.3.0; python_version >= \"3.0\", but you'll have notebook 5.7.8 which is incompatible.\u001b[0m\n",
            "\u001b[31mERROR: google-colab 1.0.0 has requirement requests~=2.23.0, but you'll have requests 2.22.0 which is incompatible.\u001b[0m\n",
            "\u001b[31mERROR: google-colab 1.0.0 has requirement tornado~=5.1.0; python_version >= \"3.0\", but you'll have tornado 4.5.3 which is incompatible.\u001b[0m\n",
            "\u001b[31mERROR: datascience 0.10.6 has requirement folium==0.2.1, but you'll have folium 0.8.3 which is incompatible.\u001b[0m\n",
            "\u001b[31mERROR: bokeh 2.3.1 has requirement tornado>=5.1, but you'll have tornado 4.5.3 which is incompatible.\u001b[0m\n",
            "\u001b[31mERROR: albumentations 0.1.12 has requirement imgaug<0.2.7,>=0.2.5, but you'll have imgaug 0.2.9 which is incompatible.\u001b[0m\n",
            "Installing collected packages: websocket-client, torch, numpy, torchvision, phe, syft-proto, websockets, tornado, RestrictedPython, python-engineio, bidict, python-socketio, flask-socketio, lz4, openmined.threepio, tblib, idna, requests, requests-toolbelt, psutil, notebook, av, crc32c, cryptography, pyee, netifaces, aioice, pylibsrtp, aiortc, importlib-resources, shaloop, syft\n",
            "  Found existing installation: torch 1.8.1+cu101\n",
            "    Uninstalling torch-1.8.1+cu101:\n",
            "      Successfully uninstalled torch-1.8.1+cu101\n",
            "  Found existing installation: numpy 1.19.5\n",
            "    Uninstalling numpy-1.19.5:\n",
            "      Successfully uninstalled numpy-1.19.5\n",
            "  Found existing installation: torchvision 0.9.1+cu101\n",
            "    Uninstalling torchvision-0.9.1+cu101:\n",
            "      Successfully uninstalled torchvision-0.9.1+cu101\n",
            "  Found existing installation: tornado 5.1.1\n",
            "    Uninstalling tornado-5.1.1:\n",
            "      Successfully uninstalled tornado-5.1.1\n",
            "  Found existing installation: tblib 1.7.0\n",
            "    Uninstalling tblib-1.7.0:\n",
            "      Successfully uninstalled tblib-1.7.0\n",
            "  Found existing installation: idna 2.10\n",
            "    Uninstalling idna-2.10:\n",
            "      Successfully uninstalled idna-2.10\n",
            "  Found existing installation: requests 2.23.0\n",
            "    Uninstalling requests-2.23.0:\n",
            "      Successfully uninstalled requests-2.23.0\n",
            "  Found existing installation: psutil 5.4.8\n",
            "    Uninstalling psutil-5.4.8:\n",
            "      Successfully uninstalled psutil-5.4.8\n",
            "  Found existing installation: notebook 5.3.1\n",
            "    Uninstalling notebook-5.3.1:\n",
            "      Successfully uninstalled notebook-5.3.1\n",
            "  Found existing installation: importlib-resources 5.1.2\n",
            "    Uninstalling importlib-resources-5.1.2:\n",
            "      Successfully uninstalled importlib-resources-5.1.2\n",
            "Successfully installed RestrictedPython-5.1 aioice-0.6.18 aiortc-0.9.28 av-8.0.3 bidict-0.21.2 crc32c-2.2 cryptography-3.4.7 flask-socketio-4.2.1 idna-2.8 importlib-resources-1.5.0 lz4-3.0.2 netifaces-0.10.9 notebook-5.7.8 numpy-1.18.5 openmined.threepio-0.2.0 phe-1.4.0 psutil-5.7.0 pyee-8.1.0 pylibsrtp-0.6.8 python-engineio-4.1.0 python-socketio-5.2.1 requests-2.22.0 requests-toolbelt-0.9.1 shaloop-0.2.1a11 syft-0.2.9 syft-proto-0.5.3 tblib-1.6.0 torch-1.4.0 torchvision-0.5.0 tornado-4.5.3 websocket-client-0.57.0 websockets-8.1\n"
          ],
          "name": "stdout"
        },
        {
          "output_type": "display_data",
          "data": {
            "application/vnd.colab-display-data+json": {
              "pip_warning": {
                "packages": [
                  "numpy",
                  "psutil",
                  "tornado"
                ]
              }
            }
          },
          "metadata": {
            "tags": []
          }
        }
      ]
    },
    {
      "cell_type": "code",
      "metadata": {
        "colab": {
          "base_uri": "https://localhost:8080/"
        },
        "id": "ksiu0c3cAoPK",
        "outputId": "6af8a3b1-c464-4544-f450-8827241be963"
      },
      "source": [
        "# install private set intersection \n",
        "# to encrypt raw data\n",
        "!pip install openmined.psi"
      ],
      "execution_count": 3,
      "outputs": [
        {
          "output_type": "stream",
          "text": [
            "Collecting openmined.psi\n",
            "\u001b[?25l  Downloading https://files.pythonhosted.org/packages/c7/48/f883f306ad132b3fe7fc5c5e99581793a155e5b70094b03e833affc443e4/openmined.psi-0.3.5-cp37-cp37m-manylinux2014_x86_64.whl (1.9MB)\n",
            "\u001b[K     |████████████████████████████████| 1.9MB 5.5MB/s \n",
            "\u001b[?25hRequirement already satisfied: protobuf in /usr/local/lib/python3.7/dist-packages (from openmined.psi) (3.12.4)\n",
            "Requirement already satisfied: six>=1.9 in /usr/local/lib/python3.7/dist-packages (from protobuf->openmined.psi) (1.15.0)\n",
            "Requirement already satisfied: setuptools in /usr/local/lib/python3.7/dist-packages (from protobuf->openmined.psi) (54.2.0)\n",
            "Installing collected packages: openmined.psi\n",
            "Successfully installed openmined.psi-0.3.5\n"
          ],
          "name": "stdout"
        }
      ]
    },
    {
      "cell_type": "code",
      "metadata": {
        "id": "AdwX-EwhAsnV"
      },
      "source": [
        "import tensorflow as tf\n",
        "import sys\n",
        "\n",
        "# import the module from google drive\n",
        "sys.path.insert(0,'/content/drive/My Drive/Colab Notebooks')\n",
        "import src\n",
        "\n",
        "\n",
        "import torch\n",
        "from torchvision import datasets, transforms\n",
        "from torch import nn, optim\n",
        "from torch.utils.data import TensorDataset\n",
        "from torchvision.transforms import ToTensor\n",
        "\n",
        "import syft as sy\n",
        "\n",
        "hook = sy.TorchHook(torch)"
      ],
      "execution_count": 4,
      "outputs": []
    },
    {
      "cell_type": "code",
      "metadata": {
        "id": "iSaq0p3lA39M"
      },
      "source": [
        "from src.dataloader import VerticalDataLoader\n",
        "from src.psi.util import Client, Server\n",
        "from src.utils.split_data import add_ids"
      ],
      "execution_count": 5,
      "outputs": []
    },
    {
      "cell_type": "code",
      "metadata": {
        "id": "WKhWTt30A943"
      },
      "source": [
        "from imutils import paths\n",
        "from sklearn.model_selection import train_test_split\n",
        "from sklearn.preprocessing import LabelBinarizer\n",
        "from sklearn.utils import shuffle\n",
        "from sklearn.metrics import accuracy_score\n",
        "from sklearn.metrics import confusion_matrix, classification_report"
      ],
      "execution_count": 6,
      "outputs": []
    },
    {
      "cell_type": "code",
      "metadata": {
        "id": "zN3muSmI9jVD"
      },
      "source": [
        "from uuid import uuid4\n",
        "\n",
        "import numpy as np\n",
        "import pandas as pd\n",
        "\n",
        "import time\n",
        "import matplotlib.pyplot as plt"
      ],
      "execution_count": 7,
      "outputs": []
    },
    {
      "cell_type": "code",
      "metadata": {
        "id": "DUM3Pj7Gl8cA"
      },
      "source": [
        "# load the data\n",
        "df = pd.read_csv(\"drive/MyDrive/Colab Notebooks/data/datatrain.csv\")"
      ],
      "execution_count": 8,
      "outputs": []
    },
    {
      "cell_type": "code",
      "metadata": {
        "colab": {
          "base_uri": "https://localhost:8080/",
          "height": 321
        },
        "id": "02t3E6pInc2u",
        "outputId": "670ff17c-eaf5-41eb-9df0-0a1f3a783d48"
      },
      "source": [
        "# clean the data\n",
        "# transform into binary columns\n",
        "\n",
        "df = df.dropna()\n",
        "df = pd.get_dummies(df)\n",
        "cols = df.columns.tolist()\n",
        "df = df[cols]\n",
        "df.head()"
      ],
      "execution_count": 9,
      "outputs": [
        {
          "output_type": "execute_result",
          "data": {
            "text/html": [
              "<div>\n",
              "<style scoped>\n",
              "    .dataframe tbody tr th:only-of-type {\n",
              "        vertical-align: middle;\n",
              "    }\n",
              "\n",
              "    .dataframe tbody tr th {\n",
              "        vertical-align: top;\n",
              "    }\n",
              "\n",
              "    .dataframe thead th {\n",
              "        text-align: right;\n",
              "    }\n",
              "</style>\n",
              "<table border=\"1\" class=\"dataframe\">\n",
              "  <thead>\n",
              "    <tr style=\"text-align: right;\">\n",
              "      <th></th>\n",
              "      <th>Application Branch Code</th>\n",
              "      <th>Applied Loan Amount</th>\n",
              "      <th>Applied Loan Tenor</th>\n",
              "      <th>Gender</th>\n",
              "      <th>Age</th>\n",
              "      <th>Monthly Housing/Rental</th>\n",
              "      <th>Contract Staff (Y/N)</th>\n",
              "      <th>Monthly Income</th>\n",
              "      <th>Office (Area)</th>\n",
              "      <th>Disbursement (BOCOM/Others)</th>\n",
              "      <th>Product Code_BT</th>\n",
              "      <th>Product Code_PL</th>\n",
              "      <th>Product Code_TL</th>\n",
              "      <th>Channel Code_F01</th>\n",
              "      <th>Channel Code_F02</th>\n",
              "      <th>Channel Code_F03</th>\n",
              "      <th>Channel Code_F04</th>\n",
              "      <th>Channel Code_F05</th>\n",
              "      <th>Channel Code_F07</th>\n",
              "      <th>Channel Code_F08</th>\n",
              "      <th>Source Code_R1</th>\n",
              "      <th>Source Code_R13</th>\n",
              "      <th>Source Code_R14</th>\n",
              "      <th>Source Code_R15</th>\n",
              "      <th>Source Code_R2</th>\n",
              "      <th>Source Code_R4</th>\n",
              "      <th>Source Code_R5</th>\n",
              "      <th>Source Code_R8</th>\n",
              "      <th>Source Code_S01</th>\n",
              "      <th>Source Code_S02</th>\n",
              "      <th>Source Code_S03</th>\n",
              "      <th>Source Code_S04</th>\n",
              "      <th>Source Code_S05</th>\n",
              "      <th>Source Code_S06</th>\n",
              "      <th>Source Code_S07</th>\n",
              "      <th>Source Code_S08</th>\n",
              "      <th>Source Code_S09</th>\n",
              "      <th>Source Code_S10</th>\n",
              "      <th>Source Code_S11</th>\n",
              "      <th>Source Code_S12</th>\n",
              "      <th>...</th>\n",
              "      <th>Residential Status_No Response</th>\n",
              "      <th>Residential Status_Rental</th>\n",
              "      <th>Residential Status_Self-owned Private Housing</th>\n",
              "      <th>Residential Status_Self-owned Public Housing</th>\n",
              "      <th>Employment Type_Civil Servant</th>\n",
              "      <th>Employment Type_Fixed Income Earner</th>\n",
              "      <th>Employment Type_Non Fixed Income Earner</th>\n",
              "      <th>Employment Type_Not Applicable</th>\n",
              "      <th>Employment Type_Self-Employed</th>\n",
              "      <th>Employment Type_Self-Employed Professional</th>\n",
              "      <th>Nature of Business_All Other</th>\n",
              "      <th>Nature of Business_Construction Trades</th>\n",
              "      <th>Nature of Business_Driver</th>\n",
              "      <th>Nature of Business_Executive</th>\n",
              "      <th>Nature of Business_Factory Worker</th>\n",
              "      <th>Nature of Business_Guard</th>\n",
              "      <th>Nature of Business_Homemaker</th>\n",
              "      <th>Nature of Business_Manager</th>\n",
              "      <th>Nature of Business_No Response</th>\n",
              "      <th>Nature of Business_Office Worker</th>\n",
              "      <th>Nature of Business_Owner of a Business</th>\n",
              "      <th>Nature of Business_Professional</th>\n",
              "      <th>Nature of Business_Retired</th>\n",
              "      <th>Nature of Business_Sales</th>\n",
              "      <th>Nature of Business_Semi Professional</th>\n",
              "      <th>Nature of Business_Services</th>\n",
              "      <th>Nature of Business_Skilled Worker</th>\n",
              "      <th>Nature of Business_Student</th>\n",
              "      <th>Nature of Business_Unemployed</th>\n",
              "      <th>Nature of Business_Unskilled Worker</th>\n",
              "      <th>Job Position_Government/Semi-Government</th>\n",
              "      <th>Job Position_Homemaker</th>\n",
              "      <th>Job Position_No Response</th>\n",
              "      <th>Job Position_Private</th>\n",
              "      <th>Job Position_Public</th>\n",
              "      <th>Job Position_Retired</th>\n",
              "      <th>Job Position_Self Employed</th>\n",
              "      <th>Job Position_Student</th>\n",
              "      <th>Job Position_Unemployed</th>\n",
              "      <th>Final_Status (Y/N)</th>\n",
              "    </tr>\n",
              "  </thead>\n",
              "  <tbody>\n",
              "    <tr>\n",
              "      <th>0</th>\n",
              "      <td>570</td>\n",
              "      <td>60000</td>\n",
              "      <td>24.0</td>\n",
              "      <td>1</td>\n",
              "      <td>22.301</td>\n",
              "      <td>0.0</td>\n",
              "      <td>0</td>\n",
              "      <td>10245.0</td>\n",
              "      <td>2.0</td>\n",
              "      <td>0</td>\n",
              "      <td>0</td>\n",
              "      <td>1</td>\n",
              "      <td>0</td>\n",
              "      <td>0</td>\n",
              "      <td>0</td>\n",
              "      <td>0</td>\n",
              "      <td>0</td>\n",
              "      <td>1</td>\n",
              "      <td>0</td>\n",
              "      <td>0</td>\n",
              "      <td>0</td>\n",
              "      <td>0</td>\n",
              "      <td>0</td>\n",
              "      <td>0</td>\n",
              "      <td>0</td>\n",
              "      <td>0</td>\n",
              "      <td>0</td>\n",
              "      <td>0</td>\n",
              "      <td>0</td>\n",
              "      <td>0</td>\n",
              "      <td>1</td>\n",
              "      <td>0</td>\n",
              "      <td>0</td>\n",
              "      <td>0</td>\n",
              "      <td>0</td>\n",
              "      <td>0</td>\n",
              "      <td>0</td>\n",
              "      <td>0</td>\n",
              "      <td>0</td>\n",
              "      <td>0</td>\n",
              "      <td>...</td>\n",
              "      <td>0</td>\n",
              "      <td>0</td>\n",
              "      <td>0</td>\n",
              "      <td>0</td>\n",
              "      <td>0</td>\n",
              "      <td>1</td>\n",
              "      <td>0</td>\n",
              "      <td>0</td>\n",
              "      <td>0</td>\n",
              "      <td>0</td>\n",
              "      <td>0</td>\n",
              "      <td>0</td>\n",
              "      <td>0</td>\n",
              "      <td>0</td>\n",
              "      <td>0</td>\n",
              "      <td>0</td>\n",
              "      <td>0</td>\n",
              "      <td>0</td>\n",
              "      <td>0</td>\n",
              "      <td>0</td>\n",
              "      <td>0</td>\n",
              "      <td>0</td>\n",
              "      <td>0</td>\n",
              "      <td>1</td>\n",
              "      <td>0</td>\n",
              "      <td>0</td>\n",
              "      <td>0</td>\n",
              "      <td>0</td>\n",
              "      <td>0</td>\n",
              "      <td>0</td>\n",
              "      <td>0</td>\n",
              "      <td>0</td>\n",
              "      <td>0</td>\n",
              "      <td>1</td>\n",
              "      <td>0</td>\n",
              "      <td>0</td>\n",
              "      <td>0</td>\n",
              "      <td>0</td>\n",
              "      <td>0</td>\n",
              "      <td>0</td>\n",
              "    </tr>\n",
              "    <tr>\n",
              "      <th>1</th>\n",
              "      <td>883</td>\n",
              "      <td>1000000</td>\n",
              "      <td>48.0</td>\n",
              "      <td>0</td>\n",
              "      <td>39.649</td>\n",
              "      <td>35000.0</td>\n",
              "      <td>0</td>\n",
              "      <td>220834.0</td>\n",
              "      <td>1.0</td>\n",
              "      <td>0</td>\n",
              "      <td>0</td>\n",
              "      <td>1</td>\n",
              "      <td>0</td>\n",
              "      <td>1</td>\n",
              "      <td>0</td>\n",
              "      <td>0</td>\n",
              "      <td>0</td>\n",
              "      <td>0</td>\n",
              "      <td>0</td>\n",
              "      <td>0</td>\n",
              "      <td>0</td>\n",
              "      <td>0</td>\n",
              "      <td>0</td>\n",
              "      <td>0</td>\n",
              "      <td>0</td>\n",
              "      <td>0</td>\n",
              "      <td>0</td>\n",
              "      <td>0</td>\n",
              "      <td>0</td>\n",
              "      <td>1</td>\n",
              "      <td>0</td>\n",
              "      <td>0</td>\n",
              "      <td>0</td>\n",
              "      <td>0</td>\n",
              "      <td>0</td>\n",
              "      <td>0</td>\n",
              "      <td>0</td>\n",
              "      <td>0</td>\n",
              "      <td>0</td>\n",
              "      <td>0</td>\n",
              "      <td>...</td>\n",
              "      <td>0</td>\n",
              "      <td>1</td>\n",
              "      <td>0</td>\n",
              "      <td>0</td>\n",
              "      <td>0</td>\n",
              "      <td>1</td>\n",
              "      <td>0</td>\n",
              "      <td>0</td>\n",
              "      <td>0</td>\n",
              "      <td>0</td>\n",
              "      <td>0</td>\n",
              "      <td>0</td>\n",
              "      <td>0</td>\n",
              "      <td>1</td>\n",
              "      <td>0</td>\n",
              "      <td>0</td>\n",
              "      <td>0</td>\n",
              "      <td>0</td>\n",
              "      <td>0</td>\n",
              "      <td>0</td>\n",
              "      <td>0</td>\n",
              "      <td>0</td>\n",
              "      <td>0</td>\n",
              "      <td>0</td>\n",
              "      <td>0</td>\n",
              "      <td>0</td>\n",
              "      <td>0</td>\n",
              "      <td>0</td>\n",
              "      <td>0</td>\n",
              "      <td>0</td>\n",
              "      <td>0</td>\n",
              "      <td>0</td>\n",
              "      <td>0</td>\n",
              "      <td>1</td>\n",
              "      <td>0</td>\n",
              "      <td>0</td>\n",
              "      <td>0</td>\n",
              "      <td>0</td>\n",
              "      <td>0</td>\n",
              "      <td>0</td>\n",
              "    </tr>\n",
              "    <tr>\n",
              "      <th>2</th>\n",
              "      <td>566</td>\n",
              "      <td>100000</td>\n",
              "      <td>60.0</td>\n",
              "      <td>1</td>\n",
              "      <td>33.159</td>\n",
              "      <td>0.0</td>\n",
              "      <td>0</td>\n",
              "      <td>10000.0</td>\n",
              "      <td>1.0</td>\n",
              "      <td>0</td>\n",
              "      <td>0</td>\n",
              "      <td>1</td>\n",
              "      <td>0</td>\n",
              "      <td>0</td>\n",
              "      <td>0</td>\n",
              "      <td>0</td>\n",
              "      <td>0</td>\n",
              "      <td>1</td>\n",
              "      <td>0</td>\n",
              "      <td>0</td>\n",
              "      <td>0</td>\n",
              "      <td>0</td>\n",
              "      <td>0</td>\n",
              "      <td>0</td>\n",
              "      <td>0</td>\n",
              "      <td>0</td>\n",
              "      <td>0</td>\n",
              "      <td>0</td>\n",
              "      <td>0</td>\n",
              "      <td>0</td>\n",
              "      <td>1</td>\n",
              "      <td>0</td>\n",
              "      <td>0</td>\n",
              "      <td>0</td>\n",
              "      <td>0</td>\n",
              "      <td>0</td>\n",
              "      <td>0</td>\n",
              "      <td>0</td>\n",
              "      <td>0</td>\n",
              "      <td>0</td>\n",
              "      <td>...</td>\n",
              "      <td>0</td>\n",
              "      <td>0</td>\n",
              "      <td>0</td>\n",
              "      <td>0</td>\n",
              "      <td>0</td>\n",
              "      <td>1</td>\n",
              "      <td>0</td>\n",
              "      <td>0</td>\n",
              "      <td>0</td>\n",
              "      <td>0</td>\n",
              "      <td>0</td>\n",
              "      <td>0</td>\n",
              "      <td>0</td>\n",
              "      <td>0</td>\n",
              "      <td>0</td>\n",
              "      <td>0</td>\n",
              "      <td>0</td>\n",
              "      <td>0</td>\n",
              "      <td>0</td>\n",
              "      <td>0</td>\n",
              "      <td>0</td>\n",
              "      <td>0</td>\n",
              "      <td>0</td>\n",
              "      <td>0</td>\n",
              "      <td>0</td>\n",
              "      <td>1</td>\n",
              "      <td>0</td>\n",
              "      <td>0</td>\n",
              "      <td>0</td>\n",
              "      <td>0</td>\n",
              "      <td>0</td>\n",
              "      <td>0</td>\n",
              "      <td>0</td>\n",
              "      <td>1</td>\n",
              "      <td>0</td>\n",
              "      <td>0</td>\n",
              "      <td>0</td>\n",
              "      <td>0</td>\n",
              "      <td>0</td>\n",
              "      <td>0</td>\n",
              "    </tr>\n",
              "    <tr>\n",
              "      <th>3</th>\n",
              "      <td>546</td>\n",
              "      <td>50000</td>\n",
              "      <td>24.0</td>\n",
              "      <td>0</td>\n",
              "      <td>28.389</td>\n",
              "      <td>2000.0</td>\n",
              "      <td>0</td>\n",
              "      <td>9700.0</td>\n",
              "      <td>3.0</td>\n",
              "      <td>1</td>\n",
              "      <td>0</td>\n",
              "      <td>1</td>\n",
              "      <td>0</td>\n",
              "      <td>0</td>\n",
              "      <td>0</td>\n",
              "      <td>0</td>\n",
              "      <td>0</td>\n",
              "      <td>1</td>\n",
              "      <td>0</td>\n",
              "      <td>0</td>\n",
              "      <td>0</td>\n",
              "      <td>0</td>\n",
              "      <td>0</td>\n",
              "      <td>0</td>\n",
              "      <td>0</td>\n",
              "      <td>0</td>\n",
              "      <td>0</td>\n",
              "      <td>0</td>\n",
              "      <td>0</td>\n",
              "      <td>0</td>\n",
              "      <td>1</td>\n",
              "      <td>0</td>\n",
              "      <td>0</td>\n",
              "      <td>0</td>\n",
              "      <td>0</td>\n",
              "      <td>0</td>\n",
              "      <td>0</td>\n",
              "      <td>0</td>\n",
              "      <td>0</td>\n",
              "      <td>0</td>\n",
              "      <td>...</td>\n",
              "      <td>0</td>\n",
              "      <td>1</td>\n",
              "      <td>0</td>\n",
              "      <td>0</td>\n",
              "      <td>0</td>\n",
              "      <td>1</td>\n",
              "      <td>0</td>\n",
              "      <td>0</td>\n",
              "      <td>0</td>\n",
              "      <td>0</td>\n",
              "      <td>0</td>\n",
              "      <td>0</td>\n",
              "      <td>0</td>\n",
              "      <td>0</td>\n",
              "      <td>0</td>\n",
              "      <td>0</td>\n",
              "      <td>0</td>\n",
              "      <td>0</td>\n",
              "      <td>0</td>\n",
              "      <td>0</td>\n",
              "      <td>0</td>\n",
              "      <td>0</td>\n",
              "      <td>0</td>\n",
              "      <td>0</td>\n",
              "      <td>0</td>\n",
              "      <td>1</td>\n",
              "      <td>0</td>\n",
              "      <td>0</td>\n",
              "      <td>0</td>\n",
              "      <td>0</td>\n",
              "      <td>0</td>\n",
              "      <td>0</td>\n",
              "      <td>0</td>\n",
              "      <td>1</td>\n",
              "      <td>0</td>\n",
              "      <td>0</td>\n",
              "      <td>0</td>\n",
              "      <td>0</td>\n",
              "      <td>0</td>\n",
              "      <td>0</td>\n",
              "    </tr>\n",
              "    <tr>\n",
              "      <th>4</th>\n",
              "      <td>548</td>\n",
              "      <td>70000</td>\n",
              "      <td>36.0</td>\n",
              "      <td>1</td>\n",
              "      <td>35.573</td>\n",
              "      <td>1200.0</td>\n",
              "      <td>0</td>\n",
              "      <td>23000.0</td>\n",
              "      <td>2.0</td>\n",
              "      <td>1</td>\n",
              "      <td>0</td>\n",
              "      <td>1</td>\n",
              "      <td>0</td>\n",
              "      <td>0</td>\n",
              "      <td>0</td>\n",
              "      <td>0</td>\n",
              "      <td>0</td>\n",
              "      <td>1</td>\n",
              "      <td>0</td>\n",
              "      <td>0</td>\n",
              "      <td>0</td>\n",
              "      <td>0</td>\n",
              "      <td>0</td>\n",
              "      <td>0</td>\n",
              "      <td>0</td>\n",
              "      <td>0</td>\n",
              "      <td>0</td>\n",
              "      <td>0</td>\n",
              "      <td>0</td>\n",
              "      <td>0</td>\n",
              "      <td>0</td>\n",
              "      <td>0</td>\n",
              "      <td>0</td>\n",
              "      <td>0</td>\n",
              "      <td>0</td>\n",
              "      <td>1</td>\n",
              "      <td>0</td>\n",
              "      <td>0</td>\n",
              "      <td>0</td>\n",
              "      <td>0</td>\n",
              "      <td>...</td>\n",
              "      <td>0</td>\n",
              "      <td>1</td>\n",
              "      <td>0</td>\n",
              "      <td>0</td>\n",
              "      <td>1</td>\n",
              "      <td>0</td>\n",
              "      <td>0</td>\n",
              "      <td>0</td>\n",
              "      <td>0</td>\n",
              "      <td>0</td>\n",
              "      <td>0</td>\n",
              "      <td>0</td>\n",
              "      <td>0</td>\n",
              "      <td>0</td>\n",
              "      <td>0</td>\n",
              "      <td>0</td>\n",
              "      <td>0</td>\n",
              "      <td>1</td>\n",
              "      <td>0</td>\n",
              "      <td>0</td>\n",
              "      <td>0</td>\n",
              "      <td>0</td>\n",
              "      <td>0</td>\n",
              "      <td>0</td>\n",
              "      <td>0</td>\n",
              "      <td>0</td>\n",
              "      <td>0</td>\n",
              "      <td>0</td>\n",
              "      <td>0</td>\n",
              "      <td>0</td>\n",
              "      <td>1</td>\n",
              "      <td>0</td>\n",
              "      <td>0</td>\n",
              "      <td>0</td>\n",
              "      <td>0</td>\n",
              "      <td>0</td>\n",
              "      <td>0</td>\n",
              "      <td>0</td>\n",
              "      <td>0</td>\n",
              "      <td>0</td>\n",
              "    </tr>\n",
              "  </tbody>\n",
              "</table>\n",
              "<p>5 rows × 115 columns</p>\n",
              "</div>"
            ],
            "text/plain": [
              "   Application Branch Code  ...  Final_Status (Y/N)\n",
              "0                      570  ...                   0\n",
              "1                      883  ...                   0\n",
              "2                      566  ...                   0\n",
              "3                      546  ...                   0\n",
              "4                      548  ...                   0\n",
              "\n",
              "[5 rows x 115 columns]"
            ]
          },
          "metadata": {
            "tags": []
          },
          "execution_count": 9
        }
      ]
    },
    {
      "cell_type": "code",
      "metadata": {
        "id": "Y1ur1ac0l-DW"
      },
      "source": [
        "# split it into training and testing dataset\n",
        "train, test = train_test_split( df , test_size=0.3, random_state=42)"
      ],
      "execution_count": 10,
      "outputs": []
    },
    {
      "cell_type": "code",
      "metadata": {
        "colab": {
          "base_uri": "https://localhost:8080/"
        },
        "id": "HlMKuFeumofp",
        "outputId": "2d2146b6-7f10-4da2-87eb-db50273b2ff9"
      },
      "source": [
        "# Dataset A setting\n",
        "cols = [\"Applied Loan Amount\", 'Applied Loan Tenor', \"Age\", \"Monthly Income\", 'Monthly Housing/Rental', \"Final_Status (Y/N)\"]\n",
        "train = train[cols]\n",
        "train.shape"
      ],
      "execution_count": 11,
      "outputs": [
        {
          "output_type": "execute_result",
          "data": {
            "text/plain": [
              "(11162, 6)"
            ]
          },
          "metadata": {
            "tags": []
          },
          "execution_count": 11
        }
      ]
    },
    {
      "cell_type": "code",
      "metadata": {
        "colab": {
          "base_uri": "https://localhost:8080/"
        },
        "id": "Vohb_pUymvkR",
        "outputId": "14949e5b-126f-4220-df8a-b6bb561f072b"
      },
      "source": [
        "test = test[cols]\n",
        "test.shape"
      ],
      "execution_count": 12,
      "outputs": [
        {
          "output_type": "execute_result",
          "data": {
            "text/plain": [
              "(4784, 6)"
            ]
          },
          "metadata": {
            "tags": []
          },
          "execution_count": 12
        }
      ]
    },
    {
      "cell_type": "code",
      "metadata": {
        "id": "FkcuypCKl8xa"
      },
      "source": [
        "# transform into tensor data\n",
        "train_features = torch.as_tensor(train.drop(\"Final_Status (Y/N)\", axis=1).to_numpy()) # can only from numpy to tensor\n",
        "train_target = torch.as_tensor(train[\"Final_Status (Y/N)\"].to_numpy())"
      ],
      "execution_count": 13,
      "outputs": []
    },
    {
      "cell_type": "code",
      "metadata": {
        "id": "-xhLbHmGm8nY"
      },
      "source": [
        "# transform into tensor data\n",
        "test_features = torch.as_tensor(train.drop(\"Final_Status (Y/N)\", axis=1).to_numpy()) # can only from numpy to tensor\n",
        "test_target = torch.as_tensor(train[\"Final_Status (Y/N)\"].to_numpy())"
      ],
      "execution_count": 14,
      "outputs": []
    },
    {
      "cell_type": "code",
      "metadata": {
        "colab": {
          "base_uri": "https://localhost:8080/"
        },
        "id": "OdGthx0cTCwj",
        "outputId": "11c9f5dd-a155-4d5c-9692-1a1361877f55"
      },
      "source": [
        "# Implements a vertical dataset with TensorDataset\n",
        "import torch\n",
        "from torch.utils.data import Dataset\n",
        "device = 'cuda' if torch.cuda.is_available() else 'cpu'\n",
        "print(device)"
      ],
      "execution_count": 15,
      "outputs": [
        {
          "output_type": "stream",
          "text": [
            "cuda\n"
          ],
          "name": "stdout"
        }
      ]
    },
    {
      "cell_type": "code",
      "metadata": {
        "id": "jqLePC47S1nm"
      },
      "source": [
        "# self-designed VerticalTensorDataset\n",
        "# to add id, set features and target\n",
        "\n",
        "class VerticalTensorDataset(Dataset):\n",
        "    def __init__(self, features, targets):\n",
        "        super().__init__()\n",
        "\n",
        "        self.data = features\n",
        "        self.targets = targets\n",
        "        self.size = features.shape[0]\n",
        "\n",
        "        self.ids = np.array([uuid4() for _ in range(len(self))])\n",
        "\n",
        "    def __len__(self):\n",
        "        return self.size\n",
        "\n",
        "    def __getitem__(self, index):\n",
        "        if self.data is None:\n",
        "          data = None\n",
        "        else:\n",
        "          data = self.data[index]\n",
        "        if self.targets is None:\n",
        "          target = None\n",
        "        else:\n",
        "          target = self.targets[index]\n",
        "\n",
        "        id = self.ids[index]\n",
        "\n",
        "        return (*filter(lambda x: x is not None, (data, target, id)),)\n",
        "\n",
        "    def get_ids(self):\n",
        "        return [str(id) for id in self.ids]\n",
        "    \n"
      ],
      "execution_count": 16,
      "outputs": []
    },
    {
      "cell_type": "code",
      "metadata": {
        "colab": {
          "base_uri": "https://localhost:8080/"
        },
        "id": "lwSBeXxznItN",
        "outputId": "db044a72-32da-4d8a-ed59-416ebb1b911f"
      },
      "source": [
        "# put training data into VerticalTensorDataset \n",
        "# to add ids and identify features and target column\n",
        "train_dataset = VerticalTensorDataset(train_features, train_target)\n",
        "\n",
        "print(train_dataset[0])\n",
        "# VerticalDataLoader is from PyVertical package\n",
        "# it vetically patitions the data\n",
        "train_dataloader = VerticalDataLoader(train_dataset, batch_size = 64) "
      ],
      "execution_count": 17,
      "outputs": [
        {
          "output_type": "stream",
          "text": [
            "(tensor([5.0000e+04, 2.4000e+01, 4.0627e+01, 2.0500e+04, 0.0000e+00],\n",
            "       dtype=torch.float64), tensor(0), UUID('bd102cec-5f7a-4dce-8daa-237fed510d5f'))\n"
          ],
          "name": "stdout"
        }
      ]
    },
    {
      "cell_type": "code",
      "metadata": {
        "colab": {
          "base_uri": "https://localhost:8080/"
        },
        "id": "G-tskG6VnrYb",
        "outputId": "981298a4-2835-4ce3-f03e-ac5a334b8a9c"
      },
      "source": [
        "# apply on testing data\n",
        "test_dataset = VerticalTensorDataset(test_features, test_target)\n",
        "\n",
        "print(test_dataset[0])\n",
        "\n",
        "test_dataloader = VerticalDataLoader(test_dataset, batch_size = 1)"
      ],
      "execution_count": 18,
      "outputs": [
        {
          "output_type": "stream",
          "text": [
            "(tensor([5.0000e+04, 2.4000e+01, 4.0627e+01, 2.0500e+04, 0.0000e+00],\n",
            "       dtype=torch.float64), tensor(0), UUID('a08b54e0-8599-4b91-a3e6-b399fca0b91e'))\n"
          ],
          "name": "stdout"
        }
      ]
    },
    {
      "cell_type": "code",
      "metadata": {
        "id": "fG8zrBSABSg6"
      },
      "source": [
        "# SplitNN\n",
        "# assign model segments to each local nodes\n",
        "# define how gradient is sent\n",
        "class SplitNN:\n",
        "    def __init__(self, models, optimizers):\n",
        "        self.models = models\n",
        "        self.optimizers = optimizers\n",
        "\n",
        "        self.data = []\n",
        "        self.remote_tensors = []\n",
        "\n",
        "    def forward(self, x):\n",
        "        data = []\n",
        "        remote_tensors = []\n",
        "\n",
        "        data.append(self.models[0](x))\n",
        "\n",
        "        if data[-1].location == self.models[1].location:\n",
        "            remote_tensors.append(data[-1].detach().requires_grad_())\n",
        "        else:\n",
        "            remote_tensors.append(\n",
        "                data[-1].detach().move(self.models[1].location).requires_grad_()\n",
        "            )\n",
        "\n",
        "        i = 1\n",
        "        while i < (len(models) - 1):\n",
        "            data.append(self.models[i](remote_tensors[-1]))\n",
        "\n",
        "            if data[-1].location == self.models[i + 1].location:\n",
        "                remote_tensors.append(data[-1].detach().requires_grad_())\n",
        "            else:\n",
        "                remote_tensors.append(\n",
        "                    data[-1].detach().move(self.models[i + 1].location).requires_grad_()\n",
        "                )\n",
        "\n",
        "            i += 1\n",
        "\n",
        "        data.append(self.models[i](remote_tensors[-1]))\n",
        "\n",
        "        self.data = data\n",
        "        self.remote_tensors = remote_tensors\n",
        "\n",
        "        return data[-1]\n",
        "        \n",
        "    def backward(self):\n",
        "        for i in range(len(models) - 2, -1, -1):\n",
        "            if self.remote_tensors[i].location == self.data[i].location:\n",
        "                grads = self.remote_tensors[i].grad.copy()\n",
        "            else:\n",
        "                grads = self.remote_tensors[i].grad.copy().move(self.data[i].location)\n",
        "    \n",
        "            self.data[i].backward(grads)\n",
        "\n",
        "    def zero_grads(self):\n",
        "        for opt in self.optimizers:\n",
        "            opt.zero_grad()\n",
        "\n",
        "    def step(self):\n",
        "        for opt in self.optimizers:\n",
        "            opt.step()"
      ],
      "execution_count": 19,
      "outputs": []
    },
    {
      "cell_type": "code",
      "metadata": {
        "id": "qFjH0o5zDL2L"
      },
      "source": [
        "torch.manual_seed(3)\n",
        "\n",
        "# Define our model segments\n",
        "\n",
        "input_size = 5\n",
        "hidden_sizes = [32, 64]\n",
        "output_size = 1\n",
        "\n",
        "\n",
        "# Deep Learning model\n",
        "# to apply it in SplitNN framework, it is divided into 2 parts\n",
        "models = [\n",
        "    nn.Sequential(\n",
        "        nn.Linear(input_size, hidden_sizes[0]),\n",
        "        nn.ReLU(),\n",
        "        nn.BatchNorm1d(hidden_sizes[0]),\n",
        "        nn.Linear(hidden_sizes[0], hidden_sizes[1]),\n",
        "        nn.ReLU(),\n",
        "        nn.BatchNorm1d(hidden_sizes[1]),\n",
        "        nn.Dropout(p=0.1)\n",
        "    ),\n",
        "    nn.Sequential(nn.Linear(hidden_sizes[1], output_size))\n",
        "\n",
        "]\n",
        "'''\n",
        "models = [\n",
        "    nn.Sequential(\n",
        "        nn.Linear(input_size, hidden_sizes[0]),\n",
        "        nn.ReLU(),\n",
        "        nn.Linear(hidden_sizes[0], hidden_sizes[1]),\n",
        "        nn.ReLU(),\n",
        "        nn.Dropout(p=0.1)\n",
        "    ),\n",
        "    nn.Sequential(nn.Linear(hidden_sizes[1], output_size))\n",
        "\n",
        "]\n",
        "'''\n",
        "# create optimisers for each segment and link to them\n",
        "optimizers = [\n",
        "    optim.SGD(model.parameters(), lr=0.001)\n",
        "    for model in models\n",
        "]\n"
      ],
      "execution_count": 20,
      "outputs": []
    },
    {
      "cell_type": "code",
      "metadata": {
        "id": "7PRJATcrEUo7"
      },
      "source": [
        "# create virtual workers as local node simulation\n",
        "alice = sy.VirtualWorker(hook, id=\"alice\")\n",
        "bob = sy.VirtualWorker(hook, id=\"bob\")\n",
        "\n",
        "# send Model Segments to model locations\n",
        "model_locations = [alice, bob]\n",
        "for model, location in zip(models, model_locations):\n",
        "    model.send(location)\n",
        "\n",
        "# instantiate a SpliNN class with our distributed segments and their respective optimizers\n",
        "splitNN = SplitNN(models, optimizers)"
      ],
      "execution_count": 21,
      "outputs": []
    },
    {
      "cell_type": "code",
      "metadata": {
        "id": "PJPQZv5rEXYK"
      },
      "source": [
        "def train(x, target, splitNN):\n",
        "    \n",
        "    #1) Zero our grads\n",
        "    splitNN.zero_grads()\n",
        "    \n",
        "    #2) Make a prediction\n",
        "    pred = splitNN.forward(x)\n",
        "    \n",
        "    #3) Figure out how much we missed by\n",
        "    criterion = nn.BCEWithLogitsLoss()\n",
        "    loss = criterion(pred.reshape(-1), target.to(torch.float))\n",
        "    \n",
        "    #4) Backprop the loss on the end layer\n",
        "    loss.backward()\n",
        "    \n",
        "    #5) Feed Gradients backward through the nework\n",
        "    splitNN.backward()\n",
        "    \n",
        "    #6) Change the weights\n",
        "    splitNN.step()\n",
        "    \n",
        "    return loss, pred"
      ],
      "execution_count": 22,
      "outputs": []
    },
    {
      "cell_type": "code",
      "metadata": {
        "id": "e9cJZpVYEogF"
      },
      "source": [
        "epochs = 100"
      ],
      "execution_count": 23,
      "outputs": []
    },
    {
      "cell_type": "code",
      "metadata": {
        "id": "Dl2jo8TxlTuz"
      },
      "source": [
        "e_loss = []\n",
        "e_acc = []\n",
        "timelist = []"
      ],
      "execution_count": 24,
      "outputs": []
    },
    {
      "cell_type": "code",
      "metadata": {
        "colab": {
          "base_uri": "https://localhost:8080/"
        },
        "id": "IVXaLEmiEfdP",
        "outputId": "ae0475a0-6c53-4a08-c981-300c8875e968"
      },
      "source": [
        "for i in range(epochs):\n",
        "    running_loss = 0\n",
        "    correct_preds = 0\n",
        "    total_preds = 0\n",
        "    epoch_loss = 0\n",
        "    epoch_acc = 0\n",
        "    start_time = time.time()\n",
        "\n",
        "    for (data, ids1), (labels, ids2) in train_dataloader:\n",
        "        # Train a model\n",
        "        data = data.send(models[0].location)\n",
        "        data = data.view(data.shape[0], -1)\n",
        "        labels = labels.send(models[-1].location)\n",
        "\n",
        "        # Call model\n",
        "        loss, preds = train(data.float(), labels, splitNN)\n",
        "        \n",
        "        # Convert predictions\n",
        "        preds_ = preds.get().squeeze(1)\n",
        "        labels_ = labels.get()\n",
        "        preds_match = ((torch.sigmoid(preds_) > 0.5) == labels_)\n",
        "        #print(non_exist)\n",
        "\n",
        "        # Collect statistics\n",
        "        running_loss += loss.get()\n",
        "        correct_preds = correct_preds + int(preds_match.sum())\n",
        "        total_preds = total_preds + int(preds_match.size()[0])\n",
        "\n",
        "    total_time = time.time() - start_time\n",
        "    timelist.append(total_time)\n",
        "    e_loss.append((running_loss/len(train_dataloader)).item()) # for plt\n",
        "    e_acc.append((100*correct_preds/total_preds)) # for plt\n",
        "\n",
        "    print(f\"Epoch {i} - Training loss: {running_loss/len(train_dataloader):.3f} - Accuracy: {100*correct_preds/total_preds:.3f}\")"
      ],
      "execution_count": 25,
      "outputs": [
        {
          "output_type": "stream",
          "text": [
            "Epoch 0 - Training loss: 0.740 - Accuracy: 46.166\n",
            "Epoch 1 - Training loss: 0.717 - Accuracy: 46.981\n",
            "Epoch 2 - Training loss: 0.708 - Accuracy: 47.859\n",
            "Epoch 3 - Training loss: 0.705 - Accuracy: 49.534\n",
            "Epoch 4 - Training loss: 0.703 - Accuracy: 49.552\n",
            "Epoch 5 - Training loss: 0.701 - Accuracy: 50.609\n",
            "Epoch 6 - Training loss: 0.700 - Accuracy: 51.227\n",
            "Epoch 7 - Training loss: 0.698 - Accuracy: 51.613\n",
            "Epoch 8 - Training loss: 0.697 - Accuracy: 51.263\n",
            "Epoch 9 - Training loss: 0.696 - Accuracy: 52.365\n",
            "Epoch 10 - Training loss: 0.696 - Accuracy: 52.535\n",
            "Epoch 11 - Training loss: 0.695 - Accuracy: 52.661\n",
            "Epoch 12 - Training loss: 0.695 - Accuracy: 53.306\n",
            "Epoch 13 - Training loss: 0.694 - Accuracy: 53.619\n",
            "Epoch 14 - Training loss: 0.693 - Accuracy: 53.449\n",
            "Epoch 15 - Training loss: 0.693 - Accuracy: 53.664\n",
            "Epoch 16 - Training loss: 0.694 - Accuracy: 54.076\n",
            "Epoch 17 - Training loss: 0.694 - Accuracy: 53.808\n",
            "Epoch 18 - Training loss: 0.692 - Accuracy: 53.852\n",
            "Epoch 19 - Training loss: 0.692 - Accuracy: 54.686\n",
            "Epoch 20 - Training loss: 0.690 - Accuracy: 54.802\n",
            "Epoch 21 - Training loss: 0.691 - Accuracy: 54.139\n",
            "Epoch 22 - Training loss: 0.689 - Accuracy: 54.883\n",
            "Epoch 23 - Training loss: 0.690 - Accuracy: 55.268\n",
            "Epoch 24 - Training loss: 0.691 - Accuracy: 54.936\n",
            "Epoch 25 - Training loss: 0.690 - Accuracy: 55.313\n",
            "Epoch 26 - Training loss: 0.690 - Accuracy: 55.268\n",
            "Epoch 27 - Training loss: 0.689 - Accuracy: 55.089\n",
            "Epoch 28 - Training loss: 0.690 - Accuracy: 55.707\n",
            "Epoch 29 - Training loss: 0.690 - Accuracy: 55.125\n",
            "Epoch 30 - Training loss: 0.689 - Accuracy: 55.250\n",
            "Epoch 31 - Training loss: 0.688 - Accuracy: 55.465\n",
            "Epoch 32 - Training loss: 0.688 - Accuracy: 55.716\n",
            "Epoch 33 - Training loss: 0.688 - Accuracy: 55.546\n",
            "Epoch 34 - Training loss: 0.687 - Accuracy: 55.250\n",
            "Epoch 35 - Training loss: 0.687 - Accuracy: 55.877\n",
            "Epoch 36 - Training loss: 0.687 - Accuracy: 55.635\n",
            "Epoch 37 - Training loss: 0.688 - Accuracy: 55.725\n",
            "Epoch 38 - Training loss: 0.687 - Accuracy: 55.635\n",
            "Epoch 39 - Training loss: 0.688 - Accuracy: 55.465\n",
            "Epoch 40 - Training loss: 0.687 - Accuracy: 55.716\n",
            "Epoch 41 - Training loss: 0.687 - Accuracy: 55.752\n",
            "Epoch 42 - Training loss: 0.687 - Accuracy: 55.859\n",
            "Epoch 43 - Training loss: 0.686 - Accuracy: 56.218\n",
            "Epoch 44 - Training loss: 0.687 - Accuracy: 55.599\n",
            "Epoch 45 - Training loss: 0.686 - Accuracy: 56.065\n",
            "Epoch 46 - Training loss: 0.687 - Accuracy: 55.707\n",
            "Epoch 47 - Training loss: 0.687 - Accuracy: 55.976\n",
            "Epoch 48 - Training loss: 0.688 - Accuracy: 55.626\n",
            "Epoch 49 - Training loss: 0.686 - Accuracy: 55.886\n",
            "Epoch 50 - Training loss: 0.687 - Accuracy: 56.092\n",
            "Epoch 51 - Training loss: 0.686 - Accuracy: 56.146\n",
            "Epoch 52 - Training loss: 0.687 - Accuracy: 55.725\n",
            "Epoch 53 - Training loss: 0.687 - Accuracy: 55.931\n",
            "Epoch 54 - Training loss: 0.686 - Accuracy: 55.850\n",
            "Epoch 55 - Training loss: 0.686 - Accuracy: 56.056\n",
            "Epoch 56 - Training loss: 0.687 - Accuracy: 56.038\n",
            "Epoch 57 - Training loss: 0.686 - Accuracy: 56.155\n",
            "Epoch 58 - Training loss: 0.686 - Accuracy: 55.779\n",
            "Epoch 59 - Training loss: 0.685 - Accuracy: 56.065\n",
            "Epoch 60 - Training loss: 0.685 - Accuracy: 56.020\n",
            "Epoch 61 - Training loss: 0.687 - Accuracy: 55.635\n",
            "Epoch 62 - Training loss: 0.686 - Accuracy: 55.922\n",
            "Epoch 63 - Training loss: 0.686 - Accuracy: 55.931\n",
            "Epoch 64 - Training loss: 0.686 - Accuracy: 55.823\n",
            "Epoch 65 - Training loss: 0.685 - Accuracy: 56.101\n",
            "Epoch 66 - Training loss: 0.686 - Accuracy: 55.949\n",
            "Epoch 67 - Training loss: 0.685 - Accuracy: 56.128\n",
            "Epoch 68 - Training loss: 0.686 - Accuracy: 55.653\n",
            "Epoch 69 - Training loss: 0.685 - Accuracy: 56.307\n",
            "Epoch 70 - Training loss: 0.685 - Accuracy: 56.298\n",
            "Epoch 71 - Training loss: 0.686 - Accuracy: 56.047\n",
            "Epoch 72 - Training loss: 0.686 - Accuracy: 55.985\n",
            "Epoch 73 - Training loss: 0.685 - Accuracy: 56.173\n",
            "Epoch 74 - Training loss: 0.685 - Accuracy: 56.325\n",
            "Epoch 75 - Training loss: 0.685 - Accuracy: 56.226\n",
            "Epoch 76 - Training loss: 0.686 - Accuracy: 56.119\n",
            "Epoch 77 - Training loss: 0.686 - Accuracy: 55.985\n",
            "Epoch 78 - Training loss: 0.685 - Accuracy: 56.218\n",
            "Epoch 79 - Training loss: 0.685 - Accuracy: 56.441\n",
            "Epoch 80 - Training loss: 0.685 - Accuracy: 55.796\n",
            "Epoch 81 - Training loss: 0.685 - Accuracy: 56.504\n",
            "Epoch 82 - Training loss: 0.686 - Accuracy: 55.832\n",
            "Epoch 83 - Training loss: 0.687 - Accuracy: 56.164\n",
            "Epoch 84 - Training loss: 0.686 - Accuracy: 55.913\n",
            "Epoch 85 - Training loss: 0.686 - Accuracy: 56.101\n",
            "Epoch 86 - Training loss: 0.684 - Accuracy: 56.253\n",
            "Epoch 87 - Training loss: 0.685 - Accuracy: 56.119\n",
            "Epoch 88 - Training loss: 0.685 - Accuracy: 56.173\n",
            "Epoch 89 - Training loss: 0.684 - Accuracy: 56.074\n",
            "Epoch 90 - Training loss: 0.685 - Accuracy: 56.209\n",
            "Epoch 91 - Training loss: 0.685 - Accuracy: 55.976\n",
            "Epoch 92 - Training loss: 0.683 - Accuracy: 56.173\n",
            "Epoch 93 - Training loss: 0.685 - Accuracy: 56.119\n",
            "Epoch 94 - Training loss: 0.685 - Accuracy: 56.289\n",
            "Epoch 95 - Training loss: 0.684 - Accuracy: 56.289\n",
            "Epoch 96 - Training loss: 0.685 - Accuracy: 55.859\n",
            "Epoch 97 - Training loss: 0.684 - Accuracy: 56.307\n",
            "Epoch 98 - Training loss: 0.685 - Accuracy: 56.244\n",
            "Epoch 99 - Training loss: 0.685 - Accuracy: 56.056\n"
          ],
          "name": "stdout"
        }
      ]
    },
    {
      "cell_type": "code",
      "metadata": {
        "id": "xlyJue1LGMX5",
        "colab": {
          "base_uri": "https://localhost:8080/"
        },
        "outputId": "78aa2a71-b5b5-4f5a-ae11-bd9364951df2"
      },
      "source": [
        "preds_match"
      ],
      "execution_count": 26,
      "outputs": [
        {
          "output_type": "execute_result",
          "data": {
            "text/plain": [
              "tensor([ True, False,  True, False, False, False, False, False, False, False,\n",
              "         True,  True,  True, False,  True, False,  True, False, False, False,\n",
              "        False,  True, False,  True,  True,  True])"
            ]
          },
          "metadata": {
            "tags": []
          },
          "execution_count": 26
        }
      ]
    },
    {
      "cell_type": "code",
      "metadata": {
        "id": "gtPrHcQ-EiDX",
        "colab": {
          "base_uri": "https://localhost:8080/",
          "height": 341
        },
        "outputId": "091ef567-5ccb-4d1d-d87f-922843ec9b60"
      },
      "source": [
        "print(\"Labels pointing to: \", labels)\n",
        "print(\"Data pointing to: \", data)"
      ],
      "execution_count": 27,
      "outputs": [
        {
          "output_type": "stream",
          "text": [
            "Labels pointing to:  "
          ],
          "name": "stdout"
        },
        {
          "output_type": "error",
          "ename": "AttributeError",
          "evalue": "ignored",
          "traceback": [
            "\u001b[0;31m---------------------------------------------------------------------------\u001b[0m",
            "\u001b[0;31mAttributeError\u001b[0m                            Traceback (most recent call last)",
            "\u001b[0;32m<ipython-input-27-ac7f5fd23f61>\u001b[0m in \u001b[0;36m<module>\u001b[0;34m()\u001b[0m\n\u001b[0;32m----> 1\u001b[0;31m \u001b[0mprint\u001b[0m\u001b[0;34m(\u001b[0m\u001b[0;34m\"Labels pointing to: \"\u001b[0m\u001b[0;34m,\u001b[0m \u001b[0mlabels\u001b[0m\u001b[0;34m)\u001b[0m\u001b[0;34m\u001b[0m\u001b[0;34m\u001b[0m\u001b[0m\n\u001b[0m\u001b[1;32m      2\u001b[0m \u001b[0mprint\u001b[0m\u001b[0;34m(\u001b[0m\u001b[0;34m\"Data pointing to: \"\u001b[0m\u001b[0;34m,\u001b[0m \u001b[0mdata\u001b[0m\u001b[0;34m)\u001b[0m\u001b[0;34m\u001b[0m\u001b[0;34m\u001b[0m\u001b[0m\n",
            "\u001b[0;32m/usr/local/lib/python3.7/dist-packages/syft/frameworks/torch/tensors/interpreters/native.py\u001b[0m in \u001b[0;36m__str__\u001b[0;34m(self)\u001b[0m\n\u001b[1;32m    191\u001b[0m                 \u001b[0;32mreturn\u001b[0m \u001b[0mtype\u001b[0m\u001b[0;34m(\u001b[0m\u001b[0mself\u001b[0m\u001b[0;34m)\u001b[0m\u001b[0;34m.\u001b[0m\u001b[0m__name__\u001b[0m \u001b[0;34m+\u001b[0m \u001b[0;34m\">\"\u001b[0m \u001b[0;34m+\u001b[0m \u001b[0mself\u001b[0m\u001b[0;34m.\u001b[0m\u001b[0mchild\u001b[0m\u001b[0;34m.\u001b[0m\u001b[0m__str__\u001b[0m\u001b[0;34m(\u001b[0m\u001b[0;34m)\u001b[0m\u001b[0;34m\u001b[0m\u001b[0;34m\u001b[0m\u001b[0m\n\u001b[1;32m    192\u001b[0m         \u001b[0;32melse\u001b[0m\u001b[0;34m:\u001b[0m\u001b[0;34m\u001b[0m\u001b[0;34m\u001b[0m\u001b[0m\n\u001b[0;32m--> 193\u001b[0;31m             \u001b[0;32mreturn\u001b[0m \u001b[0mself\u001b[0m\u001b[0;34m.\u001b[0m\u001b[0mnative___str__\u001b[0m\u001b[0;34m(\u001b[0m\u001b[0;34m)\u001b[0m\u001b[0;34m\u001b[0m\u001b[0;34m\u001b[0m\u001b[0m\n\u001b[0m\u001b[1;32m    194\u001b[0m \u001b[0;34m\u001b[0m\u001b[0m\n\u001b[1;32m    195\u001b[0m     \u001b[0;32mdef\u001b[0m \u001b[0m__repr__\u001b[0m\u001b[0;34m(\u001b[0m\u001b[0mself\u001b[0m\u001b[0;34m)\u001b[0m \u001b[0;34m->\u001b[0m \u001b[0mstr\u001b[0m\u001b[0;34m:\u001b[0m\u001b[0;34m\u001b[0m\u001b[0;34m\u001b[0m\u001b[0m\n",
            "\u001b[0;32m/usr/local/lib/python3.7/dist-packages/syft/frameworks/torch/tensors/interpreters/native.py\u001b[0m in \u001b[0;36m__repr__\u001b[0;34m(self)\u001b[0m\n\u001b[1;32m    200\u001b[0m                 \u001b[0;32mreturn\u001b[0m \u001b[0mtype\u001b[0m\u001b[0;34m(\u001b[0m\u001b[0mself\u001b[0m\u001b[0;34m)\u001b[0m\u001b[0;34m.\u001b[0m\u001b[0m__name__\u001b[0m \u001b[0;34m+\u001b[0m \u001b[0;34m\">\"\u001b[0m \u001b[0;34m+\u001b[0m \u001b[0mself\u001b[0m\u001b[0;34m.\u001b[0m\u001b[0mchild\u001b[0m\u001b[0;34m.\u001b[0m\u001b[0m__repr__\u001b[0m\u001b[0;34m(\u001b[0m\u001b[0;34m)\u001b[0m\u001b[0;34m\u001b[0m\u001b[0;34m\u001b[0m\u001b[0m\n\u001b[1;32m    201\u001b[0m         \u001b[0;32melse\u001b[0m\u001b[0;34m:\u001b[0m\u001b[0;34m\u001b[0m\u001b[0;34m\u001b[0m\u001b[0m\n\u001b[0;32m--> 202\u001b[0;31m             \u001b[0mout\u001b[0m \u001b[0;34m=\u001b[0m \u001b[0mself\u001b[0m\u001b[0;34m.\u001b[0m\u001b[0mnative___repr__\u001b[0m\u001b[0;34m(\u001b[0m\u001b[0;34m)\u001b[0m\u001b[0;34m\u001b[0m\u001b[0;34m\u001b[0m\u001b[0m\n\u001b[0m\u001b[1;32m    203\u001b[0m \u001b[0;34m\u001b[0m\u001b[0m\n\u001b[1;32m    204\u001b[0m             \u001b[0mbig_repr\u001b[0m \u001b[0;34m=\u001b[0m \u001b[0;32mFalse\u001b[0m\u001b[0;34m\u001b[0m\u001b[0;34m\u001b[0m\u001b[0m\n",
            "\u001b[0;32m/usr/local/lib/python3.7/dist-packages/torch/tensor.py\u001b[0m in \u001b[0;36m__repr__\u001b[0;34m(self)\u001b[0m\n\u001b[1;32m    157\u001b[0m         \u001b[0;31m# characters to replace unicode characters with.\u001b[0m\u001b[0;34m\u001b[0m\u001b[0;34m\u001b[0m\u001b[0;34m\u001b[0m\u001b[0m\n\u001b[1;32m    158\u001b[0m         \u001b[0;32mif\u001b[0m \u001b[0msys\u001b[0m\u001b[0;34m.\u001b[0m\u001b[0mversion_info\u001b[0m \u001b[0;34m>\u001b[0m \u001b[0;34m(\u001b[0m\u001b[0;36m3\u001b[0m\u001b[0;34m,\u001b[0m\u001b[0;34m)\u001b[0m\u001b[0;34m:\u001b[0m\u001b[0;34m\u001b[0m\u001b[0;34m\u001b[0m\u001b[0m\n\u001b[0;32m--> 159\u001b[0;31m             \u001b[0;32mreturn\u001b[0m \u001b[0mtorch\u001b[0m\u001b[0;34m.\u001b[0m\u001b[0m_tensor_str\u001b[0m\u001b[0;34m.\u001b[0m\u001b[0m_str\u001b[0m\u001b[0;34m(\u001b[0m\u001b[0mself\u001b[0m\u001b[0;34m)\u001b[0m\u001b[0;34m\u001b[0m\u001b[0;34m\u001b[0m\u001b[0m\n\u001b[0m\u001b[1;32m    160\u001b[0m         \u001b[0;32melse\u001b[0m\u001b[0;34m:\u001b[0m\u001b[0;34m\u001b[0m\u001b[0;34m\u001b[0m\u001b[0m\n\u001b[1;32m    161\u001b[0m             \u001b[0;32mif\u001b[0m \u001b[0mhasattr\u001b[0m\u001b[0;34m(\u001b[0m\u001b[0msys\u001b[0m\u001b[0;34m.\u001b[0m\u001b[0mstdout\u001b[0m\u001b[0;34m,\u001b[0m \u001b[0;34m'encoding'\u001b[0m\u001b[0;34m)\u001b[0m\u001b[0;34m:\u001b[0m\u001b[0;34m\u001b[0m\u001b[0;34m\u001b[0m\u001b[0m\n",
            "\u001b[0;32m/usr/local/lib/python3.7/dist-packages/torch/_tensor_str.py\u001b[0m in \u001b[0;36m_str\u001b[0;34m(self)\u001b[0m\n\u001b[1;32m    294\u001b[0m         \u001b[0;32mif\u001b[0m \u001b[0mself\u001b[0m\u001b[0;34m.\u001b[0m\u001b[0mnumel\u001b[0m\u001b[0;34m(\u001b[0m\u001b[0;34m)\u001b[0m \u001b[0;34m==\u001b[0m \u001b[0;36m0\u001b[0m \u001b[0;32mand\u001b[0m \u001b[0;32mnot\u001b[0m \u001b[0mself\u001b[0m\u001b[0;34m.\u001b[0m\u001b[0mis_sparse\u001b[0m\u001b[0;34m:\u001b[0m\u001b[0;34m\u001b[0m\u001b[0;34m\u001b[0m\u001b[0m\n\u001b[1;32m    295\u001b[0m             \u001b[0;31m# Explicitly print the shape if it is not (0,), to match NumPy behavior\u001b[0m\u001b[0;34m\u001b[0m\u001b[0;34m\u001b[0m\u001b[0;34m\u001b[0m\u001b[0m\n\u001b[0;32m--> 296\u001b[0;31m             \u001b[0;32mif\u001b[0m \u001b[0mself\u001b[0m\u001b[0;34m.\u001b[0m\u001b[0mdim\u001b[0m\u001b[0;34m(\u001b[0m\u001b[0;34m)\u001b[0m \u001b[0;34m!=\u001b[0m \u001b[0;36m1\u001b[0m\u001b[0;34m:\u001b[0m\u001b[0;34m\u001b[0m\u001b[0;34m\u001b[0m\u001b[0m\n\u001b[0m\u001b[1;32m    297\u001b[0m                 \u001b[0msuffixes\u001b[0m\u001b[0;34m.\u001b[0m\u001b[0mappend\u001b[0m\u001b[0;34m(\u001b[0m\u001b[0;34m'size='\u001b[0m \u001b[0;34m+\u001b[0m \u001b[0mstr\u001b[0m\u001b[0;34m(\u001b[0m\u001b[0mtuple\u001b[0m\u001b[0;34m(\u001b[0m\u001b[0mself\u001b[0m\u001b[0;34m.\u001b[0m\u001b[0mshape\u001b[0m\u001b[0;34m)\u001b[0m\u001b[0;34m)\u001b[0m\u001b[0;34m)\u001b[0m\u001b[0;34m\u001b[0m\u001b[0;34m\u001b[0m\u001b[0m\n\u001b[1;32m    298\u001b[0m \u001b[0;34m\u001b[0m\u001b[0m\n",
            "\u001b[0;32m/usr/local/lib/python3.7/dist-packages/syft/generic/frameworks/hook/hook.py\u001b[0m in \u001b[0;36moverloaded_native_method\u001b[0;34m(self, *args, **kwargs)\u001b[0m\n\u001b[1;32m    167\u001b[0m                 \u001b[0;32mexcept\u001b[0m \u001b[0mBaseException\u001b[0m \u001b[0;32mas\u001b[0m \u001b[0me\u001b[0m\u001b[0;34m:\u001b[0m\u001b[0;34m\u001b[0m\u001b[0;34m\u001b[0m\u001b[0m\n\u001b[1;32m    168\u001b[0m                     \u001b[0;31m# we can make some errors more descriptive with this method\u001b[0m\u001b[0;34m\u001b[0m\u001b[0;34m\u001b[0m\u001b[0;34m\u001b[0m\u001b[0m\n\u001b[0;32m--> 169\u001b[0;31m                     \u001b[0;32mraise\u001b[0m \u001b[0mroute_method_exception\u001b[0m\u001b[0;34m(\u001b[0m\u001b[0me\u001b[0m\u001b[0;34m,\u001b[0m \u001b[0mself\u001b[0m\u001b[0;34m,\u001b[0m \u001b[0margs\u001b[0m\u001b[0;34m,\u001b[0m \u001b[0mkwargs\u001b[0m\u001b[0;34m)\u001b[0m\u001b[0;34m\u001b[0m\u001b[0;34m\u001b[0m\u001b[0m\n\u001b[0m\u001b[1;32m    170\u001b[0m \u001b[0;34m\u001b[0m\u001b[0m\n\u001b[1;32m    171\u001b[0m             \u001b[0;32melse\u001b[0m\u001b[0;34m:\u001b[0m  \u001b[0;31m# means that there is a wrapper to remove\u001b[0m\u001b[0;34m\u001b[0m\u001b[0;34m\u001b[0m\u001b[0m\n",
            "\u001b[0;32m/usr/local/lib/python3.7/dist-packages/syft/generic/frameworks/hook/hook.py\u001b[0m in \u001b[0;36moverloaded_native_method\u001b[0;34m(self, *args, **kwargs)\u001b[0m\n\u001b[1;32m    163\u001b[0m \u001b[0;34m\u001b[0m\u001b[0m\n\u001b[1;32m    164\u001b[0m                 \u001b[0;32mtry\u001b[0m\u001b[0;34m:\u001b[0m\u001b[0;34m\u001b[0m\u001b[0;34m\u001b[0m\u001b[0m\n\u001b[0;32m--> 165\u001b[0;31m                     \u001b[0mresponse\u001b[0m \u001b[0;34m=\u001b[0m \u001b[0mmethod\u001b[0m\u001b[0;34m(\u001b[0m\u001b[0;34m*\u001b[0m\u001b[0margs\u001b[0m\u001b[0;34m,\u001b[0m \u001b[0;34m**\u001b[0m\u001b[0mkwargs\u001b[0m\u001b[0;34m)\u001b[0m\u001b[0;34m\u001b[0m\u001b[0;34m\u001b[0m\u001b[0m\n\u001b[0m\u001b[1;32m    166\u001b[0m \u001b[0;34m\u001b[0m\u001b[0m\n\u001b[1;32m    167\u001b[0m                 \u001b[0;32mexcept\u001b[0m \u001b[0mBaseException\u001b[0m \u001b[0;32mas\u001b[0m \u001b[0me\u001b[0m\u001b[0;34m:\u001b[0m\u001b[0;34m\u001b[0m\u001b[0;34m\u001b[0m\u001b[0m\n",
            "\u001b[0;32m/usr/local/lib/python3.7/dist-packages/syft/generic/frameworks/hook/tensors.py\u001b[0m in \u001b[0;36mdim\u001b[0;34m(self)\u001b[0m\n\u001b[1;32m    105\u001b[0m \u001b[0;34m\u001b[0m\u001b[0m\n\u001b[1;32m    106\u001b[0m         \u001b[0;32mdef\u001b[0m \u001b[0mdim\u001b[0m\u001b[0;34m(\u001b[0m\u001b[0mself\u001b[0m\u001b[0;34m)\u001b[0m\u001b[0;34m:\u001b[0m\u001b[0;34m\u001b[0m\u001b[0;34m\u001b[0m\u001b[0m\n\u001b[0;32m--> 107\u001b[0;31m             \u001b[0;32mreturn\u001b[0m \u001b[0mlen\u001b[0m\u001b[0;34m(\u001b[0m\u001b[0mself\u001b[0m\u001b[0;34m.\u001b[0m\u001b[0mshape\u001b[0m\u001b[0;34m)\u001b[0m\u001b[0;34m\u001b[0m\u001b[0;34m\u001b[0m\u001b[0m\n\u001b[0m\u001b[1;32m    108\u001b[0m \u001b[0;34m\u001b[0m\u001b[0m\n\u001b[1;32m    109\u001b[0m         \u001b[0mtensor_type\u001b[0m\u001b[0;34m.\u001b[0m\u001b[0mdim\u001b[0m \u001b[0;34m=\u001b[0m \u001b[0mdim\u001b[0m\u001b[0;34m\u001b[0m\u001b[0;34m\u001b[0m\u001b[0m\n",
            "\u001b[0;32m/usr/local/lib/python3.7/dist-packages/syft/frameworks/torch/tensors/interpreters/native.py\u001b[0m in \u001b[0;36mshape\u001b[0;34m(self)\u001b[0m\n\u001b[1;32m    131\u001b[0m     \u001b[0;32mdef\u001b[0m \u001b[0mshape\u001b[0m\u001b[0;34m(\u001b[0m\u001b[0mself\u001b[0m\u001b[0;34m)\u001b[0m\u001b[0;34m:\u001b[0m\u001b[0;34m\u001b[0m\u001b[0;34m\u001b[0m\u001b[0m\n\u001b[1;32m    132\u001b[0m         \u001b[0;32mif\u001b[0m \u001b[0mself\u001b[0m\u001b[0;34m.\u001b[0m\u001b[0mis_wrapper\u001b[0m\u001b[0;34m:\u001b[0m\u001b[0;34m\u001b[0m\u001b[0;34m\u001b[0m\u001b[0m\n\u001b[0;32m--> 133\u001b[0;31m             \u001b[0;32mreturn\u001b[0m \u001b[0mself\u001b[0m\u001b[0;34m.\u001b[0m\u001b[0mchild\u001b[0m\u001b[0;34m.\u001b[0m\u001b[0mshape\u001b[0m\u001b[0;34m\u001b[0m\u001b[0;34m\u001b[0m\u001b[0m\n\u001b[0m\u001b[1;32m    134\u001b[0m         \u001b[0;32melse\u001b[0m\u001b[0;34m:\u001b[0m\u001b[0;34m\u001b[0m\u001b[0;34m\u001b[0m\u001b[0m\n\u001b[1;32m    135\u001b[0m             \u001b[0;32mreturn\u001b[0m \u001b[0mself\u001b[0m\u001b[0;34m.\u001b[0m\u001b[0mnative_shape\u001b[0m\u001b[0;34m\u001b[0m\u001b[0;34m\u001b[0m\u001b[0m\n",
            "\u001b[0;31mAttributeError\u001b[0m: 'Tensor' object has no attribute 'child'"
          ]
        }
      ]
    },
    {
      "cell_type": "code",
      "metadata": {
        "colab": {
          "base_uri": "https://localhost:8080/",
          "height": 282
        },
        "id": "-PvcJWdnkaJO",
        "outputId": "1d3febc2-80e7-42bb-865d-cb9d3150834d"
      },
      "source": [
        "plt.plot(e_acc)"
      ],
      "execution_count": 28,
      "outputs": [
        {
          "output_type": "execute_result",
          "data": {
            "text/plain": [
              "[<matplotlib.lines.Line2D at 0x7f5cba7c9290>]"
            ]
          },
          "metadata": {
            "tags": []
          },
          "execution_count": 28
        },
        {
          "output_type": "display_data",
          "data": {
            "image/png": "[encoded data removed]",
            "text/plain": [
              "<Figure size 432x288 with 1 Axes>"
            ]
          },
          "metadata": {
            "tags": [],
            "needs_background": "light"
          }
        }
      ]
    },
    {
      "cell_type": "code",
      "metadata": {
        "colab": {
          "base_uri": "https://localhost:8080/",
          "height": 282
        },
        "id": "BOu6BPjZka5e",
        "outputId": "56b95613-f35d-4aaa-9b4a-9e6359296969"
      },
      "source": [
        "plt.plot(e_loss)"
      ],
      "execution_count": 29,
      "outputs": [
        {
          "output_type": "execute_result",
          "data": {
            "text/plain": [
              "[<matplotlib.lines.Line2D at 0x7f5cb8490e10>]"
            ]
          },
          "metadata": {
            "tags": []
          },
          "execution_count": 29
        },
        {
          "output_type": "display_data",
          "data": {
            "image/png": "[encoded data removed]",
            "text/plain": [
              "<Figure size 432x288 with 1 Axes>"
            ]
          },
          "metadata": {
            "tags": [],
            "needs_background": "light"
          }
        }
      ]
    },
    {
      "cell_type": "code",
      "metadata": {
        "colab": {
          "base_uri": "https://localhost:8080/",
          "height": 282
        },
        "id": "k-rNyIZPOynv",
        "outputId": "4dec8794-8364-412e-918c-299ec81cdd9c"
      },
      "source": [
        "plt.plot(timelist)"
      ],
      "execution_count": 30,
      "outputs": [
        {
          "output_type": "execute_result",
          "data": {
            "text/plain": [
              "[<matplotlib.lines.Line2D at 0x7f5cb8453210>]"
            ]
          },
          "metadata": {
            "tags": []
          },
          "execution_count": 30
        },
        {
          "output_type": "display_data",
          "data": {
            "image/png": "[encoded data removed]",
            "text/plain": [
              "<Figure size 432x288 with 1 Axes>"
            ]
          },
          "metadata": {
            "tags": [],
            "needs_background": "light"
          }
        }
      ]
    },
    {
      "cell_type": "code",
      "metadata": {
        "id": "3LuZWxTxzCJQ"
      },
      "source": [
        "# define test to apply trained model\n",
        "def test(x, target, splitNN):\n",
        "       \n",
        "    #1) Make a prediction\n",
        "    pred = splitNN.forward(x)\n",
        "    \n",
        "    #2) Figure out how much we missed by\n",
        "    criterion = nn.BCEWithLogitsLoss()\n",
        "    loss = criterion(pred.reshape(-1), target.to(torch.float))\n",
        "        \n",
        "    return loss, pred"
      ],
      "execution_count": 31,
      "outputs": []
    },
    {
      "cell_type": "code",
      "metadata": {
        "colab": {
          "base_uri": "https://localhost:8080/"
        },
        "id": "mp2w24Xijd3g",
        "outputId": "24ab9970-c85f-4b5e-fcb3-5301a527319a"
      },
      "source": [
        "y_pred_list = []\n",
        "y_target_list = []\n",
        "running_loss = 0\n",
        "correct_preds = 0\n",
        "total_preds = 0\n",
        "\n",
        "# lock the models\n",
        "models[0].eval()\n",
        "models[1].eval()\n",
        "\n",
        "# put testing data into the models\n",
        "\n",
        "with torch.no_grad():\n",
        "    for (data, ids1), (labels, ids2) in test_dataloader:\n",
        "        # Train a model\n",
        "        data = data.send(models[0].location)\n",
        "        data = data.view(data.shape[0], -1)\n",
        "        labels = labels.send(models[-1].location)\n",
        "\n",
        "        # Call model\n",
        "        loss, preds = test(data.float(), labels, splitNN)\n",
        "        \n",
        "        # Convert predictions\n",
        "        preds_ = preds.get().squeeze(1)\n",
        "        labels_ = labels.get()\n",
        "        preds_match = ((torch.sigmoid(preds_) > 0.5) == labels_)\n",
        "        y_pred_list.append(torch.sigmoid(preds_) > 0.5)\n",
        "        y_target_list.append(labels_)\n",
        "\n",
        "        # Collect statistics\n",
        "        running_loss += loss.get()\n",
        "        correct_preds = correct_preds + int(preds_match.sum())\n",
        "        total_preds = total_preds + int(preds_match.size()[0])\n",
        "\n",
        "\n",
        "    print(f\" Testing loss: {running_loss/len(test_dataloader):.3f} - Accuracy: {100*correct_preds/total_preds:.3f}\")"
      ],
      "execution_count": 32,
      "outputs": [
        {
          "output_type": "stream",
          "text": [
            " Testing loss: 0.693 - Accuracy: 56.137\n"
          ],
          "name": "stdout"
        }
      ]
    },
    {
      "cell_type": "code",
      "metadata": {
        "colab": {
          "base_uri": "https://localhost:8080/"
        },
        "id": "aQsmux_Rj9CL",
        "outputId": "08982831-da2e-424c-ae93-3b70e7ec47dd"
      },
      "source": [
        "print(y_pred_list[0:10])\n",
        "print(y_target_list[0:10])"
      ],
      "execution_count": null,
      "outputs": [
        {
          "output_type": "stream",
          "text": [
            "[tensor([True]), tensor([True]), tensor([True]), tensor([True]), tensor([False]), tensor([True]), tensor([True]), tensor([True]), tensor([False]), tensor([False])]\n",
            "[tensor([0]), tensor([1]), tensor([0]), tensor([1]), tensor([0]), tensor([0]), tensor([1]), tensor([0]), tensor([0]), tensor([1])]\n"
          ],
          "name": "stdout"
        }
      ]
    },
    {
      "cell_type": "code",
      "metadata": {
        "colab": {
          "base_uri": "https://localhost:8080/"
        },
        "id": "16Uw1Zf9wMte",
        "outputId": "a4e4d813-b8c1-4d75-cfc6-d814c5b3ef52"
      },
      "source": [
        "confusion_matrix(y_target_list, y_pred_list)"
      ],
      "execution_count": 33,
      "outputs": [
        {
          "output_type": "execute_result",
          "data": {
            "text/plain": [
              "array([[6232,   34],\n",
              "       [4862,   34]])"
            ]
          },
          "metadata": {
            "tags": []
          },
          "execution_count": 33
        }
      ]
    },
    {
      "cell_type": "code",
      "metadata": {
        "colab": {
          "base_uri": "https://localhost:8080/"
        },
        "id": "Knxthas7nWgB",
        "outputId": "011eef93-f80a-451e-b741-7153735833f0"
      },
      "source": [
        "print(classification_report(y_target_list, y_pred_list))"
      ],
      "execution_count": 34,
      "outputs": [
        {
          "output_type": "stream",
          "text": [
            "              precision    recall  f1-score   support\n",
            "\n",
            "           0       0.56      0.99      0.72      6266\n",
            "           1       0.50      0.01      0.01      4896\n",
            "\n",
            "    accuracy                           0.56     11162\n",
            "   macro avg       0.53      0.50      0.37     11162\n",
            "weighted avg       0.53      0.56      0.41     11162\n",
            "\n"
          ],
          "name": "stdout"
        }
      ]
    },
    {
      "cell_type": "code",
      "metadata": {
        "id": "AAy-LuWEqrNA"
      },
      "source": [
        ""
      ],
      "execution_count": null,
      "outputs": []
    }
  ]
}