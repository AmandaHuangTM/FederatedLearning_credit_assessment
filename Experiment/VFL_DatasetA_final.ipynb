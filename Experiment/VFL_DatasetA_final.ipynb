{
 "cells": [
  {
   "cell_type": "code",
   "execution_count": 4,
   "metadata": {
    "id": "AdwX-EwhAsnV"
   },
   "outputs": [],
   "source": [
    "import tensorflow as tf\n",
    "import sys\n",
    "\n",
    "# import the module from google drive\n",
    "sys.path.insert(0,'/content/drive/My Drive/Colab Notebooks')\n",
    "import src\n",
    "\n",
    "\n",
    "import torch\n",
    "from torchvision import datasets, transforms\n",
    "from torch import nn, optim\n",
    "from torch.utils.data import TensorDataset\n",
    "from torchvision.transforms import ToTensor\n",
    "\n",
    "import syft as sy\n",
    "\n",
    "hook = sy.TorchHook(torch)"
   ]
  },
  {
   "cell_type": "code",
   "execution_count": 5,
   "metadata": {
    "id": "iSaq0p3lA39M"
   },
   "outputs": [],
   "source": [
    "from src.dataloader import VerticalDataLoader\n",
    "from src.psi.util import Client, Server\n",
    "from src.utils.split_data import add_ids"
   ]
  },
  {
   "cell_type": "code",
   "execution_count": 6,
   "metadata": {
    "id": "WKhWTt30A943"
   },
   "outputs": [],
   "source": [
    "from imutils import paths\n",
    "from sklearn.model_selection import train_test_split\n",
    "from sklearn.preprocessing import LabelBinarizer\n",
    "from sklearn.utils import shuffle\n",
    "from sklearn.metrics import accuracy_score\n",
    "from sklearn.metrics import confusion_matrix, classification_report"
   ]
  },
  {
   "cell_type": "code",
   "execution_count": 7,
   "metadata": {
    "id": "zN3muSmI9jVD"
   },
   "outputs": [],
   "source": [
    "from uuid import uuid4\n",
    "\n",
    "import numpy as np\n",
    "import pandas as pd\n",
    "\n",
    "import time\n",
    "import matplotlib.pyplot as plt"
   ]
  },
  {
   "cell_type": "code",
   "execution_count": 8,
   "metadata": {
    "id": "DUM3Pj7Gl8cA"
   },
   "outputs": [],
   "source": [
    "# load the data\n",
    "df = pd.read_csv(\"drive/MyDrive/Colab Notebooks/data/datatrain.csv\")"
   ]
  },
  {
   "cell_type": "code",
   "execution_count": 9,
   "metadata": {
    "colab": {
     "base_uri": "https://localhost:8080/",
     "height": 321
    },
    "id": "02t3E6pInc2u",
    "outputId": "670ff17c-eaf5-41eb-9df0-0a1f3a783d48"
   },
   "outputs": [
    {
     "data": {
      "text/html": [
       "<div>\n",
       "<style scoped>\n",
       "    .dataframe tbody tr th:only-of-type {\n",
       "        vertical-align: middle;\n",
       "    }\n",
       "\n",
       "    .dataframe tbody tr th {\n",
       "        vertical-align: top;\n",
       "    }\n",
       "\n",
       "    .dataframe thead th {\n",
       "        text-align: right;\n",
       "    }\n",
       "</style>\n",
       "<table border=\"1\" class=\"dataframe\">\n",
       "  <thead>\n",
       "    <tr style=\"text-align: right;\">\n",
       "      <th></th>\n",
       "      <th>Application Branch Code</th>\n",
       "      <th>Applied Loan Amount</th>\n",
       "      <th>Applied Loan Tenor</th>\n",
       "      <th>Gender</th>\n",
       "      <th>Age</th>\n",
       "      <th>Monthly Housing/Rental</th>\n",
       "      <th>Contract Staff (Y/N)</th>\n",
       "      <th>Monthly Income</th>\n",
       "      <th>Office (Area)</th>\n",
       "      <th>Disbursement (BOCOM/Others)</th>\n",
       "      <th>Product Code_BT</th>\n",
       "      <th>Product Code_PL</th>\n",
       "      <th>Product Code_TL</th>\n",
       "      <th>Channel Code_F01</th>\n",
       "      <th>Channel Code_F02</th>\n",
       "      <th>Channel Code_F03</th>\n",
       "      <th>Channel Code_F04</th>\n",
       "      <th>Channel Code_F05</th>\n",
       "      <th>Channel Code_F07</th>\n",
       "      <th>Channel Code_F08</th>\n",
       "      <th>Source Code_R1</th>\n",
       "      <th>Source Code_R13</th>\n",
       "      <th>Source Code_R14</th>\n",
       "      <th>Source Code_R15</th>\n",
       "      <th>Source Code_R2</th>\n",
       "      <th>Source Code_R4</th>\n",
       "      <th>Source Code_R5</th>\n",
       "      <th>Source Code_R8</th>\n",
       "      <th>Source Code_S01</th>\n",
       "      <th>Source Code_S02</th>\n",
       "      <th>Source Code_S03</th>\n",
       "      <th>Source Code_S04</th>\n",
       "      <th>Source Code_S05</th>\n",
       "      <th>Source Code_S06</th>\n",
       "      <th>Source Code_S07</th>\n",
       "      <th>Source Code_S08</th>\n",
       "      <th>Source Code_S09</th>\n",
       "      <th>Source Code_S10</th>\n",
       "      <th>Source Code_S11</th>\n",
       "      <th>Source Code_S12</th>\n",
       "      <th>...</th>\n",
       "      <th>Residential Status_No Response</th>\n",
       "      <th>Residential Status_Rental</th>\n",
       "      <th>Residential Status_Self-owned Private Housing</th>\n",
       "      <th>Residential Status_Self-owned Public Housing</th>\n",
       "      <th>Employment Type_Civil Servant</th>\n",
       "      <th>Employment Type_Fixed Income Earner</th>\n",
       "      <th>Employment Type_Non Fixed Income Earner</th>\n",
       "      <th>Employment Type_Not Applicable</th>\n",
       "      <th>Employment Type_Self-Employed</th>\n",
       "      <th>Employment Type_Self-Employed Professional</th>\n",
       "      <th>Nature of Business_All Other</th>\n",
       "      <th>Nature of Business_Construction Trades</th>\n",
       "      <th>Nature of Business_Driver</th>\n",
       "      <th>Nature of Business_Executive</th>\n",
       "      <th>Nature of Business_Factory Worker</th>\n",
       "      <th>Nature of Business_Guard</th>\n",
       "      <th>Nature of Business_Homemaker</th>\n",
       "      <th>Nature of Business_Manager</th>\n",
       "      <th>Nature of Business_No Response</th>\n",
       "      <th>Nature of Business_Office Worker</th>\n",
       "      <th>Nature of Business_Owner of a Business</th>\n",
       "      <th>Nature of Business_Professional</th>\n",
       "      <th>Nature of Business_Retired</th>\n",
       "      <th>Nature of Business_Sales</th>\n",
       "      <th>Nature of Business_Semi Professional</th>\n",
       "      <th>Nature of Business_Services</th>\n",
       "      <th>Nature of Business_Skilled Worker</th>\n",
       "      <th>Nature of Business_Student</th>\n",
       "      <th>Nature of Business_Unemployed</th>\n",
       "      <th>Nature of Business_Unskilled Worker</th>\n",
       "      <th>Job Position_Government/Semi-Government</th>\n",
       "      <th>Job Position_Homemaker</th>\n",
       "      <th>Job Position_No Response</th>\n",
       "      <th>Job Position_Private</th>\n",
       "      <th>Job Position_Public</th>\n",
       "      <th>Job Position_Retired</th>\n",
       "      <th>Job Position_Self Employed</th>\n",
       "      <th>Job Position_Student</th>\n",
       "      <th>Job Position_Unemployed</th>\n",
       "      <th>Final_Status (Y/N)</th>\n",
       "    </tr>\n",
       "  </thead>\n",
       "  <tbody>\n",
       "    <tr>\n",
       "      <th>0</th>\n",
       "      <td>570</td>\n",
       "      <td>60000</td>\n",
       "      <td>24.0</td>\n",
       "      <td>1</td>\n",
       "      <td>22.301</td>\n",
       "      <td>0.0</td>\n",
       "      <td>0</td>\n",
       "      <td>10245.0</td>\n",
       "      <td>2.0</td>\n",
       "      <td>0</td>\n",
       "      <td>0</td>\n",
       "      <td>1</td>\n",
       "      <td>0</td>\n",
       "      <td>0</td>\n",
       "      <td>0</td>\n",
       "      <td>0</td>\n",
       "      <td>0</td>\n",
       "      <td>1</td>\n",
       "      <td>0</td>\n",
       "      <td>0</td>\n",
       "      <td>0</td>\n",
       "      <td>0</td>\n",
       "      <td>0</td>\n",
       "      <td>0</td>\n",
       "      <td>0</td>\n",
       "      <td>0</td>\n",
       "      <td>0</td>\n",
       "      <td>0</td>\n",
       "      <td>0</td>\n",
       "      <td>0</td>\n",
       "      <td>1</td>\n",
       "      <td>0</td>\n",
       "      <td>0</td>\n",
       "      <td>0</td>\n",
       "      <td>0</td>\n",
       "      <td>0</td>\n",
       "      <td>0</td>\n",
       "      <td>0</td>\n",
       "      <td>0</td>\n",
       "      <td>0</td>\n",
       "      <td>...</td>\n",
       "      <td>0</td>\n",
       "      <td>0</td>\n",
       "      <td>0</td>\n",
       "      <td>0</td>\n",
       "      <td>0</td>\n",
       "      <td>1</td>\n",
       "      <td>0</td>\n",
       "      <td>0</td>\n",
       "      <td>0</td>\n",
       "      <td>0</td>\n",
       "      <td>0</td>\n",
       "      <td>0</td>\n",
       "      <td>0</td>\n",
       "      <td>0</td>\n",
       "      <td>0</td>\n",
       "      <td>0</td>\n",
       "      <td>0</td>\n",
       "      <td>0</td>\n",
       "      <td>0</td>\n",
       "      <td>0</td>\n",
       "      <td>0</td>\n",
       "      <td>0</td>\n",
       "      <td>0</td>\n",
       "      <td>1</td>\n",
       "      <td>0</td>\n",
       "      <td>0</td>\n",
       "      <td>0</td>\n",
       "      <td>0</td>\n",
       "      <td>0</td>\n",
       "      <td>0</td>\n",
       "      <td>0</td>\n",
       "      <td>0</td>\n",
       "      <td>0</td>\n",
       "      <td>1</td>\n",
       "      <td>0</td>\n",
       "      <td>0</td>\n",
       "      <td>0</td>\n",
       "      <td>0</td>\n",
       "      <td>0</td>\n",
       "      <td>0</td>\n",
       "    </tr>\n",
       "    <tr>\n",
       "      <th>1</th>\n",
       "      <td>883</td>\n",
       "      <td>1000000</td>\n",
       "      <td>48.0</td>\n",
       "      <td>0</td>\n",
       "      <td>39.649</td>\n",
       "      <td>35000.0</td>\n",
       "      <td>0</td>\n",
       "      <td>220834.0</td>\n",
       "      <td>1.0</td>\n",
       "      <td>0</td>\n",
       "      <td>0</td>\n",
       "      <td>1</td>\n",
       "      <td>0</td>\n",
       "      <td>1</td>\n",
       "      <td>0</td>\n",
       "      <td>0</td>\n",
       "      <td>0</td>\n",
       "      <td>0</td>\n",
       "      <td>0</td>\n",
       "      <td>0</td>\n",
       "      <td>0</td>\n",
       "      <td>0</td>\n",
       "      <td>0</td>\n",
       "      <td>0</td>\n",
       "      <td>0</td>\n",
       "      <td>0</td>\n",
       "      <td>0</td>\n",
       "      <td>0</td>\n",
       "      <td>0</td>\n",
       "      <td>1</td>\n",
       "      <td>0</td>\n",
       "      <td>0</td>\n",
       "      <td>0</td>\n",
       "      <td>0</td>\n",
       "      <td>0</td>\n",
       "      <td>0</td>\n",
       "      <td>0</td>\n",
       "      <td>0</td>\n",
       "      <td>0</td>\n",
       "      <td>0</td>\n",
       "      <td>...</td>\n",
       "      <td>0</td>\n",
       "      <td>1</td>\n",
       "      <td>0</td>\n",
       "      <td>0</td>\n",
       "      <td>0</td>\n",
       "      <td>1</td>\n",
       "      <td>0</td>\n",
       "      <td>0</td>\n",
       "      <td>0</td>\n",
       "      <td>0</td>\n",
       "      <td>0</td>\n",
       "      <td>0</td>\n",
       "      <td>0</td>\n",
       "      <td>1</td>\n",
       "      <td>0</td>\n",
       "      <td>0</td>\n",
       "      <td>0</td>\n",
       "      <td>0</td>\n",
       "      <td>0</td>\n",
       "      <td>0</td>\n",
       "      <td>0</td>\n",
       "      <td>0</td>\n",
       "      <td>0</td>\n",
       "      <td>0</td>\n",
       "      <td>0</td>\n",
       "      <td>0</td>\n",
       "      <td>0</td>\n",
       "      <td>0</td>\n",
       "      <td>0</td>\n",
       "      <td>0</td>\n",
       "      <td>0</td>\n",
       "      <td>0</td>\n",
       "      <td>0</td>\n",
       "      <td>1</td>\n",
       "      <td>0</td>\n",
       "      <td>0</td>\n",
       "      <td>0</td>\n",
       "      <td>0</td>\n",
       "      <td>0</td>\n",
       "      <td>0</td>\n",
       "    </tr>\n",
       "    <tr>\n",
       "      <th>2</th>\n",
       "      <td>566</td>\n",
       "      <td>100000</td>\n",
       "      <td>60.0</td>\n",
       "      <td>1</td>\n",
       "      <td>33.159</td>\n",
       "      <td>0.0</td>\n",
       "      <td>0</td>\n",
       "      <td>10000.0</td>\n",
       "      <td>1.0</td>\n",
       "      <td>0</td>\n",
       "      <td>0</td>\n",
       "      <td>1</td>\n",
       "      <td>0</td>\n",
       "      <td>0</td>\n",
       "      <td>0</td>\n",
       "      <td>0</td>\n",
       "      <td>0</td>\n",
       "      <td>1</td>\n",
       "      <td>0</td>\n",
       "      <td>0</td>\n",
       "      <td>0</td>\n",
       "      <td>0</td>\n",
       "      <td>0</td>\n",
       "      <td>0</td>\n",
       "      <td>0</td>\n",
       "      <td>0</td>\n",
       "      <td>0</td>\n",
       "      <td>0</td>\n",
       "      <td>0</td>\n",
       "      <td>0</td>\n",
       "      <td>1</td>\n",
       "      <td>0</td>\n",
       "      <td>0</td>\n",
       "      <td>0</td>\n",
       "      <td>0</td>\n",
       "      <td>0</td>\n",
       "      <td>0</td>\n",
       "      <td>0</td>\n",
       "      <td>0</td>\n",
       "      <td>0</td>\n",
       "      <td>...</td>\n",
       "      <td>0</td>\n",
       "      <td>0</td>\n",
       "      <td>0</td>\n",
       "      <td>0</td>\n",
       "      <td>0</td>\n",
       "      <td>1</td>\n",
       "      <td>0</td>\n",
       "      <td>0</td>\n",
       "      <td>0</td>\n",
       "      <td>0</td>\n",
       "      <td>0</td>\n",
       "      <td>0</td>\n",
       "      <td>0</td>\n",
       "      <td>0</td>\n",
       "      <td>0</td>\n",
       "      <td>0</td>\n",
       "      <td>0</td>\n",
       "      <td>0</td>\n",
       "      <td>0</td>\n",
       "      <td>0</td>\n",
       "      <td>0</td>\n",
       "      <td>0</td>\n",
       "      <td>0</td>\n",
       "      <td>0</td>\n",
       "      <td>0</td>\n",
       "      <td>1</td>\n",
       "      <td>0</td>\n",
       "      <td>0</td>\n",
       "      <td>0</td>\n",
       "      <td>0</td>\n",
       "      <td>0</td>\n",
       "      <td>0</td>\n",
       "      <td>0</td>\n",
       "      <td>1</td>\n",
       "      <td>0</td>\n",
       "      <td>0</td>\n",
       "      <td>0</td>\n",
       "      <td>0</td>\n",
       "      <td>0</td>\n",
       "      <td>0</td>\n",
       "    </tr>\n",
       "    <tr>\n",
       "      <th>3</th>\n",
       "      <td>546</td>\n",
       "      <td>50000</td>\n",
       "      <td>24.0</td>\n",
       "      <td>0</td>\n",
       "      <td>28.389</td>\n",
       "      <td>2000.0</td>\n",
       "      <td>0</td>\n",
       "      <td>9700.0</td>\n",
       "      <td>3.0</td>\n",
       "      <td>1</td>\n",
       "      <td>0</td>\n",
       "      <td>1</td>\n",
       "      <td>0</td>\n",
       "      <td>0</td>\n",
       "      <td>0</td>\n",
       "      <td>0</td>\n",
       "      <td>0</td>\n",
       "      <td>1</td>\n",
       "      <td>0</td>\n",
       "      <td>0</td>\n",
       "      <td>0</td>\n",
       "      <td>0</td>\n",
       "      <td>0</td>\n",
       "      <td>0</td>\n",
       "      <td>0</td>\n",
       "      <td>0</td>\n",
       "      <td>0</td>\n",
       "      <td>0</td>\n",
       "      <td>0</td>\n",
       "      <td>0</td>\n",
       "      <td>1</td>\n",
       "      <td>0</td>\n",
       "      <td>0</td>\n",
       "      <td>0</td>\n",
       "      <td>0</td>\n",
       "      <td>0</td>\n",
       "      <td>0</td>\n",
       "      <td>0</td>\n",
       "      <td>0</td>\n",
       "      <td>0</td>\n",
       "      <td>...</td>\n",
       "      <td>0</td>\n",
       "      <td>1</td>\n",
       "      <td>0</td>\n",
       "      <td>0</td>\n",
       "      <td>0</td>\n",
       "      <td>1</td>\n",
       "      <td>0</td>\n",
       "      <td>0</td>\n",
       "      <td>0</td>\n",
       "      <td>0</td>\n",
       "      <td>0</td>\n",
       "      <td>0</td>\n",
       "      <td>0</td>\n",
       "      <td>0</td>\n",
       "      <td>0</td>\n",
       "      <td>0</td>\n",
       "      <td>0</td>\n",
       "      <td>0</td>\n",
       "      <td>0</td>\n",
       "      <td>0</td>\n",
       "      <td>0</td>\n",
       "      <td>0</td>\n",
       "      <td>0</td>\n",
       "      <td>0</td>\n",
       "      <td>0</td>\n",
       "      <td>1</td>\n",
       "      <td>0</td>\n",
       "      <td>0</td>\n",
       "      <td>0</td>\n",
       "      <td>0</td>\n",
       "      <td>0</td>\n",
       "      <td>0</td>\n",
       "      <td>0</td>\n",
       "      <td>1</td>\n",
       "      <td>0</td>\n",
       "      <td>0</td>\n",
       "      <td>0</td>\n",
       "      <td>0</td>\n",
       "      <td>0</td>\n",
       "      <td>0</td>\n",
       "    </tr>\n",
       "    <tr>\n",
       "      <th>4</th>\n",
       "      <td>548</td>\n",
       "      <td>70000</td>\n",
       "      <td>36.0</td>\n",
       "      <td>1</td>\n",
       "      <td>35.573</td>\n",
       "      <td>1200.0</td>\n",
       "      <td>0</td>\n",
       "      <td>23000.0</td>\n",
       "      <td>2.0</td>\n",
       "      <td>1</td>\n",
       "      <td>0</td>\n",
       "      <td>1</td>\n",
       "      <td>0</td>\n",
       "      <td>0</td>\n",
       "      <td>0</td>\n",
       "      <td>0</td>\n",
       "      <td>0</td>\n",
       "      <td>1</td>\n",
       "      <td>0</td>\n",
       "      <td>0</td>\n",
       "      <td>0</td>\n",
       "      <td>0</td>\n",
       "      <td>0</td>\n",
       "      <td>0</td>\n",
       "      <td>0</td>\n",
       "      <td>0</td>\n",
       "      <td>0</td>\n",
       "      <td>0</td>\n",
       "      <td>0</td>\n",
       "      <td>0</td>\n",
       "      <td>0</td>\n",
       "      <td>0</td>\n",
       "      <td>0</td>\n",
       "      <td>0</td>\n",
       "      <td>0</td>\n",
       "      <td>1</td>\n",
       "      <td>0</td>\n",
       "      <td>0</td>\n",
       "      <td>0</td>\n",
       "      <td>0</td>\n",
       "      <td>...</td>\n",
       "      <td>0</td>\n",
       "      <td>1</td>\n",
       "      <td>0</td>\n",
       "      <td>0</td>\n",
       "      <td>1</td>\n",
       "      <td>0</td>\n",
       "      <td>0</td>\n",
       "      <td>0</td>\n",
       "      <td>0</td>\n",
       "      <td>0</td>\n",
       "      <td>0</td>\n",
       "      <td>0</td>\n",
       "      <td>0</td>\n",
       "      <td>0</td>\n",
       "      <td>0</td>\n",
       "      <td>0</td>\n",
       "      <td>0</td>\n",
       "      <td>1</td>\n",
       "      <td>0</td>\n",
       "      <td>0</td>\n",
       "      <td>0</td>\n",
       "      <td>0</td>\n",
       "      <td>0</td>\n",
       "      <td>0</td>\n",
       "      <td>0</td>\n",
       "      <td>0</td>\n",
       "      <td>0</td>\n",
       "      <td>0</td>\n",
       "      <td>0</td>\n",
       "      <td>0</td>\n",
       "      <td>1</td>\n",
       "      <td>0</td>\n",
       "      <td>0</td>\n",
       "      <td>0</td>\n",
       "      <td>0</td>\n",
       "      <td>0</td>\n",
       "      <td>0</td>\n",
       "      <td>0</td>\n",
       "      <td>0</td>\n",
       "      <td>0</td>\n",
       "    </tr>\n",
       "  </tbody>\n",
       "</table>\n",
       "<p>5 rows × 115 columns</p>\n",
       "</div>"
      ],
      "text/plain": [
       "   Application Branch Code  ...  Final_Status (Y/N)\n",
       "0                      570  ...                   0\n",
       "1                      883  ...                   0\n",
       "2                      566  ...                   0\n",
       "3                      546  ...                   0\n",
       "4                      548  ...                   0\n",
       "\n",
       "[5 rows x 115 columns]"
      ]
     },
     "execution_count": 9,
     "metadata": {
      "tags": []
     },
     "output_type": "execute_result"
    }
   ],
   "source": [
    "# clean the data\n",
    "# transform into binary columns\n",
    "\n",
    "df = df.dropna()\n",
    "df = pd.get_dummies(df)\n",
    "cols = df.columns.tolist()\n",
    "df = df[cols]\n",
    "df.head()"
   ]
  },
  {
   "cell_type": "code",
   "execution_count": 10,
   "metadata": {
    "id": "Y1ur1ac0l-DW"
   },
   "outputs": [],
   "source": [
    "# split it into training and testing dataset\n",
    "train, test = train_test_split( df , test_size=0.3, random_state=42)"
   ]
  },
  {
   "cell_type": "code",
   "execution_count": 11,
   "metadata": {
    "colab": {
     "base_uri": "https://localhost:8080/"
    },
    "id": "HlMKuFeumofp",
    "outputId": "2d2146b6-7f10-4da2-87eb-db50273b2ff9"
   },
   "outputs": [
    {
     "data": {
      "text/plain": [
       "(11162, 6)"
      ]
     },
     "execution_count": 11,
     "metadata": {
      "tags": []
     },
     "output_type": "execute_result"
    }
   ],
   "source": [
    "# Dataset A setting\n",
    "cols = [\"Applied Loan Amount\", 'Applied Loan Tenor', \"Age\", \"Monthly Income\", 'Monthly Housing/Rental', \"Final_Status (Y/N)\"]\n",
    "train = train[cols]\n",
    "train.shape"
   ]
  },
  {
   "cell_type": "code",
   "execution_count": 12,
   "metadata": {
    "colab": {
     "base_uri": "https://localhost:8080/"
    },
    "id": "Vohb_pUymvkR",
    "outputId": "14949e5b-126f-4220-df8a-b6bb561f072b"
   },
   "outputs": [
    {
     "data": {
      "text/plain": [
       "(4784, 6)"
      ]
     },
     "execution_count": 12,
     "metadata": {
      "tags": []
     },
     "output_type": "execute_result"
    }
   ],
   "source": [
    "test = test[cols]\n",
    "test.shape"
   ]
  },
  {
   "cell_type": "code",
   "execution_count": 13,
   "metadata": {
    "id": "FkcuypCKl8xa"
   },
   "outputs": [],
   "source": [
    "# transform into tensor data\n",
    "train_features = torch.as_tensor(train.drop(\"Final_Status (Y/N)\", axis=1).to_numpy()) # can only from numpy to tensor\n",
    "train_target = torch.as_tensor(train[\"Final_Status (Y/N)\"].to_numpy())"
   ]
  },
  {
   "cell_type": "code",
   "execution_count": 14,
   "metadata": {
    "id": "-xhLbHmGm8nY"
   },
   "outputs": [],
   "source": [
    "# transform into tensor data\n",
    "test_features = torch.as_tensor(train.drop(\"Final_Status (Y/N)\", axis=1).to_numpy()) # can only from numpy to tensor\n",
    "test_target = torch.as_tensor(train[\"Final_Status (Y/N)\"].to_numpy())"
   ]
  },
  {
   "cell_type": "code",
   "execution_count": 15,
   "metadata": {
    "colab": {
     "base_uri": "https://localhost:8080/"
    },
    "id": "OdGthx0cTCwj",
    "outputId": "11c9f5dd-a155-4d5c-9692-1a1361877f55"
   },
   "outputs": [
    {
     "name": "stdout",
     "output_type": "stream",
     "text": [
      "cuda\n"
     ]
    }
   ],
   "source": [
    "# Implements a vertical dataset with TensorDataset\n",
    "import torch\n",
    "from torch.utils.data import Dataset\n",
    "device = 'cuda' if torch.cuda.is_available() else 'cpu'\n",
    "print(device)"
   ]
  },
  {
   "cell_type": "code",
   "execution_count": 16,
   "metadata": {
    "id": "jqLePC47S1nm"
   },
   "outputs": [],
   "source": [
    "# self-designed VerticalTensorDataset\n",
    "# to add id, set features and target\n",
    "\n",
    "class VerticalTensorDataset(Dataset):\n",
    "    def __init__(self, features, targets):\n",
    "        super().__init__()\n",
    "\n",
    "        self.data = features\n",
    "        self.targets = targets\n",
    "        self.size = features.shape[0]\n",
    "\n",
    "        self.ids = np.array([uuid4() for _ in range(len(self))])\n",
    "\n",
    "    def __len__(self):\n",
    "        return self.size\n",
    "\n",
    "    def __getitem__(self, index):\n",
    "        if self.data is None:\n",
    "          data = None\n",
    "        else:\n",
    "          data = self.data[index]\n",
    "        if self.targets is None:\n",
    "          target = None\n",
    "        else:\n",
    "          target = self.targets[index]\n",
    "\n",
    "        id = self.ids[index]\n",
    "\n",
    "        return (*filter(lambda x: x is not None, (data, target, id)),)\n",
    "\n",
    "    def get_ids(self):\n",
    "        return [str(id) for id in self.ids]\n",
    "    \n"
   ]
  },
  {
   "cell_type": "code",
   "execution_count": 17,
   "metadata": {
    "colab": {
     "base_uri": "https://localhost:8080/"
    },
    "id": "lwSBeXxznItN",
    "outputId": "db044a72-32da-4d8a-ed59-416ebb1b911f"
   },
   "outputs": [
    {
     "name": "stdout",
     "output_type": "stream",
     "text": [
      "(tensor([5.0000e+04, 2.4000e+01, 4.0627e+01, 2.0500e+04, 0.0000e+00],\n",
      "       dtype=torch.float64), tensor(0), UUID('bd102cec-5f7a-4dce-8daa-237fed510d5f'))\n"
     ]
    }
   ],
   "source": [
    "# put training data into VerticalTensorDataset \n",
    "# to add ids and identify features and target column\n",
    "train_dataset = VerticalTensorDataset(train_features, train_target)\n",
    "\n",
    "print(train_dataset[0])\n",
    "# VerticalDataLoader is from PyVertical package\n",
    "# it vetically patitions the data\n",
    "train_dataloader = VerticalDataLoader(train_dataset, batch_size = 64) "
   ]
  },
  {
   "cell_type": "code",
   "execution_count": 18,
   "metadata": {
    "colab": {
     "base_uri": "https://localhost:8080/"
    },
    "id": "G-tskG6VnrYb",
    "outputId": "981298a4-2835-4ce3-f03e-ac5a334b8a9c"
   },
   "outputs": [
    {
     "name": "stdout",
     "output_type": "stream",
     "text": [
      "(tensor([5.0000e+04, 2.4000e+01, 4.0627e+01, 2.0500e+04, 0.0000e+00],\n",
      "       dtype=torch.float64), tensor(0), UUID('a08b54e0-8599-4b91-a3e6-b399fca0b91e'))\n"
     ]
    }
   ],
   "source": [
    "# apply on testing data\n",
    "test_dataset = VerticalTensorDataset(test_features, test_target)\n",
    "\n",
    "print(test_dataset[0])\n",
    "\n",
    "test_dataloader = VerticalDataLoader(test_dataset, batch_size = 1)"
   ]
  },
  {
   "cell_type": "code",
   "execution_count": 19,
   "metadata": {
    "id": "fG8zrBSABSg6"
   },
   "outputs": [],
   "source": [
    "# SplitNN\n",
    "# assign model segments to each local nodes\n",
    "# define how gradient is sent\n",
    "class SplitNN:\n",
    "    def __init__(self, models, optimizers):\n",
    "        self.models = models\n",
    "        self.optimizers = optimizers\n",
    "\n",
    "        self.data = []\n",
    "        self.remote_tensors = []\n",
    "\n",
    "    def forward(self, x):\n",
    "        data = []\n",
    "        remote_tensors = []\n",
    "\n",
    "        data.append(self.models[0](x))\n",
    "\n",
    "        if data[-1].location == self.models[1].location:\n",
    "            remote_tensors.append(data[-1].detach().requires_grad_())\n",
    "        else:\n",
    "            remote_tensors.append(\n",
    "                data[-1].detach().move(self.models[1].location).requires_grad_()\n",
    "            )\n",
    "\n",
    "        i = 1\n",
    "        while i < (len(models) - 1):\n",
    "            data.append(self.models[i](remote_tensors[-1]))\n",
    "\n",
    "            if data[-1].location == self.models[i + 1].location:\n",
    "                remote_tensors.append(data[-1].detach().requires_grad_())\n",
    "            else:\n",
    "                remote_tensors.append(\n",
    "                    data[-1].detach().move(self.models[i + 1].location).requires_grad_()\n",
    "                )\n",
    "\n",
    "            i += 1\n",
    "\n",
    "        data.append(self.models[i](remote_tensors[-1]))\n",
    "\n",
    "        self.data = data\n",
    "        self.remote_tensors = remote_tensors\n",
    "\n",
    "        return data[-1]\n",
    "        \n",
    "    def backward(self):\n",
    "        for i in range(len(models) - 2, -1, -1):\n",
    "            if self.remote_tensors[i].location == self.data[i].location:\n",
    "                grads = self.remote_tensors[i].grad.copy()\n",
    "            else:\n",
    "                grads = self.remote_tensors[i].grad.copy().move(self.data[i].location)\n",
    "    \n",
    "            self.data[i].backward(grads)\n",
    "\n",
    "    def zero_grads(self):\n",
    "        for opt in self.optimizers:\n",
    "            opt.zero_grad()\n",
    "\n",
    "    def step(self):\n",
    "        for opt in self.optimizers:\n",
    "            opt.step()"
   ]
  },
  {
   "cell_type": "code",
   "execution_count": 20,
   "metadata": {
    "id": "qFjH0o5zDL2L"
   },
   "outputs": [],
   "source": [
    "torch.manual_seed(3)\n",
    "\n",
    "# Define our model segments\n",
    "\n",
    "input_size = 5\n",
    "hidden_sizes = [32, 64]\n",
    "output_size = 1\n",
    "\n",
    "\n",
    "# Deep Learning model\n",
    "# to apply it in SplitNN framework, it is divided into 2 parts\n",
    "models = [\n",
    "    nn.Sequential(\n",
    "        nn.Linear(input_size, hidden_sizes[0]),\n",
    "        nn.ReLU(),\n",
    "        nn.BatchNorm1d(hidden_sizes[0]),\n",
    "        nn.Linear(hidden_sizes[0], hidden_sizes[1]),\n",
    "        nn.ReLU(),\n",
    "        nn.BatchNorm1d(hidden_sizes[1]),\n",
    "        nn.Dropout(p=0.1)\n",
    "    ),\n",
    "    nn.Sequential(nn.Linear(hidden_sizes[1], output_size))\n",
    "\n",
    "]\n",
    "\n",
    "# create optimisers for each segment and link to them\n",
    "optimizers = [\n",
    "    optim.SGD(model.parameters(), lr=0.001)\n",
    "    for model in models\n",
    "]\n"
   ]
  },
  {
   "cell_type": "code",
   "execution_count": 21,
   "metadata": {
    "id": "7PRJATcrEUo7"
   },
   "outputs": [],
   "source": [
    "# create virtual workers as local node simulation\n",
    "alice = sy.VirtualWorker(hook, id=\"alice\")\n",
    "bob = sy.VirtualWorker(hook, id=\"bob\")\n",
    "\n",
    "# send Model Segments to model locations\n",
    "model_locations = [alice, bob]\n",
    "for model, location in zip(models, model_locations):\n",
    "    model.send(location)\n",
    "\n",
    "# instantiate a SpliNN class with our distributed segments and their respective optimizers\n",
    "splitNN = SplitNN(models, optimizers)"
   ]
  },
  {
   "cell_type": "code",
   "execution_count": 22,
   "metadata": {
    "id": "PJPQZv5rEXYK"
   },
   "outputs": [],
   "source": [
    "def train(x, target, splitNN):\n",
    "    \n",
    "    #1) Zero our grads\n",
    "    splitNN.zero_grads()\n",
    "    \n",
    "    #2) Make a prediction\n",
    "    pred = splitNN.forward(x)\n",
    "    \n",
    "    #3) Figure out how much we missed by\n",
    "    criterion = nn.BCEWithLogitsLoss()\n",
    "    loss = criterion(pred.reshape(-1), target.to(torch.float))\n",
    "    \n",
    "    #4) Backprop the loss on the end layer\n",
    "    loss.backward()\n",
    "    \n",
    "    #5) Feed Gradients backward through the nework\n",
    "    splitNN.backward()\n",
    "    \n",
    "    #6) Change the weights\n",
    "    splitNN.step()\n",
    "    \n",
    "    return loss, pred"
   ]
  },
  {
   "cell_type": "code",
   "execution_count": 23,
   "metadata": {
    "id": "e9cJZpVYEogF"
   },
   "outputs": [],
   "source": [
    "epochs = 100"
   ]
  },
  {
   "cell_type": "code",
   "execution_count": 24,
   "metadata": {
    "id": "Dl2jo8TxlTuz"
   },
   "outputs": [],
   "source": [
    "e_loss = []\n",
    "e_acc = []\n",
    "timelist = []"
   ]
  },
  {
   "cell_type": "code",
   "execution_count": 25,
   "metadata": {
    "colab": {
     "base_uri": "https://localhost:8080/"
    },
    "id": "IVXaLEmiEfdP",
    "outputId": "ae0475a0-6c53-4a08-c981-300c8875e968"
   },
   "outputs": [
    {
     "name": "stdout",
     "output_type": "stream",
     "text": [
      "Epoch 0 - Training loss: 0.740 - Accuracy: 46.166\n",
      "Epoch 1 - Training loss: 0.717 - Accuracy: 46.981\n",
      "Epoch 2 - Training loss: 0.708 - Accuracy: 47.859\n",
      "Epoch 3 - Training loss: 0.705 - Accuracy: 49.534\n",
      "Epoch 4 - Training loss: 0.703 - Accuracy: 49.552\n",
      "Epoch 5 - Training loss: 0.701 - Accuracy: 50.609\n",
      "Epoch 6 - Training loss: 0.700 - Accuracy: 51.227\n",
      "Epoch 7 - Training loss: 0.698 - Accuracy: 51.613\n",
      "Epoch 8 - Training loss: 0.697 - Accuracy: 51.263\n",
      "Epoch 9 - Training loss: 0.696 - Accuracy: 52.365\n",
      "Epoch 10 - Training loss: 0.696 - Accuracy: 52.535\n",
      "Epoch 11 - Training loss: 0.695 - Accuracy: 52.661\n",
      "Epoch 12 - Training loss: 0.695 - Accuracy: 53.306\n",
      "Epoch 13 - Training loss: 0.694 - Accuracy: 53.619\n",
      "Epoch 14 - Training loss: 0.693 - Accuracy: 53.449\n",
      "Epoch 15 - Training loss: 0.693 - Accuracy: 53.664\n",
      "Epoch 16 - Training loss: 0.694 - Accuracy: 54.076\n",
      "Epoch 17 - Training loss: 0.694 - Accuracy: 53.808\n",
      "Epoch 18 - Training loss: 0.692 - Accuracy: 53.852\n",
      "Epoch 19 - Training loss: 0.692 - Accuracy: 54.686\n",
      "Epoch 20 - Training loss: 0.690 - Accuracy: 54.802\n",
      "Epoch 21 - Training loss: 0.691 - Accuracy: 54.139\n",
      "Epoch 22 - Training loss: 0.689 - Accuracy: 54.883\n",
      "Epoch 23 - Training loss: 0.690 - Accuracy: 55.268\n",
      "Epoch 24 - Training loss: 0.691 - Accuracy: 54.936\n",
      "Epoch 25 - Training loss: 0.690 - Accuracy: 55.313\n",
      "Epoch 26 - Training loss: 0.690 - Accuracy: 55.268\n",
      "Epoch 27 - Training loss: 0.689 - Accuracy: 55.089\n",
      "Epoch 28 - Training loss: 0.690 - Accuracy: 55.707\n",
      "Epoch 29 - Training loss: 0.690 - Accuracy: 55.125\n",
      "Epoch 30 - Training loss: 0.689 - Accuracy: 55.250\n",
      "Epoch 31 - Training loss: 0.688 - Accuracy: 55.465\n",
      "Epoch 32 - Training loss: 0.688 - Accuracy: 55.716\n",
      "Epoch 33 - Training loss: 0.688 - Accuracy: 55.546\n",
      "Epoch 34 - Training loss: 0.687 - Accuracy: 55.250\n",
      "Epoch 35 - Training loss: 0.687 - Accuracy: 55.877\n",
      "Epoch 36 - Training loss: 0.687 - Accuracy: 55.635\n",
      "Epoch 37 - Training loss: 0.688 - Accuracy: 55.725\n",
      "Epoch 38 - Training loss: 0.687 - Accuracy: 55.635\n",
      "Epoch 39 - Training loss: 0.688 - Accuracy: 55.465\n",
      "Epoch 40 - Training loss: 0.687 - Accuracy: 55.716\n",
      "Epoch 41 - Training loss: 0.687 - Accuracy: 55.752\n",
      "Epoch 42 - Training loss: 0.687 - Accuracy: 55.859\n",
      "Epoch 43 - Training loss: 0.686 - Accuracy: 56.218\n",
      "Epoch 44 - Training loss: 0.687 - Accuracy: 55.599\n",
      "Epoch 45 - Training loss: 0.686 - Accuracy: 56.065\n",
      "Epoch 46 - Training loss: 0.687 - Accuracy: 55.707\n",
      "Epoch 47 - Training loss: 0.687 - Accuracy: 55.976\n",
      "Epoch 48 - Training loss: 0.688 - Accuracy: 55.626\n",
      "Epoch 49 - Training loss: 0.686 - Accuracy: 55.886\n",
      "Epoch 50 - Training loss: 0.687 - Accuracy: 56.092\n",
      "Epoch 51 - Training loss: 0.686 - Accuracy: 56.146\n",
      "Epoch 52 - Training loss: 0.687 - Accuracy: 55.725\n",
      "Epoch 53 - Training loss: 0.687 - Accuracy: 55.931\n",
      "Epoch 54 - Training loss: 0.686 - Accuracy: 55.850\n",
      "Epoch 55 - Training loss: 0.686 - Accuracy: 56.056\n",
      "Epoch 56 - Training loss: 0.687 - Accuracy: 56.038\n",
      "Epoch 57 - Training loss: 0.686 - Accuracy: 56.155\n",
      "Epoch 58 - Training loss: 0.686 - Accuracy: 55.779\n",
      "Epoch 59 - Training loss: 0.685 - Accuracy: 56.065\n",
      "Epoch 60 - Training loss: 0.685 - Accuracy: 56.020\n",
      "Epoch 61 - Training loss: 0.687 - Accuracy: 55.635\n",
      "Epoch 62 - Training loss: 0.686 - Accuracy: 55.922\n",
      "Epoch 63 - Training loss: 0.686 - Accuracy: 55.931\n",
      "Epoch 64 - Training loss: 0.686 - Accuracy: 55.823\n",
      "Epoch 65 - Training loss: 0.685 - Accuracy: 56.101\n",
      "Epoch 66 - Training loss: 0.686 - Accuracy: 55.949\n",
      "Epoch 67 - Training loss: 0.685 - Accuracy: 56.128\n",
      "Epoch 68 - Training loss: 0.686 - Accuracy: 55.653\n",
      "Epoch 69 - Training loss: 0.685 - Accuracy: 56.307\n",
      "Epoch 70 - Training loss: 0.685 - Accuracy: 56.298\n",
      "Epoch 71 - Training loss: 0.686 - Accuracy: 56.047\n",
      "Epoch 72 - Training loss: 0.686 - Accuracy: 55.985\n",
      "Epoch 73 - Training loss: 0.685 - Accuracy: 56.173\n",
      "Epoch 74 - Training loss: 0.685 - Accuracy: 56.325\n",
      "Epoch 75 - Training loss: 0.685 - Accuracy: 56.226\n",
      "Epoch 76 - Training loss: 0.686 - Accuracy: 56.119\n",
      "Epoch 77 - Training loss: 0.686 - Accuracy: 55.985\n",
      "Epoch 78 - Training loss: 0.685 - Accuracy: 56.218\n",
      "Epoch 79 - Training loss: 0.685 - Accuracy: 56.441\n",
      "Epoch 80 - Training loss: 0.685 - Accuracy: 55.796\n",
      "Epoch 81 - Training loss: 0.685 - Accuracy: 56.504\n",
      "Epoch 82 - Training loss: 0.686 - Accuracy: 55.832\n",
      "Epoch 83 - Training loss: 0.687 - Accuracy: 56.164\n",
      "Epoch 84 - Training loss: 0.686 - Accuracy: 55.913\n",
      "Epoch 85 - Training loss: 0.686 - Accuracy: 56.101\n",
      "Epoch 86 - Training loss: 0.684 - Accuracy: 56.253\n",
      "Epoch 87 - Training loss: 0.685 - Accuracy: 56.119\n",
      "Epoch 88 - Training loss: 0.685 - Accuracy: 56.173\n",
      "Epoch 89 - Training loss: 0.684 - Accuracy: 56.074\n",
      "Epoch 90 - Training loss: 0.685 - Accuracy: 56.209\n",
      "Epoch 91 - Training loss: 0.685 - Accuracy: 55.976\n",
      "Epoch 92 - Training loss: 0.683 - Accuracy: 56.173\n",
      "Epoch 93 - Training loss: 0.685 - Accuracy: 56.119\n",
      "Epoch 94 - Training loss: 0.685 - Accuracy: 56.289\n",
      "Epoch 95 - Training loss: 0.684 - Accuracy: 56.289\n",
      "Epoch 96 - Training loss: 0.685 - Accuracy: 55.859\n",
      "Epoch 97 - Training loss: 0.684 - Accuracy: 56.307\n",
      "Epoch 98 - Training loss: 0.685 - Accuracy: 56.244\n",
      "Epoch 99 - Training loss: 0.685 - Accuracy: 56.056\n"
     ]
    }
   ],
   "source": [
    "for i in range(epochs):\n",
    "    running_loss = 0\n",
    "    correct_preds = 0\n",
    "    total_preds = 0\n",
    "    epoch_loss = 0\n",
    "    epoch_acc = 0\n",
    "    start_time = time.time()\n",
    "\n",
    "    for (data, ids1), (labels, ids2) in train_dataloader:\n",
    "        # Train a model\n",
    "        data = data.send(models[0].location)\n",
    "        data = data.view(data.shape[0], -1)\n",
    "        labels = labels.send(models[-1].location)\n",
    "\n",
    "        # Call model\n",
    "        loss, preds = train(data.float(), labels, splitNN)\n",
    "        \n",
    "        # Convert predictions\n",
    "        preds_ = preds.get().squeeze(1)\n",
    "        labels_ = labels.get()\n",
    "        preds_match = ((torch.sigmoid(preds_) > 0.5) == labels_)\n",
    "        #print(non_exist)\n",
    "\n",
    "        # Collect statistics\n",
    "        running_loss += loss.get()\n",
    "        correct_preds = correct_preds + int(preds_match.sum())\n",
    "        total_preds = total_preds + int(preds_match.size()[0])\n",
    "\n",
    "    total_time = time.time() - start_time\n",
    "    timelist.append(total_time)\n",
    "    e_loss.append((running_loss/len(train_dataloader)).item()) # for plt\n",
    "    e_acc.append((100*correct_preds/total_preds)) # for plt\n",
    "\n",
    "    print(f\"Epoch {i} - Training loss: {running_loss/len(train_dataloader):.3f} - Accuracy: {100*correct_preds/total_preds:.3f}\")"
   ]
  },
  {
   "cell_type": "code",
   "execution_count": 26,
   "metadata": {
    "colab": {
     "base_uri": "https://localhost:8080/"
    },
    "id": "xlyJue1LGMX5",
    "outputId": "78aa2a71-b5b5-4f5a-ae11-bd9364951df2"
   },
   "outputs": [
    {
     "data": {
      "text/plain": [
       "tensor([ True, False,  True, False, False, False, False, False, False, False,\n",
       "         True,  True,  True, False,  True, False,  True, False, False, False,\n",
       "        False,  True, False,  True,  True,  True])"
      ]
     },
     "execution_count": 26,
     "metadata": {
      "tags": []
     },
     "output_type": "execute_result"
    }
   ],
   "source": [
    "preds_match"
   ]
  },
  {
   "cell_type": "code",
   "execution_count": 28,
   "metadata": {
    "colab": {
     "base_uri": "https://localhost:8080/",
     "height": 282
    },
    "id": "-PvcJWdnkaJO",
    "outputId": "1d3febc2-80e7-42bb-865d-cb9d3150834d"
   },
   "outputs": [
    {
     "data": {
      "text/plain": [
       "[<matplotlib.lines.Line2D at 0x7f5cba7c9290>]"
      ]
     },
     "execution_count": 28,
     "metadata": {
      "tags": []
     },
     "output_type": "execute_result"
    },
    {
     "data": {
      "image/png": "[encoded data removed]",
      "text/plain": [
       "<Figure size 432x288 with 1 Axes>"
      ]
     },
     "metadata": {
      "needs_background": "light",
      "tags": []
     },
     "output_type": "display_data"
    }
   ],
   "source": [
    "plt.plot(e_acc)"
   ]
  },
  {
   "cell_type": "code",
   "execution_count": 29,
   "metadata": {
    "colab": {
     "base_uri": "https://localhost:8080/",
     "height": 282
    },
    "id": "BOu6BPjZka5e",
    "outputId": "56b95613-f35d-4aaa-9b4a-9e6359296969"
   },
   "outputs": [
    {
     "data": {
      "text/plain": [
       "[<matplotlib.lines.Line2D at 0x7f5cb8490e10>]"
      ]
     },
     "execution_count": 29,
     "metadata": {
      "tags": []
     },
     "output_type": "execute_result"
    },
    {
     "data": {
      "image/png": "[encoded data removed]",
      "text/plain": [
       "<Figure size 432x288 with 1 Axes>"
      ]
     },
     "metadata": {
      "needs_background": "light",
      "tags": []
     },
     "output_type": "display_data"
    }
   ],
   "source": [
    "plt.plot(e_loss)"
   ]
  },
  {
   "cell_type": "code",
   "execution_count": 30,
   "metadata": {
    "colab": {
     "base_uri": "https://localhost:8080/",
     "height": 282
    },
    "id": "k-rNyIZPOynv",
    "outputId": "4dec8794-8364-412e-918c-299ec81cdd9c"
   },
   "outputs": [
    {
     "data": {
      "text/plain": [
       "[<matplotlib.lines.Line2D at 0x7f5cb8453210>]"
      ]
     },
     "execution_count": 30,
     "metadata": {
      "tags": []
     },
     "output_type": "execute_result"
    },
    {
     "data": {
      "image/png": "[encoded data removed]",
      "text/plain": [
       "<Figure size 432x288 with 1 Axes>"
      ]
     },
     "metadata": {
      "needs_background": "light",
      "tags": []
     },
     "output_type": "display_data"
    }
   ],
   "source": [
    "plt.plot(timelist)"
   ]
  },
  {
   "cell_type": "code",
   "execution_count": 31,
   "metadata": {
    "id": "3LuZWxTxzCJQ"
   },
   "outputs": [],
   "source": [
    "# define test to apply trained model\n",
    "def test(x, target, splitNN):\n",
    "       \n",
    "    #1) Make a prediction\n",
    "    pred = splitNN.forward(x)\n",
    "    \n",
    "    #2) Figure out how much we missed by\n",
    "    criterion = nn.BCEWithLogitsLoss()\n",
    "    loss = criterion(pred.reshape(-1), target.to(torch.float))\n",
    "        \n",
    "    return loss, pred"
   ]
  },
  {
   "cell_type": "code",
   "execution_count": 32,
   "metadata": {
    "colab": {
     "base_uri": "https://localhost:8080/"
    },
    "id": "mp2w24Xijd3g",
    "outputId": "24ab9970-c85f-4b5e-fcb3-5301a527319a"
   },
   "outputs": [
    {
     "name": "stdout",
     "output_type": "stream",
     "text": [
      " Testing loss: 0.693 - Accuracy: 56.137\n"
     ]
    }
   ],
   "source": [
    "y_pred_list = []\n",
    "y_target_list = []\n",
    "running_loss = 0\n",
    "correct_preds = 0\n",
    "total_preds = 0\n",
    "\n",
    "# lock the models\n",
    "models[0].eval()\n",
    "models[1].eval()\n",
    "\n",
    "# put testing data into the models\n",
    "\n",
    "with torch.no_grad():\n",
    "    for (data, ids1), (labels, ids2) in test_dataloader:\n",
    "        # Train a model\n",
    "        data = data.send(models[0].location)\n",
    "        data = data.view(data.shape[0], -1)\n",
    "        labels = labels.send(models[-1].location)\n",
    "\n",
    "        # Call model\n",
    "        loss, preds = test(data.float(), labels, splitNN)\n",
    "        \n",
    "        # Convert predictions\n",
    "        preds_ = preds.get().squeeze(1)\n",
    "        labels_ = labels.get()\n",
    "        preds_match = ((torch.sigmoid(preds_) > 0.5) == labels_)\n",
    "        y_pred_list.append(torch.sigmoid(preds_) > 0.5)\n",
    "        y_target_list.append(labels_)\n",
    "\n",
    "        # Collect statistics\n",
    "        running_loss += loss.get()\n",
    "        correct_preds = correct_preds + int(preds_match.sum())\n",
    "        total_preds = total_preds + int(preds_match.size()[0])\n",
    "\n",
    "\n",
    "    print(f\" Testing loss: {running_loss/len(test_dataloader):.3f} - Accuracy: {100*correct_preds/total_preds:.3f}\")"
   ]
  },
  {
   "cell_type": "code",
   "execution_count": null,
   "metadata": {
    "colab": {
     "base_uri": "https://localhost:8080/"
    },
    "id": "aQsmux_Rj9CL",
    "outputId": "08982831-da2e-424c-ae93-3b70e7ec47dd"
   },
   "outputs": [
    {
     "name": "stdout",
     "output_type": "stream",
     "text": [
      "[tensor([True]), tensor([True]), tensor([True]), tensor([True]), tensor([False]), tensor([True]), tensor([True]), tensor([True]), tensor([False]), tensor([False])]\n",
      "[tensor([0]), tensor([1]), tensor([0]), tensor([1]), tensor([0]), tensor([0]), tensor([1]), tensor([0]), tensor([0]), tensor([1])]\n"
     ]
    }
   ],
   "source": [
    "print(y_pred_list[0:10])\n",
    "print(y_target_list[0:10])"
   ]
  },
  {
   "cell_type": "code",
   "execution_count": 33,
   "metadata": {
    "colab": {
     "base_uri": "https://localhost:8080/"
    },
    "id": "16Uw1Zf9wMte",
    "outputId": "a4e4d813-b8c1-4d75-cfc6-d814c5b3ef52"
   },
   "outputs": [
    {
     "data": {
      "text/plain": [
       "array([[6232,   34],\n",
       "       [4862,   34]])"
      ]
     },
     "execution_count": 33,
     "metadata": {
      "tags": []
     },
     "output_type": "execute_result"
    }
   ],
   "source": [
    "confusion_matrix(y_target_list, y_pred_list)"
   ]
  },
  {
   "cell_type": "code",
   "execution_count": 34,
   "metadata": {
    "colab": {
     "base_uri": "https://localhost:8080/"
    },
    "id": "Knxthas7nWgB",
    "outputId": "011eef93-f80a-451e-b741-7153735833f0"
   },
   "outputs": [
    {
     "name": "stdout",
     "output_type": "stream",
     "text": [
      "              precision    recall  f1-score   support\n",
      "\n",
      "           0       0.56      0.99      0.72      6266\n",
      "           1       0.50      0.01      0.01      4896\n",
      "\n",
      "    accuracy                           0.56     11162\n",
      "   macro avg       0.53      0.50      0.37     11162\n",
      "weighted avg       0.53      0.56      0.41     11162\n",
      "\n"
     ]
    }
   ],
   "source": [
    "print(classification_report(y_target_list, y_pred_list))"
   ]
  },
  {
   "cell_type": "code",
   "execution_count": null,
   "metadata": {
    "id": "AAy-LuWEqrNA"
   },
   "outputs": [],
   "source": []
  }
 ],
 "metadata": {
  "accelerator": "GPU",
  "colab": {
   "collapsed_sections": [],
   "machine_shape": "hm",
   "name": "VFL-test-DatasetA-final.ipynb",
   "provenance": []
  },
  "kernelspec": {
   "display_name": "Python 3",
   "language": "python",
   "name": "python3"
  },
  "language_info": {
   "codemirror_mode": {
    "name": "ipython",
    "version": 3
   },
   "file_extension": ".py",
   "mimetype": "text/x-python",
   "name": "python",
   "nbconvert_exporter": "python",
   "pygments_lexer": "ipython3",
   "version": "3.7.4"
  }
 },
 "nbformat": 4,
 "nbformat_minor": 4
}
