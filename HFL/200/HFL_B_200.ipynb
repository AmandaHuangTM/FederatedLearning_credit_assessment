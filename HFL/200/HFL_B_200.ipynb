{
 "cells": [
  {
   "cell_type": "code",
   "execution_count": null,
   "metadata": {
    "colab": {
     "base_uri": "https://localhost:8080/"
    },
    "id": "WIyHsF8XZMUi",
    "outputId": "c302f42b-24a6-4435-cb2f-2e6ee6cddee4"
   },
   "outputs": [],
   "source": [
    "pip install syft==0.2.9"
   ]
  },
  {
   "cell_type": "code",
   "execution_count": null,
   "metadata": {
    "id": "G48xlrYj2kwE"
   },
   "outputs": [],
   "source": [
    "import numpy as np\n",
    "import pandas as pd\n",
    "import seaborn as sns\n",
    "import matplotlib.pyplot as plt\n",
    "import syft as sy\n",
    "import time\n",
    "\n",
    "import torch\n",
    "import torch.nn as nn\n",
    "import torch.optim as optim\n",
    "from torch.utils.data import Dataset, DataLoader\n",
    "\n",
    "from sklearn.preprocessing import StandardScaler    \n",
    "from sklearn.model_selection import train_test_split\n",
    "from sklearn.metrics import confusion_matrix, classification_report"
   ]
  },
  {
   "cell_type": "code",
   "execution_count": null,
   "metadata": {
    "id": "GXx33uAdaCVB"
   },
   "outputs": [],
   "source": [
    "# hook PyTorch to PySyft i.e. add extra functionalities to support Federated Learning\n",
    "# and other private AI tools\n",
    "hook = sy.TorchHook(torch)\n",
    " \n",
    "# we create two imaginary schools\n",
    "node1 = sy.VirtualWorker(hook, id=\"node1\")\n",
    "node2 = sy.VirtualWorker(hook, id=\"node2\")\n"
   ]
  },
  {
   "cell_type": "code",
   "execution_count": null,
   "metadata": {
    "colab": {
     "base_uri": "https://localhost:8080/",
     "height": 445
    },
    "id": "56nv66rL2v6m",
    "outputId": "b13bbc49-65b7-4221-bba4-2c23ff062fcc"
   },
   "outputs": [
    {
     "data": {
      "text/html": [
       "<div>\n",
       "<style scoped>\n",
       "    .dataframe tbody tr th:only-of-type {\n",
       "        vertical-align: middle;\n",
       "    }\n",
       "\n",
       "    .dataframe tbody tr th {\n",
       "        vertical-align: top;\n",
       "    }\n",
       "\n",
       "    .dataframe thead th {\n",
       "        text-align: right;\n",
       "    }\n",
       "</style>\n",
       "<table border=\"1\" class=\"dataframe\">\n",
       "  <thead>\n",
       "    <tr style=\"text-align: right;\">\n",
       "      <th></th>\n",
       "      <th>Applied Loan Amount</th>\n",
       "      <th>Applied Loan Tenor</th>\n",
       "      <th>Loan Purpose</th>\n",
       "      <th>Gender</th>\n",
       "      <th>Age</th>\n",
       "      <th>Marital Status</th>\n",
       "      <th>Education Level</th>\n",
       "      <th>Residential Status</th>\n",
       "      <th>Monthly Housing/Rental</th>\n",
       "      <th>Contract Staff (Y/N)</th>\n",
       "      <th>Employment Type</th>\n",
       "      <th>Nature of Business</th>\n",
       "      <th>Job Position</th>\n",
       "      <th>Monthly Income</th>\n",
       "      <th>Office (Area)_1</th>\n",
       "      <th>Office (Area)_2</th>\n",
       "      <th>Office (Area)_3</th>\n",
       "      <th>Office (Area)_6</th>\n",
       "      <th>Indicators</th>\n",
       "    </tr>\n",
       "  </thead>\n",
       "  <tbody>\n",
       "    <tr>\n",
       "      <th>0</th>\n",
       "      <td>60000</td>\n",
       "      <td>24</td>\n",
       "      <td>Car Purchase</td>\n",
       "      <td>M</td>\n",
       "      <td>22.301</td>\n",
       "      <td>Single</td>\n",
       "      <td>Secondary</td>\n",
       "      <td>Live With Relatives</td>\n",
       "      <td>0.0</td>\n",
       "      <td>N</td>\n",
       "      <td>Fixed Income Earner</td>\n",
       "      <td>Sales</td>\n",
       "      <td>Private</td>\n",
       "      <td>10245.0</td>\n",
       "      <td>0</td>\n",
       "      <td>1</td>\n",
       "      <td>0</td>\n",
       "      <td>0</td>\n",
       "      <td>0</td>\n",
       "    </tr>\n",
       "    <tr>\n",
       "      <th>1</th>\n",
       "      <td>100000</td>\n",
       "      <td>60</td>\n",
       "      <td>Settle Loan / Credit Card O/S</td>\n",
       "      <td>M</td>\n",
       "      <td>33.159</td>\n",
       "      <td>Single</td>\n",
       "      <td>Form 3 or below</td>\n",
       "      <td>Live With Relatives</td>\n",
       "      <td>0.0</td>\n",
       "      <td>N</td>\n",
       "      <td>Fixed Income Earner</td>\n",
       "      <td>Services</td>\n",
       "      <td>Private</td>\n",
       "      <td>10000.0</td>\n",
       "      <td>1</td>\n",
       "      <td>0</td>\n",
       "      <td>0</td>\n",
       "      <td>0</td>\n",
       "      <td>0</td>\n",
       "    </tr>\n",
       "    <tr>\n",
       "      <th>2</th>\n",
       "      <td>50000</td>\n",
       "      <td>24</td>\n",
       "      <td>Personal use</td>\n",
       "      <td>F</td>\n",
       "      <td>28.389</td>\n",
       "      <td>Married</td>\n",
       "      <td>University</td>\n",
       "      <td>Rental</td>\n",
       "      <td>2000.0</td>\n",
       "      <td>N</td>\n",
       "      <td>Fixed Income Earner</td>\n",
       "      <td>Services</td>\n",
       "      <td>Private</td>\n",
       "      <td>9700.0</td>\n",
       "      <td>0</td>\n",
       "      <td>0</td>\n",
       "      <td>1</td>\n",
       "      <td>0</td>\n",
       "      <td>0</td>\n",
       "    </tr>\n",
       "    <tr>\n",
       "      <th>3</th>\n",
       "      <td>70000</td>\n",
       "      <td>36</td>\n",
       "      <td>Personal use</td>\n",
       "      <td>M</td>\n",
       "      <td>35.573</td>\n",
       "      <td>Married</td>\n",
       "      <td>Post Graduate</td>\n",
       "      <td>Rental</td>\n",
       "      <td>1200.0</td>\n",
       "      <td>N</td>\n",
       "      <td>Civil Servant</td>\n",
       "      <td>Manager</td>\n",
       "      <td>Government/Semi-Government</td>\n",
       "      <td>23000.0</td>\n",
       "      <td>0</td>\n",
       "      <td>1</td>\n",
       "      <td>0</td>\n",
       "      <td>0</td>\n",
       "      <td>0</td>\n",
       "    </tr>\n",
       "    <tr>\n",
       "      <th>4</th>\n",
       "      <td>300000</td>\n",
       "      <td>60</td>\n",
       "      <td>Settle Loan / Credit Card O/S</td>\n",
       "      <td>F</td>\n",
       "      <td>30.849</td>\n",
       "      <td>Single</td>\n",
       "      <td>University</td>\n",
       "      <td>Mortgaged Private Housing</td>\n",
       "      <td>11000.0</td>\n",
       "      <td>N</td>\n",
       "      <td>Fixed Income Earner</td>\n",
       "      <td>Manager</td>\n",
       "      <td>Private</td>\n",
       "      <td>34000.0</td>\n",
       "      <td>1</td>\n",
       "      <td>0</td>\n",
       "      <td>0</td>\n",
       "      <td>0</td>\n",
       "      <td>0</td>\n",
       "    </tr>\n",
       "  </tbody>\n",
       "</table>\n",
       "</div>"
      ],
      "text/plain": [
       "   Applied Loan Amount  Applied Loan Tenor  ... Office (Area)_6 Indicators\n",
       "0                60000                  24  ...               0          0\n",
       "1               100000                  60  ...               0          0\n",
       "2                50000                  24  ...               0          0\n",
       "3                70000                  36  ...               0          0\n",
       "4               300000                  60  ...               0          0\n",
       "\n",
       "[5 rows x 19 columns]"
      ]
     },
     "execution_count": 4,
     "metadata": {
      "tags": []
     },
     "output_type": "execute_result"
    }
   ],
   "source": [
    "df = pd.read_csv(\"data456.csv\")\n",
    "df.head()"
   ]
  },
  {
   "cell_type": "code",
   "execution_count": null,
   "metadata": {
    "colab": {
     "base_uri": "https://localhost:8080/",
     "height": 321
    },
    "id": "avX72D0AI3nc",
    "outputId": "b7745293-d93a-4a9c-de66-3e2f938ccb4a"
   },
   "outputs": [
    {
     "data": {
      "text/html": [
       "<div>\n",
       "<style scoped>\n",
       "    .dataframe tbody tr th:only-of-type {\n",
       "        vertical-align: middle;\n",
       "    }\n",
       "\n",
       "    .dataframe tbody tr th {\n",
       "        vertical-align: top;\n",
       "    }\n",
       "\n",
       "    .dataframe thead th {\n",
       "        text-align: right;\n",
       "    }\n",
       "</style>\n",
       "<table border=\"1\" class=\"dataframe\">\n",
       "  <thead>\n",
       "    <tr style=\"text-align: right;\">\n",
       "      <th></th>\n",
       "      <th>Applied Loan Amount</th>\n",
       "      <th>Applied Loan Tenor</th>\n",
       "      <th>Age</th>\n",
       "      <th>Monthly Housing/Rental</th>\n",
       "      <th>Monthly Income</th>\n",
       "      <th>Office (Area)_1</th>\n",
       "      <th>Office (Area)_2</th>\n",
       "      <th>Office (Area)_3</th>\n",
       "      <th>Office (Area)_6</th>\n",
       "      <th>Loan Purpose_Birth Giving</th>\n",
       "      <th>Loan Purpose_Business</th>\n",
       "      <th>Loan Purpose_Car Purchase</th>\n",
       "      <th>Loan Purpose_Decoration</th>\n",
       "      <th>Loan Purpose_Education</th>\n",
       "      <th>Loan Purpose_Funeral Expenses</th>\n",
       "      <th>Loan Purpose_Investment</th>\n",
       "      <th>Loan Purpose_Marriage</th>\n",
       "      <th>Loan Purpose_Medical Expenses</th>\n",
       "      <th>Loan Purpose_Personal use</th>\n",
       "      <th>Loan Purpose_Settle Loan / Credit Card O/S</th>\n",
       "      <th>Loan Purpose_Stand by</th>\n",
       "      <th>Loan Purpose_Tax Payment</th>\n",
       "      <th>Loan Purpose_Traveling</th>\n",
       "      <th>Gender_F</th>\n",
       "      <th>Gender_M</th>\n",
       "      <th>Marital Status_Divorced</th>\n",
       "      <th>Marital Status_Married</th>\n",
       "      <th>Marital Status_No Response</th>\n",
       "      <th>Marital Status_Separated</th>\n",
       "      <th>Marital Status_Single</th>\n",
       "      <th>Marital Status_Widowed</th>\n",
       "      <th>Education Level_Form 3 or below</th>\n",
       "      <th>Education Level_No Response</th>\n",
       "      <th>Education Level_Post Graduate</th>\n",
       "      <th>Education Level_Post Secondary</th>\n",
       "      <th>Education Level_Primary</th>\n",
       "      <th>Education Level_Secondary</th>\n",
       "      <th>Education Level_University</th>\n",
       "      <th>Residential Status_Company Provision</th>\n",
       "      <th>Residential Status_Live With Relatives</th>\n",
       "      <th>...</th>\n",
       "      <th>Residential Status_Self-owned Private Housing</th>\n",
       "      <th>Residential Status_Self-owned Public Housing</th>\n",
       "      <th>Contract Staff (Y/N)_N</th>\n",
       "      <th>Contract Staff (Y/N)_Y</th>\n",
       "      <th>Employment Type_Civil Servant</th>\n",
       "      <th>Employment Type_Fixed Income Earner</th>\n",
       "      <th>Employment Type_Non Fixed Income Earner</th>\n",
       "      <th>Employment Type_Not Applicable</th>\n",
       "      <th>Employment Type_Self-Employed</th>\n",
       "      <th>Employment Type_Self-Employed Professional</th>\n",
       "      <th>Nature of Business_All Other</th>\n",
       "      <th>Nature of Business_Construction Trades</th>\n",
       "      <th>Nature of Business_Driver</th>\n",
       "      <th>Nature of Business_Executive</th>\n",
       "      <th>Nature of Business_Factory Worker</th>\n",
       "      <th>Nature of Business_Guard</th>\n",
       "      <th>Nature of Business_Homemaker</th>\n",
       "      <th>Nature of Business_Manager</th>\n",
       "      <th>Nature of Business_No Response</th>\n",
       "      <th>Nature of Business_Office Worker</th>\n",
       "      <th>Nature of Business_Owner of a Business</th>\n",
       "      <th>Nature of Business_Professional</th>\n",
       "      <th>Nature of Business_Retired</th>\n",
       "      <th>Nature of Business_Sales</th>\n",
       "      <th>Nature of Business_Semi Professional</th>\n",
       "      <th>Nature of Business_Services</th>\n",
       "      <th>Nature of Business_Skilled Worker</th>\n",
       "      <th>Nature of Business_Student</th>\n",
       "      <th>Nature of Business_Unemployed</th>\n",
       "      <th>Nature of Business_Unskilled Worker</th>\n",
       "      <th>Job Position_Government/Semi-Government</th>\n",
       "      <th>Job Position_Homemaker</th>\n",
       "      <th>Job Position_No Response</th>\n",
       "      <th>Job Position_Private</th>\n",
       "      <th>Job Position_Public</th>\n",
       "      <th>Job Position_Retired</th>\n",
       "      <th>Job Position_Self Employed</th>\n",
       "      <th>Job Position_Student</th>\n",
       "      <th>Job Position_Unemployed</th>\n",
       "      <th>Indicators</th>\n",
       "    </tr>\n",
       "  </thead>\n",
       "  <tbody>\n",
       "    <tr>\n",
       "      <th>0</th>\n",
       "      <td>60000</td>\n",
       "      <td>24</td>\n",
       "      <td>22.301</td>\n",
       "      <td>0.0</td>\n",
       "      <td>10245.0</td>\n",
       "      <td>0</td>\n",
       "      <td>1</td>\n",
       "      <td>0</td>\n",
       "      <td>0</td>\n",
       "      <td>0</td>\n",
       "      <td>0</td>\n",
       "      <td>1</td>\n",
       "      <td>0</td>\n",
       "      <td>0</td>\n",
       "      <td>0</td>\n",
       "      <td>0</td>\n",
       "      <td>0</td>\n",
       "      <td>0</td>\n",
       "      <td>0</td>\n",
       "      <td>0</td>\n",
       "      <td>0</td>\n",
       "      <td>0</td>\n",
       "      <td>0</td>\n",
       "      <td>0</td>\n",
       "      <td>1</td>\n",
       "      <td>0</td>\n",
       "      <td>0</td>\n",
       "      <td>0</td>\n",
       "      <td>0</td>\n",
       "      <td>1</td>\n",
       "      <td>0</td>\n",
       "      <td>0</td>\n",
       "      <td>0</td>\n",
       "      <td>0</td>\n",
       "      <td>0</td>\n",
       "      <td>0</td>\n",
       "      <td>1</td>\n",
       "      <td>0</td>\n",
       "      <td>0</td>\n",
       "      <td>1</td>\n",
       "      <td>...</td>\n",
       "      <td>0</td>\n",
       "      <td>0</td>\n",
       "      <td>1</td>\n",
       "      <td>0</td>\n",
       "      <td>0</td>\n",
       "      <td>1</td>\n",
       "      <td>0</td>\n",
       "      <td>0</td>\n",
       "      <td>0</td>\n",
       "      <td>0</td>\n",
       "      <td>0</td>\n",
       "      <td>0</td>\n",
       "      <td>0</td>\n",
       "      <td>0</td>\n",
       "      <td>0</td>\n",
       "      <td>0</td>\n",
       "      <td>0</td>\n",
       "      <td>0</td>\n",
       "      <td>0</td>\n",
       "      <td>0</td>\n",
       "      <td>0</td>\n",
       "      <td>0</td>\n",
       "      <td>0</td>\n",
       "      <td>1</td>\n",
       "      <td>0</td>\n",
       "      <td>0</td>\n",
       "      <td>0</td>\n",
       "      <td>0</td>\n",
       "      <td>0</td>\n",
       "      <td>0</td>\n",
       "      <td>0</td>\n",
       "      <td>0</td>\n",
       "      <td>0</td>\n",
       "      <td>1</td>\n",
       "      <td>0</td>\n",
       "      <td>0</td>\n",
       "      <td>0</td>\n",
       "      <td>0</td>\n",
       "      <td>0</td>\n",
       "      <td>0</td>\n",
       "    </tr>\n",
       "    <tr>\n",
       "      <th>1</th>\n",
       "      <td>100000</td>\n",
       "      <td>60</td>\n",
       "      <td>33.159</td>\n",
       "      <td>0.0</td>\n",
       "      <td>10000.0</td>\n",
       "      <td>1</td>\n",
       "      <td>0</td>\n",
       "      <td>0</td>\n",
       "      <td>0</td>\n",
       "      <td>0</td>\n",
       "      <td>0</td>\n",
       "      <td>0</td>\n",
       "      <td>0</td>\n",
       "      <td>0</td>\n",
       "      <td>0</td>\n",
       "      <td>0</td>\n",
       "      <td>0</td>\n",
       "      <td>0</td>\n",
       "      <td>0</td>\n",
       "      <td>1</td>\n",
       "      <td>0</td>\n",
       "      <td>0</td>\n",
       "      <td>0</td>\n",
       "      <td>0</td>\n",
       "      <td>1</td>\n",
       "      <td>0</td>\n",
       "      <td>0</td>\n",
       "      <td>0</td>\n",
       "      <td>0</td>\n",
       "      <td>1</td>\n",
       "      <td>0</td>\n",
       "      <td>1</td>\n",
       "      <td>0</td>\n",
       "      <td>0</td>\n",
       "      <td>0</td>\n",
       "      <td>0</td>\n",
       "      <td>0</td>\n",
       "      <td>0</td>\n",
       "      <td>0</td>\n",
       "      <td>1</td>\n",
       "      <td>...</td>\n",
       "      <td>0</td>\n",
       "      <td>0</td>\n",
       "      <td>1</td>\n",
       "      <td>0</td>\n",
       "      <td>0</td>\n",
       "      <td>1</td>\n",
       "      <td>0</td>\n",
       "      <td>0</td>\n",
       "      <td>0</td>\n",
       "      <td>0</td>\n",
       "      <td>0</td>\n",
       "      <td>0</td>\n",
       "      <td>0</td>\n",
       "      <td>0</td>\n",
       "      <td>0</td>\n",
       "      <td>0</td>\n",
       "      <td>0</td>\n",
       "      <td>0</td>\n",
       "      <td>0</td>\n",
       "      <td>0</td>\n",
       "      <td>0</td>\n",
       "      <td>0</td>\n",
       "      <td>0</td>\n",
       "      <td>0</td>\n",
       "      <td>0</td>\n",
       "      <td>1</td>\n",
       "      <td>0</td>\n",
       "      <td>0</td>\n",
       "      <td>0</td>\n",
       "      <td>0</td>\n",
       "      <td>0</td>\n",
       "      <td>0</td>\n",
       "      <td>0</td>\n",
       "      <td>1</td>\n",
       "      <td>0</td>\n",
       "      <td>0</td>\n",
       "      <td>0</td>\n",
       "      <td>0</td>\n",
       "      <td>0</td>\n",
       "      <td>0</td>\n",
       "    </tr>\n",
       "    <tr>\n",
       "      <th>2</th>\n",
       "      <td>50000</td>\n",
       "      <td>24</td>\n",
       "      <td>28.389</td>\n",
       "      <td>2000.0</td>\n",
       "      <td>9700.0</td>\n",
       "      <td>0</td>\n",
       "      <td>0</td>\n",
       "      <td>1</td>\n",
       "      <td>0</td>\n",
       "      <td>0</td>\n",
       "      <td>0</td>\n",
       "      <td>0</td>\n",
       "      <td>0</td>\n",
       "      <td>0</td>\n",
       "      <td>0</td>\n",
       "      <td>0</td>\n",
       "      <td>0</td>\n",
       "      <td>0</td>\n",
       "      <td>1</td>\n",
       "      <td>0</td>\n",
       "      <td>0</td>\n",
       "      <td>0</td>\n",
       "      <td>0</td>\n",
       "      <td>1</td>\n",
       "      <td>0</td>\n",
       "      <td>0</td>\n",
       "      <td>1</td>\n",
       "      <td>0</td>\n",
       "      <td>0</td>\n",
       "      <td>0</td>\n",
       "      <td>0</td>\n",
       "      <td>0</td>\n",
       "      <td>0</td>\n",
       "      <td>0</td>\n",
       "      <td>0</td>\n",
       "      <td>0</td>\n",
       "      <td>0</td>\n",
       "      <td>1</td>\n",
       "      <td>0</td>\n",
       "      <td>0</td>\n",
       "      <td>...</td>\n",
       "      <td>0</td>\n",
       "      <td>0</td>\n",
       "      <td>1</td>\n",
       "      <td>0</td>\n",
       "      <td>0</td>\n",
       "      <td>1</td>\n",
       "      <td>0</td>\n",
       "      <td>0</td>\n",
       "      <td>0</td>\n",
       "      <td>0</td>\n",
       "      <td>0</td>\n",
       "      <td>0</td>\n",
       "      <td>0</td>\n",
       "      <td>0</td>\n",
       "      <td>0</td>\n",
       "      <td>0</td>\n",
       "      <td>0</td>\n",
       "      <td>0</td>\n",
       "      <td>0</td>\n",
       "      <td>0</td>\n",
       "      <td>0</td>\n",
       "      <td>0</td>\n",
       "      <td>0</td>\n",
       "      <td>0</td>\n",
       "      <td>0</td>\n",
       "      <td>1</td>\n",
       "      <td>0</td>\n",
       "      <td>0</td>\n",
       "      <td>0</td>\n",
       "      <td>0</td>\n",
       "      <td>0</td>\n",
       "      <td>0</td>\n",
       "      <td>0</td>\n",
       "      <td>1</td>\n",
       "      <td>0</td>\n",
       "      <td>0</td>\n",
       "      <td>0</td>\n",
       "      <td>0</td>\n",
       "      <td>0</td>\n",
       "      <td>0</td>\n",
       "    </tr>\n",
       "    <tr>\n",
       "      <th>3</th>\n",
       "      <td>70000</td>\n",
       "      <td>36</td>\n",
       "      <td>35.573</td>\n",
       "      <td>1200.0</td>\n",
       "      <td>23000.0</td>\n",
       "      <td>0</td>\n",
       "      <td>1</td>\n",
       "      <td>0</td>\n",
       "      <td>0</td>\n",
       "      <td>0</td>\n",
       "      <td>0</td>\n",
       "      <td>0</td>\n",
       "      <td>0</td>\n",
       "      <td>0</td>\n",
       "      <td>0</td>\n",
       "      <td>0</td>\n",
       "      <td>0</td>\n",
       "      <td>0</td>\n",
       "      <td>1</td>\n",
       "      <td>0</td>\n",
       "      <td>0</td>\n",
       "      <td>0</td>\n",
       "      <td>0</td>\n",
       "      <td>0</td>\n",
       "      <td>1</td>\n",
       "      <td>0</td>\n",
       "      <td>1</td>\n",
       "      <td>0</td>\n",
       "      <td>0</td>\n",
       "      <td>0</td>\n",
       "      <td>0</td>\n",
       "      <td>0</td>\n",
       "      <td>0</td>\n",
       "      <td>1</td>\n",
       "      <td>0</td>\n",
       "      <td>0</td>\n",
       "      <td>0</td>\n",
       "      <td>0</td>\n",
       "      <td>0</td>\n",
       "      <td>0</td>\n",
       "      <td>...</td>\n",
       "      <td>0</td>\n",
       "      <td>0</td>\n",
       "      <td>1</td>\n",
       "      <td>0</td>\n",
       "      <td>1</td>\n",
       "      <td>0</td>\n",
       "      <td>0</td>\n",
       "      <td>0</td>\n",
       "      <td>0</td>\n",
       "      <td>0</td>\n",
       "      <td>0</td>\n",
       "      <td>0</td>\n",
       "      <td>0</td>\n",
       "      <td>0</td>\n",
       "      <td>0</td>\n",
       "      <td>0</td>\n",
       "      <td>0</td>\n",
       "      <td>1</td>\n",
       "      <td>0</td>\n",
       "      <td>0</td>\n",
       "      <td>0</td>\n",
       "      <td>0</td>\n",
       "      <td>0</td>\n",
       "      <td>0</td>\n",
       "      <td>0</td>\n",
       "      <td>0</td>\n",
       "      <td>0</td>\n",
       "      <td>0</td>\n",
       "      <td>0</td>\n",
       "      <td>0</td>\n",
       "      <td>1</td>\n",
       "      <td>0</td>\n",
       "      <td>0</td>\n",
       "      <td>0</td>\n",
       "      <td>0</td>\n",
       "      <td>0</td>\n",
       "      <td>0</td>\n",
       "      <td>0</td>\n",
       "      <td>0</td>\n",
       "      <td>0</td>\n",
       "    </tr>\n",
       "    <tr>\n",
       "      <th>4</th>\n",
       "      <td>300000</td>\n",
       "      <td>60</td>\n",
       "      <td>30.849</td>\n",
       "      <td>11000.0</td>\n",
       "      <td>34000.0</td>\n",
       "      <td>1</td>\n",
       "      <td>0</td>\n",
       "      <td>0</td>\n",
       "      <td>0</td>\n",
       "      <td>0</td>\n",
       "      <td>0</td>\n",
       "      <td>0</td>\n",
       "      <td>0</td>\n",
       "      <td>0</td>\n",
       "      <td>0</td>\n",
       "      <td>0</td>\n",
       "      <td>0</td>\n",
       "      <td>0</td>\n",
       "      <td>0</td>\n",
       "      <td>1</td>\n",
       "      <td>0</td>\n",
       "      <td>0</td>\n",
       "      <td>0</td>\n",
       "      <td>1</td>\n",
       "      <td>0</td>\n",
       "      <td>0</td>\n",
       "      <td>0</td>\n",
       "      <td>0</td>\n",
       "      <td>0</td>\n",
       "      <td>1</td>\n",
       "      <td>0</td>\n",
       "      <td>0</td>\n",
       "      <td>0</td>\n",
       "      <td>0</td>\n",
       "      <td>0</td>\n",
       "      <td>0</td>\n",
       "      <td>0</td>\n",
       "      <td>1</td>\n",
       "      <td>0</td>\n",
       "      <td>0</td>\n",
       "      <td>...</td>\n",
       "      <td>0</td>\n",
       "      <td>0</td>\n",
       "      <td>1</td>\n",
       "      <td>0</td>\n",
       "      <td>0</td>\n",
       "      <td>1</td>\n",
       "      <td>0</td>\n",
       "      <td>0</td>\n",
       "      <td>0</td>\n",
       "      <td>0</td>\n",
       "      <td>0</td>\n",
       "      <td>0</td>\n",
       "      <td>0</td>\n",
       "      <td>0</td>\n",
       "      <td>0</td>\n",
       "      <td>0</td>\n",
       "      <td>0</td>\n",
       "      <td>1</td>\n",
       "      <td>0</td>\n",
       "      <td>0</td>\n",
       "      <td>0</td>\n",
       "      <td>0</td>\n",
       "      <td>0</td>\n",
       "      <td>0</td>\n",
       "      <td>0</td>\n",
       "      <td>0</td>\n",
       "      <td>0</td>\n",
       "      <td>0</td>\n",
       "      <td>0</td>\n",
       "      <td>0</td>\n",
       "      <td>0</td>\n",
       "      <td>0</td>\n",
       "      <td>0</td>\n",
       "      <td>1</td>\n",
       "      <td>0</td>\n",
       "      <td>0</td>\n",
       "      <td>0</td>\n",
       "      <td>0</td>\n",
       "      <td>0</td>\n",
       "      <td>0</td>\n",
       "    </tr>\n",
       "  </tbody>\n",
       "</table>\n",
       "<p>5 rows × 84 columns</p>\n",
       "</div>"
      ],
      "text/plain": [
       "   Applied Loan Amount  Applied Loan Tenor  ...  Job Position_Unemployed  Indicators\n",
       "0                60000                  24  ...                        0           0\n",
       "1               100000                  60  ...                        0           0\n",
       "2                50000                  24  ...                        0           0\n",
       "3                70000                  36  ...                        0           0\n",
       "4               300000                  60  ...                        0           0\n",
       "\n",
       "[5 rows x 84 columns]"
      ]
     },
     "execution_count": 5,
     "metadata": {
      "tags": []
     },
     "output_type": "execute_result"
    }
   ],
   "source": [
    "df = df.dropna()\n",
    "df = pd.get_dummies(df)\n",
    "cols = df.columns.tolist()\n",
    "cols.remove('Indicators')\n",
    "cols.append('Indicators')\n",
    "df = df[cols]\n",
    "df.head() "
   ]
  },
  {
   "cell_type": "code",
   "execution_count": null,
   "metadata": {
    "colab": {
     "base_uri": "https://localhost:8080/"
    },
    "id": "_mJCLwBvfzFn",
    "outputId": "ec4347bd-ef9e-4bd4-9d91-3dbeda4ae6d5"
   },
   "outputs": [
    {
     "data": {
      "text/plain": [
       "Applied Loan Amount             int64\n",
       "Applied Loan Tenor              int64\n",
       "Age                           float64\n",
       "Monthly Housing/Rental        float64\n",
       "Monthly Income                float64\n",
       "                               ...   \n",
       "Job Position_Retired            uint8\n",
       "Job Position_Self Employed      uint8\n",
       "Job Position_Student            uint8\n",
       "Job Position_Unemployed         uint8\n",
       "Indicators                      int64\n",
       "Length: 84, dtype: object"
      ]
     },
     "execution_count": 6,
     "metadata": {
      "tags": []
     },
     "output_type": "execute_result"
    }
   ],
   "source": [
    "# df = df.astype(np.float64)\n",
    "# df[\"Final_Status (Y/N)\"].astype(int)\n",
    "df.dtypes"
   ]
  },
  {
   "cell_type": "code",
   "execution_count": null,
   "metadata": {
    "id": "ZmD3OfVGZEp7"
   },
   "outputs": [],
   "source": [
    "# df['Class_att'] = df['Class_att'].astype('category')\n",
    "# encode_map = {\n",
    "#     'Abnormal': 1,\n",
    "#     'Normal': 0\n",
    "# }\n",
    "\n",
    "# df['Class_att'].replace(encode_map, inplace=True)"
   ]
  },
  {
   "cell_type": "code",
   "execution_count": null,
   "metadata": {
    "colab": {
     "base_uri": "https://localhost:8080/",
     "height": 296
    },
    "id": "ue8sL8oD25xm",
    "outputId": "a5025e74-523a-42e4-e3f0-10d8e9dddf96"
   },
   "outputs": [
    {
     "data": {
      "text/plain": [
       "<matplotlib.axes._subplots.AxesSubplot at 0x7f1773c8bba8>"
      ]
     },
     "execution_count": 8,
     "metadata": {
      "tags": []
     },
     "output_type": "execute_result"
    },
    {
     "data": {
      "image/png": "[encoded data removed]",
      "text/plain": [
       "<Figure size 432x288 with 1 Axes>"
      ]
     },
     "metadata": {
      "needs_background": "light",
      "tags": []
     },
     "output_type": "display_data"
    }
   ],
   "source": [
    "sns.countplot(x = 'Indicators', data=df)"
   ]
  },
  {
   "cell_type": "code",
   "execution_count": null,
   "metadata": {
    "id": "wh4AamM-3Az9"
   },
   "outputs": [],
   "source": [
    "X = df.iloc[:, 0:-1]\n",
    "y = df.iloc[:, -1]"
   ]
  },
  {
   "cell_type": "code",
   "execution_count": null,
   "metadata": {
    "colab": {
     "base_uri": "https://localhost:8080/"
    },
    "id": "8wCEr7DFaC_s",
    "outputId": "919b2e21-cdaf-42e3-9af0-ce05418a2fa3"
   },
   "outputs": [
    {
     "name": "stdout",
     "output_type": "stream",
     "text": [
      "(11661, 83) (11661,)\n"
     ]
    }
   ],
   "source": [
    "print(X.shape, y.shape)"
   ]
  },
  {
   "cell_type": "code",
   "execution_count": null,
   "metadata": {
    "colab": {
     "base_uri": "https://localhost:8080/"
    },
    "id": "G_P5vxxa3Jxt",
    "outputId": "1dcfc4d9-653d-4d3d-80c9-f4865aa59624"
   },
   "outputs": [
    {
     "data": {
      "text/plain": [
       "False"
      ]
     },
     "execution_count": 11,
     "metadata": {
      "tags": []
     },
     "output_type": "execute_result"
    }
   ],
   "source": [
    "np.any(np.isnan(y))"
   ]
  },
  {
   "cell_type": "code",
   "execution_count": null,
   "metadata": {
    "id": "eaRuRf-C3KXG"
   },
   "outputs": [],
   "source": [
    "X_train, X_test, y_train, y_test = train_test_split(X, y, test_size=0.33, random_state=42)"
   ]
  },
  {
   "cell_type": "code",
   "execution_count": null,
   "metadata": {
    "id": "1BPpSRS_3bpT"
   },
   "outputs": [],
   "source": [
    "scaler = StandardScaler()\n",
    "X_train = scaler.fit_transform(X_train)\n",
    "X_test = scaler.fit_transform(X_test)"
   ]
  },
  {
   "cell_type": "code",
   "execution_count": null,
   "metadata": {
    "colab": {
     "base_uri": "https://localhost:8080/"
    },
    "id": "j1ciBz7S3rt5",
    "outputId": "83884e72-5d9f-49c8-b986-c16b80f38928"
   },
   "outputs": [
    {
     "name": "stdout",
     "output_type": "stream",
     "text": [
      "(7812, 83) (3849, 83)\n"
     ]
    }
   ],
   "source": [
    "print(X_train.shape, X_test.shape)"
   ]
  },
  {
   "cell_type": "code",
   "execution_count": null,
   "metadata": {
    "id": "16o0pu823uP4"
   },
   "outputs": [],
   "source": [
    "EPOCHS = 200\n",
    "BATCH_SIZE = 64\n",
    "LEARNING_RATE = 0.001"
   ]
  },
  {
   "cell_type": "code",
   "execution_count": null,
   "metadata": {
    "id": "vVVMj8foGMga"
   },
   "outputs": [],
   "source": [
    "## train data\n",
    "class trainData(Dataset):\n",
    "    \n",
    "    def __init__(self, X_data, y_data):\n",
    "        self.X_data = X_data\n",
    "        self.y_data = y_data\n",
    "        \n",
    "    def __getitem__(self, index):\n",
    "        return self.X_data[index], self.y_data[index]\n",
    "        \n",
    "    def __len__ (self):\n",
    "        return len(self.X_data)\n",
    "\n",
    "\n",
    "train_data = trainData(torch.FloatTensor(X_train), \n",
    "                       torch.FloatTensor(torch.Tensor(y_train.values)))\n",
    "## test data    \n",
    "class testData(Dataset):\n",
    "    \n",
    "    def __init__(self, X_data):\n",
    "        self.X_data = X_data\n",
    "        \n",
    "    def __getitem__(self, index):\n",
    "        return self.X_data[index]\n",
    "        \n",
    "    def __len__ (self):\n",
    "        return len(self.X_data)\n",
    "    \n",
    "\n",
    "test_data = testData(torch.FloatTensor(X_test))"
   ]
  },
  {
   "cell_type": "code",
   "execution_count": null,
   "metadata": {
    "id": "7SPYrIRJHJuC"
   },
   "outputs": [],
   "source": [
    "train_loader = sy.FederatedDataLoader(train_data.federate((node1, node2)), batch_size=BATCH_SIZE, shuffle=True)\n",
    "test_loader = DataLoader(dataset=test_data, batch_size=1) # may need increase later"
   ]
  },
  {
   "cell_type": "code",
   "execution_count": null,
   "metadata": {
    "id": "Wuo5hNoFHOi6"
   },
   "outputs": [],
   "source": [
    "class binaryClassification(nn.Module):\n",
    "    def __init__(self):\n",
    "        super(binaryClassification, self).__init__()\n",
    "        # Number of input features is 12.\n",
    "        self.layer_1 = nn.Linear(83, 160)\n",
    "        self.layer_2 = nn.Linear(160, 40)\n",
    "        self.layer_out = nn.Linear(40, 1)\n",
    "        \n",
    "        self.relu = nn.ReLU()\n",
    "        self.dropout = nn.Dropout(p=0.1)\n",
    "        self.batchnorm1 = nn.BatchNorm1d(160)\n",
    "        self.batchnorm2 = nn.BatchNorm1d(40)\n",
    "        \n",
    "    def forward(self, inputs):\n",
    "        x = self.relu(self.layer_1(inputs))\n",
    "        x = self.batchnorm1(x)\n",
    "        x = self.relu(self.layer_2(x))\n",
    "        x = self.batchnorm2(x)\n",
    "        x = self.dropout(x)\n",
    "        x = self.layer_out(x)\n",
    "        \n",
    "        return x"
   ]
  },
  {
   "cell_type": "code",
   "execution_count": null,
   "metadata": {
    "colab": {
     "base_uri": "https://localhost:8080/"
    },
    "id": "DzVhwSTkHcoc",
    "outputId": "4c05d413-6cf8-46d9-caaf-1ab2a5d5af6e"
   },
   "outputs": [
    {
     "name": "stdout",
     "output_type": "stream",
     "text": [
      "cpu\n"
     ]
    }
   ],
   "source": [
    "# check to use GPU or not\n",
    "use_cuda = True and torch.cuda.is_available()\n",
    "device = torch.device(\"cuda\" if use_cuda else \"cpu\")\n",
    "print(device)\n",
    "###############"
   ]
  },
  {
   "cell_type": "code",
   "execution_count": null,
   "metadata": {
    "colab": {
     "base_uri": "https://localhost:8080/"
    },
    "id": "Ts-WGSyqHfGM",
    "outputId": "607c8c4d-2149-4fc0-8a76-6610c4733da3"
   },
   "outputs": [
    {
     "name": "stdout",
     "output_type": "stream",
     "text": [
      "binaryClassification(\n",
      "  (layer_1): Linear(in_features=83, out_features=160, bias=True)\n",
      "  (layer_2): Linear(in_features=160, out_features=40, bias=True)\n",
      "  (layer_out): Linear(in_features=40, out_features=1, bias=True)\n",
      "  (relu): ReLU()\n",
      "  (dropout): Dropout(p=0.1, inplace=False)\n",
      "  (batchnorm1): BatchNorm1d(160, eps=1e-05, momentum=0.1, affine=True, track_running_stats=True)\n",
      "  (batchnorm2): BatchNorm1d(40, eps=1e-05, momentum=0.1, affine=True, track_running_stats=True)\n",
      ")\n"
     ]
    }
   ],
   "source": [
    "model = binaryClassification()\n",
    "model.to(device)\n",
    "print(model)\n",
    "criterion = nn.BCEWithLogitsLoss()\n",
    "optimizer = optim.SGD(model.parameters(), lr=LEARNING_RATE)"
   ]
  },
  {
   "cell_type": "code",
   "execution_count": null,
   "metadata": {
    "id": "07Hyj1KzHhqR"
   },
   "outputs": [],
   "source": [
    "def binary_acc(y_pred, y_test):\n",
    "    y_pred_tag = torch.round(torch.sigmoid(y_pred))\n",
    "\n",
    "    correct_results_sum = (y_pred_tag == y_test).sum().float()\n",
    "    acc = correct_results_sum/y_test.shape[0]\n",
    "    acc = torch.round(acc * 100)\n",
    "    \n",
    "    return acc"
   ]
  },
  {
   "cell_type": "code",
   "execution_count": null,
   "metadata": {
    "colab": {
     "base_uri": "https://localhost:8080/"
    },
    "id": "UcvpKapcHmVM",
    "outputId": "9d8c8227-7057-4ead-9816-3bfb143ee3f2"
   },
   "outputs": [
    {
     "name": "stdout",
     "output_type": "stream",
     "text": [
      "Epoch 001: | Loss: 0.67294 | Acc: 59.919 | Time: 12.236\n",
      "Epoch 002: | Loss: 0.64323 | Acc: 65.000 | Time: 12.272\n",
      "Epoch 003: | Loss: 0.62821 | Acc: 67.407 | Time: 12.192\n",
      "Epoch 004: | Loss: 0.61314 | Acc: 68.789 | Time: 12.266\n",
      "Epoch 005: | Loss: 0.60710 | Acc: 69.138 | Time: 12.201\n",
      "Epoch 006: | Loss: 0.59306 | Acc: 70.984 | Time: 12.184\n",
      "Epoch 007: | Loss: 0.59548 | Acc: 70.715 | Time: 12.157\n",
      "Epoch 008: | Loss: 0.59458 | Acc: 70.837 | Time: 12.174\n",
      "Epoch 009: | Loss: 0.58649 | Acc: 70.114 | Time: 12.194\n",
      "Epoch 010: | Loss: 0.58482 | Acc: 71.667 | Time: 12.445\n",
      "Epoch 011: | Loss: 0.57926 | Acc: 72.358 | Time: 12.161\n",
      "Epoch 012: | Loss: 0.58295 | Acc: 72.154 | Time: 12.136\n",
      "Epoch 013: | Loss: 0.57557 | Acc: 72.415 | Time: 12.139\n",
      "Epoch 014: | Loss: 0.57174 | Acc: 72.301 | Time: 12.113\n",
      "Epoch 015: | Loss: 0.56093 | Acc: 73.455 | Time: 12.334\n",
      "Epoch 016: | Loss: 0.56218 | Acc: 73.447 | Time: 12.141\n",
      "Epoch 017: | Loss: 0.56536 | Acc: 72.423 | Time: 12.433\n",
      "Epoch 018: | Loss: 0.56499 | Acc: 72.667 | Time: 12.111\n",
      "Epoch 019: | Loss: 0.56166 | Acc: 72.902 | Time: 12.114\n",
      "Epoch 020: | Loss: 0.55314 | Acc: 73.894 | Time: 12.172\n",
      "Epoch 021: | Loss: 0.56359 | Acc: 72.569 | Time: 12.169\n",
      "Epoch 022: | Loss: 0.55576 | Acc: 73.683 | Time: 12.166\n",
      "Epoch 023: | Loss: 0.55516 | Acc: 73.447 | Time: 12.073\n",
      "Epoch 024: | Loss: 0.55800 | Acc: 72.894 | Time: 12.167\n",
      "Epoch 025: | Loss: 0.55223 | Acc: 73.154 | Time: 12.525\n",
      "Epoch 026: | Loss: 0.56381 | Acc: 72.642 | Time: 12.411\n",
      "Epoch 027: | Loss: 0.54615 | Acc: 74.455 | Time: 12.485\n",
      "Epoch 028: | Loss: 0.54559 | Acc: 74.163 | Time: 12.107\n",
      "Epoch 029: | Loss: 0.54851 | Acc: 73.854 | Time: 12.235\n",
      "Epoch 030: | Loss: 0.54987 | Acc: 73.537 | Time: 12.510\n",
      "Epoch 031: | Loss: 0.55018 | Acc: 74.390 | Time: 12.106\n",
      "Epoch 032: | Loss: 0.54377 | Acc: 74.577 | Time: 12.536\n",
      "Epoch 033: | Loss: 0.54867 | Acc: 73.846 | Time: 12.082\n",
      "Epoch 034: | Loss: 0.55516 | Acc: 73.626 | Time: 12.145\n",
      "Epoch 035: | Loss: 0.54904 | Acc: 73.171 | Time: 12.348\n",
      "Epoch 036: | Loss: 0.54660 | Acc: 73.715 | Time: 12.153\n",
      "Epoch 037: | Loss: 0.54338 | Acc: 74.366 | Time: 12.265\n",
      "Epoch 038: | Loss: 0.54712 | Acc: 73.593 | Time: 12.152\n",
      "Epoch 039: | Loss: 0.54404 | Acc: 74.398 | Time: 12.199\n",
      "Epoch 040: | Loss: 0.53888 | Acc: 74.959 | Time: 12.615\n",
      "Epoch 041: | Loss: 0.53948 | Acc: 74.675 | Time: 12.215\n",
      "Epoch 042: | Loss: 0.54251 | Acc: 74.293 | Time: 12.308\n",
      "Epoch 043: | Loss: 0.54150 | Acc: 74.089 | Time: 12.551\n",
      "Epoch 044: | Loss: 0.53655 | Acc: 74.187 | Time: 12.756\n",
      "Epoch 045: | Loss: 0.54638 | Acc: 74.309 | Time: 12.253\n",
      "Epoch 046: | Loss: 0.54154 | Acc: 74.057 | Time: 12.230\n",
      "Epoch 047: | Loss: 0.54268 | Acc: 74.122 | Time: 12.257\n",
      "Epoch 048: | Loss: 0.54233 | Acc: 73.902 | Time: 12.659\n",
      "Epoch 049: | Loss: 0.54152 | Acc: 74.797 | Time: 12.278\n",
      "Epoch 050: | Loss: 0.54161 | Acc: 74.683 | Time: 12.250\n",
      "Epoch 051: | Loss: 0.54009 | Acc: 74.317 | Time: 12.293\n",
      "Epoch 052: | Loss: 0.53246 | Acc: 75.472 | Time: 12.315\n",
      "Epoch 053: | Loss: 0.54001 | Acc: 75.098 | Time: 12.289\n",
      "Epoch 054: | Loss: 0.54656 | Acc: 74.455 | Time: 12.349\n",
      "Epoch 055: | Loss: 0.53524 | Acc: 74.894 | Time: 12.799\n",
      "Epoch 056: | Loss: 0.53713 | Acc: 74.894 | Time: 12.291\n",
      "Epoch 057: | Loss: 0.53698 | Acc: 74.894 | Time: 12.210\n",
      "Epoch 058: | Loss: 0.53094 | Acc: 75.187 | Time: 12.164\n",
      "Epoch 059: | Loss: 0.53697 | Acc: 74.341 | Time: 12.364\n",
      "Epoch 060: | Loss: 0.53382 | Acc: 74.301 | Time: 12.545\n",
      "Epoch 061: | Loss: 0.53718 | Acc: 74.618 | Time: 12.240\n",
      "Epoch 062: | Loss: 0.53278 | Acc: 74.976 | Time: 12.263\n",
      "Epoch 063: | Loss: 0.53143 | Acc: 75.358 | Time: 12.869\n",
      "Epoch 064: | Loss: 0.53112 | Acc: 74.919 | Time: 12.227\n",
      "Epoch 065: | Loss: 0.52676 | Acc: 75.553 | Time: 12.175\n",
      "Epoch 066: | Loss: 0.53449 | Acc: 74.691 | Time: 12.197\n",
      "Epoch 067: | Loss: 0.53171 | Acc: 75.114 | Time: 12.179\n",
      "Epoch 068: | Loss: 0.52858 | Acc: 75.057 | Time: 12.681\n",
      "Epoch 069: | Loss: 0.53212 | Acc: 74.984 | Time: 12.813\n",
      "Epoch 070: | Loss: 0.53110 | Acc: 75.220 | Time: 12.787\n",
      "Epoch 071: | Loss: 0.52941 | Acc: 75.407 | Time: 13.438\n",
      "Epoch 072: | Loss: 0.52779 | Acc: 74.341 | Time: 12.728\n",
      "Epoch 073: | Loss: 0.52589 | Acc: 75.512 | Time: 12.748\n",
      "Epoch 074: | Loss: 0.54651 | Acc: 74.285 | Time: 12.727\n",
      "Epoch 075: | Loss: 0.53147 | Acc: 75.138 | Time: 12.496\n",
      "Epoch 076: | Loss: 0.52535 | Acc: 75.341 | Time: 12.667\n",
      "Epoch 077: | Loss: 0.52800 | Acc: 75.065 | Time: 12.811\n",
      "Epoch 078: | Loss: 0.52657 | Acc: 75.764 | Time: 13.745\n",
      "Epoch 079: | Loss: 0.53411 | Acc: 75.211 | Time: 12.782\n",
      "Epoch 080: | Loss: 0.52051 | Acc: 75.463 | Time: 12.828\n",
      "Epoch 081: | Loss: 0.52662 | Acc: 75.667 | Time: 12.790\n",
      "Epoch 082: | Loss: 0.52630 | Acc: 75.130 | Time: 12.775\n",
      "Epoch 083: | Loss: 0.53439 | Acc: 74.813 | Time: 12.783\n",
      "Epoch 084: | Loss: 0.52791 | Acc: 75.187 | Time: 12.793\n",
      "Epoch 085: | Loss: 0.52728 | Acc: 74.520 | Time: 12.920\n",
      "Epoch 086: | Loss: 0.51980 | Acc: 75.902 | Time: 13.490\n",
      "Epoch 087: | Loss: 0.52267 | Acc: 75.390 | Time: 12.813\n",
      "Epoch 088: | Loss: 0.52467 | Acc: 75.585 | Time: 12.748\n",
      "Epoch 089: | Loss: 0.52452 | Acc: 75.553 | Time: 12.773\n",
      "Epoch 090: | Loss: 0.52646 | Acc: 75.504 | Time: 12.729\n",
      "Epoch 091: | Loss: 0.53565 | Acc: 74.610 | Time: 12.781\n",
      "Epoch 092: | Loss: 0.53682 | Acc: 74.748 | Time: 13.311\n",
      "Epoch 093: | Loss: 0.51800 | Acc: 76.407 | Time: 13.588\n",
      "Epoch 094: | Loss: 0.52852 | Acc: 74.585 | Time: 12.846\n",
      "Epoch 095: | Loss: 0.52783 | Acc: 75.163 | Time: 12.817\n",
      "Epoch 096: | Loss: 0.51601 | Acc: 76.073 | Time: 12.778\n",
      "Epoch 097: | Loss: 0.52163 | Acc: 75.894 | Time: 12.756\n",
      "Epoch 098: | Loss: 0.51981 | Acc: 75.480 | Time: 12.764\n",
      "Epoch 099: | Loss: 0.53413 | Acc: 75.000 | Time: 12.735\n",
      "Epoch 100: | Loss: 0.51992 | Acc: 75.602 | Time: 12.972\n",
      "Epoch 101: | Loss: 0.51923 | Acc: 75.902 | Time: 13.600\n",
      "Epoch 102: | Loss: 0.52174 | Acc: 75.561 | Time: 12.833\n",
      "Epoch 103: | Loss: 0.51968 | Acc: 76.033 | Time: 12.781\n",
      "Epoch 104: | Loss: 0.51945 | Acc: 75.374 | Time: 12.791\n",
      "Epoch 105: | Loss: 0.52155 | Acc: 75.919 | Time: 12.746\n",
      "Epoch 106: | Loss: 0.52928 | Acc: 74.967 | Time: 12.678\n",
      "Epoch 107: | Loss: 0.52228 | Acc: 75.650 | Time: 12.763\n",
      "Epoch 108: | Loss: 0.52829 | Acc: 75.618 | Time: 12.861\n",
      "Epoch 109: | Loss: 0.52763 | Acc: 74.870 | Time: 13.851\n",
      "Epoch 110: | Loss: 0.52876 | Acc: 74.618 | Time: 12.817\n",
      "Epoch 111: | Loss: 0.52278 | Acc: 76.407 | Time: 12.829\n",
      "Epoch 112: | Loss: 0.52066 | Acc: 76.024 | Time: 12.781\n",
      "Epoch 113: | Loss: 0.52324 | Acc: 75.943 | Time: 12.786\n",
      "Epoch 114: | Loss: 0.51699 | Acc: 76.252 | Time: 12.725\n",
      "Epoch 115: | Loss: 0.52521 | Acc: 75.935 | Time: 12.760\n",
      "Epoch 116: | Loss: 0.51339 | Acc: 76.724 | Time: 13.603\n",
      "Epoch 117: | Loss: 0.51854 | Acc: 75.870 | Time: 12.785\n",
      "Epoch 118: | Loss: 0.52249 | Acc: 75.976 | Time: 12.833\n",
      "Epoch 119: | Loss: 0.52489 | Acc: 75.537 | Time: 13.354\n",
      "Epoch 120: | Loss: 0.52232 | Acc: 75.203 | Time: 12.835\n",
      "Epoch 121: | Loss: 0.51196 | Acc: 76.179 | Time: 12.772\n",
      "Epoch 122: | Loss: 0.52055 | Acc: 75.626 | Time: 12.834\n",
      "Epoch 123: | Loss: 0.51421 | Acc: 76.407 | Time: 12.678\n",
      "Epoch 124: | Loss: 0.51503 | Acc: 76.138 | Time: 14.023\n",
      "Epoch 125: | Loss: 0.52484 | Acc: 76.228 | Time: 12.878\n",
      "Epoch 126: | Loss: 0.51804 | Acc: 75.772 | Time: 12.875\n",
      "Epoch 127: | Loss: 0.51597 | Acc: 76.390 | Time: 12.758\n",
      "Epoch 128: | Loss: 0.51306 | Acc: 76.268 | Time: 12.765\n",
      "Epoch 129: | Loss: 0.50992 | Acc: 76.455 | Time: 12.882\n",
      "Epoch 130: | Loss: 0.51432 | Acc: 76.520 | Time: 12.815\n",
      "Epoch 131: | Loss: 0.51711 | Acc: 75.789 | Time: 14.209\n",
      "Epoch 132: | Loss: 0.51424 | Acc: 76.211 | Time: 12.798\n",
      "Epoch 133: | Loss: 0.50893 | Acc: 76.650 | Time: 12.953\n",
      "Epoch 134: | Loss: 0.51103 | Acc: 76.780 | Time: 12.785\n",
      "Epoch 135: | Loss: 0.51619 | Acc: 76.285 | Time: 12.773\n",
      "Epoch 136: | Loss: 0.51527 | Acc: 76.089 | Time: 12.840\n",
      "Epoch 137: | Loss: 0.51772 | Acc: 75.748 | Time: 12.771\n",
      "Epoch 138: | Loss: 0.51135 | Acc: 76.301 | Time: 12.789\n",
      "Epoch 139: | Loss: 0.51667 | Acc: 75.967 | Time: 14.448\n",
      "Epoch 140: | Loss: 0.50954 | Acc: 76.366 | Time: 12.873\n",
      "Epoch 141: | Loss: 0.51040 | Acc: 76.415 | Time: 12.884\n",
      "Epoch 142: | Loss: 0.51269 | Acc: 76.146 | Time: 12.827\n",
      "Epoch 143: | Loss: 0.50721 | Acc: 76.496 | Time: 12.852\n",
      "Epoch 144: | Loss: 0.52115 | Acc: 75.154 | Time: 12.877\n",
      "Epoch 145: | Loss: 0.50382 | Acc: 77.130 | Time: 12.859\n",
      "Epoch 146: | Loss: 0.50999 | Acc: 76.358 | Time: 12.801\n",
      "Epoch 147: | Loss: 0.50114 | Acc: 77.130 | Time: 14.105\n",
      "Epoch 148: | Loss: 0.51593 | Acc: 75.659 | Time: 12.854\n",
      "Epoch 149: | Loss: 0.51275 | Acc: 75.984 | Time: 12.917\n",
      "Epoch 150: | Loss: 0.50383 | Acc: 76.659 | Time: 12.855\n",
      "Epoch 151: | Loss: 0.51483 | Acc: 76.358 | Time: 12.745\n",
      "Epoch 152: | Loss: 0.50944 | Acc: 76.390 | Time: 12.898\n",
      "Epoch 153: | Loss: 0.51470 | Acc: 75.772 | Time: 12.866\n",
      "Epoch 154: | Loss: 0.50217 | Acc: 77.024 | Time: 14.167\n",
      "Epoch 155: | Loss: 0.50305 | Acc: 76.976 | Time: 12.819\n",
      "Epoch 156: | Loss: 0.50354 | Acc: 77.171 | Time: 12.833\n",
      "Epoch 157: | Loss: 0.50782 | Acc: 76.472 | Time: 12.993\n",
      "Epoch 158: | Loss: 0.50691 | Acc: 75.894 | Time: 12.796\n",
      "Epoch 159: | Loss: 0.51189 | Acc: 75.642 | Time: 12.791\n",
      "Epoch 160: | Loss: 0.49769 | Acc: 77.211 | Time: 12.802\n",
      "Epoch 161: | Loss: 0.51192 | Acc: 76.000 | Time: 12.849\n",
      "Epoch 162: | Loss: 0.50504 | Acc: 76.911 | Time: 14.229\n",
      "Epoch 163: | Loss: 0.50376 | Acc: 76.927 | Time: 12.764\n",
      "Epoch 164: | Loss: 0.50705 | Acc: 76.610 | Time: 12.806\n",
      "Epoch 165: | Loss: 0.50498 | Acc: 76.894 | Time: 12.802\n",
      "Epoch 166: | Loss: 0.50347 | Acc: 77.301 | Time: 12.835\n",
      "Epoch 167: | Loss: 0.50965 | Acc: 76.707 | Time: 12.813\n",
      "Epoch 168: | Loss: 0.50102 | Acc: 76.902 | Time: 12.742\n",
      "Epoch 169: | Loss: 0.50317 | Acc: 77.033 | Time: 12.805\n",
      "Epoch 170: | Loss: 0.49942 | Acc: 77.081 | Time: 14.264\n",
      "Epoch 171: | Loss: 0.50960 | Acc: 76.553 | Time: 12.783\n",
      "Epoch 172: | Loss: 0.49985 | Acc: 76.813 | Time: 13.837\n",
      "Epoch 173: | Loss: 0.52166 | Acc: 76.187 | Time: 12.910\n",
      "Epoch 174: | Loss: 0.50735 | Acc: 77.073 | Time: 12.790\n",
      "Epoch 175: | Loss: 0.49676 | Acc: 77.203 | Time: 12.842\n",
      "Epoch 176: | Loss: 0.50569 | Acc: 76.959 | Time: 12.776\n",
      "Epoch 177: | Loss: 0.50016 | Acc: 77.016 | Time: 14.551\n",
      "Epoch 178: | Loss: 0.49723 | Acc: 77.585 | Time: 12.805\n",
      "Epoch 179: | Loss: 0.49844 | Acc: 76.724 | Time: 12.805\n",
      "Epoch 180: | Loss: 0.49969 | Acc: 77.301 | Time: 12.927\n",
      "Epoch 181: | Loss: 0.50758 | Acc: 76.244 | Time: 12.908\n",
      "Epoch 182: | Loss: 0.49669 | Acc: 77.829 | Time: 12.711\n",
      "Epoch 183: | Loss: 0.50785 | Acc: 76.846 | Time: 12.809\n",
      "Epoch 184: | Loss: 0.50346 | Acc: 77.049 | Time: 12.835\n",
      "Epoch 185: | Loss: 0.49687 | Acc: 77.707 | Time: 14.313\n",
      "Epoch 186: | Loss: 0.49864 | Acc: 76.805 | Time: 13.108\n",
      "Epoch 187: | Loss: 0.49497 | Acc: 77.057 | Time: 12.784\n",
      "Epoch 188: | Loss: 0.49903 | Acc: 77.333 | Time: 12.766\n",
      "Epoch 189: | Loss: 0.50991 | Acc: 77.163 | Time: 12.799\n",
      "Epoch 190: | Loss: 0.49768 | Acc: 77.187 | Time: 12.774\n",
      "Epoch 191: | Loss: 0.49559 | Acc: 77.748 | Time: 12.792\n",
      "Epoch 192: | Loss: 0.50624 | Acc: 76.902 | Time: 14.321\n",
      "Epoch 193: | Loss: 0.49843 | Acc: 77.293 | Time: 12.806\n",
      "Epoch 194: | Loss: 0.50367 | Acc: 76.724 | Time: 12.750\n",
      "Epoch 195: | Loss: 0.49012 | Acc: 77.602 | Time: 12.824\n",
      "Epoch 196: | Loss: 0.48897 | Acc: 77.699 | Time: 12.817\n",
      "Epoch 197: | Loss: 0.50389 | Acc: 77.081 | Time: 12.748\n",
      "Epoch 198: | Loss: 0.49006 | Acc: 77.382 | Time: 12.687\n",
      "Epoch 199: | Loss: 0.49617 | Acc: 76.959 | Time: 12.781\n",
      "Epoch 200: | Loss: 0.49787 | Acc: 77.260 | Time: 14.481\n"
     ]
    }
   ],
   "source": [
    "model.train()\n",
    "e_loss = []\n",
    "e_acc = []\n",
    "timelist = []\n",
    "for e in range(1, EPOCHS+1):\n",
    "    epoch_loss = 0\n",
    "    epoch_acc = 0\n",
    "    start_time = time.time()\n",
    "    for batch_idx, (X_batch, y_batch) in enumerate(train_loader):\n",
    "        model = model.send(X_batch.location)\n",
    "\n",
    "        X_batch, y_batch = X_batch.to(device), y_batch.to(device)\n",
    "        optimizer.zero_grad()\n",
    "        \n",
    "        y_pred = model(X_batch)\n",
    "        \n",
    "        loss = criterion(y_pred, y_batch.unsqueeze(1))\n",
    "        acc = binary_acc(y_pred, y_batch.unsqueeze(1))\n",
    "        \n",
    "        loss.backward()\n",
    "        optimizer.step()\n",
    "        \n",
    "        model.get()\n",
    "\n",
    "        epoch_loss += loss.get()\n",
    "        epoch_acc += acc.get()\n",
    "    total_time = time.time() - start_time\n",
    "    timelist.append(total_time)\n",
    "    e_loss.append((epoch_loss/len(train_loader)).item()) # for plt\n",
    "    e_acc.append((epoch_acc/len(train_loader)).item()) # for plt\n",
    "    print(f'Epoch {e+0:03}: | Loss: {epoch_loss/len(train_loader):.5f} | Acc: {epoch_acc/len(train_loader):.3f} | Time: {total_time:.3f}')"
   ]
  },
  {
   "cell_type": "code",
   "execution_count": null,
   "metadata": {
    "colab": {
     "base_uri": "https://localhost:8080/",
     "height": 282
    },
    "id": "ibriR2HTbhL7",
    "outputId": "e22c3b0d-318e-4ac8-c471-7b408408efca"
   },
   "outputs": [
    {
     "data": {
      "text/plain": [
       "[<matplotlib.lines.Line2D at 0x7f174f3bfa58>]"
      ]
     },
     "execution_count": 23,
     "metadata": {
      "tags": []
     },
     "output_type": "execute_result"
    },
    {
     "data": {
      "image/png": "[encoded data removed]",
      "text/plain": [
       "<Figure size 432x288 with 1 Axes>"
      ]
     },
     "metadata": {
      "needs_background": "light",
      "tags": []
     },
     "output_type": "display_data"
    }
   ],
   "source": [
    "plt.plot(e_loss)"
   ]
  },
  {
   "cell_type": "code",
   "execution_count": null,
   "metadata": {
    "colab": {
     "base_uri": "https://localhost:8080/",
     "height": 282
    },
    "id": "5Xwb9IE6N0Sp",
    "outputId": "a6091769-0b9f-46a1-83c3-6c1bc94f7fee"
   },
   "outputs": [
    {
     "data": {
      "text/plain": [
       "[<matplotlib.lines.Line2D at 0x7f174dd378d0>]"
      ]
     },
     "execution_count": 24,
     "metadata": {
      "tags": []
     },
     "output_type": "execute_result"
    },
    {
     "data": {
      "image/png": "[encoded data removed]",
      "text/plain": [
       "<Figure size 432x288 with 1 Axes>"
      ]
     },
     "metadata": {
      "needs_background": "light",
      "tags": []
     },
     "output_type": "display_data"
    }
   ],
   "source": [
    "plt.plot(e_acc)"
   ]
  },
  {
   "cell_type": "code",
   "execution_count": null,
   "metadata": {
    "colab": {
     "base_uri": "https://localhost:8080/",
     "height": 282
    },
    "id": "0MffW491bh22",
    "outputId": "3d5de84a-30db-427f-ffc3-97cbb4e0f6f8"
   },
   "outputs": [
    {
     "data": {
      "text/plain": [
       "[<matplotlib.lines.Line2D at 0x7f174dc9cfd0>]"
      ]
     },
     "execution_count": 25,
     "metadata": {
      "tags": []
     },
     "output_type": "execute_result"
    },
    {
     "data": {
      "image/png": "[encoded data removed]",
      "text/plain": [
       "<Figure size 432x288 with 1 Axes>"
      ]
     },
     "metadata": {
      "needs_background": "light",
      "tags": []
     },
     "output_type": "display_data"
    }
   ],
   "source": [
    "plt.plot(timelist)"
   ]
  },
  {
   "cell_type": "code",
   "execution_count": null,
   "metadata": {
    "colab": {
     "base_uri": "https://localhost:8080/"
    },
    "id": "lwEZG62J792e",
    "outputId": "e95511ac-0167-430f-92f0-1285480cbd14"
   },
   "outputs": [
    {
     "data": {
      "text/plain": [
       "12.750901913642883"
      ]
     },
     "execution_count": 26,
     "metadata": {
      "tags": []
     },
     "output_type": "execute_result"
    }
   ],
   "source": [
    "\n",
    "import statistics\n",
    "statistics.mean(timelist)"
   ]
  },
  {
   "cell_type": "code",
   "execution_count": null,
   "metadata": {
    "id": "XkmU5dGGHoy_"
   },
   "outputs": [],
   "source": [
    "y_pred_list = []\n",
    "model.eval()\n",
    "with torch.no_grad():\n",
    "    for X_batch in test_loader:\n",
    "        X_batch = X_batch.to(device)\n",
    "        y_test_pred = model(X_batch)\n",
    "        y_test_pred = torch.sigmoid(y_test_pred)\n",
    "        y_pred_tag = torch.round(y_test_pred)\n",
    "        y_pred_list.append(y_pred_tag.cpu().numpy())\n",
    "\n",
    "y_pred_list = [a.squeeze().tolist() for a in y_pred_list]"
   ]
  },
  {
   "cell_type": "code",
   "execution_count": null,
   "metadata": {
    "colab": {
     "base_uri": "https://localhost:8080/"
    },
    "id": "L92l4ORgIIx_",
    "outputId": "cdb62add-d34f-4396-eef7-46221970b460"
   },
   "outputs": [
    {
     "data": {
      "text/plain": [
       "array([[1568,  519],\n",
       "       [ 496, 1266]])"
      ]
     },
     "execution_count": 28,
     "metadata": {
      "tags": []
     },
     "output_type": "execute_result"
    }
   ],
   "source": [
    "confusion_matrix(y_test, y_pred_list)"
   ]
  },
  {
   "cell_type": "code",
   "execution_count": null,
   "metadata": {
    "colab": {
     "base_uri": "https://localhost:8080/"
    },
    "id": "GXMIFgsfIJBz",
    "outputId": "8c918365-4081-4a3d-aceb-3460e431f324"
   },
   "outputs": [
    {
     "name": "stdout",
     "output_type": "stream",
     "text": [
      "              precision    recall  f1-score   support\n",
      "\n",
      "           0       0.76      0.75      0.76      2087\n",
      "           1       0.71      0.72      0.71      1762\n",
      "\n",
      "    accuracy                           0.74      3849\n",
      "   macro avg       0.73      0.73      0.73      3849\n",
      "weighted avg       0.74      0.74      0.74      3849\n",
      "\n"
     ]
    }
   ],
   "source": [
    "print(classification_report(y_test, y_pred_list))"
   ]
  },
  {
   "cell_type": "code",
   "execution_count": null,
   "metadata": {
    "id": "7UPXR7RxZX2i"
   },
   "outputs": [],
   "source": []
  }
 ],
 "metadata": {
  "colab": {
   "name": "FS B 500.ipynb",
   "provenance": []
  },
  "kernelspec": {
   "display_name": "Python 3",
   "language": "python",
   "name": "python3"
  },
  "language_info": {
   "codemirror_mode": {
    "name": "ipython",
    "version": 3
   },
   "file_extension": ".py",
   "mimetype": "text/x-python",
   "name": "python",
   "nbconvert_exporter": "python",
   "pygments_lexer": "ipython3",
   "version": "3.7.4"
  }
 },
 "nbformat": 4,
 "nbformat_minor": 4
}
