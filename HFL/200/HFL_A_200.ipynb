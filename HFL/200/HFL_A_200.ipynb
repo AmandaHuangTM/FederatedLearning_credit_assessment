{
 "cells": [
  {
   "cell_type": "code",
   "execution_count": null,
   "metadata": {
    "colab": {
     "base_uri": "https://localhost:8080/"
    },
    "id": "WIyHsF8XZMUi",
    "outputId": "b9ea13f9-316f-4003-a27a-5e4f7a04506d"
   },
   "outputs": [],
   "source": [
    "pip install syft==0.2.9"
   ]
  },
  {
   "cell_type": "code",
   "execution_count": null,
   "metadata": {
    "id": "G48xlrYj2kwE"
   },
   "outputs": [],
   "source": [
    "import numpy as np\n",
    "import pandas as pd\n",
    "import seaborn as sns\n",
    "import matplotlib.pyplot as plt\n",
    "import syft as sy\n",
    "import time\n",
    "\n",
    "import torch\n",
    "import torch.nn as nn\n",
    "import torch.optim as optim\n",
    "from torch.utils.data import Dataset, DataLoader\n",
    "\n",
    "from sklearn.preprocessing import StandardScaler    \n",
    "from sklearn.model_selection import train_test_split\n",
    "from sklearn.metrics import confusion_matrix, classification_report"
   ]
  },
  {
   "cell_type": "code",
   "execution_count": null,
   "metadata": {
    "id": "GXx33uAdaCVB"
   },
   "outputs": [],
   "source": [
    "# hook PyTorch to PySyft i.e. add extra functionalities to support Federated Learning\n",
    "# and other private AI tools\n",
    "hook = sy.TorchHook(torch)\n",
    " \n",
    "# we create two imaginary schools\n",
    "node1 = sy.VirtualWorker(hook, id=\"node1\")\n",
    "node2 = sy.VirtualWorker(hook, id=\"node2\")\n"
   ]
  },
  {
   "cell_type": "code",
   "execution_count": null,
   "metadata": {
    "colab": {
     "base_uri": "https://localhost:8080/",
     "height": 204
    },
    "id": "56nv66rL2v6m",
    "outputId": "57ee7bc1-d4cd-4058-9921-9a6dcb0140bb"
   },
   "outputs": [
    {
     "data": {
      "text/html": [
       "<div>\n",
       "<style scoped>\n",
       "    .dataframe tbody tr th:only-of-type {\n",
       "        vertical-align: middle;\n",
       "    }\n",
       "\n",
       "    .dataframe tbody tr th {\n",
       "        vertical-align: top;\n",
       "    }\n",
       "\n",
       "    .dataframe thead th {\n",
       "        text-align: right;\n",
       "    }\n",
       "</style>\n",
       "<table border=\"1\" class=\"dataframe\">\n",
       "  <thead>\n",
       "    <tr style=\"text-align: right;\">\n",
       "      <th></th>\n",
       "      <th>Applied Loan Amount</th>\n",
       "      <th>Applied Loan Tenor</th>\n",
       "      <th>Gender</th>\n",
       "      <th>Age</th>\n",
       "      <th>Education Level</th>\n",
       "      <th>Monthly Housing/Rental</th>\n",
       "      <th>Monthly Income</th>\n",
       "      <th>Indicators</th>\n",
       "    </tr>\n",
       "  </thead>\n",
       "  <tbody>\n",
       "    <tr>\n",
       "      <th>0</th>\n",
       "      <td>60000</td>\n",
       "      <td>24</td>\n",
       "      <td>1</td>\n",
       "      <td>22.301</td>\n",
       "      <td>Secondary</td>\n",
       "      <td>0.0</td>\n",
       "      <td>10245.0</td>\n",
       "      <td>0</td>\n",
       "    </tr>\n",
       "    <tr>\n",
       "      <th>1</th>\n",
       "      <td>100000</td>\n",
       "      <td>60</td>\n",
       "      <td>1</td>\n",
       "      <td>33.159</td>\n",
       "      <td>Form 3 or below</td>\n",
       "      <td>0.0</td>\n",
       "      <td>10000.0</td>\n",
       "      <td>0</td>\n",
       "    </tr>\n",
       "    <tr>\n",
       "      <th>2</th>\n",
       "      <td>50000</td>\n",
       "      <td>24</td>\n",
       "      <td>0</td>\n",
       "      <td>28.389</td>\n",
       "      <td>University</td>\n",
       "      <td>2000.0</td>\n",
       "      <td>9700.0</td>\n",
       "      <td>0</td>\n",
       "    </tr>\n",
       "    <tr>\n",
       "      <th>3</th>\n",
       "      <td>70000</td>\n",
       "      <td>36</td>\n",
       "      <td>1</td>\n",
       "      <td>35.573</td>\n",
       "      <td>Post Graduate</td>\n",
       "      <td>1200.0</td>\n",
       "      <td>23000.0</td>\n",
       "      <td>0</td>\n",
       "    </tr>\n",
       "    <tr>\n",
       "      <th>4</th>\n",
       "      <td>300000</td>\n",
       "      <td>60</td>\n",
       "      <td>0</td>\n",
       "      <td>30.849</td>\n",
       "      <td>University</td>\n",
       "      <td>11000.0</td>\n",
       "      <td>34000.0</td>\n",
       "      <td>0</td>\n",
       "    </tr>\n",
       "  </tbody>\n",
       "</table>\n",
       "</div>"
      ],
      "text/plain": [
       "   Applied Loan Amount  Applied Loan Tenor  ...  Monthly Income  Indicators\n",
       "0                60000                  24  ...         10245.0           0\n",
       "1               100000                  60  ...         10000.0           0\n",
       "2                50000                  24  ...          9700.0           0\n",
       "3                70000                  36  ...         23000.0           0\n",
       "4               300000                  60  ...         34000.0           0\n",
       "\n",
       "[5 rows x 8 columns]"
      ]
     },
     "execution_count": 4,
     "metadata": {
      "tags": []
     },
     "output_type": "execute_result"
    }
   ],
   "source": [
    "df = pd.read_csv(\"datatrain.csv\")\n",
    "df.head()"
   ]
  },
  {
   "cell_type": "code",
   "execution_count": null,
   "metadata": {
    "colab": {
     "base_uri": "https://localhost:8080/",
     "height": 238
    },
    "id": "avX72D0AI3nc",
    "outputId": "4a790181-90aa-41eb-de2c-dc030d8e0586"
   },
   "outputs": [
    {
     "data": {
      "text/html": [
       "<div>\n",
       "<style scoped>\n",
       "    .dataframe tbody tr th:only-of-type {\n",
       "        vertical-align: middle;\n",
       "    }\n",
       "\n",
       "    .dataframe tbody tr th {\n",
       "        vertical-align: top;\n",
       "    }\n",
       "\n",
       "    .dataframe thead th {\n",
       "        text-align: right;\n",
       "    }\n",
       "</style>\n",
       "<table border=\"1\" class=\"dataframe\">\n",
       "  <thead>\n",
       "    <tr style=\"text-align: right;\">\n",
       "      <th></th>\n",
       "      <th>Applied Loan Amount</th>\n",
       "      <th>Applied Loan Tenor</th>\n",
       "      <th>Gender</th>\n",
       "      <th>Age</th>\n",
       "      <th>Monthly Housing/Rental</th>\n",
       "      <th>Monthly Income</th>\n",
       "      <th>Education Level_Form 3 or below</th>\n",
       "      <th>Education Level_No Response</th>\n",
       "      <th>Education Level_Post Graduate</th>\n",
       "      <th>Education Level_Post Secondary</th>\n",
       "      <th>Education Level_Primary</th>\n",
       "      <th>Education Level_Secondary</th>\n",
       "      <th>Education Level_University</th>\n",
       "      <th>Indicators</th>\n",
       "    </tr>\n",
       "  </thead>\n",
       "  <tbody>\n",
       "    <tr>\n",
       "      <th>0</th>\n",
       "      <td>60000</td>\n",
       "      <td>24</td>\n",
       "      <td>1</td>\n",
       "      <td>22.301</td>\n",
       "      <td>0.0</td>\n",
       "      <td>10245.0</td>\n",
       "      <td>0</td>\n",
       "      <td>0</td>\n",
       "      <td>0</td>\n",
       "      <td>0</td>\n",
       "      <td>0</td>\n",
       "      <td>1</td>\n",
       "      <td>0</td>\n",
       "      <td>0</td>\n",
       "    </tr>\n",
       "    <tr>\n",
       "      <th>1</th>\n",
       "      <td>100000</td>\n",
       "      <td>60</td>\n",
       "      <td>1</td>\n",
       "      <td>33.159</td>\n",
       "      <td>0.0</td>\n",
       "      <td>10000.0</td>\n",
       "      <td>1</td>\n",
       "      <td>0</td>\n",
       "      <td>0</td>\n",
       "      <td>0</td>\n",
       "      <td>0</td>\n",
       "      <td>0</td>\n",
       "      <td>0</td>\n",
       "      <td>0</td>\n",
       "    </tr>\n",
       "    <tr>\n",
       "      <th>2</th>\n",
       "      <td>50000</td>\n",
       "      <td>24</td>\n",
       "      <td>0</td>\n",
       "      <td>28.389</td>\n",
       "      <td>2000.0</td>\n",
       "      <td>9700.0</td>\n",
       "      <td>0</td>\n",
       "      <td>0</td>\n",
       "      <td>0</td>\n",
       "      <td>0</td>\n",
       "      <td>0</td>\n",
       "      <td>0</td>\n",
       "      <td>1</td>\n",
       "      <td>0</td>\n",
       "    </tr>\n",
       "    <tr>\n",
       "      <th>3</th>\n",
       "      <td>70000</td>\n",
       "      <td>36</td>\n",
       "      <td>1</td>\n",
       "      <td>35.573</td>\n",
       "      <td>1200.0</td>\n",
       "      <td>23000.0</td>\n",
       "      <td>0</td>\n",
       "      <td>0</td>\n",
       "      <td>1</td>\n",
       "      <td>0</td>\n",
       "      <td>0</td>\n",
       "      <td>0</td>\n",
       "      <td>0</td>\n",
       "      <td>0</td>\n",
       "    </tr>\n",
       "    <tr>\n",
       "      <th>4</th>\n",
       "      <td>300000</td>\n",
       "      <td>60</td>\n",
       "      <td>0</td>\n",
       "      <td>30.849</td>\n",
       "      <td>11000.0</td>\n",
       "      <td>34000.0</td>\n",
       "      <td>0</td>\n",
       "      <td>0</td>\n",
       "      <td>0</td>\n",
       "      <td>0</td>\n",
       "      <td>0</td>\n",
       "      <td>0</td>\n",
       "      <td>1</td>\n",
       "      <td>0</td>\n",
       "    </tr>\n",
       "  </tbody>\n",
       "</table>\n",
       "</div>"
      ],
      "text/plain": [
       "   Applied Loan Amount  ...  Indicators\n",
       "0                60000  ...           0\n",
       "1               100000  ...           0\n",
       "2                50000  ...           0\n",
       "3                70000  ...           0\n",
       "4               300000  ...           0\n",
       "\n",
       "[5 rows x 14 columns]"
      ]
     },
     "execution_count": 5,
     "metadata": {
      "tags": []
     },
     "output_type": "execute_result"
    }
   ],
   "source": [
    "df = df.dropna()\n",
    "df = pd.get_dummies(df)\n",
    "cols = df.columns.tolist()\n",
    "cols.remove('Indicators')\n",
    "cols.append('Indicators')\n",
    "df = df[cols]\n",
    "df.head() "
   ]
  },
  {
   "cell_type": "code",
   "execution_count": null,
   "metadata": {
    "colab": {
     "base_uri": "https://localhost:8080/"
    },
    "id": "_mJCLwBvfzFn",
    "outputId": "0554cf5c-4f66-40a5-bd0a-0fd5a07ce678"
   },
   "outputs": [
    {
     "data": {
      "text/plain": [
       "Applied Loan Amount                  int64\n",
       "Applied Loan Tenor                   int64\n",
       "Gender                               int64\n",
       "Age                                float64\n",
       "Monthly Housing/Rental             float64\n",
       "Monthly Income                     float64\n",
       "Education Level_Form 3 or below      uint8\n",
       "Education Level_No Response          uint8\n",
       "Education Level_Post Graduate        uint8\n",
       "Education Level_Post Secondary       uint8\n",
       "Education Level_Primary              uint8\n",
       "Education Level_Secondary            uint8\n",
       "Education Level_University           uint8\n",
       "Indicators                           int64\n",
       "dtype: object"
      ]
     },
     "execution_count": 6,
     "metadata": {
      "tags": []
     },
     "output_type": "execute_result"
    }
   ],
   "source": [
    "# df = df.astype(np.float64)\n",
    "# df[\"Final_Status (Y/N)\"].astype(int)\n",
    "df.dtypes"
   ]
  },
  {
   "cell_type": "code",
   "execution_count": null,
   "metadata": {
    "id": "ZmD3OfVGZEp7"
   },
   "outputs": [],
   "source": [
    "# df['Class_att'] = df['Class_att'].astype('category')\n",
    "# encode_map = {\n",
    "#     'Abnormal': 1,\n",
    "#     'Normal': 0\n",
    "# }\n",
    "\n",
    "# df['Class_att'].replace(encode_map, inplace=True)"
   ]
  },
  {
   "cell_type": "code",
   "execution_count": null,
   "metadata": {
    "colab": {
     "base_uri": "https://localhost:8080/",
     "height": 296
    },
    "id": "ue8sL8oD25xm",
    "outputId": "bb87c548-f57e-4d63-ad76-71c16fe4ae2e"
   },
   "outputs": [
    {
     "data": {
      "text/plain": [
       "<matplotlib.axes._subplots.AxesSubplot at 0x7fc10bd27d68>"
      ]
     },
     "execution_count": 8,
     "metadata": {
      "tags": []
     },
     "output_type": "execute_result"
    },
    {
     "data": {
      "image/png": "[encoded data removed]",
      "text/plain": [
       "<Figure size 432x288 with 1 Axes>"
      ]
     },
     "metadata": {
      "needs_background": "light",
      "tags": []
     },
     "output_type": "display_data"
    }
   ],
   "source": [
    "sns.countplot(x = 'Indicators', data=df)"
   ]
  },
  {
   "cell_type": "code",
   "execution_count": null,
   "metadata": {
    "id": "wh4AamM-3Az9"
   },
   "outputs": [],
   "source": [
    "X = df.iloc[:, 0:-1]\n",
    "y = df.iloc[:, -1]"
   ]
  },
  {
   "cell_type": "code",
   "execution_count": null,
   "metadata": {
    "colab": {
     "base_uri": "https://localhost:8080/"
    },
    "id": "8wCEr7DFaC_s",
    "outputId": "b44d081b-5996-4375-ad0c-1e76787d6269"
   },
   "outputs": [
    {
     "name": "stdout",
     "output_type": "stream",
     "text": [
      "(11669, 13) (11669,)\n"
     ]
    }
   ],
   "source": [
    "print(X.shape, y.shape)"
   ]
  },
  {
   "cell_type": "code",
   "execution_count": null,
   "metadata": {
    "colab": {
     "base_uri": "https://localhost:8080/"
    },
    "id": "G_P5vxxa3Jxt",
    "outputId": "741e788b-0889-437e-8965-361c668e4292"
   },
   "outputs": [
    {
     "data": {
      "text/plain": [
       "False"
      ]
     },
     "execution_count": 11,
     "metadata": {
      "tags": []
     },
     "output_type": "execute_result"
    }
   ],
   "source": [
    "np.any(np.isnan(y))"
   ]
  },
  {
   "cell_type": "code",
   "execution_count": null,
   "metadata": {
    "id": "eaRuRf-C3KXG"
   },
   "outputs": [],
   "source": [
    "X_train, X_test, y_train, y_test = train_test_split(X, y, test_size=0.33, random_state=42)"
   ]
  },
  {
   "cell_type": "code",
   "execution_count": null,
   "metadata": {
    "id": "1BPpSRS_3bpT"
   },
   "outputs": [],
   "source": [
    "scaler = StandardScaler()\n",
    "X_train = scaler.fit_transform(X_train)\n",
    "X_test = scaler.fit_transform(X_test)"
   ]
  },
  {
   "cell_type": "code",
   "execution_count": null,
   "metadata": {
    "colab": {
     "base_uri": "https://localhost:8080/"
    },
    "id": "j1ciBz7S3rt5",
    "outputId": "6a2b693c-77d8-4a0c-9d79-446800a597a0"
   },
   "outputs": [
    {
     "name": "stdout",
     "output_type": "stream",
     "text": [
      "(7818, 13) (3851, 13)\n"
     ]
    }
   ],
   "source": [
    "print(X_train.shape, X_test.shape)"
   ]
  },
  {
   "cell_type": "code",
   "execution_count": null,
   "metadata": {
    "id": "16o0pu823uP4"
   },
   "outputs": [],
   "source": [
    "EPOCHS = 200\n",
    "BATCH_SIZE = 64\n",
    "LEARNING_RATE = 0.001"
   ]
  },
  {
   "cell_type": "code",
   "execution_count": null,
   "metadata": {
    "id": "vVVMj8foGMga"
   },
   "outputs": [],
   "source": [
    "## train data\n",
    "class trainData(Dataset):\n",
    "    \n",
    "    def __init__(self, X_data, y_data):\n",
    "        self.X_data = X_data\n",
    "        self.y_data = y_data\n",
    "        \n",
    "    def __getitem__(self, index):\n",
    "        return self.X_data[index], self.y_data[index]\n",
    "        \n",
    "    def __len__ (self):\n",
    "        return len(self.X_data)\n",
    "\n",
    "\n",
    "train_data = trainData(torch.FloatTensor(X_train), \n",
    "                       torch.FloatTensor(torch.Tensor(y_train.values)))\n",
    "## test data    \n",
    "class testData(Dataset):\n",
    "    \n",
    "    def __init__(self, X_data):\n",
    "        self.X_data = X_data\n",
    "        \n",
    "    def __getitem__(self, index):\n",
    "        return self.X_data[index]\n",
    "        \n",
    "    def __len__ (self):\n",
    "        return len(self.X_data)\n",
    "    \n",
    "\n",
    "test_data = testData(torch.FloatTensor(X_test))"
   ]
  },
  {
   "cell_type": "code",
   "execution_count": null,
   "metadata": {
    "id": "7SPYrIRJHJuC"
   },
   "outputs": [],
   "source": [
    "train_loader = sy.FederatedDataLoader(train_data.federate((node1, node2)), batch_size=BATCH_SIZE, shuffle=True)\n",
    "test_loader = DataLoader(dataset=test_data, batch_size=1) # may need increase later"
   ]
  },
  {
   "cell_type": "code",
   "execution_count": null,
   "metadata": {
    "id": "Wuo5hNoFHOi6"
   },
   "outputs": [],
   "source": [
    "class binaryClassification(nn.Module):\n",
    "    def __init__(self):\n",
    "        super(binaryClassification, self).__init__()\n",
    "        # Number of input features is 12.\n",
    "        self.layer_1 = nn.Linear(13, 32)\n",
    "        self.layer_2 = nn.Linear(32, 64)\n",
    "        self.layer_out = nn.Linear(64, 1)\n",
    "        \n",
    "        self.relu = nn.ReLU()\n",
    "        self.dropout = nn.Dropout(p=0.1)\n",
    "        self.batchnorm1 = nn.BatchNorm1d(32)\n",
    "        self.batchnorm2 = nn.BatchNorm1d(64)\n",
    "        \n",
    "    def forward(self, inputs):\n",
    "        x = self.relu(self.layer_1(inputs))\n",
    "        x = self.batchnorm1(x)\n",
    "        x = self.relu(self.layer_2(x))\n",
    "        x = self.batchnorm2(x)\n",
    "        x = self.dropout(x)\n",
    "        x = self.layer_out(x)\n",
    "        \n",
    "        return x"
   ]
  },
  {
   "cell_type": "code",
   "execution_count": null,
   "metadata": {
    "colab": {
     "base_uri": "https://localhost:8080/"
    },
    "id": "DzVhwSTkHcoc",
    "outputId": "8bc91020-e62a-4c56-89fa-18413ebd90de"
   },
   "outputs": [
    {
     "name": "stdout",
     "output_type": "stream",
     "text": [
      "cpu\n"
     ]
    }
   ],
   "source": [
    "# check to use GPU or not\n",
    "use_cuda = True and torch.cuda.is_available()\n",
    "device = torch.device(\"cuda\" if use_cuda else \"cpu\")\n",
    "print(device)\n",
    "###############"
   ]
  },
  {
   "cell_type": "code",
   "execution_count": null,
   "metadata": {
    "colab": {
     "base_uri": "https://localhost:8080/"
    },
    "id": "Ts-WGSyqHfGM",
    "outputId": "535701b0-6280-4163-bb96-e9fcdaab99aa"
   },
   "outputs": [
    {
     "name": "stdout",
     "output_type": "stream",
     "text": [
      "binaryClassification(\n",
      "  (layer_1): Linear(in_features=13, out_features=32, bias=True)\n",
      "  (layer_2): Linear(in_features=32, out_features=64, bias=True)\n",
      "  (layer_out): Linear(in_features=64, out_features=1, bias=True)\n",
      "  (relu): ReLU()\n",
      "  (dropout): Dropout(p=0.1, inplace=False)\n",
      "  (batchnorm1): BatchNorm1d(32, eps=1e-05, momentum=0.1, affine=True, track_running_stats=True)\n",
      "  (batchnorm2): BatchNorm1d(64, eps=1e-05, momentum=0.1, affine=True, track_running_stats=True)\n",
      ")\n"
     ]
    }
   ],
   "source": [
    "model = binaryClassification()\n",
    "model.to(device)\n",
    "print(model)\n",
    "criterion = nn.BCEWithLogitsLoss()\n",
    "optimizer = optim.SGD(model.parameters(), lr=LEARNING_RATE)"
   ]
  },
  {
   "cell_type": "code",
   "execution_count": null,
   "metadata": {
    "id": "07Hyj1KzHhqR"
   },
   "outputs": [],
   "source": [
    "def binary_acc(y_pred, y_test):\n",
    "    y_pred_tag = torch.round(torch.sigmoid(y_pred))\n",
    "\n",
    "    correct_results_sum = (y_pred_tag == y_test).sum().float()\n",
    "    acc = correct_results_sum/y_test.shape[0]\n",
    "    acc = torch.round(acc * 100)\n",
    "    \n",
    "    return acc"
   ]
  },
  {
   "cell_type": "code",
   "execution_count": null,
   "metadata": {
    "colab": {
     "base_uri": "https://localhost:8080/"
    },
    "id": "UcvpKapcHmVM",
    "outputId": "ccd6ef5c-1bc9-4af9-9193-761a1230d803"
   },
   "outputs": [
    {
     "name": "stdout",
     "output_type": "stream",
     "text": [
      "Epoch 001: | Loss: 0.69667 | Acc: 56.341 | Time: 11.681\n",
      "Epoch 002: | Loss: 0.67071 | Acc: 61.561 | Time: 11.745\n",
      "Epoch 003: | Loss: 0.65169 | Acc: 64.675 | Time: 12.883\n",
      "Epoch 004: | Loss: 0.63765 | Acc: 66.472 | Time: 11.958\n",
      "Epoch 005: | Loss: 0.63188 | Acc: 66.919 | Time: 11.965\n",
      "Epoch 006: | Loss: 0.63012 | Acc: 67.016 | Time: 11.809\n",
      "Epoch 007: | Loss: 0.62946 | Acc: 66.992 | Time: 11.908\n",
      "Epoch 008: | Loss: 0.62065 | Acc: 68.065 | Time: 11.927\n",
      "Epoch 009: | Loss: 0.62239 | Acc: 67.797 | Time: 11.798\n",
      "Epoch 010: | Loss: 0.61618 | Acc: 68.244 | Time: 12.019\n",
      "Epoch 011: | Loss: 0.61575 | Acc: 68.114 | Time: 11.807\n",
      "Epoch 012: | Loss: 0.60894 | Acc: 68.976 | Time: 11.798\n",
      "Epoch 013: | Loss: 0.61392 | Acc: 68.333 | Time: 12.152\n",
      "Epoch 014: | Loss: 0.60725 | Acc: 69.260 | Time: 12.080\n",
      "Epoch 015: | Loss: 0.60980 | Acc: 69.439 | Time: 11.896\n",
      "Epoch 016: | Loss: 0.60554 | Acc: 69.626 | Time: 11.814\n",
      "Epoch 017: | Loss: 0.60444 | Acc: 69.528 | Time: 11.918\n",
      "Epoch 018: | Loss: 0.60341 | Acc: 69.163 | Time: 11.744\n",
      "Epoch 019: | Loss: 0.59921 | Acc: 69.626 | Time: 11.709\n",
      "Epoch 020: | Loss: 0.60079 | Acc: 69.366 | Time: 11.809\n",
      "Epoch 021: | Loss: 0.60926 | Acc: 68.780 | Time: 12.047\n",
      "Epoch 022: | Loss: 0.60589 | Acc: 69.528 | Time: 11.714\n",
      "Epoch 023: | Loss: 0.59944 | Acc: 70.211 | Time: 11.815\n",
      "Epoch 024: | Loss: 0.60159 | Acc: 69.764 | Time: 11.828\n",
      "Epoch 025: | Loss: 0.60099 | Acc: 69.545 | Time: 12.051\n",
      "Epoch 026: | Loss: 0.59344 | Acc: 69.976 | Time: 11.831\n",
      "Epoch 027: | Loss: 0.59754 | Acc: 69.740 | Time: 11.793\n",
      "Epoch 028: | Loss: 0.60033 | Acc: 69.959 | Time: 11.739\n",
      "Epoch 029: | Loss: 0.59417 | Acc: 70.382 | Time: 11.829\n",
      "Epoch 030: | Loss: 0.59204 | Acc: 70.073 | Time: 11.997\n",
      "Epoch 031: | Loss: 0.58947 | Acc: 70.626 | Time: 11.766\n",
      "Epoch 032: | Loss: 0.59836 | Acc: 70.081 | Time: 12.192\n",
      "Epoch 033: | Loss: 0.59127 | Acc: 70.447 | Time: 11.699\n",
      "Epoch 034: | Loss: 0.59510 | Acc: 70.195 | Time: 12.338\n",
      "Epoch 035: | Loss: 0.59189 | Acc: 70.382 | Time: 11.827\n",
      "Epoch 036: | Loss: 0.59308 | Acc: 70.276 | Time: 11.754\n",
      "Epoch 037: | Loss: 0.59243 | Acc: 70.821 | Time: 11.806\n",
      "Epoch 038: | Loss: 0.59365 | Acc: 70.553 | Time: 11.784\n",
      "Epoch 039: | Loss: 0.59508 | Acc: 70.772 | Time: 11.772\n",
      "Epoch 040: | Loss: 0.58916 | Acc: 70.642 | Time: 12.409\n",
      "Epoch 041: | Loss: 0.59014 | Acc: 70.797 | Time: 11.778\n",
      "Epoch 042: | Loss: 0.59239 | Acc: 70.602 | Time: 11.804\n",
      "Epoch 043: | Loss: 0.58892 | Acc: 70.724 | Time: 11.741\n",
      "Epoch 044: | Loss: 0.58764 | Acc: 70.504 | Time: 11.816\n",
      "Epoch 045: | Loss: 0.58894 | Acc: 70.919 | Time: 11.843\n",
      "Epoch 046: | Loss: 0.58797 | Acc: 71.049 | Time: 11.936\n",
      "Epoch 047: | Loss: 0.58709 | Acc: 70.634 | Time: 11.983\n",
      "Epoch 048: | Loss: 0.58239 | Acc: 71.049 | Time: 12.171\n",
      "Epoch 049: | Loss: 0.58680 | Acc: 70.772 | Time: 11.780\n",
      "Epoch 050: | Loss: 0.58469 | Acc: 71.317 | Time: 11.777\n",
      "Epoch 051: | Loss: 0.58973 | Acc: 70.463 | Time: 11.729\n",
      "Epoch 052: | Loss: 0.58653 | Acc: 70.984 | Time: 11.759\n",
      "Epoch 053: | Loss: 0.58653 | Acc: 71.203 | Time: 11.770\n",
      "Epoch 054: | Loss: 0.59286 | Acc: 70.821 | Time: 12.571\n",
      "Epoch 055: | Loss: 0.58515 | Acc: 71.163 | Time: 12.451\n",
      "Epoch 056: | Loss: 0.58743 | Acc: 70.821 | Time: 11.936\n",
      "Epoch 057: | Loss: 0.58757 | Acc: 71.350 | Time: 11.951\n",
      "Epoch 058: | Loss: 0.58298 | Acc: 71.431 | Time: 11.871\n",
      "Epoch 059: | Loss: 0.58367 | Acc: 71.211 | Time: 11.899\n",
      "Epoch 060: | Loss: 0.58543 | Acc: 71.431 | Time: 12.323\n",
      "Epoch 061: | Loss: 0.58304 | Acc: 71.179 | Time: 11.806\n",
      "Epoch 062: | Loss: 0.58781 | Acc: 71.374 | Time: 11.895\n",
      "Epoch 063: | Loss: 0.58265 | Acc: 71.203 | Time: 12.510\n",
      "Epoch 064: | Loss: 0.58134 | Acc: 71.789 | Time: 11.895\n",
      "Epoch 065: | Loss: 0.58443 | Acc: 71.236 | Time: 11.898\n",
      "Epoch 066: | Loss: 0.58474 | Acc: 71.740 | Time: 12.293\n",
      "Epoch 067: | Loss: 0.58282 | Acc: 71.545 | Time: 11.847\n",
      "Epoch 068: | Loss: 0.58259 | Acc: 71.203 | Time: 11.829\n",
      "Epoch 069: | Loss: 0.58049 | Acc: 71.520 | Time: 11.797\n",
      "Epoch 070: | Loss: 0.58097 | Acc: 71.455 | Time: 11.782\n",
      "Epoch 071: | Loss: 0.58495 | Acc: 71.504 | Time: 12.441\n",
      "Epoch 072: | Loss: 0.58424 | Acc: 71.577 | Time: 11.916\n",
      "Epoch 073: | Loss: 0.58363 | Acc: 71.073 | Time: 11.847\n",
      "Epoch 074: | Loss: 0.58372 | Acc: 71.024 | Time: 11.828\n",
      "Epoch 075: | Loss: 0.58426 | Acc: 71.618 | Time: 11.806\n",
      "Epoch 076: | Loss: 0.58463 | Acc: 71.122 | Time: 11.870\n",
      "Epoch 077: | Loss: 0.58028 | Acc: 71.480 | Time: 11.778\n",
      "Epoch 078: | Loss: 0.57974 | Acc: 72.049 | Time: 12.507\n",
      "Epoch 079: | Loss: 0.58081 | Acc: 71.431 | Time: 11.822\n",
      "Epoch 080: | Loss: 0.57978 | Acc: 71.659 | Time: 11.761\n",
      "Epoch 081: | Loss: 0.58184 | Acc: 71.854 | Time: 11.786\n",
      "Epoch 082: | Loss: 0.58877 | Acc: 71.098 | Time: 11.806\n",
      "Epoch 083: | Loss: 0.57771 | Acc: 71.805 | Time: 11.774\n",
      "Epoch 084: | Loss: 0.57893 | Acc: 71.610 | Time: 11.834\n",
      "Epoch 085: | Loss: 0.58159 | Acc: 71.439 | Time: 11.813\n",
      "Epoch 086: | Loss: 0.58040 | Acc: 71.171 | Time: 12.519\n",
      "Epoch 087: | Loss: 0.58144 | Acc: 71.691 | Time: 11.824\n",
      "Epoch 088: | Loss: 0.58389 | Acc: 71.748 | Time: 11.745\n",
      "Epoch 089: | Loss: 0.58099 | Acc: 71.463 | Time: 11.751\n",
      "Epoch 090: | Loss: 0.57865 | Acc: 71.561 | Time: 11.736\n",
      "Epoch 091: | Loss: 0.57912 | Acc: 71.138 | Time: 11.710\n",
      "Epoch 092: | Loss: 0.58132 | Acc: 70.902 | Time: 11.982\n",
      "Epoch 093: | Loss: 0.57882 | Acc: 71.228 | Time: 12.890\n",
      "Epoch 094: | Loss: 0.57918 | Acc: 71.350 | Time: 11.791\n",
      "Epoch 095: | Loss: 0.57864 | Acc: 71.846 | Time: 11.736\n",
      "Epoch 096: | Loss: 0.58019 | Acc: 71.878 | Time: 11.754\n",
      "Epoch 097: | Loss: 0.57410 | Acc: 72.000 | Time: 11.829\n",
      "Epoch 098: | Loss: 0.57767 | Acc: 71.902 | Time: 12.010\n",
      "Epoch 099: | Loss: 0.57771 | Acc: 71.870 | Time: 11.726\n",
      "Epoch 100: | Loss: 0.57732 | Acc: 71.683 | Time: 11.735\n",
      "Epoch 101: | Loss: 0.57866 | Acc: 71.447 | Time: 12.515\n",
      "Epoch 102: | Loss: 0.57878 | Acc: 71.610 | Time: 11.774\n",
      "Epoch 103: | Loss: 0.58265 | Acc: 71.618 | Time: 11.717\n",
      "Epoch 104: | Loss: 0.57714 | Acc: 71.341 | Time: 11.906\n",
      "Epoch 105: | Loss: 0.57602 | Acc: 71.366 | Time: 12.496\n",
      "Epoch 106: | Loss: 0.58071 | Acc: 71.959 | Time: 11.909\n",
      "Epoch 107: | Loss: 0.58054 | Acc: 71.862 | Time: 11.834\n",
      "Epoch 108: | Loss: 0.57497 | Acc: 72.041 | Time: 11.883\n",
      "Epoch 109: | Loss: 0.57823 | Acc: 71.724 | Time: 12.652\n",
      "Epoch 110: | Loss: 0.58532 | Acc: 71.106 | Time: 11.863\n",
      "Epoch 111: | Loss: 0.57812 | Acc: 72.024 | Time: 11.980\n",
      "Epoch 112: | Loss: 0.57731 | Acc: 71.992 | Time: 11.754\n",
      "Epoch 113: | Loss: 0.57449 | Acc: 72.268 | Time: 11.894\n",
      "Epoch 114: | Loss: 0.58073 | Acc: 70.789 | Time: 11.791\n",
      "Epoch 115: | Loss: 0.57632 | Acc: 71.894 | Time: 11.837\n",
      "Epoch 116: | Loss: 0.57965 | Acc: 72.203 | Time: 12.720\n",
      "Epoch 117: | Loss: 0.57266 | Acc: 72.260 | Time: 11.761\n",
      "Epoch 118: | Loss: 0.58057 | Acc: 71.439 | Time: 11.840\n",
      "Epoch 119: | Loss: 0.57027 | Acc: 72.203 | Time: 12.590\n",
      "Epoch 120: | Loss: 0.57720 | Acc: 71.854 | Time: 12.244\n",
      "Epoch 121: | Loss: 0.57709 | Acc: 71.870 | Time: 11.718\n",
      "Epoch 122: | Loss: 0.57412 | Acc: 71.911 | Time: 11.765\n",
      "Epoch 123: | Loss: 0.57745 | Acc: 71.862 | Time: 11.849\n",
      "Epoch 124: | Loss: 0.57050 | Acc: 72.398 | Time: 13.101\n",
      "Epoch 125: | Loss: 0.57562 | Acc: 72.146 | Time: 11.774\n",
      "Epoch 126: | Loss: 0.57875 | Acc: 71.805 | Time: 11.796\n",
      "Epoch 127: | Loss: 0.57692 | Acc: 71.382 | Time: 11.718\n",
      "Epoch 128: | Loss: 0.58118 | Acc: 71.285 | Time: 11.731\n",
      "Epoch 129: | Loss: 0.57230 | Acc: 72.073 | Time: 11.783\n",
      "Epoch 130: | Loss: 0.57197 | Acc: 72.244 | Time: 11.767\n",
      "Epoch 131: | Loss: 0.57601 | Acc: 71.463 | Time: 13.063\n",
      "Epoch 132: | Loss: 0.57217 | Acc: 72.114 | Time: 11.815\n",
      "Epoch 133: | Loss: 0.57348 | Acc: 71.740 | Time: 36.685\n",
      "Epoch 134: | Loss: 0.57326 | Acc: 72.187 | Time: 59.443\n",
      "Epoch 135: | Loss: 0.57199 | Acc: 71.715 | Time: 59.528\n",
      "Epoch 136: | Loss: 0.57247 | Acc: 71.976 | Time: 60.609\n",
      "Epoch 137: | Loss: 0.57082 | Acc: 71.724 | Time: 59.815\n",
      "Epoch 138: | Loss: 0.58000 | Acc: 71.715 | Time: 59.828\n",
      "Epoch 139: | Loss: 0.57217 | Acc: 72.098 | Time: 60.303\n",
      "Epoch 140: | Loss: 0.57990 | Acc: 71.821 | Time: 59.015\n",
      "Epoch 141: | Loss: 0.57445 | Acc: 71.829 | Time: 60.105\n",
      "Epoch 142: | Loss: 0.57747 | Acc: 71.764 | Time: 59.237\n",
      "Epoch 143: | Loss: 0.57631 | Acc: 72.016 | Time: 58.991\n",
      "Epoch 144: | Loss: 0.56920 | Acc: 72.415 | Time: 59.181\n",
      "Epoch 145: | Loss: 0.57521 | Acc: 71.976 | Time: 59.174\n",
      "Epoch 146: | Loss: 0.58046 | Acc: 71.276 | Time: 60.465\n",
      "Epoch 147: | Loss: 0.57539 | Acc: 71.870 | Time: 61.364\n",
      "Epoch 148: | Loss: 0.57337 | Acc: 72.244 | Time: 60.073\n",
      "Epoch 149: | Loss: 0.57286 | Acc: 71.919 | Time: 59.217\n",
      "Epoch 150: | Loss: 0.56874 | Acc: 72.203 | Time: 59.253\n",
      "Epoch 151: | Loss: 0.57229 | Acc: 72.341 | Time: 59.644\n",
      "Epoch 152: | Loss: 0.56908 | Acc: 72.276 | Time: 60.911\n",
      "Epoch 153: | Loss: 0.57138 | Acc: 71.911 | Time: 59.614\n",
      "Epoch 154: | Loss: 0.56930 | Acc: 72.285 | Time: 60.857\n",
      "Epoch 155: | Loss: 0.57655 | Acc: 71.593 | Time: 59.292\n",
      "Epoch 156: | Loss: 0.56961 | Acc: 72.106 | Time: 59.333\n",
      "Epoch 157: | Loss: 0.57461 | Acc: 72.341 | Time: 61.554\n",
      "Epoch 158: | Loss: 0.56536 | Acc: 72.203 | Time: 59.935\n",
      "Epoch 159: | Loss: 0.57184 | Acc: 72.171 | Time: 59.468\n",
      "Epoch 160: | Loss: 0.57149 | Acc: 72.293 | Time: 59.146\n",
      "Epoch 161: | Loss: 0.56796 | Acc: 72.415 | Time: 59.235\n",
      "Epoch 162: | Loss: 0.56943 | Acc: 72.211 | Time: 62.661\n",
      "Epoch 163: | Loss: 0.56994 | Acc: 72.585 | Time: 59.471\n",
      "Epoch 164: | Loss: 0.57401 | Acc: 71.569 | Time: 59.204\n",
      "Epoch 165: | Loss: 0.57243 | Acc: 71.846 | Time: 59.252\n",
      "Epoch 166: | Loss: 0.56619 | Acc: 72.626 | Time: 59.254\n",
      "Epoch 167: | Loss: 0.57540 | Acc: 71.829 | Time: 62.568\n",
      "Epoch 168: | Loss: 0.57180 | Acc: 71.976 | Time: 60.959\n",
      "Epoch 169: | Loss: 0.57702 | Acc: 71.967 | Time: 59.428\n",
      "Epoch 170: | Loss: 0.57443 | Acc: 72.154 | Time: 61.339\n",
      "Epoch 171: | Loss: 0.57243 | Acc: 72.000 | Time: 59.660\n",
      "Epoch 172: | Loss: 0.56937 | Acc: 72.585 | Time: 60.454\n",
      "Epoch 173: | Loss: 0.56952 | Acc: 71.764 | Time: 61.275\n",
      "Epoch 174: | Loss: 0.56704 | Acc: 72.154 | Time: 60.043\n",
      "Epoch 175: | Loss: 0.57523 | Acc: 71.919 | Time: 59.378\n",
      "Epoch 176: | Loss: 0.56892 | Acc: 72.984 | Time: 59.655\n",
      "Epoch 177: | Loss: 0.56589 | Acc: 72.805 | Time: 62.267\n",
      "Epoch 178: | Loss: 0.57097 | Acc: 72.569 | Time: 61.678\n",
      "Epoch 179: | Loss: 0.57122 | Acc: 72.374 | Time: 59.600\n",
      "Epoch 180: | Loss: 0.56692 | Acc: 72.561 | Time: 59.600\n",
      "Epoch 181: | Loss: 0.57303 | Acc: 72.187 | Time: 59.792\n",
      "Epoch 182: | Loss: 0.57094 | Acc: 72.024 | Time: 59.969\n",
      "Epoch 183: | Loss: 0.57027 | Acc: 72.187 | Time: 60.642\n",
      "Epoch 184: | Loss: 0.57261 | Acc: 72.431 | Time: 59.776\n",
      "Epoch 185: | Loss: 0.57195 | Acc: 72.480 | Time: 61.467\n",
      "Epoch 186: | Loss: 0.57161 | Acc: 71.951 | Time: 59.708\n",
      "Epoch 187: | Loss: 0.57330 | Acc: 72.114 | Time: 61.822\n",
      "Epoch 188: | Loss: 0.56665 | Acc: 72.911 | Time: 62.011\n",
      "Epoch 189: | Loss: 0.56981 | Acc: 72.244 | Time: 60.094\n",
      "Epoch 190: | Loss: 0.56969 | Acc: 72.252 | Time: 60.155\n",
      "Epoch 191: | Loss: 0.56948 | Acc: 72.114 | Time: 59.845\n",
      "Epoch 192: | Loss: 0.56949 | Acc: 72.195 | Time: 61.241\n",
      "Epoch 193: | Loss: 0.57029 | Acc: 72.179 | Time: 59.856\n",
      "Epoch 194: | Loss: 0.56552 | Acc: 72.732 | Time: 60.133\n",
      "Epoch 195: | Loss: 0.57161 | Acc: 71.829 | Time: 59.443\n",
      "Epoch 196: | Loss: 0.57128 | Acc: 71.984 | Time: 59.472\n",
      "Epoch 197: | Loss: 0.56976 | Acc: 72.236 | Time: 60.146\n",
      "Epoch 198: | Loss: 0.57039 | Acc: 72.203 | Time: 60.152\n",
      "Epoch 199: | Loss: 0.57071 | Acc: 72.602 | Time: 60.034\n",
      "Epoch 200: | Loss: 0.56993 | Acc: 72.073 | Time: 60.911\n"
     ]
    }
   ],
   "source": [
    "model.train()\n",
    "e_loss = []\n",
    "e_acc = []\n",
    "timelist = []\n",
    "for e in range(1, EPOCHS+1):\n",
    "    epoch_loss = 0\n",
    "    epoch_acc = 0\n",
    "    start_time = time.time()\n",
    "    for batch_idx, (X_batch, y_batch) in enumerate(train_loader):\n",
    "        model = model.send(X_batch.location)\n",
    "\n",
    "        X_batch, y_batch = X_batch.to(device), y_batch.to(device)\n",
    "        optimizer.zero_grad()\n",
    "        \n",
    "        y_pred = model(X_batch)\n",
    "        \n",
    "        loss = criterion(y_pred, y_batch.unsqueeze(1))\n",
    "        acc = binary_acc(y_pred, y_batch.unsqueeze(1))\n",
    "        \n",
    "        loss.backward()\n",
    "        optimizer.step()\n",
    "        \n",
    "        model.get()\n",
    "\n",
    "        epoch_loss += loss.get()\n",
    "        epoch_acc += acc.get()\n",
    "    total_time = time.time() - start_time\n",
    "    timelist.append(total_time)\n",
    "    e_loss.append((epoch_loss/len(train_loader)).item()) # for plt\n",
    "    e_acc.append((epoch_acc/len(train_loader)).item()) # for plt\n",
    "    print(f'Epoch {e+0:03}: | Loss: {epoch_loss/len(train_loader):.5f} | Acc: {epoch_acc/len(train_loader):.3f} | Time: {total_time:.3f}')"
   ]
  },
  {
   "cell_type": "code",
   "execution_count": null,
   "metadata": {
    "colab": {
     "base_uri": "https://localhost:8080/"
    },
    "id": "ibriR2HTbhL7",
    "outputId": "ca3b0b34-f5c4-498d-db42-de298d5a38ac"
   },
   "outputs": [
    {
     "data": {
      "text/plain": [
       "[<matplotlib.lines.Line2D at 0x7fc10b237be0>]"
      ]
     },
     "execution_count": 23,
     "metadata": {
      "tags": []
     },
     "output_type": "execute_result"
    },
    {
     "data": {
      "image/png": "[encoded data removed]",
      "text/plain": [
       "<Figure size 432x288 with 1 Axes>"
      ]
     },
     "metadata": {
      "needs_background": "light",
      "tags": []
     },
     "output_type": "display_data"
    }
   ],
   "source": [
    "plt.plot(e_loss)"
   ]
  },
  {
   "cell_type": "code",
   "execution_count": null,
   "metadata": {
    "colab": {
     "base_uri": "https://localhost:8080/",
     "height": 282
    },
    "id": "5Xwb9IE6N0Sp",
    "outputId": "f287c799-acc6-4a8f-db6d-50af3f8307dc"
   },
   "outputs": [
    {
     "data": {
      "text/plain": [
       "[<matplotlib.lines.Line2D at 0x7fc1b5424fd0>]"
      ]
     },
     "execution_count": 24,
     "metadata": {
      "tags": []
     },
     "output_type": "execute_result"
    },
    {
     "data": {
      "image/png": "[encoded data removed]",
      "text/plain": [
       "<Figure size 432x288 with 1 Axes>"
      ]
     },
     "metadata": {
      "needs_background": "light",
      "tags": []
     },
     "output_type": "display_data"
    }
   ],
   "source": [
    "plt.plot(e_acc)"
   ]
  },
  {
   "cell_type": "code",
   "execution_count": null,
   "metadata": {
    "colab": {
     "base_uri": "https://localhost:8080/"
    },
    "id": "0MffW491bh22",
    "outputId": "bf8a5688-ed98-41d8-ef58-f6227a3edff4"
   },
   "outputs": [
    {
     "data": {
      "text/plain": [
       "[<matplotlib.lines.Line2D at 0x7fc0e52d72e8>]"
      ]
     },
     "execution_count": 25,
     "metadata": {
      "tags": []
     },
     "output_type": "execute_result"
    },
    {
     "data": {
      "image/png": "[encoded data removed]",
      "text/plain": [
       "<Figure size 432x288 with 1 Axes>"
      ]
     },
     "metadata": {
      "needs_background": "light",
      "tags": []
     },
     "output_type": "display_data"
    }
   ],
   "source": [
    "plt.plot(timelist)"
   ]
  },
  {
   "cell_type": "code",
   "execution_count": null,
   "metadata": {
    "colab": {
     "base_uri": "https://localhost:8080/"
    },
    "id": "NIMFc8HS78B8",
    "outputId": "f2bdc8cf-6b2c-4cba-cf33-b497ab1705cf"
   },
   "outputs": [
    {
     "data": {
      "text/plain": [
       "28.213562388420105"
      ]
     },
     "execution_count": 26,
     "metadata": {
      "tags": []
     },
     "output_type": "execute_result"
    }
   ],
   "source": [
    "\n",
    "import statistics\n",
    "statistics.mean(timelist)"
   ]
  },
  {
   "cell_type": "code",
   "execution_count": null,
   "metadata": {
    "id": "XkmU5dGGHoy_"
   },
   "outputs": [],
   "source": [
    "y_pred_list = []\n",
    "model.eval()\n",
    "with torch.no_grad():\n",
    "    for X_batch in test_loader:\n",
    "        X_batch = X_batch.to(device)\n",
    "        y_test_pred = model(X_batch)\n",
    "        y_test_pred = torch.sigmoid(y_test_pred)\n",
    "        y_pred_tag = torch.round(y_test_pred)\n",
    "        y_pred_list.append(y_pred_tag.cpu().numpy())\n",
    "\n",
    "y_pred_list = [a.squeeze().tolist() for a in y_pred_list]"
   ]
  },
  {
   "cell_type": "code",
   "execution_count": null,
   "metadata": {
    "colab": {
     "base_uri": "https://localhost:8080/"
    },
    "id": "L92l4ORgIIx_",
    "outputId": "d7381dbe-03a6-44fc-c037-5184ca24b5df"
   },
   "outputs": [
    {
     "data": {
      "text/plain": [
       "array([[1630,  405],\n",
       "       [ 684, 1132]])"
      ]
     },
     "execution_count": 28,
     "metadata": {
      "tags": []
     },
     "output_type": "execute_result"
    }
   ],
   "source": [
    "confusion_matrix(y_test, y_pred_list)"
   ]
  },
  {
   "cell_type": "code",
   "execution_count": null,
   "metadata": {
    "colab": {
     "base_uri": "https://localhost:8080/"
    },
    "id": "GXMIFgsfIJBz",
    "outputId": "e78da0a7-ae1a-44d7-c9cd-73da3239b6c7"
   },
   "outputs": [
    {
     "name": "stdout",
     "output_type": "stream",
     "text": [
      "              precision    recall  f1-score   support\n",
      "\n",
      "           0       0.70      0.80      0.75      2035\n",
      "           1       0.74      0.62      0.68      1816\n",
      "\n",
      "    accuracy                           0.72      3851\n",
      "   macro avg       0.72      0.71      0.71      3851\n",
      "weighted avg       0.72      0.72      0.71      3851\n",
      "\n"
     ]
    }
   ],
   "source": [
    "print(classification_report(y_test, y_pred_list))"
   ]
  },
  {
   "cell_type": "code",
   "execution_count": null,
   "metadata": {
    "id": "7UPXR7RxZX2i"
   },
   "outputs": [],
   "source": []
  }
 ],
 "metadata": {
  "colab": {
   "name": "FS A 500.ipynb",
   "provenance": []
  },
  "kernelspec": {
   "display_name": "Python 3",
   "language": "python",
   "name": "python3"
  },
  "language_info": {
   "codemirror_mode": {
    "name": "ipython",
    "version": 3
   },
   "file_extension": ".py",
   "mimetype": "text/x-python",
   "name": "python",
   "nbconvert_exporter": "python",
   "pygments_lexer": "ipython3",
   "version": "3.7.4"
  }
 },
 "nbformat": 4,
 "nbformat_minor": 4
}
