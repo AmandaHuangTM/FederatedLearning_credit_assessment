{
  "nbformat": 4,
  "nbformat_minor": 0,
  "metadata": {
    "colab": {
      "name": "FS A.ipynb",
      "provenance": []
    },
    "kernelspec": {
      "name": "python3",
      "display_name": "Python 3"
    }
  },
  "cells": [
    {
      "cell_type": "code",
      "metadata": {
        "colab": {
          "base_uri": "https://localhost:8080/"
        },
        "id": "WIyHsF8XZMUi",
        "outputId": "df2bfbeb-90b6-4f50-b762-5dd7a632f4ec"
      },
      "source": [
        "pip install syft==0.2.9"
      ],
      "execution_count": null,
      "outputs": [
        {
          "output_type": "stream",
          "text": [
            "Requirement already satisfied: syft==0.2.9 in /usr/local/lib/python3.6/dist-packages (0.2.9)\n",
            "Requirement already satisfied: RestrictedPython~=5.0 in /usr/local/lib/python3.6/dist-packages (from syft==0.2.9) (5.1)\n",
            "Requirement already satisfied: tblib~=1.6.0 in /usr/local/lib/python3.6/dist-packages (from syft==0.2.9) (1.6.0)\n",
            "Requirement already satisfied: aiortc==0.9.28 in /usr/local/lib/python3.6/dist-packages (from syft==0.2.9) (0.9.28)\n",
            "Requirement already satisfied: websocket-client~=0.57.0 in /usr/local/lib/python3.6/dist-packages (from syft==0.2.9) (0.57.0)\n",
            "Requirement already satisfied: notebook==5.7.8 in /usr/local/lib/python3.6/dist-packages (from syft==0.2.9) (5.7.8)\n",
            "Requirement already satisfied: msgpack~=1.0.0 in /usr/local/lib/python3.6/dist-packages (from syft==0.2.9) (1.0.0)\n",
            "Requirement already satisfied: phe~=1.4.0 in /usr/local/lib/python3.6/dist-packages (from syft==0.2.9) (1.4.0)\n",
            "Requirement already satisfied: websockets~=8.1.0 in /usr/local/lib/python3.6/dist-packages (from syft==0.2.9) (8.1)\n",
            "Requirement already satisfied: torchvision~=0.5.0 in /usr/local/lib/python3.6/dist-packages (from syft==0.2.9) (0.5.0)\n",
            "Requirement already satisfied: Pillow>=7.1.0 in /usr/local/lib/python3.6/dist-packages (from syft==0.2.9) (8.0.1)\n",
            "Requirement already satisfied: Flask~=1.1.1 in /usr/local/lib/python3.6/dist-packages (from syft==0.2.9) (1.1.2)\n",
            "Requirement already satisfied: syft-proto~=0.5.2 in /usr/local/lib/python3.6/dist-packages (from syft==0.2.9) (0.5.3)\n",
            "Requirement already satisfied: flask-socketio~=4.2.1 in /usr/local/lib/python3.6/dist-packages (from syft==0.2.9) (4.2.1)\n",
            "Requirement already satisfied: numpy~=1.18.1 in /usr/local/lib/python3.6/dist-packages (from syft==0.2.9) (1.18.5)\n",
            "Requirement already satisfied: requests-toolbelt==0.9.1 in /usr/local/lib/python3.6/dist-packages (from syft==0.2.9) (0.9.1)\n",
            "Requirement already satisfied: importlib-resources~=1.5.0 in /usr/local/lib/python3.6/dist-packages (from syft==0.2.9) (1.5.0)\n",
            "Requirement already satisfied: openmined.threepio==0.2.0 in /usr/local/lib/python3.6/dist-packages (from syft==0.2.9) (0.2.0)\n",
            "Requirement already satisfied: scipy~=1.4.1 in /usr/local/lib/python3.6/dist-packages (from syft==0.2.9) (1.4.1)\n",
            "Requirement already satisfied: psutil==5.7.0 in /usr/local/lib/python3.6/dist-packages (from syft==0.2.9) (5.7.0)\n",
            "Requirement already satisfied: lz4~=3.0.2 in /usr/local/lib/python3.6/dist-packages (from syft==0.2.9) (3.0.2)\n",
            "Requirement already satisfied: shaloop==0.2.1-alpha.11 in /usr/local/lib/python3.6/dist-packages (from syft==0.2.9) (0.2.1a11)\n",
            "Requirement already satisfied: dill~=0.3.1 in /usr/local/lib/python3.6/dist-packages (from syft==0.2.9) (0.3.3)\n",
            "Requirement already satisfied: requests~=2.22.0 in /usr/local/lib/python3.6/dist-packages (from syft==0.2.9) (2.22.0)\n",
            "Requirement already satisfied: tornado==4.5.3 in /usr/local/lib/python3.6/dist-packages (from syft==0.2.9) (4.5.3)\n",
            "Requirement already satisfied: torch~=1.4.0 in /usr/local/lib/python3.6/dist-packages (from syft==0.2.9) (1.4.0)\n",
            "Requirement already satisfied: cryptography>=2.2 in /usr/local/lib/python3.6/dist-packages (from aiortc==0.9.28->syft==0.2.9) (3.2.1)\n",
            "Requirement already satisfied: av<9.0.0,>=8.0.0 in /usr/local/lib/python3.6/dist-packages (from aiortc==0.9.28->syft==0.2.9) (8.0.2)\n",
            "Requirement already satisfied: dataclasses; python_version < \"3.7\" in /usr/local/lib/python3.6/dist-packages (from aiortc==0.9.28->syft==0.2.9) (0.8)\n",
            "Requirement already satisfied: pyee>=6.0.0 in /usr/local/lib/python3.6/dist-packages (from aiortc==0.9.28->syft==0.2.9) (8.1.0)\n",
            "Requirement already satisfied: crc32c in /usr/local/lib/python3.6/dist-packages (from aiortc==0.9.28->syft==0.2.9) (2.2)\n",
            "Requirement already satisfied: aioice<0.7.0,>=0.6.17 in /usr/local/lib/python3.6/dist-packages (from aiortc==0.9.28->syft==0.2.9) (0.6.18)\n",
            "Requirement already satisfied: pylibsrtp>=0.5.6 in /usr/local/lib/python3.6/dist-packages (from aiortc==0.9.28->syft==0.2.9) (0.6.7)\n",
            "Requirement already satisfied: cffi>=1.0.0 in /usr/local/lib/python3.6/dist-packages (from aiortc==0.9.28->syft==0.2.9) (1.14.3)\n",
            "Requirement already satisfied: six in /usr/local/lib/python3.6/dist-packages (from websocket-client~=0.57.0->syft==0.2.9) (1.15.0)\n",
            "Requirement already satisfied: prometheus-client in /usr/local/lib/python3.6/dist-packages (from notebook==5.7.8->syft==0.2.9) (0.9.0)\n",
            "Requirement already satisfied: jinja2 in /usr/local/lib/python3.6/dist-packages (from notebook==5.7.8->syft==0.2.9) (2.11.2)\n",
            "Requirement already satisfied: ipykernel in /usr/local/lib/python3.6/dist-packages (from notebook==5.7.8->syft==0.2.9) (4.10.1)\n",
            "Requirement already satisfied: jupyter-client>=5.2.0 in /usr/local/lib/python3.6/dist-packages (from notebook==5.7.8->syft==0.2.9) (5.3.5)\n",
            "Requirement already satisfied: jupyter-core>=4.4.0 in /usr/local/lib/python3.6/dist-packages (from notebook==5.7.8->syft==0.2.9) (4.7.0)\n",
            "Requirement already satisfied: terminado>=0.8.1 in /usr/local/lib/python3.6/dist-packages (from notebook==5.7.8->syft==0.2.9) (0.9.1)\n",
            "Requirement already satisfied: traitlets>=4.2.1 in /usr/local/lib/python3.6/dist-packages (from notebook==5.7.8->syft==0.2.9) (4.3.3)\n",
            "Requirement already satisfied: nbconvert in /usr/local/lib/python3.6/dist-packages (from notebook==5.7.8->syft==0.2.9) (5.6.1)\n",
            "Requirement already satisfied: nbformat in /usr/local/lib/python3.6/dist-packages (from notebook==5.7.8->syft==0.2.9) (5.0.8)\n",
            "Requirement already satisfied: pyzmq>=17 in /usr/local/lib/python3.6/dist-packages (from notebook==5.7.8->syft==0.2.9) (20.0.0)\n",
            "Requirement already satisfied: Send2Trash in /usr/local/lib/python3.6/dist-packages (from notebook==5.7.8->syft==0.2.9) (1.5.0)\n",
            "Requirement already satisfied: ipython-genutils in /usr/local/lib/python3.6/dist-packages (from notebook==5.7.8->syft==0.2.9) (0.2.0)\n",
            "Requirement already satisfied: Werkzeug>=0.15 in /usr/local/lib/python3.6/dist-packages (from Flask~=1.1.1->syft==0.2.9) (1.0.1)\n",
            "Requirement already satisfied: click>=5.1 in /usr/local/lib/python3.6/dist-packages (from Flask~=1.1.1->syft==0.2.9) (7.1.2)\n",
            "Requirement already satisfied: itsdangerous>=0.24 in /usr/local/lib/python3.6/dist-packages (from Flask~=1.1.1->syft==0.2.9) (1.1.0)\n",
            "Requirement already satisfied: protobuf>=3.12.2 in /usr/local/lib/python3.6/dist-packages (from syft-proto~=0.5.2->syft==0.2.9) (3.12.4)\n",
            "Requirement already satisfied: python-socketio>=4.3.0 in /usr/local/lib/python3.6/dist-packages (from flask-socketio~=4.2.1->syft==0.2.9) (4.6.1)\n",
            "Requirement already satisfied: zipp>=0.4; python_version < \"3.8\" in /usr/local/lib/python3.6/dist-packages (from importlib-resources~=1.5.0->syft==0.2.9) (3.4.0)\n",
            "Requirement already satisfied: importlib-metadata; python_version < \"3.8\" in /usr/local/lib/python3.6/dist-packages (from importlib-resources~=1.5.0->syft==0.2.9) (2.0.0)\n",
            "Requirement already satisfied: pycparser>=2 in /usr/local/lib/python3.6/dist-packages (from shaloop==0.2.1-alpha.11->syft==0.2.9) (2.20)\n",
            "Requirement already satisfied: urllib3!=1.25.0,!=1.25.1,<1.26,>=1.21.1 in /usr/local/lib/python3.6/dist-packages (from requests~=2.22.0->syft==0.2.9) (1.24.3)\n",
            "Requirement already satisfied: idna<2.9,>=2.5 in /usr/local/lib/python3.6/dist-packages (from requests~=2.22.0->syft==0.2.9) (2.8)\n",
            "Requirement already satisfied: certifi>=2017.4.17 in /usr/local/lib/python3.6/dist-packages (from requests~=2.22.0->syft==0.2.9) (2020.11.8)\n",
            "Requirement already satisfied: chardet<3.1.0,>=3.0.2 in /usr/local/lib/python3.6/dist-packages (from requests~=2.22.0->syft==0.2.9) (3.0.4)\n",
            "Requirement already satisfied: netifaces in /usr/local/lib/python3.6/dist-packages (from aioice<0.7.0,>=0.6.17->aiortc==0.9.28->syft==0.2.9) (0.10.9)\n",
            "Requirement already satisfied: MarkupSafe>=0.23 in /usr/local/lib/python3.6/dist-packages (from jinja2->notebook==5.7.8->syft==0.2.9) (1.1.1)\n",
            "Requirement already satisfied: ipython>=4.0.0 in /usr/local/lib/python3.6/dist-packages (from ipykernel->notebook==5.7.8->syft==0.2.9) (5.5.0)\n",
            "Requirement already satisfied: python-dateutil>=2.1 in /usr/local/lib/python3.6/dist-packages (from jupyter-client>=5.2.0->notebook==5.7.8->syft==0.2.9) (2.8.1)\n",
            "Requirement already satisfied: ptyprocess; os_name != \"nt\" in /usr/local/lib/python3.6/dist-packages (from terminado>=0.8.1->notebook==5.7.8->syft==0.2.9) (0.6.0)\n",
            "Requirement already satisfied: decorator in /usr/local/lib/python3.6/dist-packages (from traitlets>=4.2.1->notebook==5.7.8->syft==0.2.9) (4.4.2)\n",
            "Requirement already satisfied: entrypoints>=0.2.2 in /usr/local/lib/python3.6/dist-packages (from nbconvert->notebook==5.7.8->syft==0.2.9) (0.3)\n",
            "Requirement already satisfied: defusedxml in /usr/local/lib/python3.6/dist-packages (from nbconvert->notebook==5.7.8->syft==0.2.9) (0.6.0)\n",
            "Requirement already satisfied: pygments in /usr/local/lib/python3.6/dist-packages (from nbconvert->notebook==5.7.8->syft==0.2.9) (2.6.1)\n",
            "Requirement already satisfied: mistune<2,>=0.8.1 in /usr/local/lib/python3.6/dist-packages (from nbconvert->notebook==5.7.8->syft==0.2.9) (0.8.4)\n",
            "Requirement already satisfied: bleach in /usr/local/lib/python3.6/dist-packages (from nbconvert->notebook==5.7.8->syft==0.2.9) (3.2.1)\n",
            "Requirement already satisfied: testpath in /usr/local/lib/python3.6/dist-packages (from nbconvert->notebook==5.7.8->syft==0.2.9) (0.4.4)\n",
            "Requirement already satisfied: pandocfilters>=1.4.1 in /usr/local/lib/python3.6/dist-packages (from nbconvert->notebook==5.7.8->syft==0.2.9) (1.4.3)\n",
            "Requirement already satisfied: jsonschema!=2.5.0,>=2.4 in /usr/local/lib/python3.6/dist-packages (from nbformat->notebook==5.7.8->syft==0.2.9) (2.6.0)\n",
            "Requirement already satisfied: setuptools in /usr/local/lib/python3.6/dist-packages (from protobuf>=3.12.2->syft-proto~=0.5.2->syft==0.2.9) (50.3.2)\n",
            "Requirement already satisfied: python-engineio<4,>=3.13.0 in /usr/local/lib/python3.6/dist-packages (from python-socketio>=4.3.0->flask-socketio~=4.2.1->syft==0.2.9) (3.14.2)\n",
            "Requirement already satisfied: prompt-toolkit<2.0.0,>=1.0.4 in /usr/local/lib/python3.6/dist-packages (from ipython>=4.0.0->ipykernel->notebook==5.7.8->syft==0.2.9) (1.0.18)\n",
            "Requirement already satisfied: simplegeneric>0.8 in /usr/local/lib/python3.6/dist-packages (from ipython>=4.0.0->ipykernel->notebook==5.7.8->syft==0.2.9) (0.8.1)\n",
            "Requirement already satisfied: pexpect; sys_platform != \"win32\" in /usr/local/lib/python3.6/dist-packages (from ipython>=4.0.0->ipykernel->notebook==5.7.8->syft==0.2.9) (4.8.0)\n",
            "Requirement already satisfied: pickleshare in /usr/local/lib/python3.6/dist-packages (from ipython>=4.0.0->ipykernel->notebook==5.7.8->syft==0.2.9) (0.7.5)\n",
            "Requirement already satisfied: packaging in /usr/local/lib/python3.6/dist-packages (from bleach->nbconvert->notebook==5.7.8->syft==0.2.9) (20.4)\n",
            "Requirement already satisfied: webencodings in /usr/local/lib/python3.6/dist-packages (from bleach->nbconvert->notebook==5.7.8->syft==0.2.9) (0.5.1)\n",
            "Requirement already satisfied: wcwidth in /usr/local/lib/python3.6/dist-packages (from prompt-toolkit<2.0.0,>=1.0.4->ipython>=4.0.0->ipykernel->notebook==5.7.8->syft==0.2.9) (0.2.5)\n",
            "Requirement already satisfied: pyparsing>=2.0.2 in /usr/local/lib/python3.6/dist-packages (from packaging->bleach->nbconvert->notebook==5.7.8->syft==0.2.9) (2.4.7)\n"
          ],
          "name": "stdout"
        }
      ]
    },
    {
      "cell_type": "code",
      "metadata": {
        "id": "G48xlrYj2kwE"
      },
      "source": [
        "import numpy as np\n",
        "import pandas as pd\n",
        "import seaborn as sns\n",
        "import matplotlib.pyplot as plt\n",
        "import syft as sy\n",
        "import time\n",
        "\n",
        "import torch\n",
        "import torch.nn as nn\n",
        "import torch.optim as optim\n",
        "from torch.utils.data import Dataset, DataLoader\n",
        "\n",
        "from sklearn.preprocessing import StandardScaler    \n",
        "from sklearn.model_selection import train_test_split\n",
        "from sklearn.metrics import confusion_matrix, classification_report"
      ],
      "execution_count": null,
      "outputs": []
    },
    {
      "cell_type": "code",
      "metadata": {
        "id": "GXx33uAdaCVB"
      },
      "source": [
        "# hook PyTorch to PySyft i.e. add extra functionalities to support Federated Learning\n",
        "# and other private AI tools\n",
        "hook = sy.TorchHook(torch)\n",
        " \n",
        "# we create two imaginary schools\n",
        "node1 = sy.VirtualWorker(hook, id=\"node1\")\n",
        "node2 = sy.VirtualWorker(hook, id=\"node2\")\n"
      ],
      "execution_count": null,
      "outputs": []
    },
    {
      "cell_type": "code",
      "metadata": {
        "colab": {
          "base_uri": "https://localhost:8080/",
          "height": 204
        },
        "id": "56nv66rL2v6m",
        "outputId": "af4a2509-e1af-498c-da9f-0417e004ce28"
      },
      "source": [
        "df = pd.read_csv(\"datatrain.csv\")\n",
        "df.head()"
      ],
      "execution_count": null,
      "outputs": [
        {
          "output_type": "execute_result",
          "data": {
            "text/html": [
              "<div>\n",
              "<style scoped>\n",
              "    .dataframe tbody tr th:only-of-type {\n",
              "        vertical-align: middle;\n",
              "    }\n",
              "\n",
              "    .dataframe tbody tr th {\n",
              "        vertical-align: top;\n",
              "    }\n",
              "\n",
              "    .dataframe thead th {\n",
              "        text-align: right;\n",
              "    }\n",
              "</style>\n",
              "<table border=\"1\" class=\"dataframe\">\n",
              "  <thead>\n",
              "    <tr style=\"text-align: right;\">\n",
              "      <th></th>\n",
              "      <th>Applied Loan Amount</th>\n",
              "      <th>Applied Loan Tenor</th>\n",
              "      <th>Gender</th>\n",
              "      <th>Age</th>\n",
              "      <th>Education Level</th>\n",
              "      <th>Monthly Housing/Rental</th>\n",
              "      <th>Monthly Income</th>\n",
              "      <th>Indicators</th>\n",
              "    </tr>\n",
              "  </thead>\n",
              "  <tbody>\n",
              "    <tr>\n",
              "      <th>0</th>\n",
              "      <td>60000</td>\n",
              "      <td>24</td>\n",
              "      <td>1</td>\n",
              "      <td>22.301</td>\n",
              "      <td>Secondary</td>\n",
              "      <td>0.0</td>\n",
              "      <td>10245.0</td>\n",
              "      <td>0</td>\n",
              "    </tr>\n",
              "    <tr>\n",
              "      <th>1</th>\n",
              "      <td>100000</td>\n",
              "      <td>60</td>\n",
              "      <td>1</td>\n",
              "      <td>33.159</td>\n",
              "      <td>Form 3 or below</td>\n",
              "      <td>0.0</td>\n",
              "      <td>10000.0</td>\n",
              "      <td>0</td>\n",
              "    </tr>\n",
              "    <tr>\n",
              "      <th>2</th>\n",
              "      <td>50000</td>\n",
              "      <td>24</td>\n",
              "      <td>0</td>\n",
              "      <td>28.389</td>\n",
              "      <td>University</td>\n",
              "      <td>2000.0</td>\n",
              "      <td>9700.0</td>\n",
              "      <td>0</td>\n",
              "    </tr>\n",
              "    <tr>\n",
              "      <th>3</th>\n",
              "      <td>70000</td>\n",
              "      <td>36</td>\n",
              "      <td>1</td>\n",
              "      <td>35.573</td>\n",
              "      <td>Post Graduate</td>\n",
              "      <td>1200.0</td>\n",
              "      <td>23000.0</td>\n",
              "      <td>0</td>\n",
              "    </tr>\n",
              "    <tr>\n",
              "      <th>4</th>\n",
              "      <td>300000</td>\n",
              "      <td>60</td>\n",
              "      <td>0</td>\n",
              "      <td>30.849</td>\n",
              "      <td>University</td>\n",
              "      <td>11000.0</td>\n",
              "      <td>34000.0</td>\n",
              "      <td>0</td>\n",
              "    </tr>\n",
              "  </tbody>\n",
              "</table>\n",
              "</div>"
            ],
            "text/plain": [
              "   Applied Loan Amount  Applied Loan Tenor  ...  Monthly Income  Indicators\n",
              "0                60000                  24  ...         10245.0           0\n",
              "1               100000                  60  ...         10000.0           0\n",
              "2                50000                  24  ...          9700.0           0\n",
              "3                70000                  36  ...         23000.0           0\n",
              "4               300000                  60  ...         34000.0           0\n",
              "\n",
              "[5 rows x 8 columns]"
            ]
          },
          "metadata": {
            "tags": []
          },
          "execution_count": 4
        }
      ]
    },
    {
      "cell_type": "code",
      "metadata": {
        "id": "avX72D0AI3nc",
        "colab": {
          "base_uri": "https://localhost:8080/",
          "height": 238
        },
        "outputId": "3fc8ee2f-3ac9-4650-c97a-1929b2056243"
      },
      "source": [
        "df = df.dropna()\n",
        "df = pd.get_dummies(df)\n",
        "cols = df.columns.tolist()\n",
        "cols.remove('Indicators')\n",
        "cols.append('Indicators')\n",
        "df = df[cols]\n",
        "df.head() "
      ],
      "execution_count": null,
      "outputs": [
        {
          "output_type": "execute_result",
          "data": {
            "text/html": [
              "<div>\n",
              "<style scoped>\n",
              "    .dataframe tbody tr th:only-of-type {\n",
              "        vertical-align: middle;\n",
              "    }\n",
              "\n",
              "    .dataframe tbody tr th {\n",
              "        vertical-align: top;\n",
              "    }\n",
              "\n",
              "    .dataframe thead th {\n",
              "        text-align: right;\n",
              "    }\n",
              "</style>\n",
              "<table border=\"1\" class=\"dataframe\">\n",
              "  <thead>\n",
              "    <tr style=\"text-align: right;\">\n",
              "      <th></th>\n",
              "      <th>Applied Loan Amount</th>\n",
              "      <th>Applied Loan Tenor</th>\n",
              "      <th>Gender</th>\n",
              "      <th>Age</th>\n",
              "      <th>Monthly Housing/Rental</th>\n",
              "      <th>Monthly Income</th>\n",
              "      <th>Education Level_Form 3 or below</th>\n",
              "      <th>Education Level_No Response</th>\n",
              "      <th>Education Level_Post Graduate</th>\n",
              "      <th>Education Level_Post Secondary</th>\n",
              "      <th>Education Level_Primary</th>\n",
              "      <th>Education Level_Secondary</th>\n",
              "      <th>Education Level_University</th>\n",
              "      <th>Indicators</th>\n",
              "    </tr>\n",
              "  </thead>\n",
              "  <tbody>\n",
              "    <tr>\n",
              "      <th>0</th>\n",
              "      <td>60000</td>\n",
              "      <td>24</td>\n",
              "      <td>1</td>\n",
              "      <td>22.301</td>\n",
              "      <td>0.0</td>\n",
              "      <td>10245.0</td>\n",
              "      <td>0</td>\n",
              "      <td>0</td>\n",
              "      <td>0</td>\n",
              "      <td>0</td>\n",
              "      <td>0</td>\n",
              "      <td>1</td>\n",
              "      <td>0</td>\n",
              "      <td>0</td>\n",
              "    </tr>\n",
              "    <tr>\n",
              "      <th>1</th>\n",
              "      <td>100000</td>\n",
              "      <td>60</td>\n",
              "      <td>1</td>\n",
              "      <td>33.159</td>\n",
              "      <td>0.0</td>\n",
              "      <td>10000.0</td>\n",
              "      <td>1</td>\n",
              "      <td>0</td>\n",
              "      <td>0</td>\n",
              "      <td>0</td>\n",
              "      <td>0</td>\n",
              "      <td>0</td>\n",
              "      <td>0</td>\n",
              "      <td>0</td>\n",
              "    </tr>\n",
              "    <tr>\n",
              "      <th>2</th>\n",
              "      <td>50000</td>\n",
              "      <td>24</td>\n",
              "      <td>0</td>\n",
              "      <td>28.389</td>\n",
              "      <td>2000.0</td>\n",
              "      <td>9700.0</td>\n",
              "      <td>0</td>\n",
              "      <td>0</td>\n",
              "      <td>0</td>\n",
              "      <td>0</td>\n",
              "      <td>0</td>\n",
              "      <td>0</td>\n",
              "      <td>1</td>\n",
              "      <td>0</td>\n",
              "    </tr>\n",
              "    <tr>\n",
              "      <th>3</th>\n",
              "      <td>70000</td>\n",
              "      <td>36</td>\n",
              "      <td>1</td>\n",
              "      <td>35.573</td>\n",
              "      <td>1200.0</td>\n",
              "      <td>23000.0</td>\n",
              "      <td>0</td>\n",
              "      <td>0</td>\n",
              "      <td>1</td>\n",
              "      <td>0</td>\n",
              "      <td>0</td>\n",
              "      <td>0</td>\n",
              "      <td>0</td>\n",
              "      <td>0</td>\n",
              "    </tr>\n",
              "    <tr>\n",
              "      <th>4</th>\n",
              "      <td>300000</td>\n",
              "      <td>60</td>\n",
              "      <td>0</td>\n",
              "      <td>30.849</td>\n",
              "      <td>11000.0</td>\n",
              "      <td>34000.0</td>\n",
              "      <td>0</td>\n",
              "      <td>0</td>\n",
              "      <td>0</td>\n",
              "      <td>0</td>\n",
              "      <td>0</td>\n",
              "      <td>0</td>\n",
              "      <td>1</td>\n",
              "      <td>0</td>\n",
              "    </tr>\n",
              "  </tbody>\n",
              "</table>\n",
              "</div>"
            ],
            "text/plain": [
              "   Applied Loan Amount  ...  Indicators\n",
              "0                60000  ...           0\n",
              "1               100000  ...           0\n",
              "2                50000  ...           0\n",
              "3                70000  ...           0\n",
              "4               300000  ...           0\n",
              "\n",
              "[5 rows x 14 columns]"
            ]
          },
          "metadata": {
            "tags": []
          },
          "execution_count": 5
        }
      ]
    },
    {
      "cell_type": "code",
      "metadata": {
        "colab": {
          "base_uri": "https://localhost:8080/"
        },
        "id": "_mJCLwBvfzFn",
        "outputId": "2e04cd5c-cccf-4a39-b83a-fe8e62b97d65"
      },
      "source": [
        "# df = df.astype(np.float64)\n",
        "# df[\"Final_Status (Y/N)\"].astype(int)\n",
        "df.dtypes"
      ],
      "execution_count": null,
      "outputs": [
        {
          "output_type": "execute_result",
          "data": {
            "text/plain": [
              "Applied Loan Amount                  int64\n",
              "Applied Loan Tenor                   int64\n",
              "Gender                               int64\n",
              "Age                                float64\n",
              "Monthly Housing/Rental             float64\n",
              "Monthly Income                     float64\n",
              "Education Level_Form 3 or below      uint8\n",
              "Education Level_No Response          uint8\n",
              "Education Level_Post Graduate        uint8\n",
              "Education Level_Post Secondary       uint8\n",
              "Education Level_Primary              uint8\n",
              "Education Level_Secondary            uint8\n",
              "Education Level_University           uint8\n",
              "Indicators                           int64\n",
              "dtype: object"
            ]
          },
          "metadata": {
            "tags": []
          },
          "execution_count": 6
        }
      ]
    },
    {
      "cell_type": "code",
      "metadata": {
        "id": "ZmD3OfVGZEp7"
      },
      "source": [
        "# df['Class_att'] = df['Class_att'].astype('category')\n",
        "# encode_map = {\n",
        "#     'Abnormal': 1,\n",
        "#     'Normal': 0\n",
        "# }\n",
        "\n",
        "# df['Class_att'].replace(encode_map, inplace=True)"
      ],
      "execution_count": null,
      "outputs": []
    },
    {
      "cell_type": "code",
      "metadata": {
        "colab": {
          "base_uri": "https://localhost:8080/",
          "height": 296
        },
        "id": "ue8sL8oD25xm",
        "outputId": "4261f244-188c-4c39-8f25-7e84311b673f"
      },
      "source": [
        "sns.countplot(x = 'Indicators', data=df)"
      ],
      "execution_count": null,
      "outputs": [
        {
          "output_type": "execute_result",
          "data": {
            "text/plain": [
              "<matplotlib.axes._subplots.AxesSubplot at 0x7f5e81b93d68>"
            ]
          },
          "metadata": {
            "tags": []
          },
          "execution_count": 8
        },
        {
          "output_type": "display_data",
          "data": {
            "image/png": "[encoded data removed]",
            "text/plain": [
              "<Figure size 432x288 with 1 Axes>"
            ]
          },
          "metadata": {
            "tags": [],
            "needs_background": "light"
          }
        }
      ]
    },
    {
      "cell_type": "code",
      "metadata": {
        "id": "wh4AamM-3Az9"
      },
      "source": [
        "X = df.iloc[:, 0:-1]\n",
        "y = df.iloc[:, -1]"
      ],
      "execution_count": null,
      "outputs": []
    },
    {
      "cell_type": "code",
      "metadata": {
        "id": "8wCEr7DFaC_s",
        "colab": {
          "base_uri": "https://localhost:8080/"
        },
        "outputId": "f00fbcf8-ce40-4153-8f78-bfa3db8728c9"
      },
      "source": [
        "print(X.shape, y.shape)"
      ],
      "execution_count": null,
      "outputs": [
        {
          "output_type": "stream",
          "text": [
            "(11669, 13) (11669,)\n"
          ],
          "name": "stdout"
        }
      ]
    },
    {
      "cell_type": "code",
      "metadata": {
        "colab": {
          "base_uri": "https://localhost:8080/"
        },
        "id": "G_P5vxxa3Jxt",
        "outputId": "202cd235-d42e-49c6-a608-85fb5af3b710"
      },
      "source": [
        "np.any(np.isnan(y))"
      ],
      "execution_count": null,
      "outputs": [
        {
          "output_type": "execute_result",
          "data": {
            "text/plain": [
              "False"
            ]
          },
          "metadata": {
            "tags": []
          },
          "execution_count": 11
        }
      ]
    },
    {
      "cell_type": "code",
      "metadata": {
        "id": "eaRuRf-C3KXG"
      },
      "source": [
        "X_train, X_test, y_train, y_test = train_test_split(X, y, test_size=0.33, random_state=42)"
      ],
      "execution_count": null,
      "outputs": []
    },
    {
      "cell_type": "code",
      "metadata": {
        "id": "1BPpSRS_3bpT"
      },
      "source": [
        "scaler = StandardScaler()\n",
        "X_train = scaler.fit_transform(X_train)\n",
        "X_test = scaler.fit_transform(X_test)"
      ],
      "execution_count": null,
      "outputs": []
    },
    {
      "cell_type": "code",
      "metadata": {
        "colab": {
          "base_uri": "https://localhost:8080/"
        },
        "id": "j1ciBz7S3rt5",
        "outputId": "a43ee107-0903-4060-b3c2-5c75ff17f710"
      },
      "source": [
        "print(X_train.shape, X_test.shape)"
      ],
      "execution_count": null,
      "outputs": [
        {
          "output_type": "stream",
          "text": [
            "(7818, 13) (3851, 13)\n"
          ],
          "name": "stdout"
        }
      ]
    },
    {
      "cell_type": "code",
      "metadata": {
        "id": "16o0pu823uP4"
      },
      "source": [
        "EPOCHS = 100\n",
        "BATCH_SIZE = 64\n",
        "LEARNING_RATE = 0.001"
      ],
      "execution_count": null,
      "outputs": []
    },
    {
      "cell_type": "code",
      "metadata": {
        "id": "vVVMj8foGMga"
      },
      "source": [
        "## train data\n",
        "class trainData(Dataset):\n",
        "    \n",
        "    def __init__(self, X_data, y_data):\n",
        "        self.X_data = X_data\n",
        "        self.y_data = y_data\n",
        "        \n",
        "    def __getitem__(self, index):\n",
        "        return self.X_data[index], self.y_data[index]\n",
        "        \n",
        "    def __len__ (self):\n",
        "        return len(self.X_data)\n",
        "\n",
        "\n",
        "train_data = trainData(torch.FloatTensor(X_train), \n",
        "                       torch.FloatTensor(torch.Tensor(y_train.values)))\n",
        "## test data    \n",
        "class testData(Dataset):\n",
        "    \n",
        "    def __init__(self, X_data):\n",
        "        self.X_data = X_data\n",
        "        \n",
        "    def __getitem__(self, index):\n",
        "        return self.X_data[index]\n",
        "        \n",
        "    def __len__ (self):\n",
        "        return len(self.X_data)\n",
        "    \n",
        "\n",
        "test_data = testData(torch.FloatTensor(X_test))"
      ],
      "execution_count": null,
      "outputs": []
    },
    {
      "cell_type": "code",
      "metadata": {
        "id": "7SPYrIRJHJuC"
      },
      "source": [
        "train_loader = sy.FederatedDataLoader(train_data.federate((node1, node2)), batch_size=BATCH_SIZE, shuffle=True)\n",
        "test_loader = DataLoader(dataset=test_data, batch_size=1) # may need increase later"
      ],
      "execution_count": null,
      "outputs": []
    },
    {
      "cell_type": "code",
      "metadata": {
        "id": "Wuo5hNoFHOi6"
      },
      "source": [
        "class binaryClassification(nn.Module):\n",
        "    def __init__(self):\n",
        "        super(binaryClassification, self).__init__()\n",
        "        # Number of input features is 12.\n",
        "        self.layer_1 = nn.Linear(13, 32)\n",
        "        self.layer_2 = nn.Linear(32, 64)\n",
        "        self.layer_out = nn.Linear(64, 1)\n",
        "        \n",
        "        self.relu = nn.ReLU()\n",
        "        self.dropout = nn.Dropout(p=0.1)\n",
        "        self.batchnorm1 = nn.BatchNorm1d(32)\n",
        "        self.batchnorm2 = nn.BatchNorm1d(64)\n",
        "        \n",
        "    def forward(self, inputs):\n",
        "        x = self.relu(self.layer_1(inputs))\n",
        "        x = self.batchnorm1(x)\n",
        "        x = self.relu(self.layer_2(x))\n",
        "        x = self.batchnorm2(x)\n",
        "        x = self.dropout(x)\n",
        "        x = self.layer_out(x)\n",
        "        \n",
        "        return x"
      ],
      "execution_count": null,
      "outputs": []
    },
    {
      "cell_type": "code",
      "metadata": {
        "colab": {
          "base_uri": "https://localhost:8080/"
        },
        "id": "DzVhwSTkHcoc",
        "outputId": "c308795a-2942-4895-ec2a-9c2d15cb6e51"
      },
      "source": [
        "# check to use GPU or not\n",
        "use_cuda = True and torch.cuda.is_available()\n",
        "device = torch.device(\"cuda\" if use_cuda else \"cpu\")\n",
        "print(device)\n",
        "###############"
      ],
      "execution_count": null,
      "outputs": [
        {
          "output_type": "stream",
          "text": [
            "cpu\n"
          ],
          "name": "stdout"
        }
      ]
    },
    {
      "cell_type": "code",
      "metadata": {
        "colab": {
          "base_uri": "https://localhost:8080/"
        },
        "id": "Ts-WGSyqHfGM",
        "outputId": "1d6d644d-0c2d-4c32-f515-6eda63dec61c"
      },
      "source": [
        "model = binaryClassification()\n",
        "model.to(device)\n",
        "print(model)\n",
        "criterion = nn.BCEWithLogitsLoss()\n",
        "optimizer = optim.SGD(model.parameters(), lr=LEARNING_RATE)"
      ],
      "execution_count": null,
      "outputs": [
        {
          "output_type": "stream",
          "text": [
            "binaryClassification(\n",
            "  (layer_1): Linear(in_features=13, out_features=32, bias=True)\n",
            "  (layer_2): Linear(in_features=32, out_features=64, bias=True)\n",
            "  (layer_out): Linear(in_features=64, out_features=1, bias=True)\n",
            "  (relu): ReLU()\n",
            "  (dropout): Dropout(p=0.1, inplace=False)\n",
            "  (batchnorm1): BatchNorm1d(32, eps=1e-05, momentum=0.1, affine=True, track_running_stats=True)\n",
            "  (batchnorm2): BatchNorm1d(64, eps=1e-05, momentum=0.1, affine=True, track_running_stats=True)\n",
            ")\n"
          ],
          "name": "stdout"
        }
      ]
    },
    {
      "cell_type": "code",
      "metadata": {
        "id": "07Hyj1KzHhqR"
      },
      "source": [
        "def binary_acc(y_pred, y_test):\n",
        "    y_pred_tag = torch.round(torch.sigmoid(y_pred))\n",
        "\n",
        "    correct_results_sum = (y_pred_tag == y_test).sum().float()\n",
        "    acc = correct_results_sum/y_test.shape[0]\n",
        "    acc = torch.round(acc * 100)\n",
        "    \n",
        "    return acc"
      ],
      "execution_count": null,
      "outputs": []
    },
    {
      "cell_type": "code",
      "metadata": {
        "id": "UcvpKapcHmVM",
        "colab": {
          "base_uri": "https://localhost:8080/"
        },
        "outputId": "707ddac7-7634-4615-a1f5-934638ca9474"
      },
      "source": [
        "model.train()\n",
        "e_loss = []\n",
        "e_acc = []\n",
        "timelist = []\n",
        "for e in range(1, EPOCHS+1):\n",
        "    epoch_loss = 0\n",
        "    epoch_acc = 0\n",
        "    start_time = time.time()\n",
        "    for batch_idx, (X_batch, y_batch) in enumerate(train_loader):\n",
        "        model = model.send(X_batch.location)\n",
        "\n",
        "        X_batch, y_batch = X_batch.to(device), y_batch.to(device)\n",
        "        optimizer.zero_grad()\n",
        "        \n",
        "        y_pred = model(X_batch)\n",
        "        \n",
        "        loss = criterion(y_pred, y_batch.unsqueeze(1))\n",
        "        acc = binary_acc(y_pred, y_batch.unsqueeze(1))\n",
        "        \n",
        "        loss.backward()\n",
        "        optimizer.step()\n",
        "        \n",
        "        model.get()\n",
        "\n",
        "        epoch_loss += loss.get()\n",
        "        epoch_acc += acc.get()\n",
        "    total_time = time.time() - start_time\n",
        "    timelist.append(total_time)\n",
        "    e_loss.append((epoch_loss/len(train_loader)).item()) # for plt\n",
        "    e_acc.append((epoch_acc/len(train_loader)).item()) # for plt\n",
        "    print(f'Epoch {e+0:03}: | Loss: {epoch_loss/len(train_loader):.5f} | Acc: {epoch_acc/len(train_loader):.3f} | Time: {total_time:.3f}')"
      ],
      "execution_count": null,
      "outputs": [
        {
          "output_type": "stream",
          "text": [
            "Epoch 001: | Loss: 0.70021 | Acc: 55.967 | Time: 11.323\n",
            "Epoch 002: | Loss: 0.66962 | Acc: 60.837 | Time: 11.438\n",
            "Epoch 003: | Loss: 0.65435 | Acc: 63.398 | Time: 11.585\n",
            "Epoch 004: | Loss: 0.64421 | Acc: 65.602 | Time: 11.343\n",
            "Epoch 005: | Loss: 0.63162 | Acc: 66.382 | Time: 11.359\n",
            "Epoch 006: | Loss: 0.62895 | Acc: 66.919 | Time: 11.381\n",
            "Epoch 007: | Loss: 0.62291 | Acc: 68.390 | Time: 11.398\n",
            "Epoch 008: | Loss: 0.61896 | Acc: 67.593 | Time: 11.359\n",
            "Epoch 009: | Loss: 0.61682 | Acc: 68.179 | Time: 11.758\n",
            "Epoch 010: | Loss: 0.61574 | Acc: 68.715 | Time: 12.055\n",
            "Epoch 011: | Loss: 0.61470 | Acc: 68.545 | Time: 11.382\n",
            "Epoch 012: | Loss: 0.61360 | Acc: 68.431 | Time: 11.337\n",
            "Epoch 013: | Loss: 0.60867 | Acc: 68.919 | Time: 11.439\n",
            "Epoch 014: | Loss: 0.60527 | Acc: 69.325 | Time: 11.322\n",
            "Epoch 015: | Loss: 0.60710 | Acc: 69.024 | Time: 11.381\n",
            "Epoch 016: | Loss: 0.60724 | Acc: 68.382 | Time: 11.506\n",
            "Epoch 017: | Loss: 0.60204 | Acc: 69.756 | Time: 11.577\n",
            "Epoch 018: | Loss: 0.60221 | Acc: 69.854 | Time: 11.301\n",
            "Epoch 019: | Loss: 0.60671 | Acc: 69.098 | Time: 11.264\n",
            "Epoch 020: | Loss: 0.59867 | Acc: 69.244 | Time: 11.330\n",
            "Epoch 021: | Loss: 0.60141 | Acc: 70.041 | Time: 11.348\n",
            "Epoch 022: | Loss: 0.60213 | Acc: 69.764 | Time: 11.286\n",
            "Epoch 023: | Loss: 0.59662 | Acc: 70.138 | Time: 11.257\n",
            "Epoch 024: | Loss: 0.59837 | Acc: 70.057 | Time: 11.274\n",
            "Epoch 025: | Loss: 0.60001 | Acc: 70.171 | Time: 11.534\n",
            "Epoch 026: | Loss: 0.59382 | Acc: 70.569 | Time: 11.255\n",
            "Epoch 027: | Loss: 0.59806 | Acc: 69.610 | Time: 11.309\n",
            "Epoch 028: | Loss: 0.59866 | Acc: 69.894 | Time: 11.318\n",
            "Epoch 029: | Loss: 0.59340 | Acc: 70.374 | Time: 13.293\n",
            "Epoch 030: | Loss: 0.59463 | Acc: 70.016 | Time: 11.827\n",
            "Epoch 031: | Loss: 0.59087 | Acc: 70.984 | Time: 11.644\n",
            "Epoch 032: | Loss: 0.59416 | Acc: 70.390 | Time: 12.072\n",
            "Epoch 033: | Loss: 0.59002 | Acc: 70.228 | Time: 11.583\n",
            "Epoch 034: | Loss: 0.59496 | Acc: 70.309 | Time: 11.548\n",
            "Epoch 035: | Loss: 0.59128 | Acc: 70.610 | Time: 11.630\n",
            "Epoch 036: | Loss: 0.59694 | Acc: 70.333 | Time: 11.745\n",
            "Epoch 037: | Loss: 0.59115 | Acc: 70.455 | Time: 12.296\n",
            "Epoch 038: | Loss: 0.58852 | Acc: 70.854 | Time: 12.320\n",
            "Epoch 039: | Loss: 0.58613 | Acc: 71.293 | Time: 12.649\n",
            "Epoch 040: | Loss: 0.59099 | Acc: 70.350 | Time: 12.088\n",
            "Epoch 041: | Loss: 0.58791 | Acc: 71.333 | Time: 11.595\n",
            "Epoch 042: | Loss: 0.58791 | Acc: 71.398 | Time: 11.690\n",
            "Epoch 043: | Loss: 0.58956 | Acc: 71.073 | Time: 11.649\n",
            "Epoch 044: | Loss: 0.58966 | Acc: 71.268 | Time: 11.508\n",
            "Epoch 045: | Loss: 0.58929 | Acc: 71.252 | Time: 11.543\n",
            "Epoch 046: | Loss: 0.58578 | Acc: 71.285 | Time: 11.517\n",
            "Epoch 047: | Loss: 0.59343 | Acc: 70.285 | Time: 11.543\n",
            "Epoch 048: | Loss: 0.58670 | Acc: 71.244 | Time: 11.900\n",
            "Epoch 049: | Loss: 0.58564 | Acc: 71.033 | Time: 11.562\n",
            "Epoch 050: | Loss: 0.58558 | Acc: 71.106 | Time: 11.541\n",
            "Epoch 051: | Loss: 0.59154 | Acc: 70.528 | Time: 11.504\n",
            "Epoch 052: | Loss: 0.58842 | Acc: 71.146 | Time: 11.496\n",
            "Epoch 053: | Loss: 0.58947 | Acc: 70.675 | Time: 11.477\n",
            "Epoch 054: | Loss: 0.58331 | Acc: 71.537 | Time: 11.502\n",
            "Epoch 055: | Loss: 0.58350 | Acc: 70.821 | Time: 12.008\n",
            "Epoch 056: | Loss: 0.58809 | Acc: 70.951 | Time: 11.490\n",
            "Epoch 057: | Loss: 0.58676 | Acc: 70.325 | Time: 11.516\n",
            "Epoch 058: | Loss: 0.58767 | Acc: 70.699 | Time: 11.506\n",
            "Epoch 059: | Loss: 0.58289 | Acc: 71.667 | Time: 11.495\n",
            "Epoch 060: | Loss: 0.58615 | Acc: 71.098 | Time: 11.968\n",
            "Epoch 061: | Loss: 0.58493 | Acc: 71.293 | Time: 11.513\n",
            "Epoch 062: | Loss: 0.58992 | Acc: 71.350 | Time: 11.589\n",
            "Epoch 063: | Loss: 0.57961 | Acc: 71.878 | Time: 12.142\n",
            "Epoch 064: | Loss: 0.58630 | Acc: 70.829 | Time: 11.690\n",
            "Epoch 065: | Loss: 0.58720 | Acc: 70.911 | Time: 11.826\n",
            "Epoch 066: | Loss: 0.58075 | Acc: 71.480 | Time: 11.763\n",
            "Epoch 067: | Loss: 0.58744 | Acc: 71.065 | Time: 11.551\n",
            "Epoch 068: | Loss: 0.57870 | Acc: 71.699 | Time: 11.519\n",
            "Epoch 069: | Loss: 0.57998 | Acc: 71.634 | Time: 11.700\n",
            "Epoch 070: | Loss: 0.58117 | Acc: 71.699 | Time: 11.500\n",
            "Epoch 071: | Loss: 0.57842 | Acc: 72.089 | Time: 12.185\n",
            "Epoch 072: | Loss: 0.58196 | Acc: 71.309 | Time: 11.490\n",
            "Epoch 073: | Loss: 0.58105 | Acc: 71.366 | Time: 11.489\n",
            "Epoch 074: | Loss: 0.58241 | Acc: 71.431 | Time: 11.423\n",
            "Epoch 075: | Loss: 0.58444 | Acc: 71.512 | Time: 11.785\n",
            "Epoch 076: | Loss: 0.58171 | Acc: 71.602 | Time: 11.442\n",
            "Epoch 077: | Loss: 0.58662 | Acc: 70.943 | Time: 11.443\n",
            "Epoch 078: | Loss: 0.58249 | Acc: 71.358 | Time: 12.221\n",
            "Epoch 079: | Loss: 0.58496 | Acc: 71.195 | Time: 11.440\n",
            "Epoch 080: | Loss: 0.57724 | Acc: 71.976 | Time: 11.500\n",
            "Epoch 081: | Loss: 0.57968 | Acc: 71.699 | Time: 12.133\n",
            "Epoch 082: | Loss: 0.58165 | Acc: 71.577 | Time: 11.503\n",
            "Epoch 083: | Loss: 0.58043 | Acc: 71.317 | Time: 11.473\n",
            "Epoch 084: | Loss: 0.57738 | Acc: 71.545 | Time: 11.491\n",
            "Epoch 085: | Loss: 0.57975 | Acc: 71.854 | Time: 11.446\n",
            "Epoch 086: | Loss: 0.57321 | Acc: 72.431 | Time: 12.238\n",
            "Epoch 087: | Loss: 0.58456 | Acc: 70.959 | Time: 11.551\n",
            "Epoch 088: | Loss: 0.57813 | Acc: 71.821 | Time: 11.534\n",
            "Epoch 089: | Loss: 0.57638 | Acc: 71.846 | Time: 11.608\n",
            "Epoch 090: | Loss: 0.58236 | Acc: 71.740 | Time: 11.506\n",
            "Epoch 091: | Loss: 0.57717 | Acc: 71.553 | Time: 11.519\n",
            "Epoch 092: | Loss: 0.58160 | Acc: 70.740 | Time: 11.742\n",
            "Epoch 093: | Loss: 0.57960 | Acc: 71.455 | Time: 12.708\n",
            "Epoch 094: | Loss: 0.58145 | Acc: 71.602 | Time: 11.513\n",
            "Epoch 095: | Loss: 0.57938 | Acc: 71.675 | Time: 11.597\n",
            "Epoch 096: | Loss: 0.58242 | Acc: 71.187 | Time: 11.551\n",
            "Epoch 097: | Loss: 0.57803 | Acc: 72.041 | Time: 11.491\n",
            "Epoch 098: | Loss: 0.58081 | Acc: 71.886 | Time: 11.523\n",
            "Epoch 099: | Loss: 0.57748 | Acc: 71.919 | Time: 11.575\n",
            "Epoch 100: | Loss: 0.57731 | Acc: 72.057 | Time: 11.484\n"
          ],
          "name": "stdout"
        }
      ]
    },
    {
      "cell_type": "code",
      "metadata": {
        "colab": {
          "base_uri": "https://localhost:8080/",
          "height": 282
        },
        "id": "ibriR2HTbhL7",
        "outputId": "fcb06d9f-0b73-403f-b0fc-a65cb745b6f3"
      },
      "source": [
        "plt.plot(e_loss)"
      ],
      "execution_count": null,
      "outputs": [
        {
          "output_type": "execute_result",
          "data": {
            "text/plain": [
              "[<matplotlib.lines.Line2D at 0x7f5e7026c6d8>]"
            ]
          },
          "metadata": {
            "tags": []
          },
          "execution_count": 23
        },
        {
          "output_type": "display_data",
          "data": {
            "image/png": "[encoded data removed]",
            "text/plain": [
              "<Figure size 432x288 with 1 Axes>"
            ]
          },
          "metadata": {
            "tags": [],
            "needs_background": "light"
          }
        }
      ]
    },
    {
      "cell_type": "code",
      "metadata": {
        "colab": {
          "base_uri": "https://localhost:8080/",
          "height": 282
        },
        "id": "5Xwb9IE6N0Sp",
        "outputId": "dcf3a5be-27b0-4e9a-8a84-bf7f910e32b4"
      },
      "source": [
        "plt.plot(e_acc)"
      ],
      "execution_count": null,
      "outputs": [
        {
          "output_type": "execute_result",
          "data": {
            "text/plain": [
              "[<matplotlib.lines.Line2D at 0x7f5e6d64ce48>]"
            ]
          },
          "metadata": {
            "tags": []
          },
          "execution_count": 24
        },
        {
          "output_type": "display_data",
          "data": {
            "image/png": "[encoded data removed]",
            "text/plain": [
              "<Figure size 432x288 with 1 Axes>"
            ]
          },
          "metadata": {
            "tags": [],
            "needs_background": "light"
          }
        }
      ]
    },
    {
      "cell_type": "code",
      "metadata": {
        "colab": {
          "base_uri": "https://localhost:8080/",
          "height": 282
        },
        "id": "0MffW491bh22",
        "outputId": "48ce8064-60e3-4eb3-ff92-7251beffc8f4"
      },
      "source": [
        "plt.plot(timelist)"
      ],
      "execution_count": null,
      "outputs": [
        {
          "output_type": "execute_result",
          "data": {
            "text/plain": [
              "[<matplotlib.lines.Line2D at 0x7f5e80a73be0>]"
            ]
          },
          "metadata": {
            "tags": []
          },
          "execution_count": 25
        },
        {
          "output_type": "display_data",
          "data": {
            "image/png": "[encoded data removed]",
            "text/plain": [
              "<Figure size 432x288 with 1 Axes>"
            ]
          },
          "metadata": {
            "tags": [],
            "needs_background": "light"
          }
        }
      ]
    },
    {
      "cell_type": "code",
      "metadata": {
        "colab": {
          "base_uri": "https://localhost:8080/"
        },
        "id": "NIMFc8HS78B8",
        "outputId": "b2339949-75a2-43de-b969-c59b8381db7c"
      },
      "source": [
        "\n",
        "import statistics\n",
        "statistics.mean(timelist)"
      ],
      "execution_count": null,
      "outputs": [
        {
          "output_type": "execute_result",
          "data": {
            "text/plain": [
              "11.625214755535126"
            ]
          },
          "metadata": {
            "tags": []
          },
          "execution_count": 26
        }
      ]
    },
    {
      "cell_type": "code",
      "metadata": {
        "id": "XkmU5dGGHoy_"
      },
      "source": [
        "y_pred_list = []\n",
        "model.eval()\n",
        "with torch.no_grad():\n",
        "    for X_batch in test_loader:\n",
        "        X_batch = X_batch.to(device)\n",
        "        y_test_pred = model(X_batch)\n",
        "        y_test_pred = torch.sigmoid(y_test_pred)\n",
        "        y_pred_tag = torch.round(y_test_pred)\n",
        "        y_pred_list.append(y_pred_tag.cpu().numpy())\n",
        "\n",
        "y_pred_list = [a.squeeze().tolist() for a in y_pred_list]"
      ],
      "execution_count": null,
      "outputs": []
    },
    {
      "cell_type": "code",
      "metadata": {
        "id": "L92l4ORgIIx_",
        "colab": {
          "base_uri": "https://localhost:8080/"
        },
        "outputId": "10c6de15-a82b-4868-d51f-942b8d91ca3f"
      },
      "source": [
        "confusion_matrix(y_test, y_pred_list)"
      ],
      "execution_count": null,
      "outputs": [
        {
          "output_type": "execute_result",
          "data": {
            "text/plain": [
              "array([[1588,  447],\n",
              "       [ 690, 1126]])"
            ]
          },
          "metadata": {
            "tags": []
          },
          "execution_count": 28
        }
      ]
    },
    {
      "cell_type": "code",
      "metadata": {
        "id": "GXMIFgsfIJBz",
        "colab": {
          "base_uri": "https://localhost:8080/"
        },
        "outputId": "ff8fe9bf-d41a-4129-bf40-092129a79bcd"
      },
      "source": [
        "print(classification_report(y_test, y_pred_list))"
      ],
      "execution_count": null,
      "outputs": [
        {
          "output_type": "stream",
          "text": [
            "              precision    recall  f1-score   support\n",
            "\n",
            "           0       0.70      0.78      0.74      2035\n",
            "           1       0.72      0.62      0.66      1816\n",
            "\n",
            "    accuracy                           0.70      3851\n",
            "   macro avg       0.71      0.70      0.70      3851\n",
            "weighted avg       0.71      0.70      0.70      3851\n",
            "\n"
          ],
          "name": "stdout"
        }
      ]
    },
    {
      "cell_type": "code",
      "metadata": {
        "id": "7UPXR7RxZX2i"
      },
      "source": [
        ""
      ],
      "execution_count": null,
      "outputs": []
    }
  ]
}